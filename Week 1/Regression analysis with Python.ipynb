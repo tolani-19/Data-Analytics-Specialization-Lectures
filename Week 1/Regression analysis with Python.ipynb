{
 "cells": [
  {
   "cell_type": "markdown",
   "id": "aadad233-d197-4cfb-9790-46b44a819ee6",
   "metadata": {},
   "source": [
    "# Regression analysis with Python\n",
    "In this demo, you will learn how to use the statsmodels package in Python to conduct regression analysis."
   ]
  },
  {
   "cell_type": "code",
   "execution_count": 1,
   "id": "06dbe15f-2021-4d84-994d-d7a912a15425",
   "metadata": {},
   "outputs": [],
   "source": [
    "# importing neccesary packages\n",
    "import matplotlib.pyplot as plt\n",
    "import pandas as pd\n"
   ]
  },
  {
   "cell_type": "code",
   "execution_count": 2,
   "id": "d0e6e916-134a-4adb-aa22-cf1d50888163",
   "metadata": {},
   "outputs": [],
   "source": [
    "# loading the dataset\n",
    "df = pd.read_csv('WA_Fn-UseC_-Marketing-Customer-Value-Analysis.csv')"
   ]
  },
  {
   "cell_type": "code",
   "execution_count": 3,
   "id": "3cc637e2-d968-4f6f-9db1-108b47692a89",
   "metadata": {},
   "outputs": [
    {
     "data": {
      "text/plain": [
       "(9134, 24)"
      ]
     },
     "execution_count": 3,
     "metadata": {},
     "output_type": "execute_result"
    }
   ],
   "source": [
    "# dimension of the dataframe(row,columns)\n",
    "df.shape"
   ]
  },
  {
   "cell_type": "code",
   "execution_count": 70,
   "id": "ce816883-6e66-43db-8a54-7e337c797f34",
   "metadata": {},
   "outputs": [
    {
     "data": {
      "text/html": [
       "<div>\n",
       "<style scoped>\n",
       "    .dataframe tbody tr th:only-of-type {\n",
       "        vertical-align: middle;\n",
       "    }\n",
       "\n",
       "    .dataframe tbody tr th {\n",
       "        vertical-align: top;\n",
       "    }\n",
       "\n",
       "    .dataframe thead th {\n",
       "        text-align: right;\n",
       "    }\n",
       "</style>\n",
       "<table border=\"1\" class=\"dataframe\">\n",
       "  <thead>\n",
       "    <tr style=\"text-align: right;\">\n",
       "      <th></th>\n",
       "      <th>Customer</th>\n",
       "      <th>State</th>\n",
       "      <th>Customer Lifetime Value</th>\n",
       "      <th>Response</th>\n",
       "      <th>Coverage</th>\n",
       "      <th>Education</th>\n",
       "      <th>Effective To Date</th>\n",
       "      <th>EmploymentStatus</th>\n",
       "      <th>Gender</th>\n",
       "      <th>Income</th>\n",
       "      <th>...</th>\n",
       "      <th>Number of Open Complaints</th>\n",
       "      <th>Number of Policies</th>\n",
       "      <th>Policy Type</th>\n",
       "      <th>Policy</th>\n",
       "      <th>Renew Offer Type</th>\n",
       "      <th>Sales Channel</th>\n",
       "      <th>Total Claim Amount</th>\n",
       "      <th>Vehicle Class</th>\n",
       "      <th>Vehicle Size</th>\n",
       "      <th>Engaged</th>\n",
       "    </tr>\n",
       "  </thead>\n",
       "  <tbody>\n",
       "    <tr>\n",
       "      <th>0</th>\n",
       "      <td>BU79786</td>\n",
       "      <td>Washington</td>\n",
       "      <td>2763.519279</td>\n",
       "      <td>No</td>\n",
       "      <td>Basic</td>\n",
       "      <td>Bachelor</td>\n",
       "      <td>2/24/11</td>\n",
       "      <td>Employed</td>\n",
       "      <td>F</td>\n",
       "      <td>56274</td>\n",
       "      <td>...</td>\n",
       "      <td>0</td>\n",
       "      <td>1</td>\n",
       "      <td>Corporate Auto</td>\n",
       "      <td>Corporate L3</td>\n",
       "      <td>Offer1</td>\n",
       "      <td>Agent</td>\n",
       "      <td>384.811147</td>\n",
       "      <td>Two-Door Car</td>\n",
       "      <td>Medsize</td>\n",
       "      <td>0</td>\n",
       "    </tr>\n",
       "    <tr>\n",
       "      <th>1</th>\n",
       "      <td>QZ44356</td>\n",
       "      <td>Arizona</td>\n",
       "      <td>6979.535903</td>\n",
       "      <td>No</td>\n",
       "      <td>Extended</td>\n",
       "      <td>Bachelor</td>\n",
       "      <td>1/31/11</td>\n",
       "      <td>Unemployed</td>\n",
       "      <td>F</td>\n",
       "      <td>0</td>\n",
       "      <td>...</td>\n",
       "      <td>0</td>\n",
       "      <td>8</td>\n",
       "      <td>Personal Auto</td>\n",
       "      <td>Personal L3</td>\n",
       "      <td>Offer3</td>\n",
       "      <td>Agent</td>\n",
       "      <td>1131.464935</td>\n",
       "      <td>Four-Door Car</td>\n",
       "      <td>Medsize</td>\n",
       "      <td>0</td>\n",
       "    </tr>\n",
       "    <tr>\n",
       "      <th>2</th>\n",
       "      <td>AI49188</td>\n",
       "      <td>Nevada</td>\n",
       "      <td>12887.431650</td>\n",
       "      <td>No</td>\n",
       "      <td>Premium</td>\n",
       "      <td>Bachelor</td>\n",
       "      <td>2/19/11</td>\n",
       "      <td>Employed</td>\n",
       "      <td>F</td>\n",
       "      <td>48767</td>\n",
       "      <td>...</td>\n",
       "      <td>0</td>\n",
       "      <td>2</td>\n",
       "      <td>Personal Auto</td>\n",
       "      <td>Personal L3</td>\n",
       "      <td>Offer1</td>\n",
       "      <td>Agent</td>\n",
       "      <td>566.472247</td>\n",
       "      <td>Two-Door Car</td>\n",
       "      <td>Medsize</td>\n",
       "      <td>0</td>\n",
       "    </tr>\n",
       "    <tr>\n",
       "      <th>3</th>\n",
       "      <td>WW63253</td>\n",
       "      <td>California</td>\n",
       "      <td>7645.861827</td>\n",
       "      <td>No</td>\n",
       "      <td>Basic</td>\n",
       "      <td>Bachelor</td>\n",
       "      <td>1/20/11</td>\n",
       "      <td>Unemployed</td>\n",
       "      <td>M</td>\n",
       "      <td>0</td>\n",
       "      <td>...</td>\n",
       "      <td>0</td>\n",
       "      <td>7</td>\n",
       "      <td>Corporate Auto</td>\n",
       "      <td>Corporate L2</td>\n",
       "      <td>Offer1</td>\n",
       "      <td>Call Center</td>\n",
       "      <td>529.881344</td>\n",
       "      <td>SUV</td>\n",
       "      <td>Medsize</td>\n",
       "      <td>0</td>\n",
       "    </tr>\n",
       "    <tr>\n",
       "      <th>4</th>\n",
       "      <td>HB64268</td>\n",
       "      <td>Washington</td>\n",
       "      <td>2813.692575</td>\n",
       "      <td>No</td>\n",
       "      <td>Basic</td>\n",
       "      <td>Bachelor</td>\n",
       "      <td>2/3/11</td>\n",
       "      <td>Employed</td>\n",
       "      <td>M</td>\n",
       "      <td>43836</td>\n",
       "      <td>...</td>\n",
       "      <td>0</td>\n",
       "      <td>1</td>\n",
       "      <td>Personal Auto</td>\n",
       "      <td>Personal L1</td>\n",
       "      <td>Offer1</td>\n",
       "      <td>Agent</td>\n",
       "      <td>138.130879</td>\n",
       "      <td>Four-Door Car</td>\n",
       "      <td>Medsize</td>\n",
       "      <td>0</td>\n",
       "    </tr>\n",
       "  </tbody>\n",
       "</table>\n",
       "<p>5 rows × 25 columns</p>\n",
       "</div>"
      ],
      "text/plain": [
       "  Customer       State  Customer Lifetime Value Response  Coverage Education  \\\n",
       "0  BU79786  Washington              2763.519279       No     Basic  Bachelor   \n",
       "1  QZ44356     Arizona              6979.535903       No  Extended  Bachelor   \n",
       "2  AI49188      Nevada             12887.431650       No   Premium  Bachelor   \n",
       "3  WW63253  California              7645.861827       No     Basic  Bachelor   \n",
       "4  HB64268  Washington              2813.692575       No     Basic  Bachelor   \n",
       "\n",
       "  Effective To Date EmploymentStatus Gender  Income  ...  \\\n",
       "0           2/24/11         Employed      F   56274  ...   \n",
       "1           1/31/11       Unemployed      F       0  ...   \n",
       "2           2/19/11         Employed      F   48767  ...   \n",
       "3           1/20/11       Unemployed      M       0  ...   \n",
       "4            2/3/11         Employed      M   43836  ...   \n",
       "\n",
       "  Number of Open Complaints Number of Policies     Policy Type        Policy  \\\n",
       "0                         0                  1  Corporate Auto  Corporate L3   \n",
       "1                         0                  8   Personal Auto   Personal L3   \n",
       "2                         0                  2   Personal Auto   Personal L3   \n",
       "3                         0                  7  Corporate Auto  Corporate L2   \n",
       "4                         0                  1   Personal Auto   Personal L1   \n",
       "\n",
       "   Renew Offer Type  Sales Channel  Total Claim Amount  Vehicle Class  \\\n",
       "0            Offer1          Agent          384.811147   Two-Door Car   \n",
       "1            Offer3          Agent         1131.464935  Four-Door Car   \n",
       "2            Offer1          Agent          566.472247   Two-Door Car   \n",
       "3            Offer1    Call Center          529.881344            SUV   \n",
       "4            Offer1          Agent          138.130879  Four-Door Car   \n",
       "\n",
       "  Vehicle Size Engaged  \n",
       "0      Medsize       0  \n",
       "1      Medsize       0  \n",
       "2      Medsize       0  \n",
       "3      Medsize       0  \n",
       "4      Medsize       0  \n",
       "\n",
       "[5 rows x 25 columns]"
      ]
     },
     "execution_count": 70,
     "metadata": {},
     "output_type": "execute_result"
    }
   ],
   "source": [
    "##### returns the first five rows by default\n",
    "df.head()"
   ]
  },
  {
   "cell_type": "code",
   "execution_count": 5,
   "id": "01a9034a-912d-4e28-a075-5f626bec1707",
   "metadata": {},
   "outputs": [],
   "source": [
    "# we are encoding those who did not respond to marketing calls (No) with a value of 0 and those who did respond (Yes) with a \n",
    "# value of 1. We are creating a new field named Engaged with these encoded values.\n",
    "\n",
    "df['Engaged'] = df['Response'].apply(lambda x:0 if x == 'No' else 1 )"
   ]
  },
  {
   "cell_type": "markdown",
   "id": "3a30d683-f7f6-42bf-8e4e-db988b9e0e4a",
   "metadata": {},
   "source": [
    "### Engagement rate\n",
    "The first thing that we are going to look at is the aggregate engagement rate.\n",
    "This engagement rate is simply the percentage of customers that responded to\n",
    "the marketing calls"
   ]
  },
  {
   "cell_type": "code",
   "execution_count": 6,
   "id": "c99b83e3-1992-43e2-9e6d-1495a85277c7",
   "metadata": {},
   "outputs": [],
   "source": [
    "# we are counting the number of records (or customers) in each Engaged group with the count function by dividing by the total\n",
    "# number of customers in the DataFrame and multiplying by 100.0 .\n",
    "\n",
    "engagement_rate_df = pd.DataFrame(\n",
    "df.groupby('Engaged').count()['Response'] / df.shape[0] * 100.0\n",
    ")"
   ]
  },
  {
   "cell_type": "code",
   "execution_count": 7,
   "id": "c325b35c-d9ed-4930-9e7a-c166065f97f0",
   "metadata": {},
   "outputs": [
    {
     "data": {
      "text/plain": [
       "Engaged\n",
       "0    7826\n",
       "1    1308\n",
       "Name: Response, dtype: int64"
      ]
     },
     "execution_count": 7,
     "metadata": {},
     "output_type": "execute_result"
    }
   ],
   "source": [
    "# we are counting the number of records (or customers) in each Engaged group with the count function.\n",
    "df.groupby('Engaged').count()['Response']"
   ]
  },
  {
   "cell_type": "code",
   "execution_count": 8,
   "id": "748b0f87-a7ab-43b0-a39f-4092b5114e5c",
   "metadata": {},
   "outputs": [
    {
     "data": {
      "text/html": [
       "<div>\n",
       "<style scoped>\n",
       "    .dataframe tbody tr th:only-of-type {\n",
       "        vertical-align: middle;\n",
       "    }\n",
       "\n",
       "    .dataframe tbody tr th {\n",
       "        vertical-align: top;\n",
       "    }\n",
       "\n",
       "    .dataframe thead th {\n",
       "        text-align: right;\n",
       "    }\n",
       "</style>\n",
       "<table border=\"1\" class=\"dataframe\">\n",
       "  <thead>\n",
       "    <tr style=\"text-align: right;\">\n",
       "      <th></th>\n",
       "      <th>Response</th>\n",
       "    </tr>\n",
       "    <tr>\n",
       "      <th>Engaged</th>\n",
       "      <th></th>\n",
       "    </tr>\n",
       "  </thead>\n",
       "  <tbody>\n",
       "    <tr>\n",
       "      <th>0</th>\n",
       "      <td>85.679877</td>\n",
       "    </tr>\n",
       "    <tr>\n",
       "      <th>1</th>\n",
       "      <td>14.320123</td>\n",
       "    </tr>\n",
       "  </tbody>\n",
       "</table>\n",
       "</div>"
      ],
      "text/plain": [
       "          Response\n",
       "Engaged           \n",
       "0        85.679877\n",
       "1        14.320123"
      ]
     },
     "execution_count": 8,
     "metadata": {},
     "output_type": "execute_result"
    }
   ],
   "source": [
    "engagement_rate_df"
   ]
  },
  {
   "cell_type": "code",
   "execution_count": 9,
   "id": "200d9609-9bb9-4439-bf0e-9d8fb7f8b525",
   "metadata": {},
   "outputs": [
    {
     "data": {
      "text/html": [
       "<div>\n",
       "<style scoped>\n",
       "    .dataframe tbody tr th:only-of-type {\n",
       "        vertical-align: middle;\n",
       "    }\n",
       "\n",
       "    .dataframe tbody tr th {\n",
       "        vertical-align: top;\n",
       "    }\n",
       "\n",
       "    .dataframe thead th {\n",
       "        text-align: right;\n",
       "    }\n",
       "</style>\n",
       "<table border=\"1\" class=\"dataframe\">\n",
       "  <thead>\n",
       "    <tr style=\"text-align: right;\">\n",
       "      <th>Engaged</th>\n",
       "      <th>0</th>\n",
       "      <th>1</th>\n",
       "    </tr>\n",
       "  </thead>\n",
       "  <tbody>\n",
       "    <tr>\n",
       "      <th>Response</th>\n",
       "      <td>85.679877</td>\n",
       "      <td>14.320123</td>\n",
       "    </tr>\n",
       "  </tbody>\n",
       "</table>\n",
       "</div>"
      ],
      "text/plain": [
       "Engaged           0          1\n",
       "Response  85.679877  14.320123"
      ]
     },
     "execution_count": 9,
     "metadata": {},
     "output_type": "execute_result"
    }
   ],
   "source": [
    "# transposing engagement_rate_df\n",
    "engagement_rate_df.T"
   ]
  },
  {
   "cell_type": "markdown",
   "id": "ceadd3f0-5776-4c8a-b0d6-4fae829d434a",
   "metadata": {},
   "source": [
    "### Sales channels\n",
    "Now, let's see whether we can find any noticeable patterns in the sales channel and engagement. We are going to analyze how the engaged and non engaged customers are distributed among different sales channels."
   ]
  },
  {
   "cell_type": "code",
   "execution_count": 10,
   "id": "25ca8232-dd12-4950-9bc2-3e81a7d8766b",
   "metadata": {},
   "outputs": [],
   "source": [
    "#we are using the pivot_table function in the pandas library to group by the Sales Channel and Response variables.\n",
    "\n",
    "import numpy as np\n",
    "engagement_by_sales_channel_df = pd.pivot_table(\n",
    "df, values='Response', index='Sales Channel', columns='Engaged', aggfunc= len\n",
    ").fillna(0.0)"
   ]
  },
  {
   "cell_type": "code",
   "execution_count": 11,
   "id": "5fff865a-1f6d-441c-99fa-976a8e359c7a",
   "metadata": {},
   "outputs": [
    {
     "data": {
      "text/html": [
       "<div>\n",
       "<style scoped>\n",
       "    .dataframe tbody tr th:only-of-type {\n",
       "        vertical-align: middle;\n",
       "    }\n",
       "\n",
       "    .dataframe tbody tr th {\n",
       "        vertical-align: top;\n",
       "    }\n",
       "\n",
       "    .dataframe thead th {\n",
       "        text-align: right;\n",
       "    }\n",
       "</style>\n",
       "<table border=\"1\" class=\"dataframe\">\n",
       "  <thead>\n",
       "    <tr style=\"text-align: right;\">\n",
       "      <th>Engaged</th>\n",
       "      <th>0</th>\n",
       "      <th>1</th>\n",
       "    </tr>\n",
       "    <tr>\n",
       "      <th>Sales Channel</th>\n",
       "      <th></th>\n",
       "      <th></th>\n",
       "    </tr>\n",
       "  </thead>\n",
       "  <tbody>\n",
       "    <tr>\n",
       "      <th>Agent</th>\n",
       "      <td>2811</td>\n",
       "      <td>666</td>\n",
       "    </tr>\n",
       "    <tr>\n",
       "      <th>Branch</th>\n",
       "      <td>2273</td>\n",
       "      <td>294</td>\n",
       "    </tr>\n",
       "    <tr>\n",
       "      <th>Call Center</th>\n",
       "      <td>1573</td>\n",
       "      <td>192</td>\n",
       "    </tr>\n",
       "    <tr>\n",
       "      <th>Web</th>\n",
       "      <td>1169</td>\n",
       "      <td>156</td>\n",
       "    </tr>\n",
       "  </tbody>\n",
       "</table>\n",
       "</div>"
      ],
      "text/plain": [
       "Engaged           0    1\n",
       "Sales Channel           \n",
       "Agent          2811  666\n",
       "Branch         2273  294\n",
       "Call Center    1573  192\n",
       "Web            1169  156"
      ]
     },
     "execution_count": 11,
     "metadata": {},
     "output_type": "execute_result"
    }
   ],
   "source": [
    "engagement_by_sales_channel_df"
   ]
  },
  {
   "cell_type": "code",
   "execution_count": 12,
   "id": "c7da4914-7e74-48e3-98d3-29a2975f6fe3",
   "metadata": {},
   "outputs": [
    {
     "data": {
      "text/html": [
       "<div>\n",
       "<style scoped>\n",
       "    .dataframe tbody tr th:only-of-type {\n",
       "        vertical-align: middle;\n",
       "    }\n",
       "\n",
       "    .dataframe tbody tr th {\n",
       "        vertical-align: top;\n",
       "    }\n",
       "\n",
       "    .dataframe thead th {\n",
       "        text-align: right;\n",
       "    }\n",
       "</style>\n",
       "<table border=\"1\" class=\"dataframe\">\n",
       "  <thead>\n",
       "    <tr style=\"text-align: right;\">\n",
       "      <th></th>\n",
       "      <th>Not Engaged</th>\n",
       "      <th>Engaged</th>\n",
       "    </tr>\n",
       "    <tr>\n",
       "      <th>Sales Channel</th>\n",
       "      <th></th>\n",
       "      <th></th>\n",
       "    </tr>\n",
       "  </thead>\n",
       "  <tbody>\n",
       "    <tr>\n",
       "      <th>Agent</th>\n",
       "      <td>2811</td>\n",
       "      <td>666</td>\n",
       "    </tr>\n",
       "    <tr>\n",
       "      <th>Branch</th>\n",
       "      <td>2273</td>\n",
       "      <td>294</td>\n",
       "    </tr>\n",
       "    <tr>\n",
       "      <th>Call Center</th>\n",
       "      <td>1573</td>\n",
       "      <td>192</td>\n",
       "    </tr>\n",
       "    <tr>\n",
       "      <th>Web</th>\n",
       "      <td>1169</td>\n",
       "      <td>156</td>\n",
       "    </tr>\n",
       "  </tbody>\n",
       "</table>\n",
       "</div>"
      ],
      "text/plain": [
       "               Not Engaged  Engaged\n",
       "Sales Channel                      \n",
       "Agent                 2811      666\n",
       "Branch                2273      294\n",
       "Call Center           1573      192\n",
       "Web                   1169      156"
      ]
     },
     "execution_count": 12,
     "metadata": {},
     "output_type": "execute_result"
    }
   ],
   "source": [
    "# changing the column names\n",
    "engagement_by_sales_channel_df.columns = ['Not Engaged', 'Engaged']\n",
    "engagement_by_sales_channel_df"
   ]
  },
  {
   "cell_type": "code",
   "execution_count": 13,
   "id": "e262a7a0-8522-4261-8f12-8071856cda5d",
   "metadata": {},
   "outputs": [
    {
     "data": {
      "image/png": "[encoded data removed]",
      "text/plain": [
       "<Figure size 1080x504 with 2 Axes>"
      ]
     },
     "metadata": {},
     "output_type": "display_data"
    }
   ],
   "source": [
    "# using pie charts, to display distributions of engaged and non-engaged customers across different sales channels\n",
    "engagement_by_sales_channel_df.plot(\n",
    "kind='pie',\n",
    "figsize=(15, 7),\n",
    "startangle=90,\n",
    "subplots=True,\n",
    "autopct=lambda x: '%0.1f%%' % x\n",
    ")\n",
    "plt.show()"
   ]
  },
  {
   "cell_type": "markdown",
   "id": "bb13a9e3-3089-46ed-87ce-bff6eb08aa55",
   "metadata": {},
   "source": [
    "### Total claim amounts\n",
    "The last thing that we are going to look at before we dive into the regression\n",
    "analysis are the differences in the distributions of Total Claim Amount between\n",
    "the engaged and non-engaged groups. We are going to visualize this by using\n",
    "box plots."
   ]
  },
  {
   "cell_type": "code",
   "execution_count": 68,
   "id": "93ed40b4-7e17-4398-86ad-98e2fe415cac",
   "metadata": {},
   "outputs": [
    {
     "data": {
      "image/png": "[encoded data removed]",
      "text/plain": [
       "<Figure size 504x360 with 1 Axes>"
      ]
     },
     "metadata": {
      "needs_background": "light"
     },
     "output_type": "display_data"
    }
   ],
   "source": [
    "# The following box plots show the distributions of the Total Claim Amount between the engaged and non-engaged groups\n",
    "\n",
    "ax = df[['Engaged', 'Total Claim Amount']].boxplot(\n",
    "by='Engaged',\n",
    "showfliers=False,\n",
    "figsize=(7,5)\n",
    ")\n",
    "ax.set_xlabel('Engaged')\n",
    "ax.set_ylabel('Total Claim Amount')\n",
    "ax.set_title('Total Claim Amount Distributions by Engagements')\n",
    "plt.suptitle(\" \")\n",
    "plt.show()"
   ]
  },
  {
   "cell_type": "markdown",
   "id": "142860b7-90b6-417d-9cd6-f7ab179a22a2",
   "metadata": {},
   "source": [
    "### Regression analysis\n",
    "We will first build a\n",
    "logistic regression model with continuous variables, and you'll learn how to\n",
    "interpret the results. Then, we are going to discuss different ways to handle\n",
    "categorical variables when fitting regression models, and what impact those\n",
    "categorical variables have on the fitted logistic regression model."
   ]
  },
  {
   "cell_type": "markdown",
   "id": "a94518b5-e236-4cc0-b8ec-f773ac3e5889",
   "metadata": {},
   "source": [
    "#### Continuous variables"
   ]
  },
  {
   "cell_type": "code",
   "execution_count": 16,
   "id": "db06061d-dc69-4ec6-b12c-b09721ec3bfc",
   "metadata": {},
   "outputs": [
    {
     "data": {
      "text/plain": [
       "dtype('int64')"
      ]
     },
     "execution_count": 16,
     "metadata": {},
     "output_type": "execute_result"
    }
   ],
   "source": [
    "#  the dtype attribute of a pandas Series object tells you what type of data it contains\n",
    "df['Income'].dtype"
   ]
  },
  {
   "cell_type": "code",
   "execution_count": 71,
   "id": "37b93274-b108-463b-a031-59e0f13f6fcf",
   "metadata": {},
   "outputs": [
    {
     "data": {
      "text/plain": [
       "dtype('O')"
      ]
     },
     "execution_count": 71,
     "metadata": {},
     "output_type": "execute_result"
    }
   ],
   "source": [
    "df['EmploymentStatus'].dtype"
   ]
  },
  {
   "cell_type": "code",
   "execution_count": 73,
   "id": "d6173e53-9e9c-48d6-878c-2db57c1cdcbd",
   "metadata": {},
   "outputs": [
    {
     "data": {
      "text/plain": [
       "Customer Lifetime Value          8\n",
       "Income                           8\n",
       "Monthly Premium Auto             8\n",
       "Months Since Last Claim          8\n",
       "Months Since Policy Inception    8\n",
       "Number of Open Complaints        8\n",
       "Number of Policies               8\n",
       "Total Claim Amount               8\n",
       "Engaged                          8\n",
       "dtype: int64"
      ]
     },
     "execution_count": 73,
     "metadata": {},
     "output_type": "execute_result"
    }
   ],
   "source": [
    "# In order to take a quick look at the distributions of variables with numerical values, you can also do the following\n",
    "df.describe().count()"
   ]
  },
  {
   "cell_type": "code",
   "execution_count": 72,
   "id": "da06b7b2-973a-4cb7-acfd-c1e1cc452e44",
   "metadata": {},
   "outputs": [
    {
     "name": "stdout",
     "output_type": "stream",
     "text": [
      "<class 'pandas.core.frame.DataFrame'>\n",
      "RangeIndex: 9134 entries, 0 to 9133\n",
      "Data columns (total 25 columns):\n",
      " #   Column                         Non-Null Count  Dtype  \n",
      "---  ------                         --------------  -----  \n",
      " 0   Customer                       9134 non-null   object \n",
      " 1   State                          9134 non-null   object \n",
      " 2   Customer Lifetime Value        9134 non-null   float64\n",
      " 3   Response                       9134 non-null   object \n",
      " 4   Coverage                       9134 non-null   object \n",
      " 5   Education                      9134 non-null   object \n",
      " 6   Effective To Date              9134 non-null   object \n",
      " 7   EmploymentStatus               9134 non-null   object \n",
      " 8   Gender                         9134 non-null   object \n",
      " 9   Income                         9134 non-null   int64  \n",
      " 10  Location Code                  9134 non-null   object \n",
      " 11  Marital Status                 9134 non-null   object \n",
      " 12  Monthly Premium Auto           9134 non-null   int64  \n",
      " 13  Months Since Last Claim        9134 non-null   int64  \n",
      " 14  Months Since Policy Inception  9134 non-null   int64  \n",
      " 15  Number of Open Complaints      9134 non-null   int64  \n",
      " 16  Number of Policies             9134 non-null   int64  \n",
      " 17  Policy Type                    9134 non-null   object \n",
      " 18  Policy                         9134 non-null   object \n",
      " 19  Renew Offer Type               9134 non-null   object \n",
      " 20  Sales Channel                  9134 non-null   object \n",
      " 21  Total Claim Amount             9134 non-null   float64\n",
      " 22  Vehicle Class                  9134 non-null   object \n",
      " 23  Vehicle Size                   9134 non-null   object \n",
      " 24  Engaged                        9134 non-null   int64  \n",
      "dtypes: float64(2), int64(7), object(16)\n",
      "memory usage: 1.7+ MB\n"
     ]
    }
   ],
   "source": [
    "df.info()"
   ]
  },
  {
   "cell_type": "code",
   "execution_count": 34,
   "id": "64311aab-47ee-457e-b264-72fdc3540365",
   "metadata": {},
   "outputs": [],
   "source": [
    "# We are going to store this list of the names of continuous variables in a separate variable, named continuous_vars.\n",
    "continuous_vars = [\n",
    "'Customer Lifetime Value', 'Income', 'Monthly Premium Auto',\n",
    "'Months Since Last Claim', 'Months Since Policy Inception',\n",
    "'Number of Open Complaints', 'Number of Policies',\n",
    "'Total Claim Amount'\n",
    "]\n"
   ]
  },
  {
   "cell_type": "code",
   "execution_count": 35,
   "id": "dac8f58c-4322-47a9-9925-b68f39b129fd",
   "metadata": {},
   "outputs": [],
   "source": [
    "# importing the statsmodel package\n",
    "\n",
    "import statsmodels.api as sm"
   ]
  },
  {
   "cell_type": "code",
   "execution_count": 36,
   "id": "13f8e4a1-f22f-43d1-b73a-fde0a8aa7222",
   "metadata": {},
   "outputs": [],
   "source": [
    "# code to initiate a logistic regression model\n",
    "\n",
    "logit = sm.Logit(\n",
    "df['Engaged'],\n",
    "df[continuous_vars]\n",
    ")"
   ]
  },
  {
   "cell_type": "code",
   "execution_count": 37,
   "id": "fc867873-924f-4fef-9300-f4771152564c",
   "metadata": {},
   "outputs": [
    {
     "name": "stdout",
     "output_type": "stream",
     "text": [
      "Optimization terminated successfully.\n",
      "         Current function value: 0.421189\n",
      "         Iterations 6\n"
     ]
    }
   ],
   "source": [
    "# Once a logistic regression object is created with the output and input variables defined, we can train or fit this model by \n",
    "# using the following code\n",
    "\n",
    "logit_fit = logit.fit()"
   ]
  },
  {
   "cell_type": "code",
   "execution_count": 38,
   "id": "8e453590-ac16-43fb-a247-b0da8f7cc36e",
   "metadata": {},
   "outputs": [
    {
     "data": {
      "text/html": [
       "<table class=\"simpletable\">\n",
       "<caption>Logit Regression Results</caption>\n",
       "<tr>\n",
       "  <th>Dep. Variable:</th>        <td>Engaged</td>     <th>  No. Observations:  </th>  <td>  9134</td> \n",
       "</tr>\n",
       "<tr>\n",
       "  <th>Model:</th>                 <td>Logit</td>      <th>  Df Residuals:      </th>  <td>  9126</td> \n",
       "</tr>\n",
       "<tr>\n",
       "  <th>Method:</th>                 <td>MLE</td>       <th>  Df Model:          </th>  <td>     7</td> \n",
       "</tr>\n",
       "<tr>\n",
       "  <th>Date:</th>            <td>Wed, 11 May 2022</td> <th>  Pseudo R-squ.:     </th> <td>-0.02546</td>\n",
       "</tr>\n",
       "<tr>\n",
       "  <th>Time:</th>                <td>11:56:33</td>     <th>  Log-Likelihood:    </th> <td> -3847.1</td>\n",
       "</tr>\n",
       "<tr>\n",
       "  <th>converged:</th>             <td>True</td>       <th>  LL-Null:           </th> <td> -3751.6</td>\n",
       "</tr>\n",
       "<tr>\n",
       "  <th>Covariance Type:</th>     <td>nonrobust</td>    <th>  LLR p-value:       </th>  <td> 1.000</td> \n",
       "</tr>\n",
       "</table>\n",
       "<table class=\"simpletable\">\n",
       "<tr>\n",
       "                <td></td>                   <th>coef</th>     <th>std err</th>      <th>z</th>      <th>P>|z|</th>  <th>[0.025</th>    <th>0.975]</th>  \n",
       "</tr>\n",
       "<tr>\n",
       "  <th>Customer Lifetime Value</th>       <td>-6.741e-06</td> <td> 5.04e-06</td> <td>   -1.337</td> <td> 0.181</td> <td>-1.66e-05</td> <td> 3.14e-06</td>\n",
       "</tr>\n",
       "<tr>\n",
       "  <th>Income</th>                        <td>-2.857e-06</td> <td> 1.03e-06</td> <td>   -2.766</td> <td> 0.006</td> <td>-4.88e-06</td> <td>-8.33e-07</td>\n",
       "</tr>\n",
       "<tr>\n",
       "  <th>Monthly Premium Auto</th>          <td>   -0.0084</td> <td>    0.001</td> <td>   -6.889</td> <td> 0.000</td> <td>   -0.011</td> <td>   -0.006</td>\n",
       "</tr>\n",
       "<tr>\n",
       "  <th>Months Since Last Claim</th>       <td>   -0.0202</td> <td>    0.003</td> <td>   -7.238</td> <td> 0.000</td> <td>   -0.026</td> <td>   -0.015</td>\n",
       "</tr>\n",
       "<tr>\n",
       "  <th>Months Since Policy Inception</th> <td>   -0.0060</td> <td>    0.001</td> <td>   -6.148</td> <td> 0.000</td> <td>   -0.008</td> <td>   -0.004</td>\n",
       "</tr>\n",
       "<tr>\n",
       "  <th>Number of Open Complaints</th>     <td>   -0.0829</td> <td>    0.034</td> <td>   -2.424</td> <td> 0.015</td> <td>   -0.150</td> <td>   -0.016</td>\n",
       "</tr>\n",
       "<tr>\n",
       "  <th>Number of Policies</th>            <td>   -0.0810</td> <td>    0.013</td> <td>   -6.356</td> <td> 0.000</td> <td>   -0.106</td> <td>   -0.056</td>\n",
       "</tr>\n",
       "<tr>\n",
       "  <th>Total Claim Amount</th>            <td>    0.0001</td> <td>    0.000</td> <td>    0.711</td> <td> 0.477</td> <td>   -0.000</td> <td>    0.000</td>\n",
       "</tr>\n",
       "</table>"
      ],
      "text/plain": [
       "<class 'statsmodels.iolib.summary.Summary'>\n",
       "\"\"\"\n",
       "                           Logit Regression Results                           \n",
       "==============================================================================\n",
       "Dep. Variable:                Engaged   No. Observations:                 9134\n",
       "Model:                          Logit   Df Residuals:                     9126\n",
       "Method:                           MLE   Df Model:                            7\n",
       "Date:                Wed, 11 May 2022   Pseudo R-squ.:                -0.02546\n",
       "Time:                        11:56:33   Log-Likelihood:                -3847.1\n",
       "converged:                       True   LL-Null:                       -3751.6\n",
       "Covariance Type:            nonrobust   LLR p-value:                     1.000\n",
       "=================================================================================================\n",
       "                                    coef    std err          z      P>|z|      [0.025      0.975]\n",
       "-------------------------------------------------------------------------------------------------\n",
       "Customer Lifetime Value       -6.741e-06   5.04e-06     -1.337      0.181   -1.66e-05    3.14e-06\n",
       "Income                        -2.857e-06   1.03e-06     -2.766      0.006   -4.88e-06   -8.33e-07\n",
       "Monthly Premium Auto             -0.0084      0.001     -6.889      0.000      -0.011      -0.006\n",
       "Months Since Last Claim          -0.0202      0.003     -7.238      0.000      -0.026      -0.015\n",
       "Months Since Policy Inception    -0.0060      0.001     -6.148      0.000      -0.008      -0.004\n",
       "Number of Open Complaints        -0.0829      0.034     -2.424      0.015      -0.150      -0.016\n",
       "Number of Policies               -0.0810      0.013     -6.356      0.000      -0.106      -0.056\n",
       "Total Claim Amount                0.0001      0.000      0.711      0.477      -0.000       0.000\n",
       "=================================================================================================\n",
       "\"\"\""
      ]
     },
     "execution_count": 38,
     "metadata": {},
     "output_type": "execute_result"
    }
   ],
   "source": [
    "# In order to get a detailed description of the trained model, you can use the following code\n",
    "logit_fit.summary()"
   ]
  },
  {
   "cell_type": "markdown",
   "id": "ecf0a147-104e-48fd-a6bf-96da1a7517e3",
   "metadata": {},
   "source": [
    "Let's take a closer look at this model output. coef represents the coefficients\n",
    "for each of the input variables, and z represents the z-score, which is the\n",
    "number of standard deviations from the mean. \n",
    "\n",
    "The P>|z| column represents the p-value, which means how likely it is to observe the relationship between the\n",
    "feature and the output variable by chance. So, the lower the value of P>|z| is,\n",
    "the more likely it is that the relationship between the given feature and the\n",
    "output variable is strong and is not by chance. \n",
    "\n",
    "Typically, 0.05 is a good cut-off point for the p-value, and any value less than 0.05 signifies a strong\n",
    "relationship between the given feature and the output variable."
   ]
  },
  {
   "cell_type": "markdown",
   "id": "4f5ecbcc-9ba4-4359-a595-c3483177f6d0",
   "metadata": {},
   "source": [
    "#### Categorical variables"
   ]
  },
  {
   "cell_type": "code",
   "execution_count": 39,
   "id": "f48ef824-836c-4891-9771-66f9adbd1d0d",
   "metadata": {},
   "outputs": [],
   "source": [
    "# In Python, there are multiple ways to handle categorical variables\n",
    "# when using the pandas package. Let's first look at factorizing categorical\n",
    "# variables, as shown in the following code\n",
    "\n",
    "gender_values, gender_labels = df['Gender'].factorize()"
   ]
  },
  {
   "cell_type": "code",
   "execution_count": 40,
   "id": "c972ca23-0b89-4cea-afed-5723a4b44304",
   "metadata": {},
   "outputs": [
    {
     "data": {
      "text/plain": [
       "array([0, 0, 0, ..., 1, 1, 1], dtype=int64)"
      ]
     },
     "execution_count": 40,
     "metadata": {},
     "output_type": "execute_result"
    }
   ],
   "source": [
    "gender_values"
   ]
  },
  {
   "cell_type": "code",
   "execution_count": 41,
   "id": "907970f4-4caf-43c1-a8c9-1749ddb7fb22",
   "metadata": {},
   "outputs": [
    {
     "data": {
      "text/plain": [
       "Index(['F', 'M'], dtype='object')"
      ]
     },
     "execution_count": 41,
     "metadata": {},
     "output_type": "execute_result"
    }
   ],
   "source": [
    "gender_labels"
   ]
  },
  {
   "cell_type": "code",
   "execution_count": 53,
   "id": "4d5fdedd-971b-4fd4-86c8-11d9ddf3c785",
   "metadata": {},
   "outputs": [],
   "source": [
    "# The following code shows another way to encode categorical variables with\n",
    "# orderings when using pandas\n",
    "\n",
    "Categories = pd.Categorical(\n",
    "df['Education'],\n",
    "categories=['High School or Below', 'Bachelor', 'College', 'Master', 'Doctor']\n",
    ")\n"
   ]
  },
  {
   "cell_type": "code",
   "execution_count": 66,
   "id": "16a60afc-b2e3-4e9d-b158-84c04200ef43",
   "metadata": {},
   "outputs": [
    {
     "data": {
      "text/plain": [
       "['Bachelor', 'Bachelor', 'Bachelor', 'Bachelor', 'Bachelor', ..., 'Bachelor', 'College', 'Bachelor', 'College', 'College']\n",
       "Length: 9134\n",
       "Categories (5, object): ['High School or Below', 'Bachelor', 'College', 'Master', 'Doctor']"
      ]
     },
     "execution_count": 66,
     "metadata": {},
     "output_type": "execute_result"
    }
   ],
   "source": [
    "Categories"
   ]
  },
  {
   "cell_type": "code",
   "execution_count": 64,
   "id": "e4ed34c1-19d1-4638-8d07-97c81ae6246d",
   "metadata": {},
   "outputs": [
    {
     "data": {
      "text/plain": [
       "array([1, 1, 1, ..., 1, 2, 2], dtype=int8)"
      ]
     },
     "execution_count": 64,
     "metadata": {},
     "output_type": "execute_result"
    }
   ],
   "source": [
    "Categories.codes"
   ]
  },
  {
   "cell_type": "code",
   "execution_count": 45,
   "id": "7d57072e-cf57-48cb-a69d-b06d4b2fb744",
   "metadata": {},
   "outputs": [],
   "source": [
    "# We will now add these encoded variables to the pandas DataFrame, df, as\n",
    "# shown in the following code\n",
    "\n",
    "df['GenderFactorized'] = gender_values\n",
    "df['EducationFactorized'] = categories.codes"
   ]
  },
  {
   "cell_type": "code",
   "execution_count": 48,
   "id": "2d0f19c3-8470-418b-9b60-654d3b219f91",
   "metadata": {},
   "outputs": [
    {
     "data": {
      "text/html": [
       "<div>\n",
       "<style scoped>\n",
       "    .dataframe tbody tr th:only-of-type {\n",
       "        vertical-align: middle;\n",
       "    }\n",
       "\n",
       "    .dataframe tbody tr th {\n",
       "        vertical-align: top;\n",
       "    }\n",
       "\n",
       "    .dataframe thead th {\n",
       "        text-align: right;\n",
       "    }\n",
       "</style>\n",
       "<table border=\"1\" class=\"dataframe\">\n",
       "  <thead>\n",
       "    <tr style=\"text-align: right;\">\n",
       "      <th></th>\n",
       "      <th>Customer</th>\n",
       "      <th>State</th>\n",
       "      <th>Customer Lifetime Value</th>\n",
       "      <th>Response</th>\n",
       "      <th>Coverage</th>\n",
       "      <th>Education</th>\n",
       "      <th>Effective To Date</th>\n",
       "      <th>EmploymentStatus</th>\n",
       "      <th>Gender</th>\n",
       "      <th>Income</th>\n",
       "      <th>...</th>\n",
       "      <th>Policy Type</th>\n",
       "      <th>Policy</th>\n",
       "      <th>Renew Offer Type</th>\n",
       "      <th>Sales Channel</th>\n",
       "      <th>Total Claim Amount</th>\n",
       "      <th>Vehicle Class</th>\n",
       "      <th>Vehicle Size</th>\n",
       "      <th>Engaged</th>\n",
       "      <th>GenderFactorized</th>\n",
       "      <th>EducationFactorized</th>\n",
       "    </tr>\n",
       "  </thead>\n",
       "  <tbody>\n",
       "    <tr>\n",
       "      <th>0</th>\n",
       "      <td>BU79786</td>\n",
       "      <td>Washington</td>\n",
       "      <td>2763.519279</td>\n",
       "      <td>No</td>\n",
       "      <td>Basic</td>\n",
       "      <td>Bachelor</td>\n",
       "      <td>2/24/11</td>\n",
       "      <td>Employed</td>\n",
       "      <td>F</td>\n",
       "      <td>56274</td>\n",
       "      <td>...</td>\n",
       "      <td>Corporate Auto</td>\n",
       "      <td>Corporate L3</td>\n",
       "      <td>Offer1</td>\n",
       "      <td>Agent</td>\n",
       "      <td>384.811147</td>\n",
       "      <td>Two-Door Car</td>\n",
       "      <td>Medsize</td>\n",
       "      <td>0</td>\n",
       "      <td>0</td>\n",
       "      <td>1</td>\n",
       "    </tr>\n",
       "    <tr>\n",
       "      <th>1</th>\n",
       "      <td>QZ44356</td>\n",
       "      <td>Arizona</td>\n",
       "      <td>6979.535903</td>\n",
       "      <td>No</td>\n",
       "      <td>Extended</td>\n",
       "      <td>Bachelor</td>\n",
       "      <td>1/31/11</td>\n",
       "      <td>Unemployed</td>\n",
       "      <td>F</td>\n",
       "      <td>0</td>\n",
       "      <td>...</td>\n",
       "      <td>Personal Auto</td>\n",
       "      <td>Personal L3</td>\n",
       "      <td>Offer3</td>\n",
       "      <td>Agent</td>\n",
       "      <td>1131.464935</td>\n",
       "      <td>Four-Door Car</td>\n",
       "      <td>Medsize</td>\n",
       "      <td>0</td>\n",
       "      <td>0</td>\n",
       "      <td>1</td>\n",
       "    </tr>\n",
       "    <tr>\n",
       "      <th>2</th>\n",
       "      <td>AI49188</td>\n",
       "      <td>Nevada</td>\n",
       "      <td>12887.431650</td>\n",
       "      <td>No</td>\n",
       "      <td>Premium</td>\n",
       "      <td>Bachelor</td>\n",
       "      <td>2/19/11</td>\n",
       "      <td>Employed</td>\n",
       "      <td>F</td>\n",
       "      <td>48767</td>\n",
       "      <td>...</td>\n",
       "      <td>Personal Auto</td>\n",
       "      <td>Personal L3</td>\n",
       "      <td>Offer1</td>\n",
       "      <td>Agent</td>\n",
       "      <td>566.472247</td>\n",
       "      <td>Two-Door Car</td>\n",
       "      <td>Medsize</td>\n",
       "      <td>0</td>\n",
       "      <td>0</td>\n",
       "      <td>1</td>\n",
       "    </tr>\n",
       "    <tr>\n",
       "      <th>3</th>\n",
       "      <td>WW63253</td>\n",
       "      <td>California</td>\n",
       "      <td>7645.861827</td>\n",
       "      <td>No</td>\n",
       "      <td>Basic</td>\n",
       "      <td>Bachelor</td>\n",
       "      <td>1/20/11</td>\n",
       "      <td>Unemployed</td>\n",
       "      <td>M</td>\n",
       "      <td>0</td>\n",
       "      <td>...</td>\n",
       "      <td>Corporate Auto</td>\n",
       "      <td>Corporate L2</td>\n",
       "      <td>Offer1</td>\n",
       "      <td>Call Center</td>\n",
       "      <td>529.881344</td>\n",
       "      <td>SUV</td>\n",
       "      <td>Medsize</td>\n",
       "      <td>0</td>\n",
       "      <td>1</td>\n",
       "      <td>1</td>\n",
       "    </tr>\n",
       "    <tr>\n",
       "      <th>4</th>\n",
       "      <td>HB64268</td>\n",
       "      <td>Washington</td>\n",
       "      <td>2813.692575</td>\n",
       "      <td>No</td>\n",
       "      <td>Basic</td>\n",
       "      <td>Bachelor</td>\n",
       "      <td>2/3/11</td>\n",
       "      <td>Employed</td>\n",
       "      <td>M</td>\n",
       "      <td>43836</td>\n",
       "      <td>...</td>\n",
       "      <td>Personal Auto</td>\n",
       "      <td>Personal L1</td>\n",
       "      <td>Offer1</td>\n",
       "      <td>Agent</td>\n",
       "      <td>138.130879</td>\n",
       "      <td>Four-Door Car</td>\n",
       "      <td>Medsize</td>\n",
       "      <td>0</td>\n",
       "      <td>1</td>\n",
       "      <td>1</td>\n",
       "    </tr>\n",
       "  </tbody>\n",
       "</table>\n",
       "<p>5 rows × 27 columns</p>\n",
       "</div>"
      ],
      "text/plain": [
       "  Customer       State  Customer Lifetime Value Response  Coverage Education  \\\n",
       "0  BU79786  Washington              2763.519279       No     Basic  Bachelor   \n",
       "1  QZ44356     Arizona              6979.535903       No  Extended  Bachelor   \n",
       "2  AI49188      Nevada             12887.431650       No   Premium  Bachelor   \n",
       "3  WW63253  California              7645.861827       No     Basic  Bachelor   \n",
       "4  HB64268  Washington              2813.692575       No     Basic  Bachelor   \n",
       "\n",
       "  Effective To Date EmploymentStatus Gender  Income  ...     Policy Type  \\\n",
       "0           2/24/11         Employed      F   56274  ...  Corporate Auto   \n",
       "1           1/31/11       Unemployed      F       0  ...   Personal Auto   \n",
       "2           2/19/11         Employed      F   48767  ...   Personal Auto   \n",
       "3           1/20/11       Unemployed      M       0  ...  Corporate Auto   \n",
       "4            2/3/11         Employed      M   43836  ...   Personal Auto   \n",
       "\n",
       "         Policy  Renew Offer Type  Sales Channel  Total Claim Amount  \\\n",
       "0  Corporate L3            Offer1          Agent          384.811147   \n",
       "1   Personal L3            Offer3          Agent         1131.464935   \n",
       "2   Personal L3            Offer1          Agent          566.472247   \n",
       "3  Corporate L2            Offer1    Call Center          529.881344   \n",
       "4   Personal L1            Offer1          Agent          138.130879   \n",
       "\n",
       "   Vehicle Class  Vehicle Size Engaged GenderFactorized EducationFactorized  \n",
       "0   Two-Door Car       Medsize       0                0                   1  \n",
       "1  Four-Door Car       Medsize       0                0                   1  \n",
       "2   Two-Door Car       Medsize       0                0                   1  \n",
       "3            SUV       Medsize       0                1                   1  \n",
       "4  Four-Door Car       Medsize       0                1                   1  \n",
       "\n",
       "[5 rows x 27 columns]"
      ]
     },
     "execution_count": 48,
     "metadata": {},
     "output_type": "execute_result"
    }
   ],
   "source": [
    "df.head()"
   ]
  },
  {
   "cell_type": "code",
   "execution_count": 47,
   "id": "812b2a9a-ea13-4145-a745-9d06d6e95bf8",
   "metadata": {},
   "outputs": [
    {
     "name": "stdout",
     "output_type": "stream",
     "text": [
      "Optimization terminated successfully.\n",
      "         Current function value: 0.493068\n",
      "         Iterations 6\n"
     ]
    }
   ],
   "source": [
    "# With these encodings for the two categorical variables, Gender and Education, we\n",
    "# can now fit a logistic regression model using the following code\n",
    "\n",
    "logit = sm.Logit(\n",
    "df['Engaged'],\n",
    "df[[\n",
    "'GenderFactorized',\n",
    "'EducationFactorized'\n",
    "]]\n",
    ")\n",
    "logit_fit = logit.fit()"
   ]
  },
  {
   "cell_type": "code",
   "execution_count": 49,
   "id": "7e55b76c-ab03-4ac3-923b-40257ba3f079",
   "metadata": {},
   "outputs": [
    {
     "data": {
      "text/html": [
       "<table class=\"simpletable\">\n",
       "<caption>Logit Regression Results</caption>\n",
       "<tr>\n",
       "  <th>Dep. Variable:</th>        <td>Engaged</td>     <th>  No. Observations:  </th>  <td>  9134</td> \n",
       "</tr>\n",
       "<tr>\n",
       "  <th>Model:</th>                 <td>Logit</td>      <th>  Df Residuals:      </th>  <td>  9132</td> \n",
       "</tr>\n",
       "<tr>\n",
       "  <th>Method:</th>                 <td>MLE</td>       <th>  Df Model:          </th>  <td>     1</td> \n",
       "</tr>\n",
       "<tr>\n",
       "  <th>Date:</th>            <td>Mon, 09 May 2022</td> <th>  Pseudo R-squ.:     </th>  <td>-0.2005</td>\n",
       "</tr>\n",
       "<tr>\n",
       "  <th>Time:</th>                <td>13:54:17</td>     <th>  Log-Likelihood:    </th> <td> -4503.7</td>\n",
       "</tr>\n",
       "<tr>\n",
       "  <th>converged:</th>             <td>True</td>       <th>  LL-Null:           </th> <td> -3751.6</td>\n",
       "</tr>\n",
       "<tr>\n",
       "  <th>Covariance Type:</th>     <td>nonrobust</td>    <th>  LLR p-value:       </th>  <td> 1.000</td> \n",
       "</tr>\n",
       "</table>\n",
       "<table class=\"simpletable\">\n",
       "<tr>\n",
       "           <td></td>              <th>coef</th>     <th>std err</th>      <th>z</th>      <th>P>|z|</th>  <th>[0.025</th>    <th>0.975]</th>  \n",
       "</tr>\n",
       "<tr>\n",
       "  <th>GenderFactorized</th>    <td>   -1.1266</td> <td>    0.047</td> <td>  -24.116</td> <td> 0.000</td> <td>   -1.218</td> <td>   -1.035</td>\n",
       "</tr>\n",
       "<tr>\n",
       "  <th>EducationFactorized</th> <td>   -0.6256</td> <td>    0.021</td> <td>  -29.900</td> <td> 0.000</td> <td>   -0.667</td> <td>   -0.585</td>\n",
       "</tr>\n",
       "</table>"
      ],
      "text/plain": [
       "<class 'statsmodels.iolib.summary.Summary'>\n",
       "\"\"\"\n",
       "                           Logit Regression Results                           \n",
       "==============================================================================\n",
       "Dep. Variable:                Engaged   No. Observations:                 9134\n",
       "Model:                          Logit   Df Residuals:                     9132\n",
       "Method:                           MLE   Df Model:                            1\n",
       "Date:                Mon, 09 May 2022   Pseudo R-squ.:                 -0.2005\n",
       "Time:                        13:54:17   Log-Likelihood:                -4503.7\n",
       "converged:                       True   LL-Null:                       -3751.6\n",
       "Covariance Type:            nonrobust   LLR p-value:                     1.000\n",
       "=======================================================================================\n",
       "                          coef    std err          z      P>|z|      [0.025      0.975]\n",
       "---------------------------------------------------------------------------------------\n",
       "GenderFactorized       -1.1266      0.047    -24.116      0.000      -1.218      -1.035\n",
       "EducationFactorized    -0.6256      0.021    -29.900      0.000      -0.667      -0.585\n",
       "=======================================================================================\n",
       "\"\"\""
      ]
     },
     "execution_count": 49,
     "metadata": {},
     "output_type": "execute_result"
    }
   ],
   "source": [
    "logit_fit.summary()"
   ]
  },
  {
   "cell_type": "markdown",
   "id": "25355ced-469b-40d9-a755-78c6d0eb7cbd",
   "metadata": {},
   "source": [
    "#### Combining continuous and categorical variables\n"
   ]
  },
  {
   "cell_type": "code",
   "execution_count": 50,
   "id": "0677e2c5-19a9-4b8b-a0c5-95d428cbb322",
   "metadata": {},
   "outputs": [
    {
     "name": "stdout",
     "output_type": "stream",
     "text": [
      "Optimization terminated successfully.\n",
      "         Current function value: 0.420810\n",
      "         Iterations 6\n"
     ]
    }
   ],
   "source": [
    "# We can fit a logistic regression model by using both categorical and\n",
    "# continuous variables, as shown in the following code\n",
    "\n",
    "logit = sm.Logit(\n",
    "df['Engaged'],\n",
    "df[['Customer Lifetime Value',\n",
    "'Income',\n",
    "'Monthly Premium Auto',\n",
    "'Months Since Last Claim',\n",
    "'Months Since Policy Inception',\n",
    "'Number of Open Complaints',\n",
    "'Number of Policies',\n",
    "'Total Claim Amount',\n",
    "'GenderFactorized',\n",
    "'EducationFactorized'\n",
    "]]\n",
    ")\n",
    "logit_fit = logit.fit()"
   ]
  },
  {
   "cell_type": "code",
   "execution_count": 51,
   "id": "650c2053-cd53-4ebb-af79-3cbdcefcc108",
   "metadata": {},
   "outputs": [
    {
     "data": {
      "text/html": [
       "<table class=\"simpletable\">\n",
       "<caption>Logit Regression Results</caption>\n",
       "<tr>\n",
       "  <th>Dep. Variable:</th>        <td>Engaged</td>     <th>  No. Observations:  </th>  <td>  9134</td> \n",
       "</tr>\n",
       "<tr>\n",
       "  <th>Model:</th>                 <td>Logit</td>      <th>  Df Residuals:      </th>  <td>  9124</td> \n",
       "</tr>\n",
       "<tr>\n",
       "  <th>Method:</th>                 <td>MLE</td>       <th>  Df Model:          </th>  <td>     9</td> \n",
       "</tr>\n",
       "<tr>\n",
       "  <th>Date:</th>            <td>Mon, 09 May 2022</td> <th>  Pseudo R-squ.:     </th> <td>-0.02454</td>\n",
       "</tr>\n",
       "<tr>\n",
       "  <th>Time:</th>                <td>14:10:16</td>     <th>  Log-Likelihood:    </th> <td> -3843.7</td>\n",
       "</tr>\n",
       "<tr>\n",
       "  <th>converged:</th>             <td>True</td>       <th>  LL-Null:           </th> <td> -3751.6</td>\n",
       "</tr>\n",
       "<tr>\n",
       "  <th>Covariance Type:</th>     <td>nonrobust</td>    <th>  LLR p-value:       </th>  <td> 1.000</td> \n",
       "</tr>\n",
       "</table>\n",
       "<table class=\"simpletable\">\n",
       "<tr>\n",
       "                <td></td>                   <th>coef</th>     <th>std err</th>      <th>z</th>      <th>P>|z|</th>  <th>[0.025</th>    <th>0.975]</th>  \n",
       "</tr>\n",
       "<tr>\n",
       "  <th>Customer Lifetime Value</th>       <td>-6.909e-06</td> <td> 5.03e-06</td> <td>   -1.373</td> <td> 0.170</td> <td>-1.68e-05</td> <td> 2.96e-06</td>\n",
       "</tr>\n",
       "<tr>\n",
       "  <th>Income</th>                        <td> -2.59e-06</td> <td> 1.04e-06</td> <td>   -2.494</td> <td> 0.013</td> <td>-4.63e-06</td> <td>-5.55e-07</td>\n",
       "</tr>\n",
       "<tr>\n",
       "  <th>Monthly Premium Auto</th>          <td>   -0.0081</td> <td>    0.001</td> <td>   -6.526</td> <td> 0.000</td> <td>   -0.011</td> <td>   -0.006</td>\n",
       "</tr>\n",
       "<tr>\n",
       "  <th>Months Since Last Claim</th>       <td>   -0.0194</td> <td>    0.003</td> <td>   -6.858</td> <td> 0.000</td> <td>   -0.025</td> <td>   -0.014</td>\n",
       "</tr>\n",
       "<tr>\n",
       "  <th>Months Since Policy Inception</th> <td>   -0.0057</td> <td>    0.001</td> <td>   -5.827</td> <td> 0.000</td> <td>   -0.008</td> <td>   -0.004</td>\n",
       "</tr>\n",
       "<tr>\n",
       "  <th>Number of Open Complaints</th>     <td>   -0.0813</td> <td>    0.034</td> <td>   -2.376</td> <td> 0.017</td> <td>   -0.148</td> <td>   -0.014</td>\n",
       "</tr>\n",
       "<tr>\n",
       "  <th>Number of Policies</th>            <td>   -0.0781</td> <td>    0.013</td> <td>   -6.114</td> <td> 0.000</td> <td>   -0.103</td> <td>   -0.053</td>\n",
       "</tr>\n",
       "<tr>\n",
       "  <th>Total Claim Amount</th>            <td>    0.0001</td> <td>    0.000</td> <td>    0.943</td> <td> 0.346</td> <td>   -0.000</td> <td>    0.000</td>\n",
       "</tr>\n",
       "<tr>\n",
       "  <th>GenderFactorized</th>              <td>   -0.1500</td> <td>    0.058</td> <td>   -2.592</td> <td> 0.010</td> <td>   -0.263</td> <td>   -0.037</td>\n",
       "</tr>\n",
       "<tr>\n",
       "  <th>EducationFactorized</th>           <td>   -0.0070</td> <td>    0.027</td> <td>   -0.264</td> <td> 0.792</td> <td>   -0.059</td> <td>    0.045</td>\n",
       "</tr>\n",
       "</table>"
      ],
      "text/plain": [
       "<class 'statsmodels.iolib.summary.Summary'>\n",
       "\"\"\"\n",
       "                           Logit Regression Results                           \n",
       "==============================================================================\n",
       "Dep. Variable:                Engaged   No. Observations:                 9134\n",
       "Model:                          Logit   Df Residuals:                     9124\n",
       "Method:                           MLE   Df Model:                            9\n",
       "Date:                Mon, 09 May 2022   Pseudo R-squ.:                -0.02454\n",
       "Time:                        14:10:16   Log-Likelihood:                -3843.7\n",
       "converged:                       True   LL-Null:                       -3751.6\n",
       "Covariance Type:            nonrobust   LLR p-value:                     1.000\n",
       "=================================================================================================\n",
       "                                    coef    std err          z      P>|z|      [0.025      0.975]\n",
       "-------------------------------------------------------------------------------------------------\n",
       "Customer Lifetime Value       -6.909e-06   5.03e-06     -1.373      0.170   -1.68e-05    2.96e-06\n",
       "Income                         -2.59e-06   1.04e-06     -2.494      0.013   -4.63e-06   -5.55e-07\n",
       "Monthly Premium Auto             -0.0081      0.001     -6.526      0.000      -0.011      -0.006\n",
       "Months Since Last Claim          -0.0194      0.003     -6.858      0.000      -0.025      -0.014\n",
       "Months Since Policy Inception    -0.0057      0.001     -5.827      0.000      -0.008      -0.004\n",
       "Number of Open Complaints        -0.0813      0.034     -2.376      0.017      -0.148      -0.014\n",
       "Number of Policies               -0.0781      0.013     -6.114      0.000      -0.103      -0.053\n",
       "Total Claim Amount                0.0001      0.000      0.943      0.346      -0.000       0.000\n",
       "GenderFactorized                 -0.1500      0.058     -2.592      0.010      -0.263      -0.037\n",
       "EducationFactorized              -0.0070      0.027     -0.264      0.792      -0.059       0.045\n",
       "=================================================================================================\n",
       "\"\"\""
      ]
     },
     "execution_count": 51,
     "metadata": {},
     "output_type": "execute_result"
    }
   ],
   "source": [
    "logit_fit.summary()"
   ]
  },
  {
   "cell_type": "code",
   "execution_count": null,
   "id": "df391a23-9ede-4018-bf19-04ec8d05d402",
   "metadata": {},
   "outputs": [],
   "source": []
  }
 ],
 "metadata": {
  "kernelspec": {
   "display_name": "Python 3",
   "language": "python",
   "name": "python3"
  },
  "language_info": {
   "codemirror_mode": {
    "name": "ipython",
    "version": 3
   },
   "file_extension": ".py",
   "mimetype": "text/x-python",
   "name": "python",
   "nbconvert_exporter": "python",
   "pygments_lexer": "ipython3",
   "version": "3.8.8"
  }
 },
 "nbformat": 4,
 "nbformat_minor": 5
}
