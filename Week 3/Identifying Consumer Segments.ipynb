{
 "cells": [
  {
   "cell_type": "markdown",
   "id": "08e7e00b-b1fa-495d-93b6-5af2138f5774",
   "metadata": {},
   "source": [
    "# Identifying Consumer Segments (Python)"
   ]
  },
  {
   "cell_type": "code",
   "execution_count": 1,
   "id": "128ec092-fe1a-4226-a69a-f330bb15746e",
   "metadata": {},
   "outputs": [],
   "source": [
    "# prepare for Python version 3x features and functions\n",
    "\n",
    "from __future__ import division, print_function"
   ]
  },
  {
   "cell_type": "code",
   "execution_count": 2,
   "id": "3b088eca-997f-44f1-974b-f6b38678c71e",
   "metadata": {},
   "outputs": [],
   "source": [
    "# import packages for data manipulation and multivariate analysis\n",
    "\n",
    "import pandas as pd # DataFrame structure and operations\n",
    "import numpy as np # arrays and numerical processing\n",
    "from sklearn.cluster import KMeans # cluster analysis by partitioning\n",
    "from sklearn.metrics import silhouette_score as silhouette_score\n"
   ]
  },
  {
   "cell_type": "code",
   "execution_count": 56,
   "id": "ea47b772-012b-463f-b6f7-0b3509e7427e",
   "metadata": {},
   "outputs": [],
   "source": [
    "# read data from comma-delimited text file... create DataFrame object\n",
    "bank = pd.read_csv(r\"C:\\Users\\Zachary_B\\Desktop\\Dataset\\bank.csv\", sep = ';')"
   ]
  },
  {
   "cell_type": "code",
   "execution_count": 4,
   "id": "9f6a3ced-eaf9-4742-a2e6-63707ae676f1",
   "metadata": {},
   "outputs": [
    {
     "name": "stdout",
     "output_type": "stream",
     "text": [
      "<bound method NDFrame.head of       age            job  marital  education default  balance housing loan  \\\n",
      "0      30     unemployed  married    primary      no     1787      no   no   \n",
      "1      33       services  married  secondary      no     4789     yes  yes   \n",
      "2      35     management   single   tertiary      no     1350     yes   no   \n",
      "3      30     management  married   tertiary      no     1476     yes  yes   \n",
      "4      59    blue-collar  married  secondary      no        0     yes   no   \n",
      "...   ...            ...      ...        ...     ...      ...     ...  ...   \n",
      "4516   33       services  married  secondary      no     -333     yes   no   \n",
      "4517   57  self-employed  married   tertiary     yes    -3313     yes  yes   \n",
      "4518   57     technician  married  secondary      no      295      no   no   \n",
      "4519   28    blue-collar  married  secondary      no     1137      no   no   \n",
      "4520   44   entrepreneur   single   tertiary      no     1136     yes  yes   \n",
      "\n",
      "       contact  day month  duration  campaign  pdays  previous poutcome  \\\n",
      "0     cellular   19   oct        79         1     -1         0  unknown   \n",
      "1     cellular   11   may       220         1    339         4  failure   \n",
      "2     cellular   16   apr       185         1    330         1  failure   \n",
      "3      unknown    3   jun       199         4     -1         0  unknown   \n",
      "4      unknown    5   may       226         1     -1         0  unknown   \n",
      "...        ...  ...   ...       ...       ...    ...       ...      ...   \n",
      "4516  cellular   30   jul       329         5     -1         0  unknown   \n",
      "4517   unknown    9   may       153         1     -1         0  unknown   \n",
      "4518  cellular   19   aug       151        11     -1         0  unknown   \n",
      "4519  cellular    6   feb       129         4    211         3    other   \n",
      "4520  cellular    3   apr       345         2    249         7    other   \n",
      "\n",
      "     response  \n",
      "0          no  \n",
      "1          no  \n",
      "2          no  \n",
      "3          no  \n",
      "4          no  \n",
      "...       ...  \n",
      "4516       no  \n",
      "4517       no  \n",
      "4518       no  \n",
      "4519       no  \n",
      "4520       no  \n",
      "\n",
      "[4521 rows x 17 columns]>\n"
     ]
    }
   ],
   "source": [
    "# check the structure of the data frame\n",
    "print(bank.head) "
   ]
  },
  {
   "cell_type": "code",
   "execution_count": 5,
   "id": "d7e93d34-041b-4c0e-8f61-9c84446b04d0",
   "metadata": {},
   "outputs": [
    {
     "name": "stdout",
     "output_type": "stream",
     "text": [
      "(4521, 17)\n"
     ]
    }
   ],
   "source": [
    "print(bank.shape)"
   ]
  },
  {
   "cell_type": "code",
   "execution_count": 6,
   "id": "bb2cfd41-b2ae-4ae4-a19b-cf90ae2f4acc",
   "metadata": {},
   "outputs": [
    {
     "data": {
      "text/plain": [
       "['age',\n",
       " 'job',\n",
       " 'marital',\n",
       " 'education',\n",
       " 'default',\n",
       " 'balance',\n",
       " 'housing',\n",
       " 'loan',\n",
       " 'contact',\n",
       " 'day',\n",
       " 'month',\n",
       " 'duration',\n",
       " 'campaign',\n",
       " 'pdays',\n",
       " 'previous',\n",
       " 'poutcome',\n",
       " 'response']"
      ]
     },
     "execution_count": 6,
     "metadata": {},
     "output_type": "execute_result"
    }
   ],
   "source": [
    "# look at the list of column names\n",
    "list(bank.columns.values)"
   ]
  },
  {
   "cell_type": "markdown",
   "id": "bf42993b-6bd9-4fa9-a3b2-658fb16ceb24",
   "metadata": {},
   "source": [
    "## Examine the demographic variable age"
   ]
  },
  {
   "cell_type": "code",
   "execution_count": 7,
   "id": "807e6f87-b091-45c2-be43-0dfc958503cc",
   "metadata": {},
   "outputs": [
    {
     "name": "stdout",
     "output_type": "stream",
     "text": [
      "[30 33 35 59 36 39 41 43 20 31 40 56 37 25 38 42 44 26 55 67 53 68 32 49\n",
      " 78 23 52 34 61 45 48 57 54 63 51 29 50 27 60 28 21 58 22 46 24 77 75 47\n",
      " 70 65 64 62 66 19 81 83 80 71 72 69 79 73 86 74 76 87 84]\n"
     ]
    }
   ],
   "source": [
    "print(bank['age'].unique())"
   ]
  },
  {
   "cell_type": "code",
   "execution_count": 8,
   "id": "613ca3a1-59e8-4b1f-b44a-0cd920ec79dd",
   "metadata": {},
   "outputs": [
    {
     "name": "stdout",
     "output_type": "stream",
     "text": [
      "34    231\n",
      "32    224\n",
      "31    199\n",
      "36    188\n",
      "33    186\n",
      "     ... \n",
      "68      2\n",
      "86      1\n",
      "81      1\n",
      "84      1\n",
      "87      1\n",
      "Name: age, Length: 67, dtype: int64\n"
     ]
    }
   ],
   "source": [
    "print(bank['age'].value_counts(sort = True))"
   ]
  },
  {
   "cell_type": "code",
   "execution_count": 9,
   "id": "8b298dff-dfbc-43c7-a220-560aab0a085a",
   "metadata": {},
   "outputs": [
    {
     "name": "stdout",
     "output_type": "stream",
     "text": [
      "count    4521.000000\n",
      "mean       41.170095\n",
      "std        10.576211\n",
      "min        19.000000\n",
      "25%        33.000000\n",
      "50%        39.000000\n",
      "75%        49.000000\n",
      "max        87.000000\n",
      "Name: age, dtype: float64\n"
     ]
    }
   ],
   "source": [
    "print(bank['age'].describe())"
   ]
  },
  {
   "cell_type": "markdown",
   "id": "8915408d-9118-4d3d-9849-e903c5b3b644",
   "metadata": {},
   "source": [
    "## Examine the demographic variable job\n"
   ]
  },
  {
   "cell_type": "code",
   "execution_count": 10,
   "id": "fdc55826-7606-4ca9-9b66-8ee782aa5ff7",
   "metadata": {},
   "outputs": [
    {
     "name": "stdout",
     "output_type": "stream",
     "text": [
      "['unemployed' 'services' 'management' 'blue-collar' 'self-employed'\n",
      " 'technician' 'entrepreneur' 'admin.' 'student' 'housemaid' 'retired'\n",
      " 'unknown']\n"
     ]
    }
   ],
   "source": [
    "print(bank['job'].unique())"
   ]
  },
  {
   "cell_type": "code",
   "execution_count": 11,
   "id": "9d43c55e-7b44-4eb9-9a84-24e29322b5b0",
   "metadata": {},
   "outputs": [
    {
     "name": "stdout",
     "output_type": "stream",
     "text": [
      "management       969\n",
      "blue-collar      946\n",
      "technician       768\n",
      "admin.           478\n",
      "services         417\n",
      "retired          230\n",
      "self-employed    183\n",
      "entrepreneur     168\n",
      "unemployed       128\n",
      "housemaid        112\n",
      "student           84\n",
      "unknown           38\n",
      "Name: job, dtype: int64\n"
     ]
    }
   ],
   "source": [
    "print(bank['job'].value_counts(sort = True))"
   ]
  },
  {
   "cell_type": "code",
   "execution_count": 12,
   "id": "c5a76484-8c1e-4a6f-aaae-14fe0eb101c4",
   "metadata": {},
   "outputs": [
    {
     "name": "stdout",
     "output_type": "stream",
     "text": [
      "count           4521\n",
      "unique            12\n",
      "top       management\n",
      "freq             969\n",
      "Name: job, dtype: object\n"
     ]
    }
   ],
   "source": [
    "print(bank['job'].describe())"
   ]
  },
  {
   "cell_type": "code",
   "execution_count": 13,
   "id": "dbb133d3-042e-4842-96f9-3c8e777e777d",
   "metadata": {},
   "outputs": [],
   "source": [
    "# define job indicator variables\n",
    "# We are going to create dummy variables for each of the job categories\n",
    "job_indicators = pd.get_dummies(bank['job'],prefix = 'job')"
   ]
  },
  {
   "cell_type": "code",
   "execution_count": 14,
   "id": "cf6c77b2-7962-41c1-949e-692dab6cdc3d",
   "metadata": {},
   "outputs": [
    {
     "name": "stdout",
     "output_type": "stream",
     "text": [
      "   job_admin.  job_blue-collar  job_entrepreneur  job_housemaid  \\\n",
      "0           0                0                 0              0   \n",
      "1           0                0                 0              0   \n",
      "2           0                0                 0              0   \n",
      "3           0                0                 0              0   \n",
      "4           0                1                 0              0   \n",
      "\n",
      "   job_management  job_retired  job_self-employed  job_services  job_student  \\\n",
      "0               0            0                  0             0            0   \n",
      "1               0            0                  0             1            0   \n",
      "2               1            0                  0             0            0   \n",
      "3               1            0                  0             0            0   \n",
      "4               0            0                  0             0            0   \n",
      "\n",
      "   job_technician  job_unemployed  job_unknown  \n",
      "0               0               1            0  \n",
      "1               0               0            0  \n",
      "2               0               0            0  \n",
      "3               0               0            0  \n",
      "4               0               0            0  \n"
     ]
    }
   ],
   "source": [
    "# The join() method takes all items in an iterable and joins them into one string. \n",
    "print(job_indicators.head())"
   ]
  },
  {
   "cell_type": "code",
   "execution_count": 15,
   "id": "7eb25680-0e86-4124-811e-7c26b7856d34",
   "metadata": {},
   "outputs": [],
   "source": [
    "bank = bank.join(job_indicators)\n",
    "bank['whitecollar'] = bank['job_admin.'] + bank['job_management'] + \\\n",
    "bank['job_entrepreneur'] + bank['job_self-employed']\n",
    "bank['bluecollar'] = bank['job_blue-collar'] + bank['job_services'] + \\\n",
    "bank['job_technician'] + bank['job_housemaid']"
   ]
  },
  {
   "cell_type": "markdown",
   "id": "17bd0dec-5a4b-464f-ac7b-88061c45d185",
   "metadata": {},
   "source": [
    "## Examine the demographic variable marital"
   ]
  },
  {
   "cell_type": "code",
   "execution_count": 16,
   "id": "9ed10d84-0257-4e90-9c75-95882445645a",
   "metadata": {},
   "outputs": [
    {
     "name": "stdout",
     "output_type": "stream",
     "text": [
      "['married' 'single' 'divorced']\n"
     ]
    }
   ],
   "source": [
    "print(bank['marital'].unique())"
   ]
  },
  {
   "cell_type": "code",
   "execution_count": 17,
   "id": "86c71132-70c7-46a5-8bb1-fe9f21d2d308",
   "metadata": {},
   "outputs": [
    {
     "name": "stdout",
     "output_type": "stream",
     "text": [
      "married     2797\n",
      "single      1196\n",
      "divorced     528\n",
      "Name: marital, dtype: int64\n"
     ]
    }
   ],
   "source": [
    "print(bank['marital'].value_counts(sort =True))"
   ]
  },
  {
   "cell_type": "code",
   "execution_count": 18,
   "id": "ebe00a84-34d5-47e2-9e17-5765c1f49dda",
   "metadata": {},
   "outputs": [
    {
     "name": "stdout",
     "output_type": "stream",
     "text": [
      "count        4521\n",
      "unique          3\n",
      "top       married\n",
      "freq         2797\n",
      "Name: marital, dtype: object\n"
     ]
    }
   ],
   "source": [
    "print(bank['marital'].describe())"
   ]
  },
  {
   "cell_type": "code",
   "execution_count": 19,
   "id": "aeb86e34-1c9e-4fae-8af2-66cfc75a4c17",
   "metadata": {},
   "outputs": [
    {
     "name": "stdout",
     "output_type": "stream",
     "text": [
      "   marital_divorced  marital_married  marital_single\n",
      "0                 0                1               0\n",
      "1                 0                1               0\n",
      "2                 0                0               1\n",
      "3                 0                1               0\n",
      "4                 0                1               0\n"
     ]
    }
   ],
   "source": [
    "# define marital indicator variables\n",
    "marital_indicators = pd.get_dummies(bank['marital'], prefix ='marital')\n",
    "print(marital_indicators.head())"
   ]
  },
  {
   "cell_type": "code",
   "execution_count": 20,
   "id": "41db659e-f707-45ec-a37a-43b8c91cc4df",
   "metadata": {},
   "outputs": [],
   "source": [
    "bank = bank.join(marital_indicators)"
   ]
  },
  {
   "cell_type": "code",
   "execution_count": 21,
   "id": "e4abc1db-9e85-40f8-9dc3-990565b8e5bc",
   "metadata": {},
   "outputs": [],
   "source": [
    "bank['divorced'] = bank['marital_divorced']"
   ]
  },
  {
   "cell_type": "code",
   "execution_count": 22,
   "id": "f5528be8-24e1-4621-9f76-b475ae979cc0",
   "metadata": {},
   "outputs": [],
   "source": [
    "bank['married'] = bank['marital_married']"
   ]
  },
  {
   "cell_type": "markdown",
   "id": "8c93927a-7e9e-4c77-835d-607cb2a7a7d5",
   "metadata": {},
   "source": [
    "## Examine the demographic variable education"
   ]
  },
  {
   "cell_type": "code",
   "execution_count": 23,
   "id": "f498cbf7-f6c0-4545-957b-fadf411dd570",
   "metadata": {},
   "outputs": [
    {
     "name": "stdout",
     "output_type": "stream",
     "text": [
      "['primary' 'secondary' 'tertiary' 'unknown']\n"
     ]
    }
   ],
   "source": [
    "print(bank['education'].unique())"
   ]
  },
  {
   "cell_type": "code",
   "execution_count": 24,
   "id": "ee5664ea-e433-4df2-9bb8-4c184b244d08",
   "metadata": {},
   "outputs": [
    {
     "name": "stdout",
     "output_type": "stream",
     "text": [
      "secondary    2306\n",
      "tertiary     1350\n",
      "primary       678\n",
      "unknown       187\n",
      "Name: education, dtype: int64\n"
     ]
    }
   ],
   "source": [
    "print(bank['education'].value_counts(sort =True))"
   ]
  },
  {
   "cell_type": "code",
   "execution_count": 25,
   "id": "9a2642b1-c687-49c8-88a0-079ab1a90c0a",
   "metadata": {},
   "outputs": [
    {
     "name": "stdout",
     "output_type": "stream",
     "text": [
      "count          4521\n",
      "unique            4\n",
      "top       secondary\n",
      "freq           2306\n",
      "Name: education, dtype: object\n"
     ]
    }
   ],
   "source": [
    "print(bank['education'].describe())"
   ]
  },
  {
   "cell_type": "code",
   "execution_count": 26,
   "id": "a0e25ab0-26ac-4694-99d6-b1ab1ad85daf",
   "metadata": {},
   "outputs": [],
   "source": [
    "# define education indicator variables\n",
    "education_indicators = pd.get_dummies(bank['education'], prefix ='education')"
   ]
  },
  {
   "cell_type": "code",
   "execution_count": 27,
   "id": "28f6dfe4-1aea-4ae0-99d6-f641d3e38cd1",
   "metadata": {},
   "outputs": [
    {
     "name": "stdout",
     "output_type": "stream",
     "text": [
      "   education_primary  education_secondary  education_tertiary  \\\n",
      "0                  1                    0                   0   \n",
      "1                  0                    1                   0   \n",
      "2                  0                    0                   1   \n",
      "3                  0                    0                   1   \n",
      "4                  0                    1                   0   \n",
      "\n",
      "   education_unknown  \n",
      "0                  0  \n",
      "1                  0  \n",
      "2                  0  \n",
      "3                  0  \n",
      "4                  0  \n"
     ]
    }
   ],
   "source": [
    "print(education_indicators.head())"
   ]
  },
  {
   "cell_type": "code",
   "execution_count": 28,
   "id": "51ac6465-4973-4a73-bd28-4ab96889ff9a",
   "metadata": {},
   "outputs": [],
   "source": [
    "bank = bank.join(education_indicators)"
   ]
  },
  {
   "cell_type": "code",
   "execution_count": 29,
   "id": "b4470fde-acc9-4ca9-a8c7-2f5a169e53cf",
   "metadata": {},
   "outputs": [],
   "source": [
    "bank['primary'] = bank['education_primary']"
   ]
  },
  {
   "cell_type": "code",
   "execution_count": 30,
   "id": "f6dc4659-9749-4d1e-8223-62f41356ee5b",
   "metadata": {},
   "outputs": [],
   "source": [
    "bank['secondary'] = bank['education_secondary']"
   ]
  },
  {
   "cell_type": "code",
   "execution_count": 31,
   "id": "e0eb3d36-faa3-490d-a180-54a13771dd4f",
   "metadata": {},
   "outputs": [],
   "source": [
    "bank['tertiary'] = bank['education_tertiary']"
   ]
  },
  {
   "cell_type": "markdown",
   "id": "a9268d82-0b7b-4f99-9439-2e662b6b74c8",
   "metadata": {},
   "source": [
    "### Select/filter for cases never previously contacted by sales"
   ]
  },
  {
   "cell_type": "code",
   "execution_count": 32,
   "id": "d66fbe6d-2198-4b0c-be62-cbb853b50aa6",
   "metadata": {},
   "outputs": [
    {
     "name": "stdout",
     "output_type": "stream",
     "text": [
      "(3705, 43)\n"
     ]
    }
   ],
   "source": [
    "bank_selected = bank[bank['previous'] == 0]\n",
    "print(bank_selected.shape)"
   ]
  },
  {
   "cell_type": "code",
   "execution_count": 33,
   "id": "3b0862ec-68b8-4d63-8937-7c18122e8f24",
   "metadata": {},
   "outputs": [],
   "source": [
    "# select subset of variables needed for cluster analysis and post-analysis\n",
    "bankfull = pd.DataFrame(bank_selected, \\\n",
    "columns = ['response', 'age', 'whitecollar', 'bluecollar', 'divorced', 'married', 'primary', 'secondary', 'tertiary'])\n"
   ]
  },
  {
   "cell_type": "markdown",
   "id": "0b817224-d8fa-41dd-83c6-6e6f7bb1e12b",
   "metadata": {},
   "source": [
    "## Examine the structure of the full bank DataFrame"
   ]
  },
  {
   "cell_type": "code",
   "execution_count": 34,
   "id": "6efbaa19-e74d-44f0-a14f-f531b9c4c5c6",
   "metadata": {},
   "outputs": [
    {
     "name": "stdout",
     "output_type": "stream",
     "text": [
      "<bound method NDFrame.head of      response  age  whitecollar  bluecollar  divorced  married  primary  \\\n",
      "0          no   30            0           0         0        1        1   \n",
      "3          no   30            1           0         0        1        0   \n",
      "4          no   59            0           1         0        1        0   \n",
      "7          no   39            0           1         0        1        0   \n",
      "8          no   41            1           0         0        1        0   \n",
      "...       ...  ...          ...         ...       ...      ...      ...   \n",
      "4513       no   49            0           1         0        1        0   \n",
      "4515       no   32            0           1         0        0        0   \n",
      "4516       no   33            0           1         0        1        0   \n",
      "4517       no   57            1           0         0        1        0   \n",
      "4518       no   57            0           1         0        1        0   \n",
      "\n",
      "      secondary  tertiary  \n",
      "0             0         0  \n",
      "3             0         1  \n",
      "4             1         0  \n",
      "7             1         0  \n",
      "8             0         1  \n",
      "...         ...       ...  \n",
      "4513          1         0  \n",
      "4515          1         0  \n",
      "4516          1         0  \n",
      "4517          0         1  \n",
      "4518          1         0  \n",
      "\n",
      "[3705 rows x 9 columns]>\n"
     ]
    }
   ],
   "source": [
    "# check the structure of the data frame\n",
    "print(bankfull.head) "
   ]
  },
  {
   "cell_type": "code",
   "execution_count": 35,
   "id": "21b1cbff-da53-43a5-8265-309803ae470c",
   "metadata": {},
   "outputs": [
    {
     "name": "stdout",
     "output_type": "stream",
     "text": [
      "(3705, 9)\n"
     ]
    }
   ],
   "source": [
    "print(bankfull.shape)"
   ]
  },
  {
   "cell_type": "code",
   "execution_count": 36,
   "id": "64392645-356d-4f4c-be74-c53292418fd8",
   "metadata": {},
   "outputs": [
    {
     "data": {
      "text/plain": [
       "['response',\n",
       " 'age',\n",
       " 'whitecollar',\n",
       " 'bluecollar',\n",
       " 'divorced',\n",
       " 'married',\n",
       " 'primary',\n",
       " 'secondary',\n",
       " 'tertiary']"
      ]
     },
     "execution_count": 36,
     "metadata": {},
     "output_type": "execute_result"
    }
   ],
   "source": [
    "# look at the list of column names\n",
    "list(bankfull.columns.values)"
   ]
  },
  {
   "cell_type": "markdown",
   "id": "74083d10-6e56-4398-ba2e-67c7988e75d4",
   "metadata": {},
   "source": [
    "### Select subset of variables for input to cluster analysis"
   ]
  },
  {
   "cell_type": "code",
   "execution_count": 37,
   "id": "d14f2c75-e6d8-473b-9b74-f163f3ece306",
   "metadata": {},
   "outputs": [],
   "source": [
    "data_for_clustering = pd.DataFrame(bank_selected, \\\n",
    "    columns = ['age', 'whitecollar', 'bluecollar', \n",
    "               'divorced', 'married',\n",
    "               'primary', 'secondary', 'tertiary'])"
   ]
  },
  {
   "cell_type": "code",
   "execution_count": 58,
   "id": "7a39c4a1-d3a0-4eee-9932-fd83be2a0aac",
   "metadata": {},
   "outputs": [],
   "source": [
    "# convert to matrix/numpy array for input to cluster analysis\n",
    "data_for_clustering_matrix = data_for_clustering.to_numpy()  "
   ]
  },
  {
   "cell_type": "code",
   "execution_count": 42,
   "id": "f4da4fc0-8793-4461-b8b7-72990224dda8",
   "metadata": {
    "tags": []
   },
   "outputs": [],
   "source": [
    "# investigate alternative numbers of clusters using silhouette score\n",
    "silhouette_value = []\n",
    "k = range(2,21) # look at solutions between 2 and 20 clusters\n",
    "for i in k:\n",
    "    clustering_method = KMeans(n_clusters = i, random_state = 9999)\n",
    "    clustering_method.fit(data_for_clustering_matrix)\n",
    "    labels = clustering_method.predict(data_for_clustering_matrix)\n",
    "    silhouette_average = silhouette_score(data_for_clustering_matrix, labels)\n",
    "    silhouette_value.append(silhouette_average) "
   ]
  },
  {
   "cell_type": "code",
   "execution_count": 61,
   "id": "91e1847e-c10a-4f0e-9dd9-70c3ff02dcba",
   "metadata": {
    "collapsed": true,
    "jupyter": {
     "outputs_hidden": true
    },
    "tags": []
   },
   "outputs": [
    {
     "data": {
      "text/plain": [
       "[0.6011924225417763,\n",
       " 0.5293644780516247,\n",
       " 0.4721454005981507,\n",
       " 0.47630673209859026,\n",
       " 0.4637691472263642,\n",
       " 0.4433624177819202,\n",
       " 0.42318214126648984,\n",
       " 0.39121656928300874,\n",
       " 0.39696312142328394,\n",
       " 0.3735895891878165,\n",
       " 0.34632698130483974,\n",
       " 0.33398645421752704,\n",
       " 0.32482089108318324,\n",
       " 0.30533733718005374,\n",
       " 0.31145696123345357,\n",
       " 0.30774354972695944,\n",
       " 0.2731881494085734,\n",
       " 0.25536682931153093,\n",
       " 0.2779749045680289]"
      ]
     },
     "execution_count": 61,
     "metadata": {},
     "output_type": "execute_result"
    }
   ],
   "source": [
    "silhouette_value"
   ]
  },
  {
   "cell_type": "code",
   "execution_count": 43,
   "id": "c6e5a8da-afd5-4bc3-9859-8f2f735a8fff",
   "metadata": {},
   "outputs": [],
   "source": [
    "# highest silhouette score is for two clusters... use that solution here\n",
    "clustering_method = KMeans(n_clusters = 2, random_state = 9999)\n",
    "clustering_method.fit(data_for_clustering_matrix)\n",
    "labels =clustering_method.predict(data_for_clustering_matrix)"
   ]
  },
  {
   "cell_type": "code",
   "execution_count": 44,
   "id": "d937a7fd-d15d-4ca5-8895-d413514b5c3c",
   "metadata": {},
   "outputs": [],
   "source": [
    "# add cluster labels to bankfull and review the solution \n",
    "bankfull['cluster'] = labels"
   ]
  },
  {
   "cell_type": "code",
   "execution_count": 62,
   "id": "fb7666cf-f9b9-4466-b9f9-ee6229dcf7d1",
   "metadata": {
    "collapsed": true,
    "jupyter": {
     "outputs_hidden": true
    },
    "tags": []
   },
   "outputs": [
    {
     "data": {
      "text/html": [
       "<div>\n",
       "<style scoped>\n",
       "    .dataframe tbody tr th:only-of-type {\n",
       "        vertical-align: middle;\n",
       "    }\n",
       "\n",
       "    .dataframe tbody tr th {\n",
       "        vertical-align: top;\n",
       "    }\n",
       "\n",
       "    .dataframe thead th {\n",
       "        text-align: right;\n",
       "    }\n",
       "</style>\n",
       "<table border=\"1\" class=\"dataframe\">\n",
       "  <thead>\n",
       "    <tr style=\"text-align: right;\">\n",
       "      <th></th>\n",
       "      <th>response</th>\n",
       "      <th>age</th>\n",
       "      <th>whitecollar</th>\n",
       "      <th>bluecollar</th>\n",
       "      <th>divorced</th>\n",
       "      <th>married</th>\n",
       "      <th>primary</th>\n",
       "      <th>secondary</th>\n",
       "      <th>tertiary</th>\n",
       "      <th>cluster</th>\n",
       "    </tr>\n",
       "  </thead>\n",
       "  <tbody>\n",
       "    <tr>\n",
       "      <th>0</th>\n",
       "      <td>no</td>\n",
       "      <td>30</td>\n",
       "      <td>0</td>\n",
       "      <td>0</td>\n",
       "      <td>0</td>\n",
       "      <td>1</td>\n",
       "      <td>1</td>\n",
       "      <td>0</td>\n",
       "      <td>0</td>\n",
       "      <td>0</td>\n",
       "    </tr>\n",
       "    <tr>\n",
       "      <th>3</th>\n",
       "      <td>no</td>\n",
       "      <td>30</td>\n",
       "      <td>1</td>\n",
       "      <td>0</td>\n",
       "      <td>0</td>\n",
       "      <td>1</td>\n",
       "      <td>0</td>\n",
       "      <td>0</td>\n",
       "      <td>1</td>\n",
       "      <td>0</td>\n",
       "    </tr>\n",
       "    <tr>\n",
       "      <th>4</th>\n",
       "      <td>no</td>\n",
       "      <td>59</td>\n",
       "      <td>0</td>\n",
       "      <td>1</td>\n",
       "      <td>0</td>\n",
       "      <td>1</td>\n",
       "      <td>0</td>\n",
       "      <td>1</td>\n",
       "      <td>0</td>\n",
       "      <td>1</td>\n",
       "    </tr>\n",
       "    <tr>\n",
       "      <th>7</th>\n",
       "      <td>no</td>\n",
       "      <td>39</td>\n",
       "      <td>0</td>\n",
       "      <td>1</td>\n",
       "      <td>0</td>\n",
       "      <td>1</td>\n",
       "      <td>0</td>\n",
       "      <td>1</td>\n",
       "      <td>0</td>\n",
       "      <td>0</td>\n",
       "    </tr>\n",
       "    <tr>\n",
       "      <th>8</th>\n",
       "      <td>no</td>\n",
       "      <td>41</td>\n",
       "      <td>1</td>\n",
       "      <td>0</td>\n",
       "      <td>0</td>\n",
       "      <td>1</td>\n",
       "      <td>0</td>\n",
       "      <td>0</td>\n",
       "      <td>1</td>\n",
       "      <td>0</td>\n",
       "    </tr>\n",
       "    <tr>\n",
       "      <th>...</th>\n",
       "      <td>...</td>\n",
       "      <td>...</td>\n",
       "      <td>...</td>\n",
       "      <td>...</td>\n",
       "      <td>...</td>\n",
       "      <td>...</td>\n",
       "      <td>...</td>\n",
       "      <td>...</td>\n",
       "      <td>...</td>\n",
       "      <td>...</td>\n",
       "    </tr>\n",
       "    <tr>\n",
       "      <th>4513</th>\n",
       "      <td>no</td>\n",
       "      <td>49</td>\n",
       "      <td>0</td>\n",
       "      <td>1</td>\n",
       "      <td>0</td>\n",
       "      <td>1</td>\n",
       "      <td>0</td>\n",
       "      <td>1</td>\n",
       "      <td>0</td>\n",
       "      <td>1</td>\n",
       "    </tr>\n",
       "    <tr>\n",
       "      <th>4515</th>\n",
       "      <td>no</td>\n",
       "      <td>32</td>\n",
       "      <td>0</td>\n",
       "      <td>1</td>\n",
       "      <td>0</td>\n",
       "      <td>0</td>\n",
       "      <td>0</td>\n",
       "      <td>1</td>\n",
       "      <td>0</td>\n",
       "      <td>0</td>\n",
       "    </tr>\n",
       "    <tr>\n",
       "      <th>4516</th>\n",
       "      <td>no</td>\n",
       "      <td>33</td>\n",
       "      <td>0</td>\n",
       "      <td>1</td>\n",
       "      <td>0</td>\n",
       "      <td>1</td>\n",
       "      <td>0</td>\n",
       "      <td>1</td>\n",
       "      <td>0</td>\n",
       "      <td>0</td>\n",
       "    </tr>\n",
       "    <tr>\n",
       "      <th>4517</th>\n",
       "      <td>no</td>\n",
       "      <td>57</td>\n",
       "      <td>1</td>\n",
       "      <td>0</td>\n",
       "      <td>0</td>\n",
       "      <td>1</td>\n",
       "      <td>0</td>\n",
       "      <td>0</td>\n",
       "      <td>1</td>\n",
       "      <td>1</td>\n",
       "    </tr>\n",
       "    <tr>\n",
       "      <th>4518</th>\n",
       "      <td>no</td>\n",
       "      <td>57</td>\n",
       "      <td>0</td>\n",
       "      <td>1</td>\n",
       "      <td>0</td>\n",
       "      <td>1</td>\n",
       "      <td>0</td>\n",
       "      <td>1</td>\n",
       "      <td>0</td>\n",
       "      <td>1</td>\n",
       "    </tr>\n",
       "  </tbody>\n",
       "</table>\n",
       "<p>3705 rows × 10 columns</p>\n",
       "</div>"
      ],
      "text/plain": [
       "     response  age  whitecollar  bluecollar  divorced  married  primary  \\\n",
       "0          no   30            0           0         0        1        1   \n",
       "3          no   30            1           0         0        1        0   \n",
       "4          no   59            0           1         0        1        0   \n",
       "7          no   39            0           1         0        1        0   \n",
       "8          no   41            1           0         0        1        0   \n",
       "...       ...  ...          ...         ...       ...      ...      ...   \n",
       "4513       no   49            0           1         0        1        0   \n",
       "4515       no   32            0           1         0        0        0   \n",
       "4516       no   33            0           1         0        1        0   \n",
       "4517       no   57            1           0         0        1        0   \n",
       "4518       no   57            0           1         0        1        0   \n",
       "\n",
       "      secondary  tertiary  cluster  \n",
       "0             0         0        0  \n",
       "3             0         1        0  \n",
       "4             1         0        1  \n",
       "7             1         0        0  \n",
       "8             0         1        0  \n",
       "...         ...       ...      ...  \n",
       "4513          1         0        1  \n",
       "4515          1         0        0  \n",
       "4516          1         0        0  \n",
       "4517          0         1        1  \n",
       "4518          1         0        1  \n",
       "\n",
       "[3705 rows x 10 columns]"
      ]
     },
     "execution_count": 62,
     "metadata": {},
     "output_type": "execute_result"
    }
   ],
   "source": [
    "bankfull"
   ]
  },
  {
   "cell_type": "code",
   "execution_count": 53,
   "id": "d3a0191d-56b3-4d77-b765-336dbf6442c1",
   "metadata": {},
   "outputs": [
    {
     "data": {
      "text/html": [
       "<div>\n",
       "<style scoped>\n",
       "    .dataframe tbody tr th:only-of-type {\n",
       "        vertical-align: middle;\n",
       "    }\n",
       "\n",
       "    .dataframe tbody tr th {\n",
       "        vertical-align: top;\n",
       "    }\n",
       "\n",
       "    .dataframe thead th {\n",
       "        text-align: right;\n",
       "    }\n",
       "</style>\n",
       "<table border=\"1\" class=\"dataframe\">\n",
       "  <thead>\n",
       "    <tr style=\"text-align: right;\">\n",
       "      <th>bluecollar</th>\n",
       "      <th>0</th>\n",
       "      <th>1</th>\n",
       "      <th>All</th>\n",
       "    </tr>\n",
       "    <tr>\n",
       "      <th>cluster</th>\n",
       "      <th></th>\n",
       "      <th></th>\n",
       "      <th></th>\n",
       "    </tr>\n",
       "  </thead>\n",
       "  <tbody>\n",
       "    <tr>\n",
       "      <th>0</th>\n",
       "      <td>1079</td>\n",
       "      <td>1224</td>\n",
       "      <td>2303</td>\n",
       "    </tr>\n",
       "    <tr>\n",
       "      <th>1</th>\n",
       "      <td>756</td>\n",
       "      <td>646</td>\n",
       "      <td>1402</td>\n",
       "    </tr>\n",
       "    <tr>\n",
       "      <th>All</th>\n",
       "      <td>1835</td>\n",
       "      <td>1870</td>\n",
       "      <td>3705</td>\n",
       "    </tr>\n",
       "  </tbody>\n",
       "</table>\n",
       "</div>"
      ],
      "text/plain": [
       "bluecollar     0     1   All\n",
       "cluster                     \n",
       "0           1079  1224  2303\n",
       "1            756   646  1402\n",
       "All         1835  1870  3705"
      ]
     },
     "execution_count": 53,
     "metadata": {},
     "output_type": "execute_result"
    }
   ],
   "source": [
    "# pivot table and cross-tabulation examples\n",
    "bankfull.pivot_table(columns = ['cluster'])  \n",
    "pd.crosstab(bankfull.cluster, bankfull.bluecollar, margins = True)"
   ]
  },
  {
   "cell_type": "code",
   "execution_count": 54,
   "id": "cc5f5419-c307-4cd6-bf0b-cb5328e79032",
   "metadata": {},
   "outputs": [
    {
     "data": {
      "text/html": [
       "<div>\n",
       "<style scoped>\n",
       "    .dataframe tbody tr th:only-of-type {\n",
       "        vertical-align: middle;\n",
       "    }\n",
       "\n",
       "    .dataframe tbody tr th {\n",
       "        vertical-align: top;\n",
       "    }\n",
       "\n",
       "    .dataframe thead tr th {\n",
       "        text-align: left;\n",
       "    }\n",
       "\n",
       "    .dataframe thead tr:last-of-type th {\n",
       "        text-align: right;\n",
       "    }\n",
       "</style>\n",
       "<table border=\"1\" class=\"dataframe\">\n",
       "  <thead>\n",
       "    <tr>\n",
       "      <th></th>\n",
       "      <th colspan=\"8\" halign=\"left\">age</th>\n",
       "      <th colspan=\"2\" halign=\"left\">whitecollar</th>\n",
       "      <th>...</th>\n",
       "      <th colspan=\"2\" halign=\"left\">secondary</th>\n",
       "      <th colspan=\"8\" halign=\"left\">tertiary</th>\n",
       "    </tr>\n",
       "    <tr>\n",
       "      <th></th>\n",
       "      <th>count</th>\n",
       "      <th>mean</th>\n",
       "      <th>std</th>\n",
       "      <th>min</th>\n",
       "      <th>25%</th>\n",
       "      <th>50%</th>\n",
       "      <th>75%</th>\n",
       "      <th>max</th>\n",
       "      <th>count</th>\n",
       "      <th>mean</th>\n",
       "      <th>...</th>\n",
       "      <th>75%</th>\n",
       "      <th>max</th>\n",
       "      <th>count</th>\n",
       "      <th>mean</th>\n",
       "      <th>std</th>\n",
       "      <th>min</th>\n",
       "      <th>25%</th>\n",
       "      <th>50%</th>\n",
       "      <th>75%</th>\n",
       "      <th>max</th>\n",
       "    </tr>\n",
       "    <tr>\n",
       "      <th>cluster</th>\n",
       "      <th></th>\n",
       "      <th></th>\n",
       "      <th></th>\n",
       "      <th></th>\n",
       "      <th></th>\n",
       "      <th></th>\n",
       "      <th></th>\n",
       "      <th></th>\n",
       "      <th></th>\n",
       "      <th></th>\n",
       "      <th></th>\n",
       "      <th></th>\n",
       "      <th></th>\n",
       "      <th></th>\n",
       "      <th></th>\n",
       "      <th></th>\n",
       "      <th></th>\n",
       "      <th></th>\n",
       "      <th></th>\n",
       "      <th></th>\n",
       "      <th></th>\n",
       "    </tr>\n",
       "  </thead>\n",
       "  <tbody>\n",
       "    <tr>\n",
       "      <th>0</th>\n",
       "      <td>2303.0</td>\n",
       "      <td>34.293964</td>\n",
       "      <td>5.064226</td>\n",
       "      <td>19.0</td>\n",
       "      <td>31.0</td>\n",
       "      <td>34.0</td>\n",
       "      <td>38.0</td>\n",
       "      <td>43.0</td>\n",
       "      <td>2303.0</td>\n",
       "      <td>0.405992</td>\n",
       "      <td>...</td>\n",
       "      <td>1.0</td>\n",
       "      <td>1.0</td>\n",
       "      <td>2303.0</td>\n",
       "      <td>0.327833</td>\n",
       "      <td>0.469526</td>\n",
       "      <td>0.0</td>\n",
       "      <td>0.0</td>\n",
       "      <td>0.0</td>\n",
       "      <td>1.0</td>\n",
       "      <td>1.0</td>\n",
       "    </tr>\n",
       "    <tr>\n",
       "      <th>1</th>\n",
       "      <td>1402.0</td>\n",
       "      <td>52.236805</td>\n",
       "      <td>6.489732</td>\n",
       "      <td>44.0</td>\n",
       "      <td>47.0</td>\n",
       "      <td>51.0</td>\n",
       "      <td>56.0</td>\n",
       "      <td>87.0</td>\n",
       "      <td>1402.0</td>\n",
       "      <td>0.369472</td>\n",
       "      <td>...</td>\n",
       "      <td>1.0</td>\n",
       "      <td>1.0</td>\n",
       "      <td>1402.0</td>\n",
       "      <td>0.234665</td>\n",
       "      <td>0.423940</td>\n",
       "      <td>0.0</td>\n",
       "      <td>0.0</td>\n",
       "      <td>0.0</td>\n",
       "      <td>0.0</td>\n",
       "      <td>1.0</td>\n",
       "    </tr>\n",
       "  </tbody>\n",
       "</table>\n",
       "<p>2 rows × 64 columns</p>\n",
       "</div>"
      ],
      "text/plain": [
       "            age                                                     \\\n",
       "          count       mean       std   min   25%   50%   75%   max   \n",
       "cluster                                                              \n",
       "0        2303.0  34.293964  5.064226  19.0  31.0  34.0  38.0  43.0   \n",
       "1        1402.0  52.236805  6.489732  44.0  47.0  51.0  56.0  87.0   \n",
       "\n",
       "        whitecollar            ... secondary      tertiary            \\\n",
       "              count      mean  ...       75%  max    count      mean   \n",
       "cluster                        ...                                     \n",
       "0            2303.0  0.405992  ...       1.0  1.0   2303.0  0.327833   \n",
       "1            1402.0  0.369472  ...       1.0  1.0   1402.0  0.234665   \n",
       "\n",
       "                                            \n",
       "              std  min  25%  50%  75%  max  \n",
       "cluster                                     \n",
       "0        0.469526  0.0  0.0  0.0  1.0  1.0  \n",
       "1        0.423940  0.0  0.0  0.0  0.0  1.0  \n",
       "\n",
       "[2 rows x 64 columns]"
      ]
     },
     "execution_count": 54,
     "metadata": {},
     "output_type": "execute_result"
    }
   ],
   "source": [
    "# groupby example\n",
    "segments = bankfull.groupby('cluster')\n",
    "segments.describe()"
   ]
  },
  {
   "cell_type": "code",
   "execution_count": null,
   "id": "4190ca1d-f01e-4563-b23d-3ff21db26901",
   "metadata": {},
   "outputs": [],
   "source": []
  }
 ],
 "metadata": {
  "kernelspec": {
   "display_name": "Python 3",
   "language": "python",
   "name": "python3"
  },
  "language_info": {
   "codemirror_mode": {
    "name": "ipython",
    "version": 3
   },
   "file_extension": ".py",
   "mimetype": "text/x-python",
   "name": "python",
   "nbconvert_exporter": "python",
   "pygments_lexer": "ipython3",
   "version": "3.8.8"
  }
 },
 "nbformat": 4,
 "nbformat_minor": 5
}
