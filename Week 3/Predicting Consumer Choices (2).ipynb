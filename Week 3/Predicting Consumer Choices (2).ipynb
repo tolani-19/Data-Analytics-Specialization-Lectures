{
 "cells": [
  {
   "cell_type": "markdown",
   "id": "dfcca67d-70a3-40a4-968b-9c5dd693387b",
   "metadata": {},
   "source": [
    "# Traditional Conjoint Analysis (Python)"
   ]
  },
  {
   "cell_type": "code",
   "execution_count": 1,
   "id": "5c360d64-693e-4e24-89b2-30404d8aa2c7",
   "metadata": {},
   "outputs": [],
   "source": [
    "#prepare for Python version 3x features and functions\n",
    "from __future__ import division,print_function"
   ]
  },
  {
   "cell_type": "code",
   "execution_count": 2,
   "id": "e2c560bf-ab90-4bd3-95f1-e18dec352bf9",
   "metadata": {},
   "outputs": [],
   "source": [
    "# import packages for analysis and modeling\n",
    "import pandas as pd \n",
    "\n",
    "# data frame operations\n",
    "import numpy as np \n",
    "\n",
    "# arrays and math functions\n",
    "\n",
    "import statsmodels.api as sm \n",
    "\n",
    "# statistical models(including regression)\n",
    "import statsmodels.formula.api as smf \n",
    "\n",
    "# Rlike model specification\n",
    "from patsy.contrasts import Sum"
   ]
  },
  {
   "cell_type": "code",
   "execution_count": 3,
   "id": "f2ccb24b-6824-47cf-b7d9-4a25581d7f51",
   "metadata": {},
   "outputs": [],
   "source": [
    "# read in conjoint survey profiles with respondent ranks\n",
    "conjoint_data_frame = pd.read_csv(r\"C:\\Users\\Zachary_B\\Desktop\\dataset\\mobile_services_ranking.csv\")"
   ]
  },
  {
   "cell_type": "code",
   "execution_count": 8,
   "id": "fca9e923-6b0e-407d-9b14-f9a662b63e43",
   "metadata": {},
   "outputs": [],
   "source": [
    "# set up sum contrasts for effects coding as needed for conjoint analysis\n",
    "# using C(effect, Sum) notation within maineffects model specification\n",
    "main_effects_model = r\"ranking ~ C(brand, Sum)+ C(startup, Sum) + C(monthly, Sum) + C(service, Sum) + C(retail, Sum) + C(apple, Sum) + C(samsung, Sum) + C(google, Sum)\""
   ]
  },
  {
   "cell_type": "code",
   "execution_count": 9,
   "id": "af2f446e-b417-40ed-bd4d-23c1616beb1a",
   "metadata": {},
   "outputs": [
    {
     "name": "stdout",
     "output_type": "stream",
     "text": [
      "                            OLS Regression Results                            \n",
      "==============================================================================\n",
      "Dep. Variable:                ranking   R-squared:                       0.999\n",
      "Model:                            OLS   Adj. R-squared:                  0.989\n",
      "Method:                 Least Squares   F-statistic:                     97.07\n",
      "Date:                Mon, 15 Aug 2022   Prob (F-statistic):             0.0794\n",
      "Time:                        13:28:08   Log-Likelihood:                 10.568\n",
      "No. Observations:                  16   AIC:                             8.864\n",
      "Df Residuals:                       1   BIC:                             20.45\n",
      "Df Model:                          14                                         \n",
      "Covariance Type:            nonrobust                                         \n",
      "===================================================================================================\n",
      "                                      coef    std err          t      P>|t|      [0.025      0.975]\n",
      "---------------------------------------------------------------------------------------------------\n",
      "Intercept                           8.5000      0.125     68.000      0.009       6.912      10.088\n",
      "C(brand, Sum)[S.\"AT&T\"]          8.882e-15      0.217    4.1e-14      1.000      -2.751       2.751\n",
      "C(brand, Sum)[S.\"T-Mobile\"]        -0.2500      0.217     -1.155      0.454      -3.001       2.501\n",
      "C(brand, Sum)[S.\"US Cellular\"]   5.329e-15      0.217   2.46e-14      1.000      -2.751       2.751\n",
      "C(startup, Sum)[S.\"$100\"]           0.7500      0.217      3.464      0.179      -2.001       3.501\n",
      "C(startup, Sum)[S.\"$200\"]        1.332e-14      0.217   6.15e-14      1.000      -2.751       2.751\n",
      "C(startup, Sum)[S.\"$300\"]       -2.842e-14      0.217  -1.31e-13      1.000      -2.751       2.751\n",
      "C(monthly, Sum)[S.\"$100\"]           5.0000      0.217     23.094      0.028       2.249       7.751\n",
      "C(monthly, Sum)[S.\"$200\"]           2.0000      0.217      9.238      0.069      -0.751       4.751\n",
      "C(monthly, Sum)[S.\"$300\"]          -1.2500      0.217     -5.774      0.109      -4.001       1.501\n",
      "C(service, Sum)[S.\"4G NO\"]         -1.7500      0.125    -14.000      0.045      -3.338      -0.162\n",
      "C(retail, Sum)[S.\"Retail NO\"]       0.2500      0.125      2.000      0.295      -1.338       1.838\n",
      "C(apple, Sum)[S.\"Apple NO\"]         0.2500      0.125      2.000      0.295      -1.338       1.838\n",
      "C(samsung, Sum)[S.\"Samsung NO\"]    -1.1250      0.125     -9.000      0.070      -2.713       0.463\n",
      "C(google, Sum)[S.\"Nexus NO\"]       -0.7500      0.125     -6.000      0.105      -2.338       0.838\n",
      "==============================================================================\n",
      "Omnibus:                       30.796   Durbin-Watson:                   2.000\n",
      "Prob(Omnibus):                  0.000   Jarque-Bera (JB):                2.667\n",
      "Skew:                           0.000   Prob(JB):                        0.264\n",
      "Kurtosis:                       1.000   Cond. No.                         2.00\n",
      "==============================================================================\n",
      "\n",
      "Notes:\n",
      "[1] Standard Errors assume that the covariance matrix of the errors is correctly specified.\n"
     ]
    },
    {
     "name": "stderr",
     "output_type": "stream",
     "text": [
      "C:\\Users\\Zachary_B\\anaconda3\\lib\\site-packages\\scipy\\stats\\stats.py:1603: UserWarning: kurtosistest only valid for n>=20 ... continuing anyway, n=16\n",
      "  warnings.warn(\"kurtosistest only valid for n>=20 ... continuing \"\n"
     ]
    }
   ],
   "source": [
    "# fit linear regression model using main effects only (no interaction terms)\n",
    "main_effects_model_fit =     smf.ols(main_effects_model, data = conjoint_data_frame).fit()\n",
    "print(main_effects_model_fit.summary())"
   ]
  },
  {
   "cell_type": "code",
   "execution_count": null,
   "id": "91100bbe-14e9-434a-bb60-558f4045c892",
   "metadata": {},
   "outputs": [],
   "source": []
  },
  {
   "cell_type": "code",
   "execution_count": null,
   "id": "d8f815d8-3665-4b75-b6f9-94fa295c536a",
   "metadata": {},
   "outputs": [],
   "source": []
  }
 ],
 "metadata": {
  "kernelspec": {
   "display_name": "Python 3",
   "language": "python",
   "name": "python3"
  },
  "language_info": {
   "codemirror_mode": {
    "name": "ipython",
    "version": 3
   },
   "file_extension": ".py",
   "mimetype": "text/x-python",
   "name": "python",
   "nbconvert_exporter": "python",
   "pygments_lexer": "ipython3",
   "version": "3.8.8"
  }
 },
 "nbformat": 4,
 "nbformat_minor": 5
}
