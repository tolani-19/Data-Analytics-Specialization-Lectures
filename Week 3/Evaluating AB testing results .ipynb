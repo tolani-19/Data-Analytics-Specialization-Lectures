{
 "cells": [
  {
   "cell_type": "markdown",
   "id": "919064fd-9ba9-4e21-9de3-7e2a4fc99740",
   "metadata": {},
   "source": [
    "### AB TESTING FOR BETTER MARKETING STATEGY"
   ]
  },
  {
   "cell_type": "code",
   "execution_count": 16,
   "id": "d0bf0f54-96cb-495a-a0d5-931ef43ab9cb",
   "metadata": {},
   "outputs": [],
   "source": [
    "# import the necessay library\n",
    "import pandas as pd\n",
    "import matplotlib.pyplot as plt"
   ]
  },
  {
   "cell_type": "code",
   "execution_count": 17,
   "id": "24a7da13-65fe-465e-91bc-48f875f7a95a",
   "metadata": {},
   "outputs": [],
   "source": [
    "# load the dataset\n",
    "df = pd.read_csv(r\"C:\\Users\\User\\Desktop\\data_science bootcamp\\Marketing Analytics\\Datasets\\WA_Fn-UseC_-Marketing-Campaign-Eff-UseC_-FastF.csv\")"
   ]
  },
  {
   "cell_type": "code",
   "execution_count": 18,
   "id": "b4ac57d5-f6ab-477a-8742-1b06eaad6a20",
   "metadata": {},
   "outputs": [
    {
     "data": {
      "text/html": [
       "<div>\n",
       "<style scoped>\n",
       "    .dataframe tbody tr th:only-of-type {\n",
       "        vertical-align: middle;\n",
       "    }\n",
       "\n",
       "    .dataframe tbody tr th {\n",
       "        vertical-align: top;\n",
       "    }\n",
       "\n",
       "    .dataframe thead th {\n",
       "        text-align: right;\n",
       "    }\n",
       "</style>\n",
       "<table border=\"1\" class=\"dataframe\">\n",
       "  <thead>\n",
       "    <tr style=\"text-align: right;\">\n",
       "      <th></th>\n",
       "      <th>MarketID</th>\n",
       "      <th>MarketSize</th>\n",
       "      <th>LocationID</th>\n",
       "      <th>AgeOfStore</th>\n",
       "      <th>Promotion</th>\n",
       "      <th>week</th>\n",
       "      <th>SalesInThousands</th>\n",
       "    </tr>\n",
       "  </thead>\n",
       "  <tbody>\n",
       "    <tr>\n",
       "      <th>0</th>\n",
       "      <td>1</td>\n",
       "      <td>Medium</td>\n",
       "      <td>1</td>\n",
       "      <td>4</td>\n",
       "      <td>3</td>\n",
       "      <td>1</td>\n",
       "      <td>33.73</td>\n",
       "    </tr>\n",
       "    <tr>\n",
       "      <th>1</th>\n",
       "      <td>1</td>\n",
       "      <td>Medium</td>\n",
       "      <td>1</td>\n",
       "      <td>4</td>\n",
       "      <td>3</td>\n",
       "      <td>2</td>\n",
       "      <td>35.67</td>\n",
       "    </tr>\n",
       "    <tr>\n",
       "      <th>2</th>\n",
       "      <td>1</td>\n",
       "      <td>Medium</td>\n",
       "      <td>1</td>\n",
       "      <td>4</td>\n",
       "      <td>3</td>\n",
       "      <td>3</td>\n",
       "      <td>29.03</td>\n",
       "    </tr>\n",
       "    <tr>\n",
       "      <th>3</th>\n",
       "      <td>1</td>\n",
       "      <td>Medium</td>\n",
       "      <td>1</td>\n",
       "      <td>4</td>\n",
       "      <td>3</td>\n",
       "      <td>4</td>\n",
       "      <td>39.25</td>\n",
       "    </tr>\n",
       "    <tr>\n",
       "      <th>4</th>\n",
       "      <td>1</td>\n",
       "      <td>Medium</td>\n",
       "      <td>2</td>\n",
       "      <td>5</td>\n",
       "      <td>2</td>\n",
       "      <td>1</td>\n",
       "      <td>27.81</td>\n",
       "    </tr>\n",
       "  </tbody>\n",
       "</table>\n",
       "</div>"
      ],
      "text/plain": [
       "   MarketID MarketSize  LocationID  AgeOfStore  Promotion  week  \\\n",
       "0         1     Medium           1           4          3     1   \n",
       "1         1     Medium           1           4          3     2   \n",
       "2         1     Medium           1           4          3     3   \n",
       "3         1     Medium           1           4          3     4   \n",
       "4         1     Medium           2           5          2     1   \n",
       "\n",
       "   SalesInThousands  \n",
       "0             33.73  \n",
       "1             35.67  \n",
       "2             29.03  \n",
       "3             39.25  \n",
       "4             27.81  "
      ]
     },
     "execution_count": 18,
     "metadata": {},
     "output_type": "execute_result"
    }
   ],
   "source": [
    "df.head()"
   ]
  },
  {
   "cell_type": "markdown",
   "id": "c7bf60bf-af5f-4acd-b762-837d322d450a",
   "metadata": {
    "tags": []
   },
   "source": [
    "### Description of the dataset\n",
    ". Market ID : unique identifier for market\n",
    "\n",
    ". Market Size : size of market area by sales\n",
    "\n",
    ". Location ID : unique identifier for store location\n",
    "\n",
    ". Age Of Store : age of store in years\n",
    "\n",
    ". Promotion : one of three promotions that was tested\n",
    "\n",
    ". week : one of four weeks when the promotions were run\n",
    "\n",
    ". Sales In Thousands : sales amount for specific LocationID, Promotion, and week"
   ]
  },
  {
   "cell_type": "markdown",
   "id": "b63ac757-02ad-4c71-b906-a09919a47f98",
   "metadata": {},
   "source": [
    "### Data analysis"
   ]
  },
  {
   "cell_type": "markdown",
   "id": "278420ea-fff4-4d8d-a4f8-d0d8dd99d81b",
   "metadata": {},
   "source": [
    "#####\n",
    "In this section, we are going to focus on understanding the distributions of sales, market sizes, store locations, and ages used to test different promotions.The goal of this analysis is to make sure the controls and attributes of each of the promotion groups are symmetrically distributed, so that the promotion performances among different groups are comparable to each other. "
   ]
  },
  {
   "cell_type": "code",
   "execution_count": 20,
   "id": "7ec92eea-cc44-43fb-a70d-87c65af94fae",
   "metadata": {},
   "outputs": [
    {
     "data": {
      "image/png": "[encoded data removed]",
      "text/plain": [
       "<Figure size 504x504 with 1 Axes>"
      ]
     },
     "metadata": {},
     "output_type": "display_data"
    }
   ],
   "source": [
    "# The total sales distributions across different promotions can be visualized using the following code:\n",
    "ax = df.groupby('Promotion').sum()['SalesInThousands'].plot.pie(figsize=(7, 7),autopct='%1.0f%%')\n",
    "ax.set_ylabel('')\n",
    "ax.set_title('Sales Distribution Across Different Promotions')\n",
    "plt.show()"
   ]
  },
  {
   "cell_type": "code",
   "execution_count": 22,
   "id": "7af5a70e-897c-493c-9f2e-2c67dfb29cf6",
   "metadata": {},
   "outputs": [
    {
     "data": {
      "image/png": "[encoded data removed]",
      "text/plain": [
       "<Figure size 864x720 with 1 Axes>"
      ]
     },
     "metadata": {
      "needs_background": "light"
     },
     "output_type": "display_data"
    }
   ],
   "source": [
    "# We can also visualize the compositions of different market sizes in each promotion group. Take a look at the following code:\n",
    "ax = df.groupby([ 'Promotion', 'MarketSize']).count()['MarketID'].unstack('MarketSize').plot(kind='bar',figsize=(12,10),grid=True,\n",
    ")\n",
    "ax.set_ylabel('count')\n",
    "ax.set_title('Breakdowns of Market Sizes Across Different Promotions')\n",
    "plt.show()"
   ]
  },
  {
   "cell_type": "code",
   "execution_count": 24,
   "id": "1baf5dd2-1a45-4c86-81c9-9cbf622948a3",
   "metadata": {},
   "outputs": [
    {
     "data": {
      "image/png": "[encoded data removed]",
      "text/plain": [
       "<Figure size 864x720 with 1 Axes>"
      ]
     },
     "metadata": {
      "needs_background": "light"
     },
     "output_type": "display_data"
    }
   ],
   "source": [
    "#You can use the following code to display this data in a stacked bar plot:\n",
    "ax = df.groupby(['Promotion', 'MarketSize']).sum()['SalesInThousands'].unstack('MarketSize').plot(\n",
    "kind='bar',\n",
    "figsize=(12,10),\n",
    "grid=True,\n",
    "stacked=True)\n",
    "ax.set_ylabel('Sales (in Thousands)')\n",
    "ax.set_title('Breakdowns of Market Sizes Across Different Promotions')\n",
    "plt.show()"
   ]
  },
  {
   "cell_type": "code",
   "execution_count": 26,
   "id": "4bc84345-ef9b-4462-8132-9b527e96f1bf",
   "metadata": {},
   "outputs": [
    {
     "data": {
      "image/png": "[encoded data removed]",
      "text/plain": [
       "<Figure size 720x504 with 1 Axes>"
      ]
     },
     "metadata": {
      "needs_background": "light"
     },
     "output_type": "display_data"
    }
   ],
   "source": [
    "# Another attribute, \"Age Of Store\", and its overall distribution across all different promotions groups, can be \n",
    "# visualized by using the following code:\n",
    "ax = df.groupby('AgeOfStore').count()['MarketID'].plot(kind='bar',color='skyblue',figsize=(10,7),grid=True)\n",
    "ax.set_xlabel('age')\n",
    "ax.set_ylabel('count')\n",
    "ax.set_title('Overall Distributions of Age of Store')\n",
    "plt.show()"
   ]
  },
  {
   "cell_type": "code",
   "execution_count": 28,
   "id": "82492169-0f84-4bdf-8210-7660e9e36913",
   "metadata": {},
   "outputs": [
    {
     "data": {
      "image/png": "[encoded data removed]",
      "text/plain": [
       "<Figure size 864x1080 with 1 Axes>"
      ]
     },
     "metadata": {
      "needs_background": "light"
     },
     "output_type": "display_data"
    }
   ],
   "source": [
    "# However, what we are more interested in is whether the stores in the three different promotion groups have similar store age \n",
    "# profiles. Take a look at the following code:\n",
    "ax = df.groupby(['AgeOfStore', 'Promotion']).count()['MarketID'].unstack('Promotion').iloc[::-1].plot(kind='barh',figsize=(12,15),grid=True)\n",
    "ax.set_ylabel('age')\n",
    "ax.set_xlabel('count')\n",
    "ax.set_title('Overall Distributions of Age of Store')\n",
    "plt.show()"
   ]
  },
  {
   "cell_type": "code",
   "execution_count": 29,
   "id": "a69cec42-e1db-4ccd-b451-e65d129a559b",
   "metadata": {},
   "outputs": [
    {
     "data": {
      "text/html": [
       "<div>\n",
       "<style scoped>\n",
       "    .dataframe tbody tr th:only-of-type {\n",
       "        vertical-align: middle;\n",
       "    }\n",
       "\n",
       "    .dataframe tbody tr th {\n",
       "        vertical-align: top;\n",
       "    }\n",
       "\n",
       "    .dataframe thead th {\n",
       "        text-align: right;\n",
       "    }\n",
       "</style>\n",
       "<table border=\"1\" class=\"dataframe\">\n",
       "  <thead>\n",
       "    <tr style=\"text-align: right;\">\n",
       "      <th></th>\n",
       "      <th>count</th>\n",
       "      <th>mean</th>\n",
       "      <th>std</th>\n",
       "      <th>min</th>\n",
       "      <th>25%</th>\n",
       "      <th>50%</th>\n",
       "      <th>75%</th>\n",
       "      <th>max</th>\n",
       "    </tr>\n",
       "    <tr>\n",
       "      <th>Promotion</th>\n",
       "      <th></th>\n",
       "      <th></th>\n",
       "      <th></th>\n",
       "      <th></th>\n",
       "      <th></th>\n",
       "      <th></th>\n",
       "      <th></th>\n",
       "      <th></th>\n",
       "    </tr>\n",
       "  </thead>\n",
       "  <tbody>\n",
       "    <tr>\n",
       "      <th>1</th>\n",
       "      <td>172.0</td>\n",
       "      <td>8.279070</td>\n",
       "      <td>6.636160</td>\n",
       "      <td>1.0</td>\n",
       "      <td>3.0</td>\n",
       "      <td>6.0</td>\n",
       "      <td>12.0</td>\n",
       "      <td>27.0</td>\n",
       "    </tr>\n",
       "    <tr>\n",
       "      <th>2</th>\n",
       "      <td>188.0</td>\n",
       "      <td>7.978723</td>\n",
       "      <td>6.597648</td>\n",
       "      <td>1.0</td>\n",
       "      <td>3.0</td>\n",
       "      <td>7.0</td>\n",
       "      <td>10.0</td>\n",
       "      <td>28.0</td>\n",
       "    </tr>\n",
       "    <tr>\n",
       "      <th>3</th>\n",
       "      <td>188.0</td>\n",
       "      <td>9.234043</td>\n",
       "      <td>6.651646</td>\n",
       "      <td>1.0</td>\n",
       "      <td>5.0</td>\n",
       "      <td>8.0</td>\n",
       "      <td>12.0</td>\n",
       "      <td>24.0</td>\n",
       "    </tr>\n",
       "  </tbody>\n",
       "</table>\n",
       "</div>"
      ],
      "text/plain": [
       "           count      mean       std  min  25%  50%   75%   max\n",
       "Promotion                                                      \n",
       "1          172.0  8.279070  6.636160  1.0  3.0  6.0  12.0  27.0\n",
       "2          188.0  7.978723  6.597648  1.0  3.0  7.0  10.0  28.0\n",
       "3          188.0  9.234043  6.651646  1.0  5.0  8.0  12.0  24.0"
      ]
     },
     "execution_count": 29,
     "metadata": {},
     "output_type": "execute_result"
    }
   ],
   "source": [
    "#It will be easier to look at the summary statistics of store ages across the three promotion groups. Take a look at the following code:\n",
    "df.groupby('Promotion').describe()['AgeOfStore']"
   ]
  },
  {
   "cell_type": "markdown",
   "id": "c5ad4e84-6969-4a6a-b204-8f0e8658b43b",
   "metadata": {},
   "source": [
    "By analyzing how each promotion or test group is comprised, we could verify that the store profiles are similar to each other.\n",
    "This suggests that the sample groups are well controlled and the A/B testing results will be meaningful and trustworthy."
   ]
  },
  {
   "cell_type": "markdown",
   "id": "58bee7a8-05e5-4a41-8f59-d2deab6a0824",
   "metadata": {},
   "source": [
    "### Statistical hypothesis testing"
   ]
  },
  {
   "cell_type": "markdown",
   "id": "1268300b-22ca-4cf5-8767-7b5c4e5099da",
   "metadata": {},
   "source": [
    "In Python, there are two approaches to computing the t-value and p-value in a t-test. We will demonstrate both\n",
    "approaches in this section, and it is up to you to decide which one works more conveniently for you. The two approaches\n",
    "to compute the t-value and p-value for a t-test are as follow"
   ]
  },
  {
   "cell_type": "markdown",
   "id": "2576b2e6-29f8-4ce1-a85c-a32f9affadab",
   "metadata": {},
   "source": [
    "### Computing t-value and p-value from the equations"
   ]
  },
  {
   "cell_type": "code",
   "execution_count": 30,
   "id": "3d19bcd6-5998-4a76-85b5-4d50ac6fc3e2",
   "metadata": {},
   "outputs": [],
   "source": [
    "# There are three things we need to compute to get the t-value—the mean, the standard deviation, and the number\n",
    "# of samples. Take a look at the following code:\n",
    "means = df.groupby('Promotion').mean()['SalesInThousands']\n",
    "stds = df.groupby('Promotion').std()['SalesInThousands']\n",
    "ns = df.groupby('Promotion').count()['SalesInThousands']"
   ]
  },
  {
   "cell_type": "code",
   "execution_count": 33,
   "id": "185d4db9-a199-499e-b0b3-dc12e1e75ec2",
   "metadata": {},
   "outputs": [],
   "source": [
    "# we can compute the t-value for comparing the performances of promotion 1 and promotion 2. Take a look at the following code:\n",
    "import numpy as np\n",
    "t_1_vs_2 = (means.iloc[0] - means.iloc[1])/ np.sqrt(\n",
    "(stds.iloc[0]**2/ns.iloc[0]) + (stds.iloc[1]**2/ns.iloc[1]))"
   ]
  },
  {
   "cell_type": "code",
   "execution_count": 34,
   "id": "6f35b775-d518-4a19-b7ee-dbb6610bb0c1",
   "metadata": {},
   "outputs": [
    {
     "data": {
      "text/plain": [
       "6.427528670907475"
      ]
     },
     "execution_count": 34,
     "metadata": {},
     "output_type": "execute_result"
    }
   ],
   "source": [
    "t_1_vs_2"
   ]
  },
  {
   "cell_type": "code",
   "execution_count": 35,
   "id": "933737ab-adc3-45a8-90dd-e3fa292d2595",
   "metadata": {},
   "outputs": [],
   "source": [
    "# we can get the pvalue with the following code:\n",
    "from scipy import stats\n",
    "df_1_vs_1 = ns.iloc[0] + ns.iloc[1] - 2\n",
    "p_1_vs_2 = (1 - stats.t.cdf(t_1_vs_2, df=df_1_vs_1))*2"
   ]
  },
  {
   "cell_type": "code",
   "execution_count": 36,
   "id": "9ebe0113-ea8d-40a4-ae1f-58fee47cf13e",
   "metadata": {},
   "outputs": [
    {
     "data": {
      "text/plain": [
       "4.143296816749853e-10"
      ]
     },
     "execution_count": 36,
     "metadata": {},
     "output_type": "execute_result"
    }
   ],
   "source": [
    "p_1_vs_2"
   ]
  },
  {
   "cell_type": "markdown",
   "id": "51e9a6eb-7dee-4522-a4e8-6aa006e19cd9",
   "metadata": {},
   "source": [
    "### Computing the t-value and p-value using scipy"
   ]
  },
  {
   "cell_type": "code",
   "execution_count": 41,
   "id": "45f45f98-e71d-4dbb-9a5d-2dfe573b6d5a",
   "metadata": {},
   "outputs": [],
   "source": [
    "# Another approach to computing the t-value and p-value is by using the stats module from the scipy package. \n",
    "# The ttest_ind function is udes to easily compute t-values and p-values to compare the marketing performances of different promotion or test groups\n",
    "t, p = stats.ttest_ind(\n",
    "df.loc[df['Promotion'] == 1, 'SalesInThousands'].values,\n",
    "df.loc[df['Promotion'] == 2, 'SalesInThousands'].values,\n",
    "equal_var=False\n",
    ")"
   ]
  },
  {
   "cell_type": "code",
   "execution_count": null,
   "id": "b7b1e31d-fa6e-4c5f-be71-d7266c8bbc24",
   "metadata": {},
   "outputs": [],
   "source": []
  }
 ],
 "metadata": {
  "kernelspec": {
   "display_name": "Python 3 (ipykernel)",
   "language": "python",
   "name": "python3"
  },
  "language_info": {
   "codemirror_mode": {
    "name": "ipython",
    "version": 3
   },
   "file_extension": ".py",
   "mimetype": "text/x-python",
   "name": "python",
   "nbconvert_exporter": "python",
   "pygments_lexer": "ipython3",
   "version": "3.9.7"
  }
 },
 "nbformat": 4,
 "nbformat_minor": 5
}
