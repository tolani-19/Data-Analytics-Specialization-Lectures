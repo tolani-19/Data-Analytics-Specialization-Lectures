{
 "cells": [
  {
   "cell_type": "markdown",
   "id": "bdb3aa9e-6059-4451-8d49-a9a6e4156ed3",
   "metadata": {},
   "source": [
    "### Predicting Customer Retention (Python)"
   ]
  },
  {
   "cell_type": "code",
   "execution_count": 17,
   "id": "5f460623-3969-4c95-ae14-6807fd9129c2",
   "metadata": {},
   "outputs": [],
   "source": [
    "# prepare for Python version 3x features and functions\n",
    "from __future__ import division, print_function"
   ]
  },
  {
   "cell_type": "code",
   "execution_count": 18,
   "id": "85fd8d30-1cdb-47e6-a584-844b824c0244",
   "metadata": {},
   "outputs": [],
   "source": [
    "# import packages for text processing and machine learning\n",
    "import pandas as pd  # DataFrame structure and operations\n",
    "import numpy as np  # arrays and numerical processing\n",
    "import matplotlib.pyplot as plt  # 2D plotting\n",
    "import statsmodels.api as sm  # logistic regression\n",
    "import statsmodels.formula.api as smf  # R-like model specification\n",
    "import patsy  # translate model specification into design matrices\n",
    "from sklearn import svm  # support vector machines\n",
    "from sklearn.ensemble import RandomForestClassifier  # random forests\n",
    "from sklearn.naive_bayes import GaussianNB  # naive Bayes"
   ]
  },
  {
   "cell_type": "code",
   "execution_count": 19,
   "id": "23f96bc6-aa11-44be-bd81-364727444c0b",
   "metadata": {},
   "outputs": [],
   "source": [
    "pd.options.mode.chained_assignment = None  # default='warn'"
   ]
  },
  {
   "cell_type": "code",
   "execution_count": 20,
   "id": "d2481793-43cf-4914-a6ae-fe5d520fb64c",
   "metadata": {},
   "outputs": [],
   "source": [
    "# import user-defined module\n",
    "import evaluate_classifier as eval"
   ]
  },
  {
   "cell_type": "code",
   "execution_count": 21,
   "id": "8d24ae38-47ba-46e6-bd88-30f889898909",
   "metadata": {},
   "outputs": [
    {
     "name": "stdout",
     "output_type": "stream",
     "text": [
      "  pick income moves    age education employment  usage nonpub reachout card\n",
      "0  OCC   <7.5     0  35-44        HS          F      9    YES       NO   NO\n",
      "1  ATT  45-75     2  25-34        HS          F      2    YES       NO   NO\n",
      "2  OCC    NaN     0    NaN       NaN        NaN      6     NO       NO  YES\n",
      "3  OCC    NaN     2    65+       <HS          R      7     NO       NO   NO\n",
      "4  OCC    NaN     0    65+        HS          H      0     NO       NO   NO\n"
     ]
    }
   ],
   "source": [
    "# read in comma-delimited text file and create data frame\n",
    "# there are blank character fields for missing data\n",
    "# read them as character fields initially\n",
    "att = pd.read_csv(\"C:\\\\Users\\\\User\\\\Desktop\\\\Datasetnexustech\\\\Marketing Analytics\\\\Datasets\\\\att.csv\")\n",
    "print(att.head())"
   ]
  },
  {
   "cell_type": "code",
   "execution_count": 22,
   "id": "68d00587-45ab-46c4-bed0-a5dc02f9290c",
   "metadata": {},
   "outputs": [],
   "source": [
    "# select variables of interest for modeling\n",
    "attprelim = pd.DataFrame(att, columns = ['pick','usage','reachout','card'])"
   ]
  },
  {
   "cell_type": "code",
   "execution_count": 23,
   "id": "9813842f-90e7-4660-9b77-b1b825ff0605",
   "metadata": {},
   "outputs": [],
   "source": [
    "# use dictionary objects for mapping to 0/1 binary codes\n",
    "pick_to_binary = {'ATT' : 0, 'OCC' : 1}\n",
    "attprelim['pick'] = attprelim['pick'].map(pick_to_binary)\n",
    "yes_to_binary = {'NO' : 0, 'YES' : 1}\n",
    "attprelim['reachout'] = attprelim['reachout'].map(yes_to_binary)\n",
    "attprelim['card'] = attprelim['card'].map(yes_to_binary)"
   ]
  },
  {
   "cell_type": "code",
   "execution_count": 24,
   "id": "e8dc5af4-8977-47d3-b0d2-012a75d26d6d",
   "metadata": {},
   "outputs": [
    {
     "name": "stdout",
     "output_type": "stream",
     "text": [
      "   pick  usage  reachout  card\n",
      "0     1      9       0.0   0.0\n",
      "1     0      2       0.0   0.0\n",
      "2     1      6       0.0   1.0\n",
      "3     1      7       0.0   0.0\n",
      "4     1      0       0.0   0.0\n"
     ]
    }
   ],
   "source": [
    "# work with complete cases only\n",
    "attwork = attprelim.dropna()\n",
    "print(attwork.head())\n"
   ]
  },
  {
   "cell_type": "code",
   "execution_count": 25,
   "id": "27f4eadf-c60d-435d-bbfd-f5fc2553b98b",
   "metadata": {},
   "outputs": [],
   "source": [
    "# specify form of predictive model\n",
    "attmodel = 'pick ~ usage + reachout + card'"
   ]
  },
  {
   "cell_type": "code",
   "execution_count": 26,
   "id": "684e7064-9df1-4455-8e28-888ece23a706",
   "metadata": {},
   "outputs": [],
   "source": [
    "# convert R-like formula into design matrix needed for statsmodels        \n",
    "y,x = patsy.dmatrices(attmodel,\\\n",
    "    attwork, return_type = 'dataframe')"
   ]
  },
  {
   "cell_type": "code",
   "execution_count": 27,
   "id": "bc2971f9-3bd4-4cbc-8f6d-38efb7cecd55",
   "metadata": {},
   "outputs": [
    {
     "name": "stdout",
     "output_type": "stream",
     "text": [
      "Optimization terminated successfully.\n",
      "         Current function value: 0.666164\n",
      "         Iterations 5\n",
      "                           Logit Regression Results                           \n",
      "==============================================================================\n",
      "Dep. Variable:                   pick   No. Observations:                  981\n",
      "Model:                          Logit   Df Residuals:                      977\n",
      "Method:                           MLE   Df Model:                            3\n",
      "Date:                Mon, 24 Oct 2022   Pseudo R-squ.:                 0.03855\n",
      "Time:                        18:59:45   Log-Likelihood:                -653.51\n",
      "converged:                       True   LL-Null:                       -679.71\n",
      "Covariance Type:            nonrobust   LLR p-value:                 2.459e-11\n",
      "==============================================================================\n",
      "                 coef    std err          z      P>|z|      [0.025      0.975]\n",
      "------------------------------------------------------------------------------\n",
      "Intercept      0.3383      0.087      3.884      0.000       0.168       0.509\n",
      "usage         -0.0131      0.003     -3.890      0.000      -0.020      -0.006\n",
      "reachout      -0.8695      0.324     -2.686      0.007      -1.504      -0.235\n",
      "card          -0.4756      0.149     -3.184      0.001      -0.768      -0.183\n",
      "==============================================================================\n"
     ]
    }
   ],
   "source": [
    "# Logistic regression method\n",
    "\n",
    "my_logit_model = sm.Logit(y,x)\n",
    "# fit the model to the full data set\n",
    "my_logit_model_fit = my_logit_model.fit()\n",
    "print(my_logit_model_fit.summary())"
   ]
  },
  {
   "cell_type": "code",
   "execution_count": 28,
   "id": "09b52113-2391-4855-a343-039af4f68f5b",
   "metadata": {},
   "outputs": [],
   "source": [
    "# predicted probability of switching to OCC\n",
    "attwork['pred_logit_prob'] = my_logit_model_fit.predict(linear = False)\n"
   ]
  },
  {
   "cell_type": "code",
   "execution_count": 29,
   "id": "f022cdaa-2d4d-4e2c-8730-0ff6fb5e9ec9",
   "metadata": {},
   "outputs": [
    {
     "name": "stdout",
     "output_type": "stream",
     "text": [
      "\n",
      " Logistic Regression Performance\n",
      " Percentage of Choices Correctly Classified: 58.099999999999994 \n",
      "\n"
     ]
    }
   ],
   "source": [
    "# map from probability to ATT (0) or OCC (1)\n",
    "def prob_to_pred(x):\n",
    "    if(x > 0.5):\n",
    "        return(1)\n",
    "    else:\n",
    "        return(0)\n",
    "\n",
    "attwork['pred_logit'] =\\\n",
    "    attwork['pred_logit_prob'].apply(lambda d: prob_to_pred(d))\n",
    "\n",
    "print('\\n Logistic Regression Performance\\n',\\\n",
    "    'Percentage of Choices Correctly Classified:',\\\n",
    "    100 * round(eval.evaluate_classifier(attwork['pred_logit'],\\\n",
    "    attwork['pick'])[4], 3),'\\n')"
   ]
  },
  {
   "cell_type": "code",
   "execution_count": 30,
   "id": "f5c06d1d-aa21-4852-8141-4beca589d020",
   "metadata": {},
   "outputs": [
    {
     "name": "stdout",
     "output_type": "stream",
     "text": [
      "\n",
      " Support Vector Machine Performance\n",
      " Percentage of Choices Correctly Classified: 61.4 \n",
      "\n"
     ]
    }
   ],
   "source": [
    "# Support vector machines\n",
    "\n",
    "my_svm = svm.SVC()  \n",
    "my_svm_fit = my_svm.fit(x, np.ravel(y))\n",
    "attwork['pred_svm_binary'] = my_svm_fit.predict(x)\n",
    "\n",
    "print('\\n Support Vector Machine Performance\\n',\\\n",
    "    'Percentage of Choices Correctly Classified:',\\\n",
    "    100 * round(eval.evaluate_classifier(attwork['pred_svm_binary'],\\\n",
    "    attwork['pick'])[4], 3),'\\n')"
   ]
  },
  {
   "cell_type": "code",
   "execution_count": 31,
   "id": "38547196-ab42-4ef0-829d-6a801933c17b",
   "metadata": {},
   "outputs": [
    {
     "name": "stdout",
     "output_type": "stream",
     "text": [
      "\n",
      " Random Forest Performance\n",
      " Percentage of Choices Correctly Classified: 66.60000000000001 \n",
      "\n"
     ]
    }
   ],
   "source": [
    "# Random forests\n",
    "# for reproducibility set random number seed with random_state\n",
    "my_rf_model = RandomForestClassifier(n_estimators = 10, random_state = 9999)\n",
    "my_rf_model_fit = my_rf_model.fit(x, np.ravel(y))\n",
    "attwork['pred_rf_binary'] = my_rf_model_fit.predict(x)\n",
    "\n",
    "print('\\n Random Forest Performance\\n',\\\n",
    "    'Percentage of Choices Correctly Classified:',\\\n",
    "    100 * round(eval.evaluate_classifier(attwork['pred_rf_binary'],\\\n",
    "    attwork['pick'])[4], 3),'\\n')"
   ]
  },
  {
   "cell_type": "code",
   "execution_count": 32,
   "id": "a9dac321-a104-4680-8542-ee9f7ec2e8ce",
   "metadata": {},
   "outputs": [
    {
     "name": "stdout",
     "output_type": "stream",
     "text": [
      "\n",
      " Naive Bayes Performance\n",
      " Percentage of Choices Classified: 66.60000000000001 \n",
      "\n"
     ]
    }
   ],
   "source": [
    "# Naive Bayes\n",
    "# --------------------------------------\n",
    "my_nb_model = GaussianNB()\n",
    "my_nb_model_fit = my_nb_model.fit(x, np.ravel(y))\n",
    "attwork['pred_nb_binary'] = my_nb_model_fit.predict(x)\n",
    "\n",
    "print('\\n Naive Bayes Performance\\n',\\\n",
    "    'Percentage of Choices Classified:',\\\n",
    "    100 * round(eval.evaluate_classifier(attwork['pred_rf_binary'],\\\n",
    "    attwork['pick'])[4], 3),'\\n')"
   ]
  },
  {
   "cell_type": "code",
   "execution_count": 33,
   "id": "d7a1cac2-00b1-40cb-8a7c-e349bacc5454",
   "metadata": {},
   "outputs": [],
   "source": [
    "# for training and test, utilize scikit-laearn cross-validation"
   ]
  },
  {
   "cell_type": "code",
   "execution_count": null,
   "id": "091b58b1-68f9-410b-869b-ee6dfc17e252",
   "metadata": {},
   "outputs": [],
   "source": []
  }
 ],
 "metadata": {
  "kernelspec": {
   "display_name": "Python 3 (ipykernel)",
   "language": "python",
   "name": "python3"
  },
  "language_info": {
   "codemirror_mode": {
    "name": "ipython",
    "version": 3
   },
   "file_extension": ".py",
   "mimetype": "text/x-python",
   "name": "python",
   "nbconvert_exporter": "python",
   "pygments_lexer": "ipython3",
   "version": "3.9.7"
  }
 },
 "nbformat": 4,
 "nbformat_minor": 5
}
