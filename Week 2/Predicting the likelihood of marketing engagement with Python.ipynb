{
 "cells": [
  {
   "cell_type": "markdown",
   "id": "f80118e5-1b4e-496a-8456-16cb9d4c4645",
   "metadata": {
    "id": "f80118e5-1b4e-496a-8456-16cb9d4c4645"
   },
   "source": [
    "# Predicting the likelihood of marketing engagement with Python"
   ]
  },
  {
   "cell_type": "code",
   "execution_count": 1,
   "id": "c88fcd1c-2cde-4f48-9e4f-5a21da284d7e",
   "metadata": {
    "id": "c88fcd1c-2cde-4f48-9e4f-5a21da284d7e"
   },
   "outputs": [],
   "source": [
    "# importing the neccesary librabry and loading the datase\n",
    "import pandas as pd\n",
    "df = pd.read_csv(\"C:\\\\Users\\\\User\\\\Desktop\\\\data_science bootcamp\\\\Marketing Analytics\\\\Datasets\\\\WA_Fn-UseC_-Marketing-Customer-Value-Analysis.csv\")"
   ]
  },
  {
   "cell_type": "code",
   "execution_count": 2,
   "id": "517d0d0d-3d22-4ab8-879c-2c2970070222",
   "metadata": {
    "id": "517d0d0d-3d22-4ab8-879c-2c2970070222",
    "outputId": "efc9f19b-3186-43cb-f008-699c055260d4"
   },
   "outputs": [
    {
     "data": {
      "text/plain": [
       "(9134, 24)"
      ]
     },
     "execution_count": 2,
     "metadata": {},
     "output_type": "execute_result"
    }
   ],
   "source": [
    "df.shape"
   ]
  },
  {
   "cell_type": "code",
   "execution_count": 3,
   "id": "79e82ff1-70b9-44c3-baf8-86a850df605f",
   "metadata": {
    "id": "79e82ff1-70b9-44c3-baf8-86a850df605f",
    "outputId": "9ddb05c5-ef61-427c-9c0a-59ac1a472f4b",
    "tags": []
   },
   "outputs": [
    {
     "data": {
      "text/html": [
       "<div>\n",
       "<style scoped>\n",
       "    .dataframe tbody tr th:only-of-type {\n",
       "        vertical-align: middle;\n",
       "    }\n",
       "\n",
       "    .dataframe tbody tr th {\n",
       "        vertical-align: top;\n",
       "    }\n",
       "\n",
       "    .dataframe thead th {\n",
       "        text-align: right;\n",
       "    }\n",
       "</style>\n",
       "<table border=\"1\" class=\"dataframe\">\n",
       "  <thead>\n",
       "    <tr style=\"text-align: right;\">\n",
       "      <th></th>\n",
       "      <th>Customer</th>\n",
       "      <th>State</th>\n",
       "      <th>Customer Lifetime Value</th>\n",
       "      <th>Response</th>\n",
       "      <th>Coverage</th>\n",
       "      <th>Education</th>\n",
       "      <th>Effective To Date</th>\n",
       "      <th>EmploymentStatus</th>\n",
       "      <th>Gender</th>\n",
       "      <th>Income</th>\n",
       "      <th>...</th>\n",
       "      <th>Months Since Policy Inception</th>\n",
       "      <th>Number of Open Complaints</th>\n",
       "      <th>Number of Policies</th>\n",
       "      <th>Policy Type</th>\n",
       "      <th>Policy</th>\n",
       "      <th>Renew Offer Type</th>\n",
       "      <th>Sales Channel</th>\n",
       "      <th>Total Claim Amount</th>\n",
       "      <th>Vehicle Class</th>\n",
       "      <th>Vehicle Size</th>\n",
       "    </tr>\n",
       "  </thead>\n",
       "  <tbody>\n",
       "    <tr>\n",
       "      <th>0</th>\n",
       "      <td>BU79786</td>\n",
       "      <td>Washington</td>\n",
       "      <td>2763.519279</td>\n",
       "      <td>No</td>\n",
       "      <td>Basic</td>\n",
       "      <td>Bachelor</td>\n",
       "      <td>2/24/11</td>\n",
       "      <td>Employed</td>\n",
       "      <td>F</td>\n",
       "      <td>56274</td>\n",
       "      <td>...</td>\n",
       "      <td>5</td>\n",
       "      <td>0</td>\n",
       "      <td>1</td>\n",
       "      <td>Corporate Auto</td>\n",
       "      <td>Corporate L3</td>\n",
       "      <td>Offer1</td>\n",
       "      <td>Agent</td>\n",
       "      <td>384.811147</td>\n",
       "      <td>Two-Door Car</td>\n",
       "      <td>Medsize</td>\n",
       "    </tr>\n",
       "    <tr>\n",
       "      <th>1</th>\n",
       "      <td>QZ44356</td>\n",
       "      <td>Arizona</td>\n",
       "      <td>6979.535903</td>\n",
       "      <td>No</td>\n",
       "      <td>Extended</td>\n",
       "      <td>Bachelor</td>\n",
       "      <td>1/31/11</td>\n",
       "      <td>Unemployed</td>\n",
       "      <td>F</td>\n",
       "      <td>0</td>\n",
       "      <td>...</td>\n",
       "      <td>42</td>\n",
       "      <td>0</td>\n",
       "      <td>8</td>\n",
       "      <td>Personal Auto</td>\n",
       "      <td>Personal L3</td>\n",
       "      <td>Offer3</td>\n",
       "      <td>Agent</td>\n",
       "      <td>1131.464935</td>\n",
       "      <td>Four-Door Car</td>\n",
       "      <td>Medsize</td>\n",
       "    </tr>\n",
       "    <tr>\n",
       "      <th>2</th>\n",
       "      <td>AI49188</td>\n",
       "      <td>Nevada</td>\n",
       "      <td>12887.431650</td>\n",
       "      <td>No</td>\n",
       "      <td>Premium</td>\n",
       "      <td>Bachelor</td>\n",
       "      <td>2/19/11</td>\n",
       "      <td>Employed</td>\n",
       "      <td>F</td>\n",
       "      <td>48767</td>\n",
       "      <td>...</td>\n",
       "      <td>38</td>\n",
       "      <td>0</td>\n",
       "      <td>2</td>\n",
       "      <td>Personal Auto</td>\n",
       "      <td>Personal L3</td>\n",
       "      <td>Offer1</td>\n",
       "      <td>Agent</td>\n",
       "      <td>566.472247</td>\n",
       "      <td>Two-Door Car</td>\n",
       "      <td>Medsize</td>\n",
       "    </tr>\n",
       "    <tr>\n",
       "      <th>3</th>\n",
       "      <td>WW63253</td>\n",
       "      <td>California</td>\n",
       "      <td>7645.861827</td>\n",
       "      <td>No</td>\n",
       "      <td>Basic</td>\n",
       "      <td>Bachelor</td>\n",
       "      <td>1/20/11</td>\n",
       "      <td>Unemployed</td>\n",
       "      <td>M</td>\n",
       "      <td>0</td>\n",
       "      <td>...</td>\n",
       "      <td>65</td>\n",
       "      <td>0</td>\n",
       "      <td>7</td>\n",
       "      <td>Corporate Auto</td>\n",
       "      <td>Corporate L2</td>\n",
       "      <td>Offer1</td>\n",
       "      <td>Call Center</td>\n",
       "      <td>529.881344</td>\n",
       "      <td>SUV</td>\n",
       "      <td>Medsize</td>\n",
       "    </tr>\n",
       "    <tr>\n",
       "      <th>4</th>\n",
       "      <td>HB64268</td>\n",
       "      <td>Washington</td>\n",
       "      <td>2813.692575</td>\n",
       "      <td>No</td>\n",
       "      <td>Basic</td>\n",
       "      <td>Bachelor</td>\n",
       "      <td>2/3/11</td>\n",
       "      <td>Employed</td>\n",
       "      <td>M</td>\n",
       "      <td>43836</td>\n",
       "      <td>...</td>\n",
       "      <td>44</td>\n",
       "      <td>0</td>\n",
       "      <td>1</td>\n",
       "      <td>Personal Auto</td>\n",
       "      <td>Personal L1</td>\n",
       "      <td>Offer1</td>\n",
       "      <td>Agent</td>\n",
       "      <td>138.130879</td>\n",
       "      <td>Four-Door Car</td>\n",
       "      <td>Medsize</td>\n",
       "    </tr>\n",
       "  </tbody>\n",
       "</table>\n",
       "<p>5 rows × 24 columns</p>\n",
       "</div>"
      ],
      "text/plain": [
       "  Customer       State  Customer Lifetime Value Response  Coverage Education  \\\n",
       "0  BU79786  Washington              2763.519279       No     Basic  Bachelor   \n",
       "1  QZ44356     Arizona              6979.535903       No  Extended  Bachelor   \n",
       "2  AI49188      Nevada             12887.431650       No   Premium  Bachelor   \n",
       "3  WW63253  California              7645.861827       No     Basic  Bachelor   \n",
       "4  HB64268  Washington              2813.692575       No     Basic  Bachelor   \n",
       "\n",
       "  Effective To Date EmploymentStatus Gender  Income  ...  \\\n",
       "0           2/24/11         Employed      F   56274  ...   \n",
       "1           1/31/11       Unemployed      F       0  ...   \n",
       "2           2/19/11         Employed      F   48767  ...   \n",
       "3           1/20/11       Unemployed      M       0  ...   \n",
       "4            2/3/11         Employed      M   43836  ...   \n",
       "\n",
       "  Months Since Policy Inception Number of Open Complaints  Number of Policies  \\\n",
       "0                             5                         0                   1   \n",
       "1                            42                         0                   8   \n",
       "2                            38                         0                   2   \n",
       "3                            65                         0                   7   \n",
       "4                            44                         0                   1   \n",
       "\n",
       "      Policy Type        Policy  Renew Offer Type  Sales Channel  \\\n",
       "0  Corporate Auto  Corporate L3            Offer1          Agent   \n",
       "1   Personal Auto   Personal L3            Offer3          Agent   \n",
       "2   Personal Auto   Personal L3            Offer1          Agent   \n",
       "3  Corporate Auto  Corporate L2            Offer1    Call Center   \n",
       "4   Personal Auto   Personal L1            Offer1          Agent   \n",
       "\n",
       "  Total Claim Amount  Vehicle Class Vehicle Size  \n",
       "0         384.811147   Two-Door Car      Medsize  \n",
       "1        1131.464935  Four-Door Car      Medsize  \n",
       "2         566.472247   Two-Door Car      Medsize  \n",
       "3         529.881344            SUV      Medsize  \n",
       "4         138.130879  Four-Door Car      Medsize  \n",
       "\n",
       "[5 rows x 24 columns]"
      ]
     },
     "execution_count": 3,
     "metadata": {},
     "output_type": "execute_result"
    }
   ],
   "source": [
    "# returns the first five values of the dataset\n",
    "df.head()"
   ]
  },
  {
   "cell_type": "markdown",
   "id": "bf00a26d-1559-429d-972a-8401010ab2da",
   "metadata": {
    "id": "bf00a26d-1559-429d-972a-8401010ab2da"
   },
   "source": [
    "As you might have noticed, this is the same dataset that we used in the previous chapter, where we conducted customer analytics."
   ]
  },
  {
   "cell_type": "markdown",
   "id": "80d8903a-7ea0-4d34-a57f-3daa5ba582fe",
   "metadata": {
    "id": "80d8903a-7ea0-4d34-a57f-3daa5ba582fe"
   },
   "source": [
    "**bold text**## Variable encoding"
   ]
  },
  {
   "cell_type": "markdown",
   "id": "d4dcf3ca-4d6c-4b18-824c-b6e6e240e056",
   "metadata": {
    "id": "d4dcf3ca-4d6c-4b18-824c-b6e6e240e056"
   },
   "source": [
    "### Response variable encoding"
   ]
  },
  {
   "cell_type": "code",
   "execution_count": 4,
   "id": "ed3c08f1-d040-475b-be36-c5a4ae52ed25",
   "metadata": {
    "id": "ed3c08f1-d040-475b-be36-c5a4ae52ed25"
   },
   "outputs": [],
   "source": [
    "# The first thing we are going to do is encode the response variable Response.We are going to encode Yes values with 1s and No values with 0s. \n",
    "df['Engaged'] = df['Response'].apply(lambda x: 1 if x == 'Yes' else 0)"
   ]
  },
  {
   "cell_type": "code",
   "execution_count": 5,
   "id": "7ac02af9-9bc9-4b23-931a-95a210e52be2",
   "metadata": {
    "id": "7ac02af9-9bc9-4b23-931a-95a210e52be2",
    "outputId": "86dda6b1-3268-4859-85cd-7fb8399744f0"
   },
   "outputs": [
    {
     "data": {
      "text/plain": [
       "14.320122618786948"
      ]
     },
     "execution_count": 5,
     "metadata": {},
     "output_type": "execute_result"
    }
   ],
   "source": [
    "#In order to get the overall response or engagement rate using this newly-created column, you can use the following code:\n",
    "\n",
    "df['Engaged'].mean()*100"
   ]
  },
  {
   "cell_type": "code",
   "execution_count": 6,
   "id": "0346e4e6-bbf1-4a9f-b964-109ba4b34d88",
   "metadata": {
    "id": "0346e4e6-bbf1-4a9f-b964-109ba4b34d88",
    "outputId": "5a04bba0-6593-436c-db14-2c9d4d994cb7"
   },
   "outputs": [
    {
     "data": {
      "text/html": [
       "<div>\n",
       "<style scoped>\n",
       "    .dataframe tbody tr th:only-of-type {\n",
       "        vertical-align: middle;\n",
       "    }\n",
       "\n",
       "    .dataframe tbody tr th {\n",
       "        vertical-align: top;\n",
       "    }\n",
       "\n",
       "    .dataframe thead th {\n",
       "        text-align: right;\n",
       "    }\n",
       "</style>\n",
       "<table border=\"1\" class=\"dataframe\">\n",
       "  <thead>\n",
       "    <tr style=\"text-align: right;\">\n",
       "      <th></th>\n",
       "      <th>Customer Lifetime Value</th>\n",
       "      <th>Income</th>\n",
       "      <th>Monthly Premium Auto</th>\n",
       "      <th>Months Since Last Claim</th>\n",
       "      <th>Months Since Policy Inception</th>\n",
       "      <th>Number of Open Complaints</th>\n",
       "      <th>Number of Policies</th>\n",
       "      <th>Total Claim Amount</th>\n",
       "      <th>Engaged</th>\n",
       "    </tr>\n",
       "  </thead>\n",
       "  <tbody>\n",
       "    <tr>\n",
       "      <th>count</th>\n",
       "      <td>9134.000000</td>\n",
       "      <td>9134.000000</td>\n",
       "      <td>9134.000000</td>\n",
       "      <td>9134.000000</td>\n",
       "      <td>9134.000000</td>\n",
       "      <td>9134.000000</td>\n",
       "      <td>9134.000000</td>\n",
       "      <td>9134.000000</td>\n",
       "      <td>9134.000000</td>\n",
       "    </tr>\n",
       "    <tr>\n",
       "      <th>mean</th>\n",
       "      <td>8004.940475</td>\n",
       "      <td>37657.380009</td>\n",
       "      <td>93.219291</td>\n",
       "      <td>15.097000</td>\n",
       "      <td>48.064594</td>\n",
       "      <td>0.384388</td>\n",
       "      <td>2.966170</td>\n",
       "      <td>434.088794</td>\n",
       "      <td>0.143201</td>\n",
       "    </tr>\n",
       "    <tr>\n",
       "      <th>std</th>\n",
       "      <td>6870.967608</td>\n",
       "      <td>30379.904734</td>\n",
       "      <td>34.407967</td>\n",
       "      <td>10.073257</td>\n",
       "      <td>27.905991</td>\n",
       "      <td>0.910384</td>\n",
       "      <td>2.390182</td>\n",
       "      <td>290.500092</td>\n",
       "      <td>0.350297</td>\n",
       "    </tr>\n",
       "    <tr>\n",
       "      <th>min</th>\n",
       "      <td>1898.007675</td>\n",
       "      <td>0.000000</td>\n",
       "      <td>61.000000</td>\n",
       "      <td>0.000000</td>\n",
       "      <td>0.000000</td>\n",
       "      <td>0.000000</td>\n",
       "      <td>1.000000</td>\n",
       "      <td>0.099007</td>\n",
       "      <td>0.000000</td>\n",
       "    </tr>\n",
       "    <tr>\n",
       "      <th>25%</th>\n",
       "      <td>3994.251794</td>\n",
       "      <td>0.000000</td>\n",
       "      <td>68.000000</td>\n",
       "      <td>6.000000</td>\n",
       "      <td>24.000000</td>\n",
       "      <td>0.000000</td>\n",
       "      <td>1.000000</td>\n",
       "      <td>272.258244</td>\n",
       "      <td>0.000000</td>\n",
       "    </tr>\n",
       "    <tr>\n",
       "      <th>50%</th>\n",
       "      <td>5780.182197</td>\n",
       "      <td>33889.500000</td>\n",
       "      <td>83.000000</td>\n",
       "      <td>14.000000</td>\n",
       "      <td>48.000000</td>\n",
       "      <td>0.000000</td>\n",
       "      <td>2.000000</td>\n",
       "      <td>383.945434</td>\n",
       "      <td>0.000000</td>\n",
       "    </tr>\n",
       "    <tr>\n",
       "      <th>75%</th>\n",
       "      <td>8962.167041</td>\n",
       "      <td>62320.000000</td>\n",
       "      <td>109.000000</td>\n",
       "      <td>23.000000</td>\n",
       "      <td>71.000000</td>\n",
       "      <td>0.000000</td>\n",
       "      <td>4.000000</td>\n",
       "      <td>547.514839</td>\n",
       "      <td>0.000000</td>\n",
       "    </tr>\n",
       "    <tr>\n",
       "      <th>max</th>\n",
       "      <td>83325.381190</td>\n",
       "      <td>99981.000000</td>\n",
       "      <td>298.000000</td>\n",
       "      <td>35.000000</td>\n",
       "      <td>99.000000</td>\n",
       "      <td>5.000000</td>\n",
       "      <td>9.000000</td>\n",
       "      <td>2893.239678</td>\n",
       "      <td>1.000000</td>\n",
       "    </tr>\n",
       "  </tbody>\n",
       "</table>\n",
       "</div>"
      ],
      "text/plain": [
       "       Customer Lifetime Value        Income  Monthly Premium Auto  \\\n",
       "count              9134.000000   9134.000000           9134.000000   \n",
       "mean               8004.940475  37657.380009             93.219291   \n",
       "std                6870.967608  30379.904734             34.407967   \n",
       "min                1898.007675      0.000000             61.000000   \n",
       "25%                3994.251794      0.000000             68.000000   \n",
       "50%                5780.182197  33889.500000             83.000000   \n",
       "75%                8962.167041  62320.000000            109.000000   \n",
       "max               83325.381190  99981.000000            298.000000   \n",
       "\n",
       "       Months Since Last Claim  Months Since Policy Inception  \\\n",
       "count              9134.000000                    9134.000000   \n",
       "mean                 15.097000                      48.064594   \n",
       "std                  10.073257                      27.905991   \n",
       "min                   0.000000                       0.000000   \n",
       "25%                   6.000000                      24.000000   \n",
       "50%                  14.000000                      48.000000   \n",
       "75%                  23.000000                      71.000000   \n",
       "max                  35.000000                      99.000000   \n",
       "\n",
       "       Number of Open Complaints  Number of Policies  Total Claim Amount  \\\n",
       "count                9134.000000         9134.000000         9134.000000   \n",
       "mean                    0.384388            2.966170          434.088794   \n",
       "std                     0.910384            2.390182          290.500092   \n",
       "min                     0.000000            1.000000            0.099007   \n",
       "25%                     0.000000            1.000000          272.258244   \n",
       "50%                     0.000000            2.000000          383.945434   \n",
       "75%                     0.000000            4.000000          547.514839   \n",
       "max                     5.000000            9.000000         2893.239678   \n",
       "\n",
       "           Engaged  \n",
       "count  9134.000000  \n",
       "mean      0.143201  \n",
       "std       0.350297  \n",
       "min       0.000000  \n",
       "25%       0.000000  \n",
       "50%       0.000000  \n",
       "75%       0.000000  \n",
       "max       1.000000  "
      ]
     },
     "execution_count": 6,
     "metadata": {},
     "output_type": "execute_result"
    }
   ],
   "source": [
    "# here we checked the summary of the dataset\n",
    "df.describe()"
   ]
  },
  {
   "cell_type": "markdown",
   "id": "06ec84f1-00a0-40ba-8b04-a97c6554b33b",
   "metadata": {
    "id": "06ec84f1-00a0-40ba-8b04-a97c6554b33b"
   },
   "source": [
    "### Continuous Variables"
   ]
  },
  {
   "cell_type": "code",
   "execution_count": 7,
   "id": "9f8cd18a-1907-40d7-8a7a-b5987f745cf1",
   "metadata": {
    "id": "9f8cd18a-1907-40d7-8a7a-b5987f745cf1"
   },
   "outputs": [],
   "source": [
    " # here we created a new variable called continuous_features and stored the continous variables in it.\n",
    "continuous_features = [\n",
    "    'Customer Lifetime Value', 'Income', 'Monthly Premium Auto',\n",
    "    'Months Since Last Claim', 'Months Since Policy Inception',\n",
    "    'Number of Open Complaints', 'Number of Policies', 'Total Claim Amount'\n",
    "]"
   ]
  },
  {
   "cell_type": "markdown",
   "id": "2d8fcea0-c1df-4fc5-800b-d7c85b502c73",
   "metadata": {
    "id": "2d8fcea0-c1df-4fc5-800b-d7c85b502c73"
   },
   "source": [
    "### Categorical variable encoding"
   ]
  },
  {
   "cell_type": "code",
   "execution_count": 8,
   "id": "bb151766-bd01-402b-93c4-580c9ca1c84d",
   "metadata": {},
   "outputs": [],
   "source": [
    "columns_to_encode = [\n",
    "    'Sales Channel', 'Vehicle Size', 'Vehicle Class', 'Policy', 'Policy Type', \n",
    "    'EmploymentStatus', 'Marital Status', 'Education', 'Coverage'\n",
    "]"
   ]
  },
  {
   "cell_type": "code",
   "execution_count": 9,
   "id": "03e61f8c-a944-4f5b-abf1-337362c910c3",
   "metadata": {},
   "outputs": [
    {
     "data": {
      "text/html": [
       "<div>\n",
       "<style scoped>\n",
       "    .dataframe tbody tr th:only-of-type {\n",
       "        vertical-align: middle;\n",
       "    }\n",
       "\n",
       "    .dataframe tbody tr th {\n",
       "        vertical-align: top;\n",
       "    }\n",
       "\n",
       "    .dataframe thead th {\n",
       "        text-align: right;\n",
       "    }\n",
       "</style>\n",
       "<table border=\"1\" class=\"dataframe\">\n",
       "  <thead>\n",
       "    <tr style=\"text-align: right;\">\n",
       "      <th></th>\n",
       "      <th>Sales Channel</th>\n",
       "      <th>Vehicle Size</th>\n",
       "      <th>Vehicle Class</th>\n",
       "      <th>Policy</th>\n",
       "      <th>Policy Type</th>\n",
       "      <th>EmploymentStatus</th>\n",
       "      <th>Marital Status</th>\n",
       "      <th>Education</th>\n",
       "      <th>Coverage</th>\n",
       "    </tr>\n",
       "  </thead>\n",
       "  <tbody>\n",
       "    <tr>\n",
       "      <th>0</th>\n",
       "      <td>Agent</td>\n",
       "      <td>Medsize</td>\n",
       "      <td>Two-Door Car</td>\n",
       "      <td>Corporate L3</td>\n",
       "      <td>Corporate Auto</td>\n",
       "      <td>Employed</td>\n",
       "      <td>Married</td>\n",
       "      <td>Bachelor</td>\n",
       "      <td>Basic</td>\n",
       "    </tr>\n",
       "    <tr>\n",
       "      <th>1</th>\n",
       "      <td>Agent</td>\n",
       "      <td>Medsize</td>\n",
       "      <td>Four-Door Car</td>\n",
       "      <td>Personal L3</td>\n",
       "      <td>Personal Auto</td>\n",
       "      <td>Unemployed</td>\n",
       "      <td>Single</td>\n",
       "      <td>Bachelor</td>\n",
       "      <td>Extended</td>\n",
       "    </tr>\n",
       "    <tr>\n",
       "      <th>2</th>\n",
       "      <td>Agent</td>\n",
       "      <td>Medsize</td>\n",
       "      <td>Two-Door Car</td>\n",
       "      <td>Personal L3</td>\n",
       "      <td>Personal Auto</td>\n",
       "      <td>Employed</td>\n",
       "      <td>Married</td>\n",
       "      <td>Bachelor</td>\n",
       "      <td>Premium</td>\n",
       "    </tr>\n",
       "    <tr>\n",
       "      <th>3</th>\n",
       "      <td>Call Center</td>\n",
       "      <td>Medsize</td>\n",
       "      <td>SUV</td>\n",
       "      <td>Corporate L2</td>\n",
       "      <td>Corporate Auto</td>\n",
       "      <td>Unemployed</td>\n",
       "      <td>Married</td>\n",
       "      <td>Bachelor</td>\n",
       "      <td>Basic</td>\n",
       "    </tr>\n",
       "    <tr>\n",
       "      <th>4</th>\n",
       "      <td>Agent</td>\n",
       "      <td>Medsize</td>\n",
       "      <td>Four-Door Car</td>\n",
       "      <td>Personal L1</td>\n",
       "      <td>Personal Auto</td>\n",
       "      <td>Employed</td>\n",
       "      <td>Single</td>\n",
       "      <td>Bachelor</td>\n",
       "      <td>Basic</td>\n",
       "    </tr>\n",
       "    <tr>\n",
       "      <th>...</th>\n",
       "      <td>...</td>\n",
       "      <td>...</td>\n",
       "      <td>...</td>\n",
       "      <td>...</td>\n",
       "      <td>...</td>\n",
       "      <td>...</td>\n",
       "      <td>...</td>\n",
       "      <td>...</td>\n",
       "      <td>...</td>\n",
       "    </tr>\n",
       "    <tr>\n",
       "      <th>9129</th>\n",
       "      <td>Web</td>\n",
       "      <td>Medsize</td>\n",
       "      <td>Four-Door Car</td>\n",
       "      <td>Personal L1</td>\n",
       "      <td>Personal Auto</td>\n",
       "      <td>Employed</td>\n",
       "      <td>Married</td>\n",
       "      <td>Bachelor</td>\n",
       "      <td>Basic</td>\n",
       "    </tr>\n",
       "    <tr>\n",
       "      <th>9130</th>\n",
       "      <td>Branch</td>\n",
       "      <td>Medsize</td>\n",
       "      <td>Four-Door Car</td>\n",
       "      <td>Corporate L3</td>\n",
       "      <td>Corporate Auto</td>\n",
       "      <td>Employed</td>\n",
       "      <td>Divorced</td>\n",
       "      <td>College</td>\n",
       "      <td>Extended</td>\n",
       "    </tr>\n",
       "    <tr>\n",
       "      <th>9131</th>\n",
       "      <td>Branch</td>\n",
       "      <td>Medsize</td>\n",
       "      <td>Four-Door Car</td>\n",
       "      <td>Corporate L2</td>\n",
       "      <td>Corporate Auto</td>\n",
       "      <td>Unemployed</td>\n",
       "      <td>Single</td>\n",
       "      <td>Bachelor</td>\n",
       "      <td>Extended</td>\n",
       "    </tr>\n",
       "    <tr>\n",
       "      <th>9132</th>\n",
       "      <td>Branch</td>\n",
       "      <td>Large</td>\n",
       "      <td>Four-Door Car</td>\n",
       "      <td>Personal L2</td>\n",
       "      <td>Personal Auto</td>\n",
       "      <td>Employed</td>\n",
       "      <td>Married</td>\n",
       "      <td>College</td>\n",
       "      <td>Extended</td>\n",
       "    </tr>\n",
       "    <tr>\n",
       "      <th>9133</th>\n",
       "      <td>Call Center</td>\n",
       "      <td>Medsize</td>\n",
       "      <td>Two-Door Car</td>\n",
       "      <td>Corporate L3</td>\n",
       "      <td>Corporate Auto</td>\n",
       "      <td>Unemployed</td>\n",
       "      <td>Single</td>\n",
       "      <td>College</td>\n",
       "      <td>Extended</td>\n",
       "    </tr>\n",
       "  </tbody>\n",
       "</table>\n",
       "<p>9134 rows × 9 columns</p>\n",
       "</div>"
      ],
      "text/plain": [
       "     Sales Channel Vehicle Size  Vehicle Class        Policy     Policy Type  \\\n",
       "0            Agent      Medsize   Two-Door Car  Corporate L3  Corporate Auto   \n",
       "1            Agent      Medsize  Four-Door Car   Personal L3   Personal Auto   \n",
       "2            Agent      Medsize   Two-Door Car   Personal L3   Personal Auto   \n",
       "3      Call Center      Medsize            SUV  Corporate L2  Corporate Auto   \n",
       "4            Agent      Medsize  Four-Door Car   Personal L1   Personal Auto   \n",
       "...            ...          ...            ...           ...             ...   \n",
       "9129           Web      Medsize  Four-Door Car   Personal L1   Personal Auto   \n",
       "9130        Branch      Medsize  Four-Door Car  Corporate L3  Corporate Auto   \n",
       "9131        Branch      Medsize  Four-Door Car  Corporate L2  Corporate Auto   \n",
       "9132        Branch        Large  Four-Door Car   Personal L2   Personal Auto   \n",
       "9133   Call Center      Medsize   Two-Door Car  Corporate L3  Corporate Auto   \n",
       "\n",
       "     EmploymentStatus Marital Status Education  Coverage  \n",
       "0            Employed        Married  Bachelor     Basic  \n",
       "1          Unemployed         Single  Bachelor  Extended  \n",
       "2            Employed        Married  Bachelor   Premium  \n",
       "3          Unemployed        Married  Bachelor     Basic  \n",
       "4            Employed         Single  Bachelor     Basic  \n",
       "...               ...            ...       ...       ...  \n",
       "9129         Employed        Married  Bachelor     Basic  \n",
       "9130         Employed       Divorced   College  Extended  \n",
       "9131       Unemployed         Single  Bachelor  Extended  \n",
       "9132         Employed        Married   College  Extended  \n",
       "9133       Unemployed         Single   College  Extended  \n",
       "\n",
       "[9134 rows x 9 columns]"
      ]
     },
     "execution_count": 9,
     "metadata": {},
     "output_type": "execute_result"
    }
   ],
   "source": [
    "df[columns_to_encode]"
   ]
  },
  {
   "cell_type": "code",
   "execution_count": 10,
   "id": "c8119a57-516b-44d4-ad8d-6db37d1d675f",
   "metadata": {
    "id": "c8119a57-516b-44d4-ad8d-6db37d1d675f",
    "tags": []
   },
   "outputs": [],
   "source": [
    "# we create dummy variables for each category of individual categorical variables, using the get_dummies function from the pandas package. \n",
    "categorical_features = []\n",
    "for col in columns_to_encode:\n",
    "    encoded_df = pd.get_dummies(df[col])\n",
    "    encoded_df.columns = [col.replace(' ', '.') + '.' + x for x in encoded_df.columns]\n",
    "    \n",
    "    categorical_features += list(encoded_df.columns)\n",
    "    \n",
    "    df = pd.concat([df, encoded_df], axis=1)"
   ]
  },
  {
   "cell_type": "code",
   "execution_count": 11,
   "id": "6a91c12e-1e34-4b95-ad93-2121a18bc8c5",
   "metadata": {},
   "outputs": [
    {
     "data": {
      "text/html": [
       "<div>\n",
       "<style scoped>\n",
       "    .dataframe tbody tr th:only-of-type {\n",
       "        vertical-align: middle;\n",
       "    }\n",
       "\n",
       "    .dataframe tbody tr th {\n",
       "        vertical-align: top;\n",
       "    }\n",
       "\n",
       "    .dataframe thead th {\n",
       "        text-align: right;\n",
       "    }\n",
       "</style>\n",
       "<table border=\"1\" class=\"dataframe\">\n",
       "  <thead>\n",
       "    <tr style=\"text-align: right;\">\n",
       "      <th></th>\n",
       "      <th>Sales.Channel.Agent</th>\n",
       "      <th>Sales.Channel.Branch</th>\n",
       "      <th>Sales.Channel.Call Center</th>\n",
       "      <th>Sales.Channel.Web</th>\n",
       "      <th>Vehicle.Size.Large</th>\n",
       "      <th>Vehicle.Size.Medsize</th>\n",
       "      <th>Vehicle.Size.Small</th>\n",
       "      <th>Vehicle.Class.Four-Door Car</th>\n",
       "      <th>Vehicle.Class.Luxury Car</th>\n",
       "      <th>Vehicle.Class.Luxury SUV</th>\n",
       "      <th>...</th>\n",
       "      <th>Marital.Status.Married</th>\n",
       "      <th>Marital.Status.Single</th>\n",
       "      <th>Education.Bachelor</th>\n",
       "      <th>Education.College</th>\n",
       "      <th>Education.Doctor</th>\n",
       "      <th>Education.High School or Below</th>\n",
       "      <th>Education.Master</th>\n",
       "      <th>Coverage.Basic</th>\n",
       "      <th>Coverage.Extended</th>\n",
       "      <th>Coverage.Premium</th>\n",
       "    </tr>\n",
       "  </thead>\n",
       "  <tbody>\n",
       "    <tr>\n",
       "      <th>0</th>\n",
       "      <td>1</td>\n",
       "      <td>0</td>\n",
       "      <td>0</td>\n",
       "      <td>0</td>\n",
       "      <td>0</td>\n",
       "      <td>1</td>\n",
       "      <td>0</td>\n",
       "      <td>0</td>\n",
       "      <td>0</td>\n",
       "      <td>0</td>\n",
       "      <td>...</td>\n",
       "      <td>1</td>\n",
       "      <td>0</td>\n",
       "      <td>1</td>\n",
       "      <td>0</td>\n",
       "      <td>0</td>\n",
       "      <td>0</td>\n",
       "      <td>0</td>\n",
       "      <td>1</td>\n",
       "      <td>0</td>\n",
       "      <td>0</td>\n",
       "    </tr>\n",
       "    <tr>\n",
       "      <th>1</th>\n",
       "      <td>1</td>\n",
       "      <td>0</td>\n",
       "      <td>0</td>\n",
       "      <td>0</td>\n",
       "      <td>0</td>\n",
       "      <td>1</td>\n",
       "      <td>0</td>\n",
       "      <td>1</td>\n",
       "      <td>0</td>\n",
       "      <td>0</td>\n",
       "      <td>...</td>\n",
       "      <td>0</td>\n",
       "      <td>1</td>\n",
       "      <td>1</td>\n",
       "      <td>0</td>\n",
       "      <td>0</td>\n",
       "      <td>0</td>\n",
       "      <td>0</td>\n",
       "      <td>0</td>\n",
       "      <td>1</td>\n",
       "      <td>0</td>\n",
       "    </tr>\n",
       "    <tr>\n",
       "      <th>2</th>\n",
       "      <td>1</td>\n",
       "      <td>0</td>\n",
       "      <td>0</td>\n",
       "      <td>0</td>\n",
       "      <td>0</td>\n",
       "      <td>1</td>\n",
       "      <td>0</td>\n",
       "      <td>0</td>\n",
       "      <td>0</td>\n",
       "      <td>0</td>\n",
       "      <td>...</td>\n",
       "      <td>1</td>\n",
       "      <td>0</td>\n",
       "      <td>1</td>\n",
       "      <td>0</td>\n",
       "      <td>0</td>\n",
       "      <td>0</td>\n",
       "      <td>0</td>\n",
       "      <td>0</td>\n",
       "      <td>0</td>\n",
       "      <td>1</td>\n",
       "    </tr>\n",
       "    <tr>\n",
       "      <th>3</th>\n",
       "      <td>0</td>\n",
       "      <td>0</td>\n",
       "      <td>1</td>\n",
       "      <td>0</td>\n",
       "      <td>0</td>\n",
       "      <td>1</td>\n",
       "      <td>0</td>\n",
       "      <td>0</td>\n",
       "      <td>0</td>\n",
       "      <td>0</td>\n",
       "      <td>...</td>\n",
       "      <td>1</td>\n",
       "      <td>0</td>\n",
       "      <td>1</td>\n",
       "      <td>0</td>\n",
       "      <td>0</td>\n",
       "      <td>0</td>\n",
       "      <td>0</td>\n",
       "      <td>1</td>\n",
       "      <td>0</td>\n",
       "      <td>0</td>\n",
       "    </tr>\n",
       "    <tr>\n",
       "      <th>4</th>\n",
       "      <td>1</td>\n",
       "      <td>0</td>\n",
       "      <td>0</td>\n",
       "      <td>0</td>\n",
       "      <td>0</td>\n",
       "      <td>1</td>\n",
       "      <td>0</td>\n",
       "      <td>1</td>\n",
       "      <td>0</td>\n",
       "      <td>0</td>\n",
       "      <td>...</td>\n",
       "      <td>0</td>\n",
       "      <td>1</td>\n",
       "      <td>1</td>\n",
       "      <td>0</td>\n",
       "      <td>0</td>\n",
       "      <td>0</td>\n",
       "      <td>0</td>\n",
       "      <td>1</td>\n",
       "      <td>0</td>\n",
       "      <td>0</td>\n",
       "    </tr>\n",
       "    <tr>\n",
       "      <th>...</th>\n",
       "      <td>...</td>\n",
       "      <td>...</td>\n",
       "      <td>...</td>\n",
       "      <td>...</td>\n",
       "      <td>...</td>\n",
       "      <td>...</td>\n",
       "      <td>...</td>\n",
       "      <td>...</td>\n",
       "      <td>...</td>\n",
       "      <td>...</td>\n",
       "      <td>...</td>\n",
       "      <td>...</td>\n",
       "      <td>...</td>\n",
       "      <td>...</td>\n",
       "      <td>...</td>\n",
       "      <td>...</td>\n",
       "      <td>...</td>\n",
       "      <td>...</td>\n",
       "      <td>...</td>\n",
       "      <td>...</td>\n",
       "      <td>...</td>\n",
       "    </tr>\n",
       "    <tr>\n",
       "      <th>9129</th>\n",
       "      <td>0</td>\n",
       "      <td>0</td>\n",
       "      <td>0</td>\n",
       "      <td>1</td>\n",
       "      <td>0</td>\n",
       "      <td>1</td>\n",
       "      <td>0</td>\n",
       "      <td>1</td>\n",
       "      <td>0</td>\n",
       "      <td>0</td>\n",
       "      <td>...</td>\n",
       "      <td>1</td>\n",
       "      <td>0</td>\n",
       "      <td>1</td>\n",
       "      <td>0</td>\n",
       "      <td>0</td>\n",
       "      <td>0</td>\n",
       "      <td>0</td>\n",
       "      <td>1</td>\n",
       "      <td>0</td>\n",
       "      <td>0</td>\n",
       "    </tr>\n",
       "    <tr>\n",
       "      <th>9130</th>\n",
       "      <td>0</td>\n",
       "      <td>1</td>\n",
       "      <td>0</td>\n",
       "      <td>0</td>\n",
       "      <td>0</td>\n",
       "      <td>1</td>\n",
       "      <td>0</td>\n",
       "      <td>1</td>\n",
       "      <td>0</td>\n",
       "      <td>0</td>\n",
       "      <td>...</td>\n",
       "      <td>0</td>\n",
       "      <td>0</td>\n",
       "      <td>0</td>\n",
       "      <td>1</td>\n",
       "      <td>0</td>\n",
       "      <td>0</td>\n",
       "      <td>0</td>\n",
       "      <td>0</td>\n",
       "      <td>1</td>\n",
       "      <td>0</td>\n",
       "    </tr>\n",
       "    <tr>\n",
       "      <th>9131</th>\n",
       "      <td>0</td>\n",
       "      <td>1</td>\n",
       "      <td>0</td>\n",
       "      <td>0</td>\n",
       "      <td>0</td>\n",
       "      <td>1</td>\n",
       "      <td>0</td>\n",
       "      <td>1</td>\n",
       "      <td>0</td>\n",
       "      <td>0</td>\n",
       "      <td>...</td>\n",
       "      <td>0</td>\n",
       "      <td>1</td>\n",
       "      <td>1</td>\n",
       "      <td>0</td>\n",
       "      <td>0</td>\n",
       "      <td>0</td>\n",
       "      <td>0</td>\n",
       "      <td>0</td>\n",
       "      <td>1</td>\n",
       "      <td>0</td>\n",
       "    </tr>\n",
       "    <tr>\n",
       "      <th>9132</th>\n",
       "      <td>0</td>\n",
       "      <td>1</td>\n",
       "      <td>0</td>\n",
       "      <td>0</td>\n",
       "      <td>1</td>\n",
       "      <td>0</td>\n",
       "      <td>0</td>\n",
       "      <td>1</td>\n",
       "      <td>0</td>\n",
       "      <td>0</td>\n",
       "      <td>...</td>\n",
       "      <td>1</td>\n",
       "      <td>0</td>\n",
       "      <td>0</td>\n",
       "      <td>1</td>\n",
       "      <td>0</td>\n",
       "      <td>0</td>\n",
       "      <td>0</td>\n",
       "      <td>0</td>\n",
       "      <td>1</td>\n",
       "      <td>0</td>\n",
       "    </tr>\n",
       "    <tr>\n",
       "      <th>9133</th>\n",
       "      <td>0</td>\n",
       "      <td>0</td>\n",
       "      <td>1</td>\n",
       "      <td>0</td>\n",
       "      <td>0</td>\n",
       "      <td>1</td>\n",
       "      <td>0</td>\n",
       "      <td>0</td>\n",
       "      <td>0</td>\n",
       "      <td>0</td>\n",
       "      <td>...</td>\n",
       "      <td>0</td>\n",
       "      <td>1</td>\n",
       "      <td>0</td>\n",
       "      <td>1</td>\n",
       "      <td>0</td>\n",
       "      <td>0</td>\n",
       "      <td>0</td>\n",
       "      <td>0</td>\n",
       "      <td>1</td>\n",
       "      <td>0</td>\n",
       "    </tr>\n",
       "  </tbody>\n",
       "</table>\n",
       "<p>9134 rows × 41 columns</p>\n",
       "</div>"
      ],
      "text/plain": [
       "      Sales.Channel.Agent  Sales.Channel.Branch  Sales.Channel.Call Center  \\\n",
       "0                       1                     0                          0   \n",
       "1                       1                     0                          0   \n",
       "2                       1                     0                          0   \n",
       "3                       0                     0                          1   \n",
       "4                       1                     0                          0   \n",
       "...                   ...                   ...                        ...   \n",
       "9129                    0                     0                          0   \n",
       "9130                    0                     1                          0   \n",
       "9131                    0                     1                          0   \n",
       "9132                    0                     1                          0   \n",
       "9133                    0                     0                          1   \n",
       "\n",
       "      Sales.Channel.Web  Vehicle.Size.Large  Vehicle.Size.Medsize  \\\n",
       "0                     0                   0                     1   \n",
       "1                     0                   0                     1   \n",
       "2                     0                   0                     1   \n",
       "3                     0                   0                     1   \n",
       "4                     0                   0                     1   \n",
       "...                 ...                 ...                   ...   \n",
       "9129                  1                   0                     1   \n",
       "9130                  0                   0                     1   \n",
       "9131                  0                   0                     1   \n",
       "9132                  0                   1                     0   \n",
       "9133                  0                   0                     1   \n",
       "\n",
       "      Vehicle.Size.Small  Vehicle.Class.Four-Door Car  \\\n",
       "0                      0                            0   \n",
       "1                      0                            1   \n",
       "2                      0                            0   \n",
       "3                      0                            0   \n",
       "4                      0                            1   \n",
       "...                  ...                          ...   \n",
       "9129                   0                            1   \n",
       "9130                   0                            1   \n",
       "9131                   0                            1   \n",
       "9132                   0                            1   \n",
       "9133                   0                            0   \n",
       "\n",
       "      Vehicle.Class.Luxury Car  Vehicle.Class.Luxury SUV  ...  \\\n",
       "0                            0                         0  ...   \n",
       "1                            0                         0  ...   \n",
       "2                            0                         0  ...   \n",
       "3                            0                         0  ...   \n",
       "4                            0                         0  ...   \n",
       "...                        ...                       ...  ...   \n",
       "9129                         0                         0  ...   \n",
       "9130                         0                         0  ...   \n",
       "9131                         0                         0  ...   \n",
       "9132                         0                         0  ...   \n",
       "9133                         0                         0  ...   \n",
       "\n",
       "      Marital.Status.Married  Marital.Status.Single  Education.Bachelor  \\\n",
       "0                          1                      0                   1   \n",
       "1                          0                      1                   1   \n",
       "2                          1                      0                   1   \n",
       "3                          1                      0                   1   \n",
       "4                          0                      1                   1   \n",
       "...                      ...                    ...                 ...   \n",
       "9129                       1                      0                   1   \n",
       "9130                       0                      0                   0   \n",
       "9131                       0                      1                   1   \n",
       "9132                       1                      0                   0   \n",
       "9133                       0                      1                   0   \n",
       "\n",
       "      Education.College  Education.Doctor  Education.High School or Below  \\\n",
       "0                     0                 0                               0   \n",
       "1                     0                 0                               0   \n",
       "2                     0                 0                               0   \n",
       "3                     0                 0                               0   \n",
       "4                     0                 0                               0   \n",
       "...                 ...               ...                             ...   \n",
       "9129                  0                 0                               0   \n",
       "9130                  1                 0                               0   \n",
       "9131                  0                 0                               0   \n",
       "9132                  1                 0                               0   \n",
       "9133                  1                 0                               0   \n",
       "\n",
       "      Education.Master  Coverage.Basic  Coverage.Extended  Coverage.Premium  \n",
       "0                    0               1                  0                 0  \n",
       "1                    0               0                  1                 0  \n",
       "2                    0               0                  0                 1  \n",
       "3                    0               1                  0                 0  \n",
       "4                    0               1                  0                 0  \n",
       "...                ...             ...                ...               ...  \n",
       "9129                 0               1                  0                 0  \n",
       "9130                 0               0                  1                 0  \n",
       "9131                 0               0                  1                 0  \n",
       "9132                 0               0                  1                 0  \n",
       "9133                 0               0                  1                 0  \n",
       "\n",
       "[9134 rows x 41 columns]"
      ]
     },
     "execution_count": 11,
     "metadata": {},
     "output_type": "execute_result"
    }
   ],
   "source": [
    "df[categorical_features]"
   ]
  },
  {
   "cell_type": "markdown",
   "id": "67e303ff-bf94-43ff-b112-02ff4c8fad3a",
   "metadata": {
    "id": "67e303ff-bf94-43ff-b112-02ff4c8fad3a"
   },
   "source": [
    "### Encoding Gender"
   ]
  },
  {
   "cell_type": "code",
   "execution_count": 44,
   "id": "ee107c55-4732-4405-9d19-e19f41819e99",
   "metadata": {
    "id": "ee107c55-4732-4405-9d19-e19f41819e99",
    "tags": []
   },
   "outputs": [],
   "source": [
    "# we are going to create one variable that contains information about the gender of a given record.\n",
    "df['Is.Female'] = df['Gender'].apply(lambda x: 1 if x == 'F' else 0)\n",
    "categorical_features.append('Is.Female')"
   ]
  },
  {
   "cell_type": "code",
   "execution_count": 46,
   "id": "bce3be0b-968f-42c4-a188-bc5c204332d6",
   "metadata": {},
   "outputs": [
    {
     "data": {
      "text/plain": [
       "0       1\n",
       "1       1\n",
       "2       1\n",
       "3       0\n",
       "4       0\n",
       "       ..\n",
       "9129    0\n",
       "9130    1\n",
       "9131    0\n",
       "9132    0\n",
       "9133    0\n",
       "Name: Is.Female, Length: 9134, dtype: int64"
      ]
     },
     "execution_count": 46,
     "metadata": {},
     "output_type": "execute_result"
    }
   ],
   "source": [
    "df['Is.Female']"
   ]
  },
  {
   "cell_type": "markdown",
   "id": "9c33d5e5-f3fe-43df-9245-5e12c7ec2202",
   "metadata": {
    "id": "9c33d5e5-f3fe-43df-9245-5e12c7ec2202",
    "tags": []
   },
   "source": [
    "## Building predictive models\n",
    "### All features and response"
   ]
  },
  {
   "cell_type": "code",
   "execution_count": 13,
   "id": "57126c34-4149-4c8b-9b40-4db408d991a4",
   "metadata": {
    "id": "57126c34-4149-4c8b-9b40-4db408d991a4",
    "tags": []
   },
   "outputs": [],
   "source": [
    "# cleaning up in our data. Take a look at the following code: \n",
    "all_features = continuous_features + categorical_features\n",
    "response = 'Engaged'\n"
   ]
  },
  {
   "cell_type": "code",
   "execution_count": 14,
   "id": "c0fa34f8-8843-4819-8cf3-7c88dca4cb94",
   "metadata": {
    "id": "c0fa34f8-8843-4819-8cf3-7c88dca4cb94"
   },
   "outputs": [],
   "source": [
    "# As you can see from this code, we are creating a new DataFrame sample_df, which contains all the features, all_features\n",
    "# and the response variable, response. Then, we are cleaning up the column and feature names by replacing all the spaces \n",
    "# in the names with dots. After these cleanups, DataFrame sample_df\n",
    "\n",
    "sample_df = df[all_features + [response]]\n",
    "sample_df.columns = [x.replace(' ', '.') for x in sample_df.columns]\n",
    "all_features = [x.replace(' ', '.') for x in all_features]"
   ]
  },
  {
   "cell_type": "code",
   "execution_count": 15,
   "id": "567313d5-9d86-4b5c-9d77-5ea3f4d17612",
   "metadata": {
    "id": "567313d5-9d86-4b5c-9d77-5ea3f4d17612",
    "outputId": "92d47eb8-5f27-470e-fe97-9dcae2aa76cb"
   },
   "outputs": [
    {
     "data": {
      "text/html": [
       "<div>\n",
       "<style scoped>\n",
       "    .dataframe tbody tr th:only-of-type {\n",
       "        vertical-align: middle;\n",
       "    }\n",
       "\n",
       "    .dataframe tbody tr th {\n",
       "        vertical-align: top;\n",
       "    }\n",
       "\n",
       "    .dataframe thead th {\n",
       "        text-align: right;\n",
       "    }\n",
       "</style>\n",
       "<table border=\"1\" class=\"dataframe\">\n",
       "  <thead>\n",
       "    <tr style=\"text-align: right;\">\n",
       "      <th></th>\n",
       "      <th>Customer.Lifetime.Value</th>\n",
       "      <th>Income</th>\n",
       "      <th>Monthly.Premium.Auto</th>\n",
       "      <th>Months.Since.Last.Claim</th>\n",
       "      <th>Months.Since.Policy.Inception</th>\n",
       "      <th>Number.of.Open.Complaints</th>\n",
       "      <th>Number.of.Policies</th>\n",
       "      <th>Total.Claim.Amount</th>\n",
       "      <th>Sales.Channel.Agent</th>\n",
       "      <th>Sales.Channel.Branch</th>\n",
       "      <th>...</th>\n",
       "      <th>Education.Bachelor</th>\n",
       "      <th>Education.College</th>\n",
       "      <th>Education.Doctor</th>\n",
       "      <th>Education.High.School.or.Below</th>\n",
       "      <th>Education.Master</th>\n",
       "      <th>Coverage.Basic</th>\n",
       "      <th>Coverage.Extended</th>\n",
       "      <th>Coverage.Premium</th>\n",
       "      <th>Is.Female</th>\n",
       "      <th>Engaged</th>\n",
       "    </tr>\n",
       "  </thead>\n",
       "  <tbody>\n",
       "    <tr>\n",
       "      <th>0</th>\n",
       "      <td>2763.519279</td>\n",
       "      <td>56274</td>\n",
       "      <td>69</td>\n",
       "      <td>32</td>\n",
       "      <td>5</td>\n",
       "      <td>0</td>\n",
       "      <td>1</td>\n",
       "      <td>384.811147</td>\n",
       "      <td>1</td>\n",
       "      <td>0</td>\n",
       "      <td>...</td>\n",
       "      <td>1</td>\n",
       "      <td>0</td>\n",
       "      <td>0</td>\n",
       "      <td>0</td>\n",
       "      <td>0</td>\n",
       "      <td>1</td>\n",
       "      <td>0</td>\n",
       "      <td>0</td>\n",
       "      <td>1</td>\n",
       "      <td>0</td>\n",
       "    </tr>\n",
       "    <tr>\n",
       "      <th>1</th>\n",
       "      <td>6979.535903</td>\n",
       "      <td>0</td>\n",
       "      <td>94</td>\n",
       "      <td>13</td>\n",
       "      <td>42</td>\n",
       "      <td>0</td>\n",
       "      <td>8</td>\n",
       "      <td>1131.464935</td>\n",
       "      <td>1</td>\n",
       "      <td>0</td>\n",
       "      <td>...</td>\n",
       "      <td>1</td>\n",
       "      <td>0</td>\n",
       "      <td>0</td>\n",
       "      <td>0</td>\n",
       "      <td>0</td>\n",
       "      <td>0</td>\n",
       "      <td>1</td>\n",
       "      <td>0</td>\n",
       "      <td>1</td>\n",
       "      <td>0</td>\n",
       "    </tr>\n",
       "    <tr>\n",
       "      <th>2</th>\n",
       "      <td>12887.431650</td>\n",
       "      <td>48767</td>\n",
       "      <td>108</td>\n",
       "      <td>18</td>\n",
       "      <td>38</td>\n",
       "      <td>0</td>\n",
       "      <td>2</td>\n",
       "      <td>566.472247</td>\n",
       "      <td>1</td>\n",
       "      <td>0</td>\n",
       "      <td>...</td>\n",
       "      <td>1</td>\n",
       "      <td>0</td>\n",
       "      <td>0</td>\n",
       "      <td>0</td>\n",
       "      <td>0</td>\n",
       "      <td>0</td>\n",
       "      <td>0</td>\n",
       "      <td>1</td>\n",
       "      <td>1</td>\n",
       "      <td>0</td>\n",
       "    </tr>\n",
       "    <tr>\n",
       "      <th>3</th>\n",
       "      <td>7645.861827</td>\n",
       "      <td>0</td>\n",
       "      <td>106</td>\n",
       "      <td>18</td>\n",
       "      <td>65</td>\n",
       "      <td>0</td>\n",
       "      <td>7</td>\n",
       "      <td>529.881344</td>\n",
       "      <td>0</td>\n",
       "      <td>0</td>\n",
       "      <td>...</td>\n",
       "      <td>1</td>\n",
       "      <td>0</td>\n",
       "      <td>0</td>\n",
       "      <td>0</td>\n",
       "      <td>0</td>\n",
       "      <td>1</td>\n",
       "      <td>0</td>\n",
       "      <td>0</td>\n",
       "      <td>0</td>\n",
       "      <td>0</td>\n",
       "    </tr>\n",
       "    <tr>\n",
       "      <th>4</th>\n",
       "      <td>2813.692575</td>\n",
       "      <td>43836</td>\n",
       "      <td>73</td>\n",
       "      <td>12</td>\n",
       "      <td>44</td>\n",
       "      <td>0</td>\n",
       "      <td>1</td>\n",
       "      <td>138.130879</td>\n",
       "      <td>1</td>\n",
       "      <td>0</td>\n",
       "      <td>...</td>\n",
       "      <td>1</td>\n",
       "      <td>0</td>\n",
       "      <td>0</td>\n",
       "      <td>0</td>\n",
       "      <td>0</td>\n",
       "      <td>1</td>\n",
       "      <td>0</td>\n",
       "      <td>0</td>\n",
       "      <td>0</td>\n",
       "      <td>0</td>\n",
       "    </tr>\n",
       "  </tbody>\n",
       "</table>\n",
       "<p>5 rows × 51 columns</p>\n",
       "</div>"
      ],
      "text/plain": [
       "   Customer.Lifetime.Value  Income  Monthly.Premium.Auto  \\\n",
       "0              2763.519279   56274                    69   \n",
       "1              6979.535903       0                    94   \n",
       "2             12887.431650   48767                   108   \n",
       "3              7645.861827       0                   106   \n",
       "4              2813.692575   43836                    73   \n",
       "\n",
       "   Months.Since.Last.Claim  Months.Since.Policy.Inception  \\\n",
       "0                       32                              5   \n",
       "1                       13                             42   \n",
       "2                       18                             38   \n",
       "3                       18                             65   \n",
       "4                       12                             44   \n",
       "\n",
       "   Number.of.Open.Complaints  Number.of.Policies  Total.Claim.Amount  \\\n",
       "0                          0                   1          384.811147   \n",
       "1                          0                   8         1131.464935   \n",
       "2                          0                   2          566.472247   \n",
       "3                          0                   7          529.881344   \n",
       "4                          0                   1          138.130879   \n",
       "\n",
       "   Sales.Channel.Agent  Sales.Channel.Branch  ...  Education.Bachelor  \\\n",
       "0                    1                     0  ...                   1   \n",
       "1                    1                     0  ...                   1   \n",
       "2                    1                     0  ...                   1   \n",
       "3                    0                     0  ...                   1   \n",
       "4                    1                     0  ...                   1   \n",
       "\n",
       "   Education.College  Education.Doctor  Education.High.School.or.Below  \\\n",
       "0                  0                 0                               0   \n",
       "1                  0                 0                               0   \n",
       "2                  0                 0                               0   \n",
       "3                  0                 0                               0   \n",
       "4                  0                 0                               0   \n",
       "\n",
       "   Education.Master  Coverage.Basic  Coverage.Extended  Coverage.Premium  \\\n",
       "0                 0               1                  0                 0   \n",
       "1                 0               0                  1                 0   \n",
       "2                 0               0                  0                 1   \n",
       "3                 0               1                  0                 0   \n",
       "4                 0               1                  0                 0   \n",
       "\n",
       "   Is.Female  Engaged  \n",
       "0          1        0  \n",
       "1          1        0  \n",
       "2          1        0  \n",
       "3          0        0  \n",
       "4          0        0  \n",
       "\n",
       "[5 rows x 51 columns]"
      ]
     },
     "execution_count": 15,
     "metadata": {},
     "output_type": "execute_result"
    }
   ],
   "source": [
    "sample_df.head()"
   ]
  },
  {
   "cell_type": "markdown",
   "id": "1035531f-a6d4-43c9-b925-07e926875289",
   "metadata": {
    "id": "1035531f-a6d4-43c9-b925-07e926875289"
   },
   "source": [
    "### Train and test \n",
    "Now that we have a sample set that we can train and test our machine learning models with, let's split this sample set into two subsets—one for training the\n",
    "models and another for testing and evaluating the trained models."
   ]
  },
  {
   "cell_type": "code",
   "execution_count": 16,
   "id": "f1659a12-d9e7-4159-9025-89b565dcd313",
   "metadata": {
    "id": "f1659a12-d9e7-4159-9025-89b565dcd313"
   },
   "outputs": [],
   "source": [
    "#  scikit-learn, has a function that splits a given sample set into train and test sets. Take a look at the following code:\n",
    "from sklearn.model_selection import train_test_split\n",
    "x_train, x_test, y_train, y_test = train_test_split(sample_df[all_features],sample_df[response], test_size=0.3)"
   ]
  },
  {
   "cell_type": "code",
   "execution_count": 17,
   "id": "2c080209-c8e6-44ea-992c-72d9540367ff",
   "metadata": {
    "id": "2c080209-c8e6-44ea-992c-72d9540367ff",
    "outputId": "34594fe6-4159-4424-9305-64cd147a563b"
   },
   "outputs": [
    {
     "data": {
      "text/plain": [
       "(9134, 51)"
      ]
     },
     "execution_count": 17,
     "metadata": {},
     "output_type": "execute_result"
    }
   ],
   "source": [
    "sample_df.shape"
   ]
  },
  {
   "cell_type": "code",
   "execution_count": 18,
   "id": "1be5a66f-8551-4e7e-80fa-be3f36b907cf",
   "metadata": {
    "id": "1be5a66f-8551-4e7e-80fa-be3f36b907cf",
    "outputId": "a275a25a-b9ab-41ea-cf11-9e3c48c51bbe"
   },
   "outputs": [
    {
     "data": {
      "text/plain": [
       "(6393, 50)"
      ]
     },
     "execution_count": 18,
     "metadata": {},
     "output_type": "execute_result"
    }
   ],
   "source": [
    "x_train.shape"
   ]
  },
  {
   "cell_type": "code",
   "execution_count": 19,
   "id": "3b43ec79-da08-426b-ba5d-afcfa8c9e344",
   "metadata": {
    "id": "3b43ec79-da08-426b-ba5d-afcfa8c9e344",
    "outputId": "b120dcd3-c5a8-4a30-fd0c-99d1566cb761"
   },
   "outputs": [
    {
     "data": {
      "text/plain": [
       "(2741, 50)"
      ]
     },
     "execution_count": 19,
     "metadata": {},
     "output_type": "execute_result"
    }
   ],
   "source": [
    "x_test.shape"
   ]
  },
  {
   "cell_type": "markdown",
   "id": "e8d98c3e-5716-47de-babf-56ee33813774",
   "metadata": {
    "id": "e8d98c3e-5716-47de-babf-56ee33813774"
   },
   "source": [
    "## Random forest model"
   ]
  },
  {
   "cell_type": "code",
   "execution_count": 20,
   "id": "02bd3786-806e-448b-9fbd-a7c9f04b44fc",
   "metadata": {
    "id": "02bd3786-806e-448b-9fbd-a7c9f04b44fc"
   },
   "outputs": [],
   "source": [
    "# importing the random forest classifier using the following code:\n",
    "from sklearn.ensemble import RandomForestClassifier"
   ]
  },
  {
   "cell_type": "code",
   "execution_count": 21,
   "id": "dbfc9bbd-6f80-4ed7-86b6-225c4e12a213",
   "metadata": {
    "id": "dbfc9bbd-6f80-4ed7-86b6-225c4e12a213"
   },
   "outputs": [],
   "source": [
    "# we create a random forest classifier using the following code:\n",
    "rf_model = RandomForestClassifier()"
   ]
  },
  {
   "cell_type": "markdown",
   "id": "65559c67-9ed9-4ec9-8f4e-e2ef866e5c2c",
   "metadata": {
    "id": "65559c67-9ed9-4ec9-8f4e-e2ef866e5c2c"
   },
   "source": [
    "### Training a random forest model"
   ]
  },
  {
   "cell_type": "code",
   "execution_count": 22,
   "id": "8f1a8c01-fdf2-465f-af17-c77906ae755c",
   "metadata": {
    "executionInfo": {
     "elapsed": 1705,
     "status": "ok",
     "timestamp": 1655996997824,
     "user": {
      "displayName": "Omotosho Aminat",
      "userId": "02245444297537726894"
     },
     "user_tz": -60
    },
    "id": "8f1a8c01-fdf2-465f-af17-c77906ae755c"
   },
   "outputs": [],
   "source": [
    "from sklearn.ensemble import RandomForestClassifier"
   ]
  },
  {
   "cell_type": "code",
   "execution_count": 23,
   "id": "f366e529-2995-45a1-8773-4de4afbade6f",
   "metadata": {
    "id": "f366e529-2995-45a1-8773-4de4afbade6f",
    "tags": []
   },
   "outputs": [],
   "source": [
    "# Training a random forest model using scikit-learn is simple. Take a look at the following code:\n",
    "rf_model = RandomForestClassifier(\n",
    "    n_estimators=200,\n",
    "    max_depth=5\n",
    ")"
   ]
  },
  {
   "cell_type": "code",
   "execution_count": 24,
   "id": "cc852035-4432-4c83-a85b-f79a18c58a04",
   "metadata": {
    "id": "cc852035-4432-4c83-a85b-f79a18c58a04",
    "outputId": "2ce98c03-d5f1-46d8-d58c-c00c1eba2e42"
   },
   "outputs": [
    {
     "data": {
      "text/plain": [
       "RandomForestClassifier(max_depth=5, n_estimators=200)"
      ]
     },
     "execution_count": 24,
     "metadata": {},
     "output_type": "execute_result"
    }
   ],
   "source": [
    "rf_model.fit(X=x_train, y=y_train)"
   ]
  },
  {
   "cell_type": "code",
   "execution_count": 25,
   "id": "84af2f82-2f78-498c-83a2-6ce9fcc2cfdf",
   "metadata": {
    "collapsed": true,
    "id": "84af2f82-2f78-498c-83a2-6ce9fcc2cfdf",
    "jupyter": {
     "outputs_hidden": true
    },
    "outputId": "2fc47250-e4b8-44e1-e218-98c53dbede4a",
    "tags": []
   },
   "outputs": [
    {
     "data": {
      "text/plain": [
       "[DecisionTreeClassifier(max_depth=5, max_features='auto', random_state=436687223),\n",
       " DecisionTreeClassifier(max_depth=5, max_features='auto', random_state=995276989),\n",
       " DecisionTreeClassifier(max_depth=5, max_features='auto', random_state=284867166),\n",
       " DecisionTreeClassifier(max_depth=5, max_features='auto', random_state=851950334),\n",
       " DecisionTreeClassifier(max_depth=5, max_features='auto', random_state=409394975),\n",
       " DecisionTreeClassifier(max_depth=5, max_features='auto',\n",
       "                        random_state=1722102715),\n",
       " DecisionTreeClassifier(max_depth=5, max_features='auto',\n",
       "                        random_state=1538321928),\n",
       " DecisionTreeClassifier(max_depth=5, max_features='auto', random_state=241591406),\n",
       " DecisionTreeClassifier(max_depth=5, max_features='auto', random_state=542268335),\n",
       " DecisionTreeClassifier(max_depth=5, max_features='auto',\n",
       "                        random_state=1325226318),\n",
       " DecisionTreeClassifier(max_depth=5, max_features='auto',\n",
       "                        random_state=1909033394),\n",
       " DecisionTreeClassifier(max_depth=5, max_features='auto', random_state=487890584),\n",
       " DecisionTreeClassifier(max_depth=5, max_features='auto', random_state=56032839),\n",
       " DecisionTreeClassifier(max_depth=5, max_features='auto',\n",
       "                        random_state=1338633376),\n",
       " DecisionTreeClassifier(max_depth=5, max_features='auto',\n",
       "                        random_state=1954910058),\n",
       " DecisionTreeClassifier(max_depth=5, max_features='auto', random_state=182267442),\n",
       " DecisionTreeClassifier(max_depth=5, max_features='auto',\n",
       "                        random_state=1583335514),\n",
       " DecisionTreeClassifier(max_depth=5, max_features='auto',\n",
       "                        random_state=1451652781),\n",
       " DecisionTreeClassifier(max_depth=5, max_features='auto', random_state=254547175),\n",
       " DecisionTreeClassifier(max_depth=5, max_features='auto', random_state=994794435),\n",
       " DecisionTreeClassifier(max_depth=5, max_features='auto',\n",
       "                        random_state=1293190267),\n",
       " DecisionTreeClassifier(max_depth=5, max_features='auto',\n",
       "                        random_state=1289755099),\n",
       " DecisionTreeClassifier(max_depth=5, max_features='auto',\n",
       "                        random_state=1313201522),\n",
       " DecisionTreeClassifier(max_depth=5, max_features='auto',\n",
       "                        random_state=2056921350),\n",
       " DecisionTreeClassifier(max_depth=5, max_features='auto',\n",
       "                        random_state=2069326047),\n",
       " DecisionTreeClassifier(max_depth=5, max_features='auto', random_state=644334748),\n",
       " DecisionTreeClassifier(max_depth=5, max_features='auto',\n",
       "                        random_state=1451495009),\n",
       " DecisionTreeClassifier(max_depth=5, max_features='auto',\n",
       "                        random_state=1388958776),\n",
       " DecisionTreeClassifier(max_depth=5, max_features='auto',\n",
       "                        random_state=1314155370),\n",
       " DecisionTreeClassifier(max_depth=5, max_features='auto',\n",
       "                        random_state=1251548684),\n",
       " DecisionTreeClassifier(max_depth=5, max_features='auto',\n",
       "                        random_state=1185628147),\n",
       " DecisionTreeClassifier(max_depth=5, max_features='auto',\n",
       "                        random_state=1357276435),\n",
       " DecisionTreeClassifier(max_depth=5, max_features='auto',\n",
       "                        random_state=1287736442),\n",
       " DecisionTreeClassifier(max_depth=5, max_features='auto', random_state=644378133),\n",
       " DecisionTreeClassifier(max_depth=5, max_features='auto', random_state=731615481),\n",
       " DecisionTreeClassifier(max_depth=5, max_features='auto', random_state=662282591),\n",
       " DecisionTreeClassifier(max_depth=5, max_features='auto', random_state=484370847),\n",
       " DecisionTreeClassifier(max_depth=5, max_features='auto',\n",
       "                        random_state=1642032172),\n",
       " DecisionTreeClassifier(max_depth=5, max_features='auto', random_state=913295561),\n",
       " DecisionTreeClassifier(max_depth=5, max_features='auto',\n",
       "                        random_state=1788849821),\n",
       " DecisionTreeClassifier(max_depth=5, max_features='auto', random_state=590522041),\n",
       " DecisionTreeClassifier(max_depth=5, max_features='auto',\n",
       "                        random_state=1909236254),\n",
       " DecisionTreeClassifier(max_depth=5, max_features='auto', random_state=907652168),\n",
       " DecisionTreeClassifier(max_depth=5, max_features='auto', random_state=543079082),\n",
       " DecisionTreeClassifier(max_depth=5, max_features='auto',\n",
       "                        random_state=1460449131),\n",
       " DecisionTreeClassifier(max_depth=5, max_features='auto', random_state=64280333),\n",
       " DecisionTreeClassifier(max_depth=5, max_features='auto',\n",
       "                        random_state=2141440766),\n",
       " DecisionTreeClassifier(max_depth=5, max_features='auto',\n",
       "                        random_state=1353993799),\n",
       " DecisionTreeClassifier(max_depth=5, max_features='auto', random_state=233981185),\n",
       " DecisionTreeClassifier(max_depth=5, max_features='auto', random_state=963550387),\n",
       " DecisionTreeClassifier(max_depth=5, max_features='auto', random_state=749442778),\n",
       " DecisionTreeClassifier(max_depth=5, max_features='auto',\n",
       "                        random_state=1937435794),\n",
       " DecisionTreeClassifier(max_depth=5, max_features='auto',\n",
       "                        random_state=1876979204),\n",
       " DecisionTreeClassifier(max_depth=5, max_features='auto', random_state=19930374),\n",
       " DecisionTreeClassifier(max_depth=5, max_features='auto', random_state=491409748),\n",
       " DecisionTreeClassifier(max_depth=5, max_features='auto', random_state=638457195),\n",
       " DecisionTreeClassifier(max_depth=5, max_features='auto', random_state=632547037),\n",
       " DecisionTreeClassifier(max_depth=5, max_features='auto', random_state=783599869),\n",
       " DecisionTreeClassifier(max_depth=5, max_features='auto',\n",
       "                        random_state=1931237522),\n",
       " DecisionTreeClassifier(max_depth=5, max_features='auto',\n",
       "                        random_state=1542734639),\n",
       " DecisionTreeClassifier(max_depth=5, max_features='auto',\n",
       "                        random_state=1791478673),\n",
       " DecisionTreeClassifier(max_depth=5, max_features='auto',\n",
       "                        random_state=1326297704),\n",
       " DecisionTreeClassifier(max_depth=5, max_features='auto',\n",
       "                        random_state=2111142464),\n",
       " DecisionTreeClassifier(max_depth=5, max_features='auto', random_state=365121289),\n",
       " DecisionTreeClassifier(max_depth=5, max_features='auto', random_state=259139407),\n",
       " DecisionTreeClassifier(max_depth=5, max_features='auto', random_state=674654010),\n",
       " DecisionTreeClassifier(max_depth=5, max_features='auto', random_state=159558837),\n",
       " DecisionTreeClassifier(max_depth=5, max_features='auto',\n",
       "                        random_state=1442778907),\n",
       " DecisionTreeClassifier(max_depth=5, max_features='auto',\n",
       "                        random_state=1498952620),\n",
       " DecisionTreeClassifier(max_depth=5, max_features='auto',\n",
       "                        random_state=1017107944),\n",
       " DecisionTreeClassifier(max_depth=5, max_features='auto',\n",
       "                        random_state=2023864277),\n",
       " DecisionTreeClassifier(max_depth=5, max_features='auto',\n",
       "                        random_state=1542093190),\n",
       " DecisionTreeClassifier(max_depth=5, max_features='auto',\n",
       "                        random_state=1944622018),\n",
       " DecisionTreeClassifier(max_depth=5, max_features='auto', random_state=236325970),\n",
       " DecisionTreeClassifier(max_depth=5, max_features='auto', random_state=431211873),\n",
       " DecisionTreeClassifier(max_depth=5, max_features='auto',\n",
       "                        random_state=1579818808),\n",
       " DecisionTreeClassifier(max_depth=5, max_features='auto',\n",
       "                        random_state=2023413834),\n",
       " DecisionTreeClassifier(max_depth=5, max_features='auto', random_state=181468948),\n",
       " DecisionTreeClassifier(max_depth=5, max_features='auto', random_state=179143566),\n",
       " DecisionTreeClassifier(max_depth=5, max_features='auto',\n",
       "                        random_state=1790686591),\n",
       " DecisionTreeClassifier(max_depth=5, max_features='auto', random_state=671725347),\n",
       " DecisionTreeClassifier(max_depth=5, max_features='auto', random_state=985344714),\n",
       " DecisionTreeClassifier(max_depth=5, max_features='auto',\n",
       "                        random_state=1387388698),\n",
       " DecisionTreeClassifier(max_depth=5, max_features='auto', random_state=16290805),\n",
       " DecisionTreeClassifier(max_depth=5, max_features='auto',\n",
       "                        random_state=1892883876),\n",
       " DecisionTreeClassifier(max_depth=5, max_features='auto', random_state=344097910),\n",
       " DecisionTreeClassifier(max_depth=5, max_features='auto', random_state=728565627),\n",
       " DecisionTreeClassifier(max_depth=5, max_features='auto', random_state=615242357),\n",
       " DecisionTreeClassifier(max_depth=5, max_features='auto', random_state=25200363),\n",
       " DecisionTreeClassifier(max_depth=5, max_features='auto',\n",
       "                        random_state=1342133258),\n",
       " DecisionTreeClassifier(max_depth=5, max_features='auto', random_state=50194822),\n",
       " DecisionTreeClassifier(max_depth=5, max_features='auto', random_state=455326000),\n",
       " DecisionTreeClassifier(max_depth=5, max_features='auto',\n",
       "                        random_state=1219852337),\n",
       " DecisionTreeClassifier(max_depth=5, max_features='auto', random_state=180619946),\n",
       " DecisionTreeClassifier(max_depth=5, max_features='auto', random_state=28669717),\n",
       " DecisionTreeClassifier(max_depth=5, max_features='auto',\n",
       "                        random_state=1618861624),\n",
       " DecisionTreeClassifier(max_depth=5, max_features='auto',\n",
       "                        random_state=1986450287),\n",
       " DecisionTreeClassifier(max_depth=5, max_features='auto', random_state=204022156),\n",
       " DecisionTreeClassifier(max_depth=5, max_features='auto', random_state=220388926),\n",
       " DecisionTreeClassifier(max_depth=5, max_features='auto', random_state=907130181),\n",
       " DecisionTreeClassifier(max_depth=5, max_features='auto', random_state=101034812),\n",
       " DecisionTreeClassifier(max_depth=5, max_features='auto', random_state=172042587),\n",
       " DecisionTreeClassifier(max_depth=5, max_features='auto',\n",
       "                        random_state=1772121717),\n",
       " DecisionTreeClassifier(max_depth=5, max_features='auto', random_state=537535499),\n",
       " DecisionTreeClassifier(max_depth=5, max_features='auto',\n",
       "                        random_state=1029785634),\n",
       " DecisionTreeClassifier(max_depth=5, max_features='auto',\n",
       "                        random_state=1810434649),\n",
       " DecisionTreeClassifier(max_depth=5, max_features='auto',\n",
       "                        random_state=1897677637),\n",
       " DecisionTreeClassifier(max_depth=5, max_features='auto',\n",
       "                        random_state=1929754910),\n",
       " DecisionTreeClassifier(max_depth=5, max_features='auto',\n",
       "                        random_state=1119884176),\n",
       " DecisionTreeClassifier(max_depth=5, max_features='auto',\n",
       "                        random_state=1506106982),\n",
       " DecisionTreeClassifier(max_depth=5, max_features='auto', random_state=949601776),\n",
       " DecisionTreeClassifier(max_depth=5, max_features='auto',\n",
       "                        random_state=1019130709),\n",
       " DecisionTreeClassifier(max_depth=5, max_features='auto', random_state=260312104),\n",
       " DecisionTreeClassifier(max_depth=5, max_features='auto', random_state=912757379),\n",
       " DecisionTreeClassifier(max_depth=5, max_features='auto', random_state=829019944),\n",
       " DecisionTreeClassifier(max_depth=5, max_features='auto', random_state=282840136),\n",
       " DecisionTreeClassifier(max_depth=5, max_features='auto', random_state=814322801),\n",
       " DecisionTreeClassifier(max_depth=5, max_features='auto', random_state=328920372),\n",
       " DecisionTreeClassifier(max_depth=5, max_features='auto',\n",
       "                        random_state=1847958020),\n",
       " DecisionTreeClassifier(max_depth=5, max_features='auto',\n",
       "                        random_state=2121627575),\n",
       " DecisionTreeClassifier(max_depth=5, max_features='auto',\n",
       "                        random_state=1117932065),\n",
       " DecisionTreeClassifier(max_depth=5, max_features='auto',\n",
       "                        random_state=1139661350),\n",
       " DecisionTreeClassifier(max_depth=5, max_features='auto', random_state=923887176),\n",
       " DecisionTreeClassifier(max_depth=5, max_features='auto',\n",
       "                        random_state=1171744130),\n",
       " DecisionTreeClassifier(max_depth=5, max_features='auto', random_state=874594815),\n",
       " DecisionTreeClassifier(max_depth=5, max_features='auto', random_state=228058272),\n",
       " DecisionTreeClassifier(max_depth=5, max_features='auto', random_state=976582475),\n",
       " DecisionTreeClassifier(max_depth=5, max_features='auto', random_state=343329191),\n",
       " DecisionTreeClassifier(max_depth=5, max_features='auto',\n",
       "                        random_state=1047538925),\n",
       " DecisionTreeClassifier(max_depth=5, max_features='auto', random_state=308779587),\n",
       " DecisionTreeClassifier(max_depth=5, max_features='auto',\n",
       "                        random_state=1882777198),\n",
       " DecisionTreeClassifier(max_depth=5, max_features='auto', random_state=348822327),\n",
       " DecisionTreeClassifier(max_depth=5, max_features='auto',\n",
       "                        random_state=1721915935),\n",
       " DecisionTreeClassifier(max_depth=5, max_features='auto', random_state=613345286),\n",
       " DecisionTreeClassifier(max_depth=5, max_features='auto', random_state=458372930),\n",
       " DecisionTreeClassifier(max_depth=5, max_features='auto',\n",
       "                        random_state=1601112692),\n",
       " DecisionTreeClassifier(max_depth=5, max_features='auto',\n",
       "                        random_state=1584387222),\n",
       " DecisionTreeClassifier(max_depth=5, max_features='auto',\n",
       "                        random_state=1006248185),\n",
       " DecisionTreeClassifier(max_depth=5, max_features='auto',\n",
       "                        random_state=1010318958),\n",
       " DecisionTreeClassifier(max_depth=5, max_features='auto',\n",
       "                        random_state=2071523534),\n",
       " DecisionTreeClassifier(max_depth=5, max_features='auto',\n",
       "                        random_state=1663703906),\n",
       " DecisionTreeClassifier(max_depth=5, max_features='auto',\n",
       "                        random_state=1852686132),\n",
       " DecisionTreeClassifier(max_depth=5, max_features='auto', random_state=960157974),\n",
       " DecisionTreeClassifier(max_depth=5, max_features='auto', random_state=78582110),\n",
       " DecisionTreeClassifier(max_depth=5, max_features='auto',\n",
       "                        random_state=1554297653),\n",
       " DecisionTreeClassifier(max_depth=5, max_features='auto', random_state=255374195),\n",
       " DecisionTreeClassifier(max_depth=5, max_features='auto',\n",
       "                        random_state=1461343384),\n",
       " DecisionTreeClassifier(max_depth=5, max_features='auto',\n",
       "                        random_state=1975149812),\n",
       " DecisionTreeClassifier(max_depth=5, max_features='auto', random_state=771084530),\n",
       " DecisionTreeClassifier(max_depth=5, max_features='auto', random_state=55582334),\n",
       " DecisionTreeClassifier(max_depth=5, max_features='auto',\n",
       "                        random_state=1701287144),\n",
       " DecisionTreeClassifier(max_depth=5, max_features='auto', random_state=582309907),\n",
       " DecisionTreeClassifier(max_depth=5, max_features='auto',\n",
       "                        random_state=1382340448),\n",
       " DecisionTreeClassifier(max_depth=5, max_features='auto',\n",
       "                        random_state=1996326969),\n",
       " DecisionTreeClassifier(max_depth=5, max_features='auto',\n",
       "                        random_state=1706931639),\n",
       " DecisionTreeClassifier(max_depth=5, max_features='auto', random_state=906201530),\n",
       " DecisionTreeClassifier(max_depth=5, max_features='auto',\n",
       "                        random_state=1273735958),\n",
       " DecisionTreeClassifier(max_depth=5, max_features='auto',\n",
       "                        random_state=1825593622),\n",
       " DecisionTreeClassifier(max_depth=5, max_features='auto',\n",
       "                        random_state=1110765102),\n",
       " DecisionTreeClassifier(max_depth=5, max_features='auto', random_state=678470512),\n",
       " DecisionTreeClassifier(max_depth=5, max_features='auto',\n",
       "                        random_state=1395952376),\n",
       " DecisionTreeClassifier(max_depth=5, max_features='auto',\n",
       "                        random_state=2126297881),\n",
       " DecisionTreeClassifier(max_depth=5, max_features='auto', random_state=946119891),\n",
       " DecisionTreeClassifier(max_depth=5, max_features='auto', random_state=435867121),\n",
       " DecisionTreeClassifier(max_depth=5, max_features='auto',\n",
       "                        random_state=1741265130),\n",
       " DecisionTreeClassifier(max_depth=5, max_features='auto',\n",
       "                        random_state=1395663279),\n",
       " DecisionTreeClassifier(max_depth=5, max_features='auto', random_state=250180340),\n",
       " DecisionTreeClassifier(max_depth=5, max_features='auto',\n",
       "                        random_state=1155222871),\n",
       " DecisionTreeClassifier(max_depth=5, max_features='auto', random_state=764564661),\n",
       " DecisionTreeClassifier(max_depth=5, max_features='auto', random_state=630057781),\n",
       " DecisionTreeClassifier(max_depth=5, max_features='auto', random_state=615111964),\n",
       " DecisionTreeClassifier(max_depth=5, max_features='auto',\n",
       "                        random_state=1435541245),\n",
       " DecisionTreeClassifier(max_depth=5, max_features='auto', random_state=383200285),\n",
       " DecisionTreeClassifier(max_depth=5, max_features='auto', random_state=265507801),\n",
       " DecisionTreeClassifier(max_depth=5, max_features='auto', random_state=74009726),\n",
       " DecisionTreeClassifier(max_depth=5, max_features='auto',\n",
       "                        random_state=2132235414),\n",
       " DecisionTreeClassifier(max_depth=5, max_features='auto',\n",
       "                        random_state=1138183845),\n",
       " DecisionTreeClassifier(max_depth=5, max_features='auto', random_state=877464250),\n",
       " DecisionTreeClassifier(max_depth=5, max_features='auto', random_state=425086870),\n",
       " DecisionTreeClassifier(max_depth=5, max_features='auto', random_state=884930635),\n",
       " DecisionTreeClassifier(max_depth=5, max_features='auto',\n",
       "                        random_state=1679702488),\n",
       " DecisionTreeClassifier(max_depth=5, max_features='auto',\n",
       "                        random_state=1776336013),\n",
       " DecisionTreeClassifier(max_depth=5, max_features='auto', random_state=552889370),\n",
       " DecisionTreeClassifier(max_depth=5, max_features='auto', random_state=917164993),\n",
       " DecisionTreeClassifier(max_depth=5, max_features='auto', random_state=942748174),\n",
       " DecisionTreeClassifier(max_depth=5, max_features='auto', random_state=934357416),\n",
       " DecisionTreeClassifier(max_depth=5, max_features='auto',\n",
       "                        random_state=1706213573),\n",
       " DecisionTreeClassifier(max_depth=5, max_features='auto',\n",
       "                        random_state=1289301972),\n",
       " DecisionTreeClassifier(max_depth=5, max_features='auto', random_state=182993755),\n",
       " DecisionTreeClassifier(max_depth=5, max_features='auto', random_state=475238678),\n",
       " DecisionTreeClassifier(max_depth=5, max_features='auto',\n",
       "                        random_state=1271232591),\n",
       " DecisionTreeClassifier(max_depth=5, max_features='auto',\n",
       "                        random_state=1301230167),\n",
       " DecisionTreeClassifier(max_depth=5, max_features='auto', random_state=164000417),\n",
       " DecisionTreeClassifier(max_depth=5, max_features='auto', random_state=255519355),\n",
       " DecisionTreeClassifier(max_depth=5, max_features='auto', random_state=602570675),\n",
       " DecisionTreeClassifier(max_depth=5, max_features='auto', random_state=905149542),\n",
       " DecisionTreeClassifier(max_depth=5, max_features='auto', random_state=308682942),\n",
       " DecisionTreeClassifier(max_depth=5, max_features='auto', random_state=302519320),\n",
       " DecisionTreeClassifier(max_depth=5, max_features='auto', random_state=402588072),\n",
       " DecisionTreeClassifier(max_depth=5, max_features='auto',\n",
       "                        random_state=1398111593)]"
      ]
     },
     "execution_count": 25,
     "metadata": {},
     "output_type": "execute_result"
    }
   ],
   "source": [
    "# Using the estimators_ attribute, you can retrieve the individual trees that are built within the forest. Take a look at the following output:\n",
    "rf_model.estimators_ "
   ]
  },
  {
   "cell_type": "markdown",
   "id": "ca27c804-028b-4f88-affd-899b31c1d440",
   "metadata": {
    "id": "ca27c804-028b-4f88-affd-899b31c1d440"
   },
   "source": [
    "As you can see from this output, the estimators_ attribute returns a list of subestimators, which are decision trees. With this information, you can simulate\n",
    "what each of these sub-estimators predicts for each input."
   ]
  },
  {
   "cell_type": "code",
   "execution_count": 26,
   "id": "4d17db1f-9f56-4129-8efb-ef84e777697b",
   "metadata": {
    "id": "4d17db1f-9f56-4129-8efb-ef84e777697b",
    "outputId": "46efe741-ee7e-40b7-b146-a19a69efbf67"
   },
   "outputs": [
    {
     "data": {
      "text/plain": [
       "array([0., 0., 0., 0., 0., 0., 0., 0., 0., 0., 0., 0., 0., 0., 0., 0., 0.,\n",
       "       0., 0., 1., 0., 0., 0., 0., 0., 0., 0., 0., 0., 0.])"
      ]
     },
     "execution_count": 26,
     "metadata": {},
     "output_type": "execute_result"
    }
   ],
   "source": [
    "# the following code shows how you can get the predictions from the first subestimator in the forest:\n",
    "rf_model.estimators_[0].predict(x_test)[:30]"
   ]
  },
  {
   "cell_type": "code",
   "execution_count": 27,
   "id": "610ddea1-30c3-4c7e-942e-15f9c07eb3ef",
   "metadata": {
    "id": "610ddea1-30c3-4c7e-942e-15f9c07eb3ef",
    "outputId": "c4b595f6-20a3-4b5d-cfec-161b627f7dd3"
   },
   "outputs": [
    {
     "data": {
      "text/plain": [
       "array([0., 0., 0., 0., 0., 0., 0., 0., 0., 0., 0., 0., 0., 0., 0., 0., 0.,\n",
       "       0., 0., 1., 0., 0., 0., 0., 0., 0., 0., 0., 0., 0.])"
      ]
     },
     "execution_count": 27,
     "metadata": {},
     "output_type": "execute_result"
    }
   ],
   "source": [
    "rf_model.estimators_[1].predict(x_test)[:30]"
   ]
  },
  {
   "cell_type": "code",
   "execution_count": 28,
   "id": "8a520980-b9ea-4a3c-b65a-39b66875fe64",
   "metadata": {
    "id": "8a520980-b9ea-4a3c-b65a-39b66875fe64",
    "outputId": "49c41644-da37-42ba-941f-ef342d99946f"
   },
   "outputs": [
    {
     "data": {
      "text/plain": [
       "array([0., 0., 0., 0., 0., 0., 0., 0., 0., 0., 0., 0., 0., 0., 0., 0., 0.,\n",
       "       0., 0., 0., 0., 0., 0., 0., 0., 0., 0., 0., 0., 0.])"
      ]
     },
     "execution_count": 28,
     "metadata": {},
     "output_type": "execute_result"
    }
   ],
   "source": [
    "rf_model.estimators_[2].predict(x_test)[:30]"
   ]
  },
  {
   "cell_type": "code",
   "execution_count": 29,
   "id": "e28c3bae-8250-416b-b49f-44569f374497",
   "metadata": {
    "id": "e28c3bae-8250-416b-b49f-44569f374497",
    "outputId": "df970280-f89e-45cf-c9de-1f16ae16f38b"
   },
   "outputs": [
    {
     "data": {
      "text/plain": [
       "array([0., 0., 0., 0., 0., 0., 0., 0., 0., 0., 0., 0., 0., 0., 0., 0., 0.,\n",
       "       0., 0., 0., 0., 0., 0., 0., 0., 0., 0., 0., 0., 0.])"
      ]
     },
     "execution_count": 29,
     "metadata": {},
     "output_type": "execute_result"
    }
   ],
   "source": [
    "rf_model.estimators_[3].predict(x_test)[:30]"
   ]
  },
  {
   "cell_type": "code",
   "execution_count": 30,
   "id": "8b804844-9061-4094-8077-f9d05fdcf946",
   "metadata": {
    "id": "8b804844-9061-4094-8077-f9d05fdcf946",
    "outputId": "8b32fa5b-5818-4b7b-b863-ae005adfcb76"
   },
   "outputs": [
    {
     "data": {
      "text/plain": [
       "array([0., 0., 0., 0., 0., 0., 0., 0., 0., 0., 0., 0., 0., 0., 0., 0., 0.,\n",
       "       0., 0., 1., 0., 0., 0., 0., 0., 0., 0., 0., 0., 0.])"
      ]
     },
     "execution_count": 30,
     "metadata": {},
     "output_type": "execute_result"
    }
   ],
   "source": [
    "rf_model.estimators_[4].predict(x_test)[:30]"
   ]
  },
  {
   "cell_type": "markdown",
   "id": "dc2d86a5-9a98-4a78-a0c2-ec2e48026bbd",
   "metadata": {
    "id": "dc2d86a5-9a98-4a78-a0c2-ec2e48026bbd"
   },
   "source": [
    "### Feature Importance"
   ]
  },
  {
   "cell_type": "code",
   "execution_count": 31,
   "id": "73e11933-29c1-42dc-8e42-90da30393029",
   "metadata": {
    "id": "73e11933-29c1-42dc-8e42-90da30393029",
    "outputId": "f6171684-bf9f-4b34-deed-652526cb23a1"
   },
   "outputs": [
    {
     "data": {
      "text/plain": [
       "array([0.05702153, 0.08543194, 0.05401664, 0.03302471, 0.05193178,\n",
       "       0.0131174 , 0.02021452, 0.07739711, 0.05288817, 0.00609508,\n",
       "       0.00510333, 0.00504694, 0.00764381, 0.00757984, 0.00928287,\n",
       "       0.00405851, 0.00033317, 0.0016724 , 0.00541373, 0.00593505,\n",
       "       0.00378842, 0.00031344, 0.00117389, 0.00148225, 0.0024882 ,\n",
       "       0.00147253, 0.00252268, 0.0012902 , 0.0007677 , 0.00284377,\n",
       "       0.001302  , 0.00138338, 0.00257597, 0.00580116, 0.02805281,\n",
       "       0.00787185, 0.29964063, 0.02351001, 0.03163225, 0.01932031,\n",
       "       0.01543423, 0.00422059, 0.00571721, 0.0034969 , 0.00586083,\n",
       "       0.00651244, 0.00430029, 0.00439689, 0.00307452, 0.00454412])"
      ]
     },
     "execution_count": 31,
     "metadata": {},
     "output_type": "execute_result"
    }
   ],
   "source": [
    "# Other useful information that we can gain from the trained RandomForestClassifier object is the feature importances,\n",
    "# with which we can understand the importance or \n",
    "# the impact of each feature on the final predictions. You can get the feature importances for each feature using the following code:\n",
    "\n",
    "rf_model.feature_importances_"
   ]
  },
  {
   "cell_type": "code",
   "execution_count": 32,
   "id": "a04b11a3-7a3b-4252-b37e-546edff96ff4",
   "metadata": {
    "id": "a04b11a3-7a3b-4252-b37e-546edff96ff4",
    "outputId": "42e4b591-f12f-4b04-b35b-8bd5d9bd5bd4",
    "tags": []
   },
   "outputs": [
    {
     "data": {
      "text/html": [
       "<div>\n",
       "<style scoped>\n",
       "    .dataframe tbody tr th:only-of-type {\n",
       "        vertical-align: middle;\n",
       "    }\n",
       "\n",
       "    .dataframe tbody tr th {\n",
       "        vertical-align: top;\n",
       "    }\n",
       "\n",
       "    .dataframe thead th {\n",
       "        text-align: right;\n",
       "    }\n",
       "</style>\n",
       "<table border=\"1\" class=\"dataframe\">\n",
       "  <thead>\n",
       "    <tr style=\"text-align: right;\">\n",
       "      <th></th>\n",
       "      <th>feature.importance</th>\n",
       "      <th>feature</th>\n",
       "    </tr>\n",
       "  </thead>\n",
       "  <tbody>\n",
       "    <tr>\n",
       "      <th>36</th>\n",
       "      <td>0.299641</td>\n",
       "      <td>EmploymentStatus.Retired</td>\n",
       "    </tr>\n",
       "    <tr>\n",
       "      <th>1</th>\n",
       "      <td>0.085432</td>\n",
       "      <td>Income</td>\n",
       "    </tr>\n",
       "    <tr>\n",
       "      <th>7</th>\n",
       "      <td>0.077397</td>\n",
       "      <td>Total.Claim.Amount</td>\n",
       "    </tr>\n",
       "    <tr>\n",
       "      <th>0</th>\n",
       "      <td>0.057022</td>\n",
       "      <td>Customer.Lifetime.Value</td>\n",
       "    </tr>\n",
       "    <tr>\n",
       "      <th>2</th>\n",
       "      <td>0.054017</td>\n",
       "      <td>Monthly.Premium.Auto</td>\n",
       "    </tr>\n",
       "    <tr>\n",
       "      <th>8</th>\n",
       "      <td>0.052888</td>\n",
       "      <td>Sales.Channel.Agent</td>\n",
       "    </tr>\n",
       "    <tr>\n",
       "      <th>4</th>\n",
       "      <td>0.051932</td>\n",
       "      <td>Months.Since.Policy.Inception</td>\n",
       "    </tr>\n",
       "    <tr>\n",
       "      <th>3</th>\n",
       "      <td>0.033025</td>\n",
       "      <td>Months.Since.Last.Claim</td>\n",
       "    </tr>\n",
       "    <tr>\n",
       "      <th>38</th>\n",
       "      <td>0.031632</td>\n",
       "      <td>Marital.Status.Divorced</td>\n",
       "    </tr>\n",
       "    <tr>\n",
       "      <th>34</th>\n",
       "      <td>0.028053</td>\n",
       "      <td>EmploymentStatus.Employed</td>\n",
       "    </tr>\n",
       "    <tr>\n",
       "      <th>37</th>\n",
       "      <td>0.023510</td>\n",
       "      <td>EmploymentStatus.Unemployed</td>\n",
       "    </tr>\n",
       "    <tr>\n",
       "      <th>6</th>\n",
       "      <td>0.020215</td>\n",
       "      <td>Number.of.Policies</td>\n",
       "    </tr>\n",
       "    <tr>\n",
       "      <th>39</th>\n",
       "      <td>0.019320</td>\n",
       "      <td>Marital.Status.Married</td>\n",
       "    </tr>\n",
       "    <tr>\n",
       "      <th>40</th>\n",
       "      <td>0.015434</td>\n",
       "      <td>Marital.Status.Single</td>\n",
       "    </tr>\n",
       "    <tr>\n",
       "      <th>5</th>\n",
       "      <td>0.013117</td>\n",
       "      <td>Number.of.Open.Complaints</td>\n",
       "    </tr>\n",
       "    <tr>\n",
       "      <th>14</th>\n",
       "      <td>0.009283</td>\n",
       "      <td>Vehicle.Size.Small</td>\n",
       "    </tr>\n",
       "    <tr>\n",
       "      <th>35</th>\n",
       "      <td>0.007872</td>\n",
       "      <td>EmploymentStatus.Medical.Leave</td>\n",
       "    </tr>\n",
       "    <tr>\n",
       "      <th>12</th>\n",
       "      <td>0.007644</td>\n",
       "      <td>Vehicle.Size.Large</td>\n",
       "    </tr>\n",
       "    <tr>\n",
       "      <th>13</th>\n",
       "      <td>0.007580</td>\n",
       "      <td>Vehicle.Size.Medsize</td>\n",
       "    </tr>\n",
       "    <tr>\n",
       "      <th>45</th>\n",
       "      <td>0.006512</td>\n",
       "      <td>Education.Master</td>\n",
       "    </tr>\n",
       "    <tr>\n",
       "      <th>9</th>\n",
       "      <td>0.006095</td>\n",
       "      <td>Sales.Channel.Branch</td>\n",
       "    </tr>\n",
       "    <tr>\n",
       "      <th>19</th>\n",
       "      <td>0.005935</td>\n",
       "      <td>Vehicle.Class.Sports.Car</td>\n",
       "    </tr>\n",
       "    <tr>\n",
       "      <th>44</th>\n",
       "      <td>0.005861</td>\n",
       "      <td>Education.High.School.or.Below</td>\n",
       "    </tr>\n",
       "    <tr>\n",
       "      <th>33</th>\n",
       "      <td>0.005801</td>\n",
       "      <td>EmploymentStatus.Disabled</td>\n",
       "    </tr>\n",
       "    <tr>\n",
       "      <th>42</th>\n",
       "      <td>0.005717</td>\n",
       "      <td>Education.College</td>\n",
       "    </tr>\n",
       "    <tr>\n",
       "      <th>18</th>\n",
       "      <td>0.005414</td>\n",
       "      <td>Vehicle.Class.SUV</td>\n",
       "    </tr>\n",
       "    <tr>\n",
       "      <th>10</th>\n",
       "      <td>0.005103</td>\n",
       "      <td>Sales.Channel.Call.Center</td>\n",
       "    </tr>\n",
       "    <tr>\n",
       "      <th>11</th>\n",
       "      <td>0.005047</td>\n",
       "      <td>Sales.Channel.Web</td>\n",
       "    </tr>\n",
       "    <tr>\n",
       "      <th>49</th>\n",
       "      <td>0.004544</td>\n",
       "      <td>Is.Female</td>\n",
       "    </tr>\n",
       "    <tr>\n",
       "      <th>47</th>\n",
       "      <td>0.004397</td>\n",
       "      <td>Coverage.Extended</td>\n",
       "    </tr>\n",
       "    <tr>\n",
       "      <th>46</th>\n",
       "      <td>0.004300</td>\n",
       "      <td>Coverage.Basic</td>\n",
       "    </tr>\n",
       "    <tr>\n",
       "      <th>41</th>\n",
       "      <td>0.004221</td>\n",
       "      <td>Education.Bachelor</td>\n",
       "    </tr>\n",
       "    <tr>\n",
       "      <th>15</th>\n",
       "      <td>0.004059</td>\n",
       "      <td>Vehicle.Class.Four-Door.Car</td>\n",
       "    </tr>\n",
       "    <tr>\n",
       "      <th>20</th>\n",
       "      <td>0.003788</td>\n",
       "      <td>Vehicle.Class.Two-Door.Car</td>\n",
       "    </tr>\n",
       "    <tr>\n",
       "      <th>43</th>\n",
       "      <td>0.003497</td>\n",
       "      <td>Education.Doctor</td>\n",
       "    </tr>\n",
       "    <tr>\n",
       "      <th>48</th>\n",
       "      <td>0.003075</td>\n",
       "      <td>Coverage.Premium</td>\n",
       "    </tr>\n",
       "    <tr>\n",
       "      <th>29</th>\n",
       "      <td>0.002844</td>\n",
       "      <td>Policy.Special.L3</td>\n",
       "    </tr>\n",
       "    <tr>\n",
       "      <th>32</th>\n",
       "      <td>0.002576</td>\n",
       "      <td>Policy.Type.Special.Auto</td>\n",
       "    </tr>\n",
       "    <tr>\n",
       "      <th>26</th>\n",
       "      <td>0.002523</td>\n",
       "      <td>Policy.Personal.L3</td>\n",
       "    </tr>\n",
       "    <tr>\n",
       "      <th>24</th>\n",
       "      <td>0.002488</td>\n",
       "      <td>Policy.Personal.L1</td>\n",
       "    </tr>\n",
       "    <tr>\n",
       "      <th>17</th>\n",
       "      <td>0.001672</td>\n",
       "      <td>Vehicle.Class.Luxury.SUV</td>\n",
       "    </tr>\n",
       "    <tr>\n",
       "      <th>23</th>\n",
       "      <td>0.001482</td>\n",
       "      <td>Policy.Corporate.L3</td>\n",
       "    </tr>\n",
       "    <tr>\n",
       "      <th>25</th>\n",
       "      <td>0.001473</td>\n",
       "      <td>Policy.Personal.L2</td>\n",
       "    </tr>\n",
       "    <tr>\n",
       "      <th>31</th>\n",
       "      <td>0.001383</td>\n",
       "      <td>Policy.Type.Personal.Auto</td>\n",
       "    </tr>\n",
       "    <tr>\n",
       "      <th>30</th>\n",
       "      <td>0.001302</td>\n",
       "      <td>Policy.Type.Corporate.Auto</td>\n",
       "    </tr>\n",
       "    <tr>\n",
       "      <th>27</th>\n",
       "      <td>0.001290</td>\n",
       "      <td>Policy.Special.L1</td>\n",
       "    </tr>\n",
       "    <tr>\n",
       "      <th>22</th>\n",
       "      <td>0.001174</td>\n",
       "      <td>Policy.Corporate.L2</td>\n",
       "    </tr>\n",
       "    <tr>\n",
       "      <th>28</th>\n",
       "      <td>0.000768</td>\n",
       "      <td>Policy.Special.L2</td>\n",
       "    </tr>\n",
       "    <tr>\n",
       "      <th>16</th>\n",
       "      <td>0.000333</td>\n",
       "      <td>Vehicle.Class.Luxury.Car</td>\n",
       "    </tr>\n",
       "    <tr>\n",
       "      <th>21</th>\n",
       "      <td>0.000313</td>\n",
       "      <td>Policy.Corporate.L1</td>\n",
       "    </tr>\n",
       "  </tbody>\n",
       "</table>\n",
       "</div>"
      ],
      "text/plain": [
       "    feature.importance                         feature\n",
       "36            0.299641        EmploymentStatus.Retired\n",
       "1             0.085432                          Income\n",
       "7             0.077397              Total.Claim.Amount\n",
       "0             0.057022         Customer.Lifetime.Value\n",
       "2             0.054017            Monthly.Premium.Auto\n",
       "8             0.052888             Sales.Channel.Agent\n",
       "4             0.051932   Months.Since.Policy.Inception\n",
       "3             0.033025         Months.Since.Last.Claim\n",
       "38            0.031632         Marital.Status.Divorced\n",
       "34            0.028053       EmploymentStatus.Employed\n",
       "37            0.023510     EmploymentStatus.Unemployed\n",
       "6             0.020215              Number.of.Policies\n",
       "39            0.019320          Marital.Status.Married\n",
       "40            0.015434           Marital.Status.Single\n",
       "5             0.013117       Number.of.Open.Complaints\n",
       "14            0.009283              Vehicle.Size.Small\n",
       "35            0.007872  EmploymentStatus.Medical.Leave\n",
       "12            0.007644              Vehicle.Size.Large\n",
       "13            0.007580            Vehicle.Size.Medsize\n",
       "45            0.006512                Education.Master\n",
       "9             0.006095            Sales.Channel.Branch\n",
       "19            0.005935        Vehicle.Class.Sports.Car\n",
       "44            0.005861  Education.High.School.or.Below\n",
       "33            0.005801       EmploymentStatus.Disabled\n",
       "42            0.005717               Education.College\n",
       "18            0.005414               Vehicle.Class.SUV\n",
       "10            0.005103       Sales.Channel.Call.Center\n",
       "11            0.005047               Sales.Channel.Web\n",
       "49            0.004544                       Is.Female\n",
       "47            0.004397               Coverage.Extended\n",
       "46            0.004300                  Coverage.Basic\n",
       "41            0.004221              Education.Bachelor\n",
       "15            0.004059     Vehicle.Class.Four-Door.Car\n",
       "20            0.003788      Vehicle.Class.Two-Door.Car\n",
       "43            0.003497                Education.Doctor\n",
       "48            0.003075                Coverage.Premium\n",
       "29            0.002844               Policy.Special.L3\n",
       "32            0.002576        Policy.Type.Special.Auto\n",
       "26            0.002523              Policy.Personal.L3\n",
       "24            0.002488              Policy.Personal.L1\n",
       "17            0.001672        Vehicle.Class.Luxury.SUV\n",
       "23            0.001482             Policy.Corporate.L3\n",
       "25            0.001473              Policy.Personal.L2\n",
       "31            0.001383       Policy.Type.Personal.Auto\n",
       "30            0.001302      Policy.Type.Corporate.Auto\n",
       "27            0.001290               Policy.Special.L1\n",
       "22            0.001174             Policy.Corporate.L2\n",
       "28            0.000768               Policy.Special.L2\n",
       "16            0.000333        Vehicle.Class.Luxury.Car\n",
       "21            0.000313             Policy.Corporate.L1"
      ]
     },
     "execution_count": 32,
     "metadata": {},
     "output_type": "execute_result"
    }
   ],
   "source": [
    "# In order to associate these feature importances with the corresponding features, you can use the following code:\n",
    "feature_importance_df = pd.DataFrame(list(zip(rf_model.feature_importances_,all_features)))\n",
    "feature_importance_df.columns = ['feature.importance', 'feature']\n",
    "\n",
    "feature_importance_df.sort_values(by='feature.importance', ascending=False)"
   ]
  },
  {
   "cell_type": "markdown",
   "id": "34373784-1e4b-4246-8ab1-d849e688fd93",
   "metadata": {
    "id": "34373784-1e4b-4246-8ab1-d849e688fd93"
   },
   "source": [
    "### Evaluating a classification model\n"
   ]
  },
  {
   "cell_type": "code",
   "execution_count": 33,
   "id": "6655f4bc-4b11-4a3e-8806-396807b4b39d",
   "metadata": {
    "id": "6655f4bc-4b11-4a3e-8806-396807b4b39d"
   },
   "outputs": [],
   "source": [
    "# importing the neccesary library\n",
    "from sklearn.metrics import accuracy_score, precision_score, recall_score"
   ]
  },
  {
   "cell_type": "code",
   "execution_count": 34,
   "id": "3261330b-d368-444e-9758-8c4e296fe61e",
   "metadata": {
    "id": "3261330b-d368-444e-9758-8c4e296fe61e"
   },
   "outputs": [],
   "source": [
    "# Before we evaluate the model performance, we need the model prediction results. In order to have the random forest model we have \n",
    "# built in the previous section to make predictions on our dataset, we can simply use the predict function of the model. \n",
    "# Take a look at the following code:\n",
    "\n",
    "in_sample_preds = rf_model.predict(x_train)\n",
    "out_sample_preds = rf_model.predict(x_test)"
   ]
  },
  {
   "cell_type": "code",
   "execution_count": 35,
   "id": "edee1694-e1a0-42b2-b876-522faee0fa46",
   "metadata": {
    "id": "edee1694-e1a0-42b2-b876-522faee0fa46",
    "outputId": "cd43585a-b781-454f-811a-924f2e48ede7",
    "tags": []
   },
   "outputs": [
    {
     "name": "stdout",
     "output_type": "stream",
     "text": [
      "In_Sample Accuracy: 0.8769\n",
      "Out_of_Sample Accuracy: 0.8778\n"
     ]
    }
   ],
   "source": [
    "# With these prediction results, we are going to evaluate how well our random forest model performs in the train and test sets. \n",
    "# The following code shows how we can use the accuracy_score, precision_score, and recall_score functions in the scikit-learn package:\n",
    "# accuracy_score(actual, predictions)\n",
    "# As you can see from this code, the accuracy_score, precision_score, and recall_score functions all take two parameters—truth labels\n",
    "# and predicted labels. Take a look at the following output:\n",
    "\n",
    "print('In_Sample Accuracy: %0.4f' % accuracy_score(y_train, in_sample_preds))\n",
    "print('Out_of_Sample Accuracy: %0.4f' % accuracy_score(y_test, out_sample_preds))"
   ]
  },
  {
   "cell_type": "code",
   "execution_count": 36,
   "id": "01dbe76d-a536-4e31-a3a3-fc20add9dff7",
   "metadata": {
    "id": "01dbe76d-a536-4e31-a3a3-fc20add9dff7",
    "outputId": "7c606aee-5b0a-4a4d-9e24-61baaf11e949"
   },
   "outputs": [
    {
     "name": "stdout",
     "output_type": "stream",
     "text": [
      "In_Sample Precision: 0.9857\n",
      "Out_of_Sample Precision: 0.9310\n"
     ]
    }
   ],
   "source": [
    "print('In_Sample Precision: %0.4f' % precision_score(y_train, in_sample_preds))\n",
    "print('Out_of_Sample Precision: %0.4f' % precision_score(y_test, out_sample_preds))"
   ]
  },
  {
   "cell_type": "code",
   "execution_count": 37,
   "id": "bc940453-23e5-463b-9310-8b278fb204a2",
   "metadata": {
    "id": "bc940453-23e5-463b-9310-8b278fb204a2",
    "outputId": "a32400b6-5fbd-4301-f4b9-93ab5aa4982b"
   },
   "outputs": [
    {
     "name": "stdout",
     "output_type": "stream",
     "text": [
      "In_Sample Recall: 0.1495\n",
      "Out_of_Sample Recall: 0.1403\n"
     ]
    }
   ],
   "source": [
    "print('In_Sample Recall: %0.4f' % recall_score(y_train, in_sample_preds))\n",
    "print('Out_of_Sample Recall: %0.4f' % recall_score(y_test, out_sample_preds))"
   ]
  },
  {
   "cell_type": "markdown",
   "id": "e22b1c43-d7d8-4b8b-aee6-d4a619fc445c",
   "metadata": {
    "id": "e22b1c43-d7d8-4b8b-aee6-d4a619fc445c"
   },
   "source": [
    "This output gives us a brief overview of how well our model performs at predicting the responses. For the train set, the accuracy of the overall prediction was 87%, meaning the model prediction was correct for about 0.8739 of the time. For the test set, the accuracy of the overall prediction was 0.8803, which is roughly on the same line with the prediction accuracy within the train set. You can also see that the precision for in-sample and out-of-sample predictions were 0.9859 and 1.0000 respectively, and the recalls were 0.1483 and 0.0989. Due to the randomness and the different hyperparameters you might have used, you can get different results.\n"
   ]
  },
  {
   "cell_type": "markdown",
   "id": "43ec6b35-e9e7-4342-8689-8d1783aa4d22",
   "metadata": {
    "id": "43ec6b35-e9e7-4342-8689-8d1783aa4d22"
   },
   "source": [
    "## ROC & AUC"
   ]
  },
  {
   "cell_type": "code",
   "execution_count": 38,
   "id": "d0785f63-1b0f-4e69-a6f4-39f059bb3354",
   "metadata": {
    "id": "d0785f63-1b0f-4e69-a6f4-39f059bb3354"
   },
   "outputs": [],
   "source": [
    "from sklearn.metrics import roc_curve, auc"
   ]
  },
  {
   "cell_type": "code",
   "execution_count": 39,
   "id": "131fc6c5-41f7-4446-befd-26aaec210a25",
   "metadata": {
    "id": "131fc6c5-41f7-4446-befd-26aaec210a25"
   },
   "outputs": [],
   "source": [
    "#  In order to compute the ROC and AUC using these functions, we need to first get the prediction probabilities from our random forest model.\n",
    "# The following code shows how we can get the random forest model's prediction probabilities for both the train and test sets:\n",
    "\n",
    "in_sample_preds = rf_model.predict_proba(x_train)[:,1]\n",
    "out_sample_preds = rf_model.predict_proba(x_test)[:,1]\n"
   ]
  },
  {
   "cell_type": "code",
   "execution_count": 40,
   "id": "f5c2b1a5-ad17-45db-9a51-490e57d88673",
   "metadata": {
    "id": "f5c2b1a5-ad17-45db-9a51-490e57d88673"
   },
   "outputs": [],
   "source": [
    "# With these predicted probabilities of the positive class for both the train and test sets, we can now compute the ROC curve and AUC. \n",
    "# Let's first take a look at how we can compute the ROC curve using the roc_curve function in the following code:\n",
    "\n",
    "in_sample_fpr, in_sample_tpr, in_sample_thresholds = roc_curve(y_train,\n",
    "in_sample_preds)\n",
    "out_sample_fpr, out_sample_tpr, out_sample_thresholds = roc_curve(y_test,\n",
    "out_sample_preds)\n"
   ]
  },
  {
   "cell_type": "code",
   "execution_count": 41,
   "id": "7f0ebfc6-d230-4041-bb81-afe335fbd2f1",
   "metadata": {
    "id": "7f0ebfc6-d230-4041-bb81-afe335fbd2f1",
    "outputId": "ff75dd68-976d-4cc5-a96d-ae1efa88c7a8"
   },
   "outputs": [
    {
     "name": "stdout",
     "output_type": "stream",
     "text": [
      "In-Sample AUC: 0.8765\n",
      "Out-Sample AUC: 0.8296\n"
     ]
    }
   ],
   "source": [
    "# As you can see from this code, the auc function takes two parameters—fpr and tpr. Using the previously calculated fpr and tpr values\n",
    "# from the roc_curve function, we can easily compute the AUC numbers for both the train and test sets. The output looks as follows\n",
    "\n",
    "in_sample_roc_auc = auc(in_sample_fpr, in_sample_tpr)\n",
    "out_sample_roc_auc = auc(out_sample_fpr, out_sample_tpr)\n",
    "\n",
    "print('In-Sample AUC: %0.4f' % in_sample_roc_auc)\n",
    "print('Out-Sample AUC: %0.4f' % out_sample_roc_auc)"
   ]
  },
  {
   "cell_type": "markdown",
   "id": "d5572e90-7188-42c0-a25b-42433aa9d455",
   "metadata": {
    "id": "d5572e90-7188-42c0-a25b-42433aa9d455"
   },
   "source": [
    "If you see a big gap between these two numbers, it is a sign of overfitting and you should try to address it by pruning the trees in the forest by tuning the hyperparameters, such as the maximum depth and minimum number of samples to split.\n",
    "\n",
    "The last thing we are going to look at for evaluating machine learning models is the actual ROC curve. "
   ]
  },
  {
   "cell_type": "code",
   "execution_count": 42,
   "id": "f3335a2c-9246-408b-b096-f442cdc47ed5",
   "metadata": {
    "id": "f3335a2c-9246-408b-b096-f442cdc47ed5"
   },
   "outputs": [],
   "source": [
    "import matplotlib.pyplot as plt"
   ]
  },
  {
   "cell_type": "code",
   "execution_count": 43,
   "id": "12dcba34-3d4a-4679-af5b-e7f44af8491a",
   "metadata": {
    "id": "12dcba34-3d4a-4679-af5b-e7f44af8491a",
    "outputId": "c009b4e0-7b62-4c5e-a7e2-9cb85fd10cf1"
   },
   "outputs": [
    {
     "data": {
      "image/png": "[encoded data removed]",
      "text/plain": [
       "<Figure size 720x504 with 1 Axes>"
      ]
     },
     "metadata": {
      "needs_background": "light"
     },
     "output_type": "display_data"
    }
   ],
   "source": [
    "# we can plot the actual ROC curves using the matplotlib package. Take a look at the following code:\n",
    "\n",
    "\n",
    "plt.figure(figsize=(10,7))\n",
    "\n",
    "plt.plot(\n",
    "    out_sample_fpr, out_sample_tpr, color='darkorange', label='Out-Sample ROC curve (area = %0.4f)' % in_sample_roc_auc\n",
    ")\n",
    "plt.plot(\n",
    "    in_sample_fpr, in_sample_tpr, color='navy', label='In-Sample ROC curve (area = %0.4f)' % out_sample_roc_auc\n",
    ")\n",
    "plt.plot([0, 1], [0, 1], color='gray', lw=1, linestyle='--')\n",
    "plt.grid()\n",
    "plt.xlim([0.0, 1.0])\n",
    "plt.ylim([0.0, 1.05])\n",
    "plt.xlabel('False Positive Rate')\n",
    "plt.ylabel('True Positive Rate')\n",
    "plt.title('RandomForest Model ROC Curve')\n",
    "plt.legend(loc=\"lower right\")\n",
    "\n",
    "plt.show()"
   ]
  },
  {
   "cell_type": "code",
   "execution_count": 1,
   "id": "88508c39-e4a8-4d8a-ad6b-ea98d3252335",
   "metadata": {
    "jupyter": {
     "source_hidden": true
    },
    "tags": []
   },
   "outputs": [],
   "source": [
    "import numpy as np\n",
    "from PIL import Image\n",
    "from IPython.display import display"
   ]
  },
  {
   "cell_type": "code",
   "execution_count": 2,
   "id": "f68e0a1b-056c-4e7a-ac22-ce5111292afc",
   "metadata": {
    "collapsed": true,
    "jupyter": {
     "outputs_hidden": true,
     "source_hidden": true
    },
    "tags": []
   },
   "outputs": [
    {
     "data": {
      "image/png": "[encoded data removed]",
      "text/plain": [
       "<PIL.JpegImagePlugin.JpegImageFile image mode=RGB size=667x566 at 0x1E4B35B08B0>"
      ]
     },
     "metadata": {},
     "output_type": "display_data"
    }
   ],
   "source": [
    "im=Image.open('1_3yGLac6F4mTENnj5dBNvNQ.jpeg')\n",
    "display(im)\n",
    "array=np.array"
   ]
  },
  {
   "cell_type": "markdown",
   "id": "4e93f560-cc00-40b0-a3df-75d3691ee39d",
   "metadata": {},
   "source": [
    "The larger the gap between the in-sample ROC curve and the out-sample ROC curve, \n",
    "the more the model is overfitting to the train set and fails to\n",
    "generalize the findings for unforeseen data. A normal random classifier has an AUC of 0.5,\n",
    "and our AUC is 0.8 so any classifier withan AUC higher than 0.5 suggests that the model \n",
    "performs better than random predictions which means our model performs better."
   ]
  },
  {
   "cell_type": "code",
   "execution_count": null,
   "id": "799061c2-a5b0-4d1f-843f-19f328e2188e",
   "metadata": {},
   "outputs": [],
   "source": []
  }
 ],
 "metadata": {
  "colab": {
   "name": "Day 8_Predicting the likelihood of marketing engagement with Python.ipynb",
   "provenance": []
  },
  "kernelspec": {
   "display_name": "Python 3",
   "language": "python",
   "name": "python3"
  },
  "language_info": {
   "codemirror_mode": {
    "name": "ipython",
    "version": 3
   },
   "file_extension": ".py",
   "mimetype": "text/x-python",
   "name": "python",
   "nbconvert_exporter": "python",
   "pygments_lexer": "ipython3",
   "version": "3.8.8"
  }
 },
 "nbformat": 4,
 "nbformat_minor": 5
}
