{
 "cells": [
  {
   "cell_type": "markdown",
   "id": "e2ba3e25-ac31-41d8-8cbd-3d069c5b7eca",
   "metadata": {},
   "source": [
    "# Segmenting_customers_with_Python"
   ]
  },
  {
   "cell_type": "code",
   "execution_count": 32,
   "id": "ecfaa8be-e7af-4699-b06b-883cf7fb4c4f",
   "metadata": {},
   "outputs": [],
   "source": [
    "# importing the necessary libraries\n",
    "\n",
    "import pandas as pd\n",
    "import matplotlib.pyplot as plt"
   ]
  },
  {
   "cell_type": "code",
   "execution_count": 33,
   "id": "e37b07a2-2c2a-48a4-945d-ff373cdcd668",
   "metadata": {},
   "outputs": [],
   "source": [
    "# loading the data\n",
    "df = pd.read_excel(r\"C:\\Users\\Zachary_B\\Desktop\\dataset\\Online Retail.xlsx\")"
   ]
  },
  {
   "cell_type": "code",
   "execution_count": 34,
   "id": "d034fbb0-4dfa-4a13-8019-3956cb684261",
   "metadata": {},
   "outputs": [
    {
     "data": {
      "text/html": [
       "<div>\n",
       "<style scoped>\n",
       "    .dataframe tbody tr th:only-of-type {\n",
       "        vertical-align: middle;\n",
       "    }\n",
       "\n",
       "    .dataframe tbody tr th {\n",
       "        vertical-align: top;\n",
       "    }\n",
       "\n",
       "    .dataframe thead th {\n",
       "        text-align: right;\n",
       "    }\n",
       "</style>\n",
       "<table border=\"1\" class=\"dataframe\">\n",
       "  <thead>\n",
       "    <tr style=\"text-align: right;\">\n",
       "      <th></th>\n",
       "      <th>InvoiceNo</th>\n",
       "      <th>StockCode</th>\n",
       "      <th>Description</th>\n",
       "      <th>Quantity</th>\n",
       "      <th>InvoiceDate</th>\n",
       "      <th>UnitPrice</th>\n",
       "      <th>CustomerID</th>\n",
       "      <th>Country</th>\n",
       "    </tr>\n",
       "  </thead>\n",
       "  <tbody>\n",
       "    <tr>\n",
       "      <th>0</th>\n",
       "      <td>536365</td>\n",
       "      <td>85123A</td>\n",
       "      <td>WHITE HANGING HEART T-LIGHT HOLDER</td>\n",
       "      <td>6</td>\n",
       "      <td>2010-12-01 08:26:00</td>\n",
       "      <td>2.55</td>\n",
       "      <td>17850.0</td>\n",
       "      <td>United Kingdom</td>\n",
       "    </tr>\n",
       "    <tr>\n",
       "      <th>1</th>\n",
       "      <td>536365</td>\n",
       "      <td>71053</td>\n",
       "      <td>WHITE METAL LANTERN</td>\n",
       "      <td>6</td>\n",
       "      <td>2010-12-01 08:26:00</td>\n",
       "      <td>3.39</td>\n",
       "      <td>17850.0</td>\n",
       "      <td>United Kingdom</td>\n",
       "    </tr>\n",
       "    <tr>\n",
       "      <th>2</th>\n",
       "      <td>536365</td>\n",
       "      <td>84406B</td>\n",
       "      <td>CREAM CUPID HEARTS COAT HANGER</td>\n",
       "      <td>8</td>\n",
       "      <td>2010-12-01 08:26:00</td>\n",
       "      <td>2.75</td>\n",
       "      <td>17850.0</td>\n",
       "      <td>United Kingdom</td>\n",
       "    </tr>\n",
       "    <tr>\n",
       "      <th>3</th>\n",
       "      <td>536365</td>\n",
       "      <td>84029G</td>\n",
       "      <td>KNITTED UNION FLAG HOT WATER BOTTLE</td>\n",
       "      <td>6</td>\n",
       "      <td>2010-12-01 08:26:00</td>\n",
       "      <td>3.39</td>\n",
       "      <td>17850.0</td>\n",
       "      <td>United Kingdom</td>\n",
       "    </tr>\n",
       "    <tr>\n",
       "      <th>4</th>\n",
       "      <td>536365</td>\n",
       "      <td>84029E</td>\n",
       "      <td>RED WOOLLY HOTTIE WHITE HEART.</td>\n",
       "      <td>6</td>\n",
       "      <td>2010-12-01 08:26:00</td>\n",
       "      <td>3.39</td>\n",
       "      <td>17850.0</td>\n",
       "      <td>United Kingdom</td>\n",
       "    </tr>\n",
       "  </tbody>\n",
       "</table>\n",
       "</div>"
      ],
      "text/plain": [
       "  InvoiceNo StockCode                          Description  Quantity  \\\n",
       "0    536365    85123A   WHITE HANGING HEART T-LIGHT HOLDER         6   \n",
       "1    536365     71053                  WHITE METAL LANTERN         6   \n",
       "2    536365    84406B       CREAM CUPID HEARTS COAT HANGER         8   \n",
       "3    536365    84029G  KNITTED UNION FLAG HOT WATER BOTTLE         6   \n",
       "4    536365    84029E       RED WOOLLY HOTTIE WHITE HEART.         6   \n",
       "\n",
       "          InvoiceDate  UnitPrice  CustomerID         Country  \n",
       "0 2010-12-01 08:26:00       2.55     17850.0  United Kingdom  \n",
       "1 2010-12-01 08:26:00       3.39     17850.0  United Kingdom  \n",
       "2 2010-12-01 08:26:00       2.75     17850.0  United Kingdom  \n",
       "3 2010-12-01 08:26:00       3.39     17850.0  United Kingdom  \n",
       "4 2010-12-01 08:26:00       3.39     17850.0  United Kingdom  "
      ]
     },
     "execution_count": 34,
     "metadata": {},
     "output_type": "execute_result"
    }
   ],
   "source": [
    "df.head()"
   ]
  },
  {
   "cell_type": "markdown",
   "id": "59c467cb-11b7-4407-838d-2ba34c0ede6c",
   "metadata": {},
   "source": [
    "As you can notice, we have used this dataset a few times in the previous presentaions. As you might recall, there are a few things we need to clean up before we proceed.\n",
    "\n",
    "## Data cleanup"
   ]
  },
  {
   "cell_type": "code",
   "execution_count": 35,
   "id": "a1df9739-7d98-478a-abf8-fc1de3b4e1ba",
   "metadata": {},
   "outputs": [
    {
     "data": {
      "text/plain": [
       "(541909, 8)"
      ]
     },
     "execution_count": 35,
     "metadata": {},
     "output_type": "execute_result"
    }
   ],
   "source": [
    "df.shape"
   ]
  },
  {
   "cell_type": "code",
   "execution_count": 36,
   "id": "7aee8f20-4863-4967-83c6-26ae120886fc",
   "metadata": {},
   "outputs": [],
   "source": [
    "# Dropping canceled orders: We are going to drop records with negative Quantity, using the following code:\n",
    "df = df.loc[df['Quantity'] > 0]"
   ]
  },
  {
   "cell_type": "code",
   "execution_count": 37,
   "id": "14b0b520-a0b0-4213-aa79-2d768b1333ca",
   "metadata": {},
   "outputs": [
    {
     "data": {
      "text/plain": [
       "(531285, 8)"
      ]
     },
     "execution_count": 37,
     "metadata": {},
     "output_type": "execute_result"
    }
   ],
   "source": [
    "df.shape"
   ]
  },
  {
   "cell_type": "code",
   "execution_count": 38,
   "id": "644c344f-a614-4a5b-8d30-750dbbc0afbe",
   "metadata": {},
   "outputs": [],
   "source": [
    "# Dropping records with no CustomerID: There are 133,361 records with no CustomerID and we are going to drop those records with the following code:\n",
    "df = df[pd.notnull(df['CustomerID'])]"
   ]
  },
  {
   "cell_type": "code",
   "execution_count": 39,
   "id": "34d2593f-bf75-4e17-ae31-3ef67287b2c9",
   "metadata": {},
   "outputs": [
    {
     "data": {
      "text/plain": [
       "(397924, 8)"
      ]
     },
     "execution_count": 39,
     "metadata": {},
     "output_type": "execute_result"
    }
   ],
   "source": [
    "df.shape"
   ]
  },
  {
   "cell_type": "code",
   "execution_count": 40,
   "id": "fecd87ab-70e4-4887-ae65-8b27047658b0",
   "metadata": {},
   "outputs": [],
   "source": [
    "# Excluding an incomplete month: the data in the month of December, 2011, is incomplete. You can exclude this data with the following code:\n",
    "df = df.loc[df['InvoiceDate'] < '2011-12-01']"
   ]
  },
  {
   "cell_type": "code",
   "execution_count": 41,
   "id": "4f199490-0ee9-44b0-9e18-8a96fde3493a",
   "metadata": {},
   "outputs": [
    {
     "data": {
      "text/plain": [
       "(380620, 8)"
      ]
     },
     "execution_count": 41,
     "metadata": {},
     "output_type": "execute_result"
    }
   ],
   "source": [
    "df.shape"
   ]
  },
  {
   "cell_type": "code",
   "execution_count": 42,
   "id": "6923a8e1-13f9-4d9d-9763-cc9471fc858c",
   "metadata": {},
   "outputs": [],
   "source": [
    "# Computing total sales from the Quantity and UnitPrice columns: For our analyses, we need the total sales value, so we are going to multiply\n",
    "# the two Quantity and UnitPrice columns, to get the total sales.\n",
    "df['Sales'] = df['Quantity'] * df['UnitPrice']\n"
   ]
  },
  {
   "cell_type": "code",
   "execution_count": 43,
   "id": "516907b9-812d-4f94-901b-4457f947bc79",
   "metadata": {},
   "outputs": [
    {
     "data": {
      "text/html": [
       "<div>\n",
       "<style scoped>\n",
       "    .dataframe tbody tr th:only-of-type {\n",
       "        vertical-align: middle;\n",
       "    }\n",
       "\n",
       "    .dataframe tbody tr th {\n",
       "        vertical-align: top;\n",
       "    }\n",
       "\n",
       "    .dataframe thead th {\n",
       "        text-align: right;\n",
       "    }\n",
       "</style>\n",
       "<table border=\"1\" class=\"dataframe\">\n",
       "  <thead>\n",
       "    <tr style=\"text-align: right;\">\n",
       "      <th></th>\n",
       "      <th>InvoiceNo</th>\n",
       "      <th>StockCode</th>\n",
       "      <th>Description</th>\n",
       "      <th>Quantity</th>\n",
       "      <th>InvoiceDate</th>\n",
       "      <th>UnitPrice</th>\n",
       "      <th>CustomerID</th>\n",
       "      <th>Country</th>\n",
       "      <th>Sales</th>\n",
       "    </tr>\n",
       "  </thead>\n",
       "  <tbody>\n",
       "    <tr>\n",
       "      <th>0</th>\n",
       "      <td>536365</td>\n",
       "      <td>85123A</td>\n",
       "      <td>WHITE HANGING HEART T-LIGHT HOLDER</td>\n",
       "      <td>6</td>\n",
       "      <td>2010-12-01 08:26:00</td>\n",
       "      <td>2.55</td>\n",
       "      <td>17850.0</td>\n",
       "      <td>United Kingdom</td>\n",
       "      <td>15.30</td>\n",
       "    </tr>\n",
       "    <tr>\n",
       "      <th>1</th>\n",
       "      <td>536365</td>\n",
       "      <td>71053</td>\n",
       "      <td>WHITE METAL LANTERN</td>\n",
       "      <td>6</td>\n",
       "      <td>2010-12-01 08:26:00</td>\n",
       "      <td>3.39</td>\n",
       "      <td>17850.0</td>\n",
       "      <td>United Kingdom</td>\n",
       "      <td>20.34</td>\n",
       "    </tr>\n",
       "    <tr>\n",
       "      <th>2</th>\n",
       "      <td>536365</td>\n",
       "      <td>84406B</td>\n",
       "      <td>CREAM CUPID HEARTS COAT HANGER</td>\n",
       "      <td>8</td>\n",
       "      <td>2010-12-01 08:26:00</td>\n",
       "      <td>2.75</td>\n",
       "      <td>17850.0</td>\n",
       "      <td>United Kingdom</td>\n",
       "      <td>22.00</td>\n",
       "    </tr>\n",
       "    <tr>\n",
       "      <th>3</th>\n",
       "      <td>536365</td>\n",
       "      <td>84029G</td>\n",
       "      <td>KNITTED UNION FLAG HOT WATER BOTTLE</td>\n",
       "      <td>6</td>\n",
       "      <td>2010-12-01 08:26:00</td>\n",
       "      <td>3.39</td>\n",
       "      <td>17850.0</td>\n",
       "      <td>United Kingdom</td>\n",
       "      <td>20.34</td>\n",
       "    </tr>\n",
       "    <tr>\n",
       "      <th>4</th>\n",
       "      <td>536365</td>\n",
       "      <td>84029E</td>\n",
       "      <td>RED WOOLLY HOTTIE WHITE HEART.</td>\n",
       "      <td>6</td>\n",
       "      <td>2010-12-01 08:26:00</td>\n",
       "      <td>3.39</td>\n",
       "      <td>17850.0</td>\n",
       "      <td>United Kingdom</td>\n",
       "      <td>20.34</td>\n",
       "    </tr>\n",
       "  </tbody>\n",
       "</table>\n",
       "</div>"
      ],
      "text/plain": [
       "  InvoiceNo StockCode                          Description  Quantity  \\\n",
       "0    536365    85123A   WHITE HANGING HEART T-LIGHT HOLDER         6   \n",
       "1    536365     71053                  WHITE METAL LANTERN         6   \n",
       "2    536365    84406B       CREAM CUPID HEARTS COAT HANGER         8   \n",
       "3    536365    84029G  KNITTED UNION FLAG HOT WATER BOTTLE         6   \n",
       "4    536365    84029E       RED WOOLLY HOTTIE WHITE HEART.         6   \n",
       "\n",
       "          InvoiceDate  UnitPrice  CustomerID         Country  Sales  \n",
       "0 2010-12-01 08:26:00       2.55     17850.0  United Kingdom  15.30  \n",
       "1 2010-12-01 08:26:00       3.39     17850.0  United Kingdom  20.34  \n",
       "2 2010-12-01 08:26:00       2.75     17850.0  United Kingdom  22.00  \n",
       "3 2010-12-01 08:26:00       3.39     17850.0  United Kingdom  20.34  \n",
       "4 2010-12-01 08:26:00       3.39     17850.0  United Kingdom  20.34  "
      ]
     },
     "execution_count": 43,
     "metadata": {},
     "output_type": "execute_result"
    }
   ],
   "source": [
    "df.head()"
   ]
  },
  {
   "cell_type": "code",
   "execution_count": 44,
   "id": "c7ce634e-b075-4651-acf3-cdabddf35cd3",
   "metadata": {},
   "outputs": [],
   "source": [
    "# Per-customer data: In order to analyze customer segments, we need to transform our data, so that each record represents \n",
    "# the purchase history of individual customers. Take a look at the following code:\n",
    "\n",
    "customer_df = df.groupby('CustomerID').agg({'Sales': sum,'InvoiceNo': lambda x: x.nunique()})\n",
    "customer_df.columns = ['TotalSales', 'OrderCount']\n",
    "customer_df['AvgOrderValue'] = customer_df['TotalSales']/customer_df['OrderCount']"
   ]
  },
  {
   "cell_type": "code",
   "execution_count": 45,
   "id": "c99ba37a-c4a1-41c6-83af-536cd7d053a6",
   "metadata": {},
   "outputs": [
    {
     "data": {
      "text/html": [
       "<div>\n",
       "<style scoped>\n",
       "    .dataframe tbody tr th:only-of-type {\n",
       "        vertical-align: middle;\n",
       "    }\n",
       "\n",
       "    .dataframe tbody tr th {\n",
       "        vertical-align: top;\n",
       "    }\n",
       "\n",
       "    .dataframe thead th {\n",
       "        text-align: right;\n",
       "    }\n",
       "</style>\n",
       "<table border=\"1\" class=\"dataframe\">\n",
       "  <thead>\n",
       "    <tr style=\"text-align: right;\">\n",
       "      <th></th>\n",
       "      <th>TotalSales</th>\n",
       "      <th>OrderCount</th>\n",
       "      <th>AvgOrderValue</th>\n",
       "    </tr>\n",
       "    <tr>\n",
       "      <th>CustomerID</th>\n",
       "      <th></th>\n",
       "      <th></th>\n",
       "      <th></th>\n",
       "    </tr>\n",
       "  </thead>\n",
       "  <tbody>\n",
       "    <tr>\n",
       "      <th>12346.0</th>\n",
       "      <td>77183.60</td>\n",
       "      <td>1</td>\n",
       "      <td>77183.600000</td>\n",
       "    </tr>\n",
       "    <tr>\n",
       "      <th>12347.0</th>\n",
       "      <td>4085.18</td>\n",
       "      <td>6</td>\n",
       "      <td>680.863333</td>\n",
       "    </tr>\n",
       "    <tr>\n",
       "      <th>12348.0</th>\n",
       "      <td>1797.24</td>\n",
       "      <td>4</td>\n",
       "      <td>449.310000</td>\n",
       "    </tr>\n",
       "    <tr>\n",
       "      <th>12349.0</th>\n",
       "      <td>1757.55</td>\n",
       "      <td>1</td>\n",
       "      <td>1757.550000</td>\n",
       "    </tr>\n",
       "    <tr>\n",
       "      <th>12350.0</th>\n",
       "      <td>334.40</td>\n",
       "      <td>1</td>\n",
       "      <td>334.400000</td>\n",
       "    </tr>\n",
       "    <tr>\n",
       "      <th>...</th>\n",
       "      <td>...</td>\n",
       "      <td>...</td>\n",
       "      <td>...</td>\n",
       "    </tr>\n",
       "    <tr>\n",
       "      <th>18280.0</th>\n",
       "      <td>180.60</td>\n",
       "      <td>1</td>\n",
       "      <td>180.600000</td>\n",
       "    </tr>\n",
       "    <tr>\n",
       "      <th>18281.0</th>\n",
       "      <td>80.82</td>\n",
       "      <td>1</td>\n",
       "      <td>80.820000</td>\n",
       "    </tr>\n",
       "    <tr>\n",
       "      <th>18282.0</th>\n",
       "      <td>100.21</td>\n",
       "      <td>1</td>\n",
       "      <td>100.210000</td>\n",
       "    </tr>\n",
       "    <tr>\n",
       "      <th>18283.0</th>\n",
       "      <td>1886.88</td>\n",
       "      <td>15</td>\n",
       "      <td>125.792000</td>\n",
       "    </tr>\n",
       "    <tr>\n",
       "      <th>18287.0</th>\n",
       "      <td>1837.28</td>\n",
       "      <td>3</td>\n",
       "      <td>612.426667</td>\n",
       "    </tr>\n",
       "  </tbody>\n",
       "</table>\n",
       "<p>4298 rows × 3 columns</p>\n",
       "</div>"
      ],
      "text/plain": [
       "            TotalSales  OrderCount  AvgOrderValue\n",
       "CustomerID                                       \n",
       "12346.0       77183.60           1   77183.600000\n",
       "12347.0        4085.18           6     680.863333\n",
       "12348.0        1797.24           4     449.310000\n",
       "12349.0        1757.55           1    1757.550000\n",
       "12350.0         334.40           1     334.400000\n",
       "...                ...         ...            ...\n",
       "18280.0         180.60           1     180.600000\n",
       "18281.0          80.82           1      80.820000\n",
       "18282.0         100.21           1     100.210000\n",
       "18283.0        1886.88          15     125.792000\n",
       "18287.0        1837.28           3     612.426667\n",
       "\n",
       "[4298 rows x 3 columns]"
      ]
     },
     "execution_count": 45,
     "metadata": {},
     "output_type": "execute_result"
    }
   ],
   "source": [
    "customer_df"
   ]
  },
  {
   "cell_type": "markdown",
   "id": "4b97b35b-7967-4d6f-96f5-7f35a5286c5a",
   "metadata": {},
   "source": [
    "Clustering algorithms are highly affected by the scales of the data, so we need to normalize this data to be on the same scale. We are going to take two steps to normalize this data"
   ]
  },
  {
   "cell_type": "code",
   "execution_count": 46,
   "id": "4fda23d2-15b0-4532-9ed3-7bb747a310f9",
   "metadata": {},
   "outputs": [],
   "source": [
    "# First, we are going to rank the data, so that the values of each column range from 1 to 4298, which is the total number of records. \n",
    "# Take a look at the following code:\n",
    "rank_df = customer_df.rank(method='first')"
   ]
  },
  {
   "cell_type": "code",
   "execution_count": 47,
   "id": "b72f7ace-9ab9-4449-866f-fcb5f44c809a",
   "metadata": {},
   "outputs": [
    {
     "data": {
      "text/html": [
       "<div>\n",
       "<style scoped>\n",
       "    .dataframe tbody tr th:only-of-type {\n",
       "        vertical-align: middle;\n",
       "    }\n",
       "\n",
       "    .dataframe tbody tr th {\n",
       "        vertical-align: top;\n",
       "    }\n",
       "\n",
       "    .dataframe thead th {\n",
       "        text-align: right;\n",
       "    }\n",
       "</style>\n",
       "<table border=\"1\" class=\"dataframe\">\n",
       "  <thead>\n",
       "    <tr style=\"text-align: right;\">\n",
       "      <th></th>\n",
       "      <th>TotalSales</th>\n",
       "      <th>OrderCount</th>\n",
       "      <th>AvgOrderValue</th>\n",
       "    </tr>\n",
       "    <tr>\n",
       "      <th>CustomerID</th>\n",
       "      <th></th>\n",
       "      <th></th>\n",
       "      <th></th>\n",
       "    </tr>\n",
       "  </thead>\n",
       "  <tbody>\n",
       "    <tr>\n",
       "      <th>12346.0</th>\n",
       "      <td>4290.0</td>\n",
       "      <td>1.0</td>\n",
       "      <td>4298.0</td>\n",
       "    </tr>\n",
       "    <tr>\n",
       "      <th>12347.0</th>\n",
       "      <td>3958.0</td>\n",
       "      <td>3470.0</td>\n",
       "      <td>3888.0</td>\n",
       "    </tr>\n",
       "    <tr>\n",
       "      <th>12348.0</th>\n",
       "      <td>3350.0</td>\n",
       "      <td>2861.0</td>\n",
       "      <td>3303.0</td>\n",
       "    </tr>\n",
       "    <tr>\n",
       "      <th>12349.0</th>\n",
       "      <td>3321.0</td>\n",
       "      <td>2.0</td>\n",
       "      <td>4238.0</td>\n",
       "    </tr>\n",
       "    <tr>\n",
       "      <th>12350.0</th>\n",
       "      <td>1241.0</td>\n",
       "      <td>3.0</td>\n",
       "      <td>2561.0</td>\n",
       "    </tr>\n",
       "    <tr>\n",
       "      <th>...</th>\n",
       "      <td>...</td>\n",
       "      <td>...</td>\n",
       "      <td>...</td>\n",
       "    </tr>\n",
       "    <tr>\n",
       "      <th>18280.0</th>\n",
       "      <td>571.0</td>\n",
       "      <td>1537.0</td>\n",
       "      <td>1094.0</td>\n",
       "    </tr>\n",
       "    <tr>\n",
       "      <th>18281.0</th>\n",
       "      <td>104.0</td>\n",
       "      <td>1538.0</td>\n",
       "      <td>169.0</td>\n",
       "    </tr>\n",
       "    <tr>\n",
       "      <th>18282.0</th>\n",
       "      <td>158.0</td>\n",
       "      <td>1539.0</td>\n",
       "      <td>266.0</td>\n",
       "    </tr>\n",
       "    <tr>\n",
       "      <th>18283.0</th>\n",
       "      <td>3398.0</td>\n",
       "      <td>4148.0</td>\n",
       "      <td>500.0</td>\n",
       "    </tr>\n",
       "    <tr>\n",
       "      <th>18287.0</th>\n",
       "      <td>3373.0</td>\n",
       "      <td>2860.0</td>\n",
       "      <td>3777.0</td>\n",
       "    </tr>\n",
       "  </tbody>\n",
       "</table>\n",
       "<p>4298 rows × 3 columns</p>\n",
       "</div>"
      ],
      "text/plain": [
       "            TotalSales  OrderCount  AvgOrderValue\n",
       "CustomerID                                       \n",
       "12346.0         4290.0         1.0         4298.0\n",
       "12347.0         3958.0      3470.0         3888.0\n",
       "12348.0         3350.0      2861.0         3303.0\n",
       "12349.0         3321.0         2.0         4238.0\n",
       "12350.0         1241.0         3.0         2561.0\n",
       "...                ...         ...            ...\n",
       "18280.0          571.0      1537.0         1094.0\n",
       "18281.0          104.0      1538.0          169.0\n",
       "18282.0          158.0      1539.0          266.0\n",
       "18283.0         3398.0      4148.0          500.0\n",
       "18287.0         3373.0      2860.0         3777.0\n",
       "\n",
       "[4298 rows x 3 columns]"
      ]
     },
     "execution_count": 47,
     "metadata": {},
     "output_type": "execute_result"
    }
   ],
   "source": [
    "rank_df"
   ]
  },
  {
   "cell_type": "code",
   "execution_count": 48,
   "id": "e7de959e-4255-4b1d-81ee-3121626d23e3",
   "metadata": {},
   "outputs": [],
   "source": [
    "# Next, we are going to normalize this data to center around the mean and have a mean of 0 and a standard deviation of 1. \n",
    "# Take a look at the following code:\n",
    "\n",
    "normalized_df = (rank_df - rank_df.mean()) / rank_df.std()"
   ]
  },
  {
   "cell_type": "code",
   "execution_count": 49,
   "id": "e0027c86-d01e-4fbf-bc2a-e642d4f07b51",
   "metadata": {},
   "outputs": [
    {
     "data": {
      "text/html": [
       "<div>\n",
       "<style scoped>\n",
       "    .dataframe tbody tr th:only-of-type {\n",
       "        vertical-align: middle;\n",
       "    }\n",
       "\n",
       "    .dataframe tbody tr th {\n",
       "        vertical-align: top;\n",
       "    }\n",
       "\n",
       "    .dataframe thead th {\n",
       "        text-align: right;\n",
       "    }\n",
       "</style>\n",
       "<table border=\"1\" class=\"dataframe\">\n",
       "  <thead>\n",
       "    <tr style=\"text-align: right;\">\n",
       "      <th></th>\n",
       "      <th>TotalSales</th>\n",
       "      <th>OrderCount</th>\n",
       "      <th>AvgOrderValue</th>\n",
       "    </tr>\n",
       "    <tr>\n",
       "      <th>CustomerID</th>\n",
       "      <th></th>\n",
       "      <th></th>\n",
       "      <th></th>\n",
       "    </tr>\n",
       "  </thead>\n",
       "  <tbody>\n",
       "    <tr>\n",
       "      <th>12346.0</th>\n",
       "      <td>1.724999</td>\n",
       "      <td>-1.731446</td>\n",
       "      <td>1.731446</td>\n",
       "    </tr>\n",
       "    <tr>\n",
       "      <th>12347.0</th>\n",
       "      <td>1.457445</td>\n",
       "      <td>1.064173</td>\n",
       "      <td>1.401033</td>\n",
       "    </tr>\n",
       "    <tr>\n",
       "      <th>12348.0</th>\n",
       "      <td>0.967466</td>\n",
       "      <td>0.573388</td>\n",
       "      <td>0.929590</td>\n",
       "    </tr>\n",
       "    <tr>\n",
       "      <th>12349.0</th>\n",
       "      <td>0.944096</td>\n",
       "      <td>-1.730641</td>\n",
       "      <td>1.683093</td>\n",
       "    </tr>\n",
       "    <tr>\n",
       "      <th>12350.0</th>\n",
       "      <td>-0.732148</td>\n",
       "      <td>-1.729835</td>\n",
       "      <td>0.331622</td>\n",
       "    </tr>\n",
       "    <tr>\n",
       "      <th>...</th>\n",
       "      <td>...</td>\n",
       "      <td>...</td>\n",
       "      <td>...</td>\n",
       "    </tr>\n",
       "    <tr>\n",
       "      <th>18280.0</th>\n",
       "      <td>-1.272091</td>\n",
       "      <td>-0.493605</td>\n",
       "      <td>-0.850613</td>\n",
       "    </tr>\n",
       "    <tr>\n",
       "      <th>18281.0</th>\n",
       "      <td>-1.648440</td>\n",
       "      <td>-0.492799</td>\n",
       "      <td>-1.596058</td>\n",
       "    </tr>\n",
       "    <tr>\n",
       "      <th>18282.0</th>\n",
       "      <td>-1.604922</td>\n",
       "      <td>-0.491993</td>\n",
       "      <td>-1.517887</td>\n",
       "    </tr>\n",
       "    <tr>\n",
       "      <th>18283.0</th>\n",
       "      <td>1.006149</td>\n",
       "      <td>1.610563</td>\n",
       "      <td>-1.329309</td>\n",
       "    </tr>\n",
       "    <tr>\n",
       "      <th>18287.0</th>\n",
       "      <td>0.986002</td>\n",
       "      <td>0.572582</td>\n",
       "      <td>1.311580</td>\n",
       "    </tr>\n",
       "  </tbody>\n",
       "</table>\n",
       "<p>4298 rows × 3 columns</p>\n",
       "</div>"
      ],
      "text/plain": [
       "            TotalSales  OrderCount  AvgOrderValue\n",
       "CustomerID                                       \n",
       "12346.0       1.724999   -1.731446       1.731446\n",
       "12347.0       1.457445    1.064173       1.401033\n",
       "12348.0       0.967466    0.573388       0.929590\n",
       "12349.0       0.944096   -1.730641       1.683093\n",
       "12350.0      -0.732148   -1.729835       0.331622\n",
       "...                ...         ...            ...\n",
       "18280.0      -1.272091   -0.493605      -0.850613\n",
       "18281.0      -1.648440   -0.492799      -1.596058\n",
       "18282.0      -1.604922   -0.491993      -1.517887\n",
       "18283.0       1.006149    1.610563      -1.329309\n",
       "18287.0       0.986002    0.572582       1.311580\n",
       "\n",
       "[4298 rows x 3 columns]"
      ]
     },
     "execution_count": 49,
     "metadata": {},
     "output_type": "execute_result"
    }
   ],
   "source": [
    "normalized_df"
   ]
  },
  {
   "cell_type": "code",
   "execution_count": 50,
   "id": "fd55d227-f5ce-4c20-86c1-74bf9e76d99f",
   "metadata": {},
   "outputs": [
    {
     "data": {
      "text/html": [
       "<div>\n",
       "<style scoped>\n",
       "    .dataframe tbody tr th:only-of-type {\n",
       "        vertical-align: middle;\n",
       "    }\n",
       "\n",
       "    .dataframe tbody tr th {\n",
       "        vertical-align: top;\n",
       "    }\n",
       "\n",
       "    .dataframe thead th {\n",
       "        text-align: right;\n",
       "    }\n",
       "</style>\n",
       "<table border=\"1\" class=\"dataframe\">\n",
       "  <thead>\n",
       "    <tr style=\"text-align: right;\">\n",
       "      <th></th>\n",
       "      <th>TotalSales</th>\n",
       "      <th>OrderCount</th>\n",
       "      <th>AvgOrderValue</th>\n",
       "    </tr>\n",
       "  </thead>\n",
       "  <tbody>\n",
       "    <tr>\n",
       "      <th>count</th>\n",
       "      <td>4.298000e+03</td>\n",
       "      <td>4.298000e+03</td>\n",
       "      <td>4.298000e+03</td>\n",
       "    </tr>\n",
       "    <tr>\n",
       "      <th>mean</th>\n",
       "      <td>9.952744e-17</td>\n",
       "      <td>-1.231371e-16</td>\n",
       "      <td>5.719018e-17</td>\n",
       "    </tr>\n",
       "    <tr>\n",
       "      <th>std</th>\n",
       "      <td>1.000000e+00</td>\n",
       "      <td>1.000000e+00</td>\n",
       "      <td>1.000000e+00</td>\n",
       "    </tr>\n",
       "    <tr>\n",
       "      <th>min</th>\n",
       "      <td>-1.731446e+00</td>\n",
       "      <td>-1.731446e+00</td>\n",
       "      <td>-1.731446e+00</td>\n",
       "    </tr>\n",
       "    <tr>\n",
       "      <th>25%</th>\n",
       "      <td>-8.657232e-01</td>\n",
       "      <td>-8.657232e-01</td>\n",
       "      <td>-8.657232e-01</td>\n",
       "    </tr>\n",
       "    <tr>\n",
       "      <th>50%</th>\n",
       "      <td>0.000000e+00</td>\n",
       "      <td>0.000000e+00</td>\n",
       "      <td>0.000000e+00</td>\n",
       "    </tr>\n",
       "    <tr>\n",
       "      <th>75%</th>\n",
       "      <td>8.657232e-01</td>\n",
       "      <td>8.657232e-01</td>\n",
       "      <td>8.657232e-01</td>\n",
       "    </tr>\n",
       "    <tr>\n",
       "      <th>max</th>\n",
       "      <td>1.731446e+00</td>\n",
       "      <td>1.731446e+00</td>\n",
       "      <td>1.731446e+00</td>\n",
       "    </tr>\n",
       "  </tbody>\n",
       "</table>\n",
       "</div>"
      ],
      "text/plain": [
       "         TotalSales    OrderCount  AvgOrderValue\n",
       "count  4.298000e+03  4.298000e+03   4.298000e+03\n",
       "mean   9.952744e-17 -1.231371e-16   5.719018e-17\n",
       "std    1.000000e+00  1.000000e+00   1.000000e+00\n",
       "min   -1.731446e+00 -1.731446e+00  -1.731446e+00\n",
       "25%   -8.657232e-01 -8.657232e-01  -8.657232e-01\n",
       "50%    0.000000e+00  0.000000e+00   0.000000e+00\n",
       "75%    8.657232e-01  8.657232e-01   8.657232e-01\n",
       "max    1.731446e+00  1.731446e+00   1.731446e+00"
      ]
     },
     "execution_count": 50,
     "metadata": {},
     "output_type": "execute_result"
    }
   ],
   "source": [
    "normalized_df.describe()"
   ]
  },
  {
   "cell_type": "markdown",
   "id": "b65de3ce-2bab-476a-8b91-558f1c273d13",
   "metadata": {},
   "source": [
    "From the result above you can see that the values are centered around at 0 and have a standard deviation of 1. We are going to use this data for the following clustering analyses"
   ]
  },
  {
   "cell_type": "markdown",
   "id": "f6a544a6-8c65-4eea-9e29-67a9d48c6d84",
   "metadata": {},
   "source": [
    "## k-means clustering\n",
    "The k-means clustering algorithm is a frequently used algorithm for drawing insights into the formations and separations within data. In marketing, it is often used to build customer segments and understand the behaviors of these different segments. Let's dive into building clustering models in Python."
   ]
  },
  {
   "cell_type": "code",
   "execution_count": 51,
   "id": "22119902-73a7-4860-b32f-f4a4119a1af7",
   "metadata": {},
   "outputs": [],
   "source": [
    "# In order to use the k-means clustering algorithm in the scikit-learn package, we need to import the kmeans module, \n",
    "# as shown in the following code:\n",
    "from sklearn.cluster import KMeans"
   ]
  },
  {
   "cell_type": "code",
   "execution_count": 52,
   "id": "96501e1c-2830-4f36-994b-e7d678445a13",
   "metadata": {},
   "outputs": [],
   "source": [
    "# Then, you can build and fit a k-means clustering model, using the following code:\n",
    "kmeans = KMeans(n_clusters=4).fit(normalized_df[['TotalSales', 'OrderCount','AvgOrderValue']])"
   ]
  },
  {
   "cell_type": "code",
   "execution_count": 53,
   "id": "ae399ea9-acf0-4d73-a36a-809e4e9e2e7c",
   "metadata": {},
   "outputs": [
    {
     "name": "stdout",
     "output_type": "stream",
     "text": [
      "[2 1 1 ... 0 3 1]\n"
     ]
    },
    {
     "data": {
      "text/plain": [
       "array([[-1.24090997, -0.79043908, -1.05914614],\n",
       "       [ 1.20686587,  1.00577374,  0.86930726],\n",
       "       [-0.13229361, -0.84649738,  0.79586464],\n",
       "       [ 0.2292729 ,  0.72651836, -0.64266766]])"
      ]
     },
     "execution_count": 53,
     "metadata": {},
     "output_type": "execute_result"
    }
   ],
   "source": [
    "# The trained model object, kmeans, stores the labels and centers of the clusters in the labels_ and cluster_centers_ attributes of \n",
    "# the model object. You can retrieve these values as shown in the following code:\n",
    "\n",
    "\n",
    "print(kmeans.labels_)\n",
    "kmeans.cluster_centers_"
   ]
  },
  {
   "cell_type": "code",
   "execution_count": 54,
   "id": "baf09e0c-1bf4-4543-962b-2ac4f90896c7",
   "metadata": {},
   "outputs": [],
   "source": [
    "# Now that we have built our first clustering model, let's visualize this data. First, take a look at the following code: \n",
    "\n",
    "four_cluster_df = normalized_df[['TotalSales', 'OrderCount','AvgOrderValue']].copy(deep=True)\n",
    "four_cluster_df['Cluster'] = kmeans.labels_"
   ]
  },
  {
   "cell_type": "code",
   "execution_count": 55,
   "id": "28f62872-3aa4-498e-9718-71e8b411e9f8",
   "metadata": {},
   "outputs": [
    {
     "data": {
      "text/html": [
       "<div>\n",
       "<style scoped>\n",
       "    .dataframe tbody tr th:only-of-type {\n",
       "        vertical-align: middle;\n",
       "    }\n",
       "\n",
       "    .dataframe tbody tr th {\n",
       "        vertical-align: top;\n",
       "    }\n",
       "\n",
       "    .dataframe thead th {\n",
       "        text-align: right;\n",
       "    }\n",
       "</style>\n",
       "<table border=\"1\" class=\"dataframe\">\n",
       "  <thead>\n",
       "    <tr style=\"text-align: right;\">\n",
       "      <th></th>\n",
       "      <th>TotalSales</th>\n",
       "      <th>OrderCount</th>\n",
       "      <th>AvgOrderValue</th>\n",
       "      <th>Cluster</th>\n",
       "    </tr>\n",
       "    <tr>\n",
       "      <th>CustomerID</th>\n",
       "      <th></th>\n",
       "      <th></th>\n",
       "      <th></th>\n",
       "      <th></th>\n",
       "    </tr>\n",
       "  </thead>\n",
       "  <tbody>\n",
       "    <tr>\n",
       "      <th>12346.0</th>\n",
       "      <td>1.724999</td>\n",
       "      <td>-1.731446</td>\n",
       "      <td>1.731446</td>\n",
       "      <td>2</td>\n",
       "    </tr>\n",
       "    <tr>\n",
       "      <th>12347.0</th>\n",
       "      <td>1.457445</td>\n",
       "      <td>1.064173</td>\n",
       "      <td>1.401033</td>\n",
       "      <td>1</td>\n",
       "    </tr>\n",
       "    <tr>\n",
       "      <th>12348.0</th>\n",
       "      <td>0.967466</td>\n",
       "      <td>0.573388</td>\n",
       "      <td>0.929590</td>\n",
       "      <td>1</td>\n",
       "    </tr>\n",
       "    <tr>\n",
       "      <th>12349.0</th>\n",
       "      <td>0.944096</td>\n",
       "      <td>-1.730641</td>\n",
       "      <td>1.683093</td>\n",
       "      <td>2</td>\n",
       "    </tr>\n",
       "    <tr>\n",
       "      <th>12350.0</th>\n",
       "      <td>-0.732148</td>\n",
       "      <td>-1.729835</td>\n",
       "      <td>0.331622</td>\n",
       "      <td>2</td>\n",
       "    </tr>\n",
       "    <tr>\n",
       "      <th>...</th>\n",
       "      <td>...</td>\n",
       "      <td>...</td>\n",
       "      <td>...</td>\n",
       "      <td>...</td>\n",
       "    </tr>\n",
       "    <tr>\n",
       "      <th>18280.0</th>\n",
       "      <td>-1.272091</td>\n",
       "      <td>-0.493605</td>\n",
       "      <td>-0.850613</td>\n",
       "      <td>0</td>\n",
       "    </tr>\n",
       "    <tr>\n",
       "      <th>18281.0</th>\n",
       "      <td>-1.648440</td>\n",
       "      <td>-0.492799</td>\n",
       "      <td>-1.596058</td>\n",
       "      <td>0</td>\n",
       "    </tr>\n",
       "    <tr>\n",
       "      <th>18282.0</th>\n",
       "      <td>-1.604922</td>\n",
       "      <td>-0.491993</td>\n",
       "      <td>-1.517887</td>\n",
       "      <td>0</td>\n",
       "    </tr>\n",
       "    <tr>\n",
       "      <th>18283.0</th>\n",
       "      <td>1.006149</td>\n",
       "      <td>1.610563</td>\n",
       "      <td>-1.329309</td>\n",
       "      <td>3</td>\n",
       "    </tr>\n",
       "    <tr>\n",
       "      <th>18287.0</th>\n",
       "      <td>0.986002</td>\n",
       "      <td>0.572582</td>\n",
       "      <td>1.311580</td>\n",
       "      <td>1</td>\n",
       "    </tr>\n",
       "  </tbody>\n",
       "</table>\n",
       "<p>4298 rows × 4 columns</p>\n",
       "</div>"
      ],
      "text/plain": [
       "            TotalSales  OrderCount  AvgOrderValue  Cluster\n",
       "CustomerID                                                \n",
       "12346.0       1.724999   -1.731446       1.731446        2\n",
       "12347.0       1.457445    1.064173       1.401033        1\n",
       "12348.0       0.967466    0.573388       0.929590        1\n",
       "12349.0       0.944096   -1.730641       1.683093        2\n",
       "12350.0      -0.732148   -1.729835       0.331622        2\n",
       "...                ...         ...            ...      ...\n",
       "18280.0      -1.272091   -0.493605      -0.850613        0\n",
       "18281.0      -1.648440   -0.492799      -1.596058        0\n",
       "18282.0      -1.604922   -0.491993      -1.517887        0\n",
       "18283.0       1.006149    1.610563      -1.329309        3\n",
       "18287.0       0.986002    0.572582       1.311580        1\n",
       "\n",
       "[4298 rows x 4 columns]"
      ]
     },
     "execution_count": 55,
     "metadata": {},
     "output_type": "execute_result"
    }
   ],
   "source": [
    "four_cluster_df"
   ]
  },
  {
   "cell_type": "code",
   "execution_count": 56,
   "id": "5cc0b00a-8d0b-48e3-b261-c4837ed7dbee",
   "metadata": {},
   "outputs": [
    {
     "data": {
      "image/png": "[encoded data removed]",
      "text/plain": [
       "<Figure size 432x288 with 1 Axes>"
      ]
     },
     "metadata": {
      "needs_background": "light"
     },
     "output_type": "display_data"
    }
   ],
   "source": [
    "# We store the cluster label information for each record into a newly created DataFrame, four_cluster_df. With this DataFrame, \n",
    "# we can visualize the clusters, using the following code:\n",
    "\n",
    "plt.scatter(\n",
    "    four_cluster_df.loc[four_cluster_df['Cluster'] == 0]['OrderCount'], \n",
    "    four_cluster_df.loc[four_cluster_df['Cluster'] == 0]['TotalSales'],\n",
    "    c='blue'\n",
    ")\n",
    "\n",
    "plt.scatter(\n",
    "    four_cluster_df.loc[four_cluster_df['Cluster'] == 1]['OrderCount'], \n",
    "    four_cluster_df.loc[four_cluster_df['Cluster'] == 1]['TotalSales'],\n",
    "    c='red'\n",
    ")\n",
    "\n",
    "plt.scatter(\n",
    "    four_cluster_df.loc[four_cluster_df['Cluster'] == 2]['OrderCount'], \n",
    "    four_cluster_df.loc[four_cluster_df['Cluster'] == 2]['TotalSales'],\n",
    "    c='orange'\n",
    ")\n",
    "\n",
    "plt.scatter(\n",
    "    four_cluster_df.loc[four_cluster_df['Cluster'] == 3]['OrderCount'], \n",
    "    four_cluster_df.loc[four_cluster_df['Cluster'] == 3]['TotalSales'],\n",
    "    c='green'\n",
    ")\n",
    "\n",
    "plt.title('TotalSales vs. OrderCount Clusters')\n",
    "plt.xlabel('Order Count')\n",
    "plt.ylabel('Total Sales')\n",
    "\n",
    "plt.grid()\n",
    "plt.show()\n",
    "\n",
    "\n"
   ]
  },
  {
   "cell_type": "code",
   "execution_count": 57,
   "id": "698a18d1-3cc1-4e9e-83d1-de6dd9ec2e03",
   "metadata": {
    "tags": []
   },
   "outputs": [
    {
     "data": {
      "image/png": "[encoded data removed]",
      "text/plain": [
       "<Figure size 432x288 with 1 Axes>"
      ]
     },
     "metadata": {
      "needs_background": "light"
     },
     "output_type": "display_data"
    },
    {
     "data": {
      "image/png": "[encoded data removed]",
      "text/plain": [
       "<Figure size 432x288 with 1 Axes>"
      ]
     },
     "metadata": {
      "needs_background": "light"
     },
     "output_type": "display_data"
    }
   ],
   "source": [
    "# We can also visualize the clusters with different angles, using the rest of the variables. Take a look at the following plots:\n",
    "\n",
    "plt.scatter(\n",
    "four_cluster_df.loc[four_cluster_df['Cluster'] == 0]['OrderCount'],\n",
    "four_cluster_df.loc[four_cluster_df['Cluster'] == 0]['AvgOrderValue'],\n",
    "c='blue'\n",
    ")\n",
    "plt.scatter(\n",
    "four_cluster_df.loc[four_cluster_df['Cluster'] == 1]['OrderCount'],\n",
    "four_cluster_df.loc[four_cluster_df['Cluster'] == 1]['AvgOrderValue'],\n",
    "c='red'\n",
    ")\n",
    "plt.scatter(\n",
    "four_cluster_df.loc[four_cluster_df['Cluster'] == 2]['OrderCount'],\n",
    "four_cluster_df.loc[four_cluster_df['Cluster'] == 2]['AvgOrderValue'],\n",
    "c='orange'\n",
    ")\n",
    "plt.scatter(\n",
    "four_cluster_df.loc[four_cluster_df['Cluster'] == 3]['OrderCount'],\n",
    "four_cluster_df.loc[four_cluster_df['Cluster'] == 3]['AvgOrderValue'],\n",
    "c='green'\n",
    ")\n",
    "plt.title('AvgOrderValue vs. OrderCount Clusters')\n",
    "plt.xlabel('Order Count')\n",
    "plt.ylabel('AvgOrderValue')\n",
    "plt.grid()\n",
    "plt.show()\n",
    "\n",
    "\n",
    "\n",
    "plt.scatter(\n",
    "    four_cluster_df.loc[four_cluster_df['Cluster'] == 0]['TotalSales'], \n",
    "    four_cluster_df.loc[four_cluster_df['Cluster'] == 0]['AvgOrderValue'],\n",
    "    c='blue'\n",
    ")\n",
    "\n",
    "plt.scatter(\n",
    "    four_cluster_df.loc[four_cluster_df['Cluster'] == 1]['TotalSales'], \n",
    "    four_cluster_df.loc[four_cluster_df['Cluster'] == 1]['AvgOrderValue'],\n",
    "    c='red'\n",
    ")\n",
    "\n",
    "plt.scatter(\n",
    "    four_cluster_df.loc[four_cluster_df['Cluster'] == 2]['TotalSales'], \n",
    "    four_cluster_df.loc[four_cluster_df['Cluster'] == 2]['AvgOrderValue'],\n",
    "    c='orange'\n",
    ")\n",
    "\n",
    "plt.scatter(\n",
    "    four_cluster_df.loc[four_cluster_df['Cluster'] == 3]['TotalSales'], \n",
    "    four_cluster_df.loc[four_cluster_df['Cluster'] == 3]['AvgOrderValue'],\n",
    "    c='green'\n",
    ")\n",
    "\n",
    "plt.title('AvgOrderValue vs. TotalSales Clusters')\n",
    "plt.xlabel('Total Sales')\n",
    "plt.ylabel('Avg Order Value')\n",
    "\n",
    "plt.grid()\n",
    "plt.show()"
   ]
  },
  {
   "cell_type": "markdown",
   "id": "0810257c-a6c5-40fa-8a1a-354af28a8c37",
   "metadata": {},
   "source": [
    "The first plot shows the clusters visualized based on AvgOrderValue and OrderCount. On the other hand,  the second plot shows the clusters visualized based on AvgOrderValue and TotalSales. "
   ]
  },
  {
   "cell_type": "markdown",
   "id": "b90f5007-89d9-454d-881f-9e8f6119a1b7",
   "metadata": {},
   "source": [
    "## Selecting the best number of clusters"
   ]
  },
  {
   "cell_type": "code",
   "execution_count": 60,
   "id": "23d425fb-22df-448b-aab1-c425ab07c389",
   "metadata": {},
   "outputs": [
    {
     "name": "stdout",
     "output_type": "stream",
     "text": [
      "Silhouette Score for 3 Clusters: 0.4133\n",
      "Silhouette Score for 4 Clusters: 0.4115\n",
      "Silhouette Score for 5 Clusters: 0.3771\n",
      "Silhouette Score for 6 Clusters: 0.3784\n",
      "Silhouette Score for 7 Clusters: 0.3912\n",
      "Silhouette Score for 8 Clusters: 0.3812\n"
     ]
    }
   ],
   "source": [
    "# In the scikit-learn package, you can use the silhouette_score function in the sklearn.metrics module to calculate the\n",
    "# silhouette score and measure the quality of clusters. Take a look at the following code:\n",
    "\n",
    "from sklearn.metrics import silhouette_score\n",
    "\n",
    "for n_cluster in [3,4,5,6,7,8]:\n",
    "    kmeans = KMeans(n_clusters=n_cluster).fit(\n",
    "        normalized_df[['TotalSales', 'OrderCount', 'AvgOrderValue']]\n",
    "    )\n",
    "    silhouette_avg = silhouette_score(\n",
    "        normalized_df[['TotalSales', 'OrderCount', 'AvgOrderValue']], \n",
    "        kmeans.labels_\n",
    "    )\n",
    "    \n",
    "    print('Silhouette Score for %i Clusters: %0.4f' % (n_cluster, silhouette_avg))"
   ]
  },
  {
   "cell_type": "markdown",
   "id": "fa716269-71f9-4a91-b8f6-0e14a2e96238",
   "metadata": {},
   "source": [
    "## Interpreting customer segments\n",
    "In this section, we are going to discuss different ways to draw insights from the results of the previous clustering analysis. Let's first build a \n",
    "k-means clustering model with four clusters. You can use the following code:"
   ]
  },
  {
   "cell_type": "code",
   "execution_count": 61,
   "id": "73938080-cd48-4234-ac57-8c14eef75e8d",
   "metadata": {},
   "outputs": [],
   "source": [
    "# Let's first build a k-means clustering model with four clusters. You can use the following code:\n",
    "kmeans = KMeans(n_clusters=4).fit(normalized_df[['TotalSales', 'OrderCount', 'AvgOrderValue']])\n",
    "four_cluster_df = normalized_df[['TotalSales', 'OrderCount','AvgOrderValue']].copy(deep=True)\n",
    "four_cluster_df['Cluster'] = kmeans.labels_\n"
   ]
  },
  {
   "cell_type": "code",
   "execution_count": 62,
   "id": "12f2e282-6048-4e7f-be81-5701eba7b837",
   "metadata": {},
   "outputs": [
    {
     "data": {
      "text/html": [
       "<div>\n",
       "<style scoped>\n",
       "    .dataframe tbody tr th:only-of-type {\n",
       "        vertical-align: middle;\n",
       "    }\n",
       "\n",
       "    .dataframe tbody tr th {\n",
       "        vertical-align: top;\n",
       "    }\n",
       "\n",
       "    .dataframe thead th {\n",
       "        text-align: right;\n",
       "    }\n",
       "</style>\n",
       "<table border=\"1\" class=\"dataframe\">\n",
       "  <thead>\n",
       "    <tr style=\"text-align: right;\">\n",
       "      <th></th>\n",
       "      <th>TotalSales</th>\n",
       "      <th>OrderCount</th>\n",
       "      <th>AvgOrderValue</th>\n",
       "      <th>Cluster</th>\n",
       "    </tr>\n",
       "    <tr>\n",
       "      <th>CustomerID</th>\n",
       "      <th></th>\n",
       "      <th></th>\n",
       "      <th></th>\n",
       "      <th></th>\n",
       "    </tr>\n",
       "  </thead>\n",
       "  <tbody>\n",
       "    <tr>\n",
       "      <th>12346.0</th>\n",
       "      <td>1.724999</td>\n",
       "      <td>-1.731446</td>\n",
       "      <td>1.731446</td>\n",
       "      <td>1</td>\n",
       "    </tr>\n",
       "    <tr>\n",
       "      <th>12347.0</th>\n",
       "      <td>1.457445</td>\n",
       "      <td>1.064173</td>\n",
       "      <td>1.401033</td>\n",
       "      <td>2</td>\n",
       "    </tr>\n",
       "    <tr>\n",
       "      <th>12348.0</th>\n",
       "      <td>0.967466</td>\n",
       "      <td>0.573388</td>\n",
       "      <td>0.929590</td>\n",
       "      <td>2</td>\n",
       "    </tr>\n",
       "    <tr>\n",
       "      <th>12349.0</th>\n",
       "      <td>0.944096</td>\n",
       "      <td>-1.730641</td>\n",
       "      <td>1.683093</td>\n",
       "      <td>1</td>\n",
       "    </tr>\n",
       "    <tr>\n",
       "      <th>12350.0</th>\n",
       "      <td>-0.732148</td>\n",
       "      <td>-1.729835</td>\n",
       "      <td>0.331622</td>\n",
       "      <td>1</td>\n",
       "    </tr>\n",
       "  </tbody>\n",
       "</table>\n",
       "</div>"
      ],
      "text/plain": [
       "            TotalSales  OrderCount  AvgOrderValue  Cluster\n",
       "CustomerID                                                \n",
       "12346.0       1.724999   -1.731446       1.731446        1\n",
       "12347.0       1.457445    1.064173       1.401033        2\n",
       "12348.0       0.967466    0.573388       0.929590        2\n",
       "12349.0       0.944096   -1.730641       1.683093        1\n",
       "12350.0      -0.732148   -1.729835       0.331622        1"
      ]
     },
     "execution_count": 62,
     "metadata": {},
     "output_type": "execute_result"
    }
   ],
   "source": [
    "four_cluster_df.head()"
   ]
  },
  {
   "cell_type": "code",
   "execution_count": 63,
   "id": "a3bfeae5-7b7d-493e-a6eb-374e7ae3f778",
   "metadata": {},
   "outputs": [
    {
     "data": {
      "text/plain": [
       "array([[ 0.24889228,  0.74548572, -0.6405685 ],\n",
       "       [-0.13686053, -0.85084233,  0.79265947],\n",
       "       [ 1.20406036,  0.99783781,  0.87893316],\n",
       "       [-1.23169393, -0.78073571, -1.05471089]])"
      ]
     },
     "execution_count": 63,
     "metadata": {},
     "output_type": "execute_result"
    }
   ],
   "source": [
    "# The first thing we are going to look at is the centers of each cluster. You can get the cluster centers using the following code:\n",
    "kmeans.cluster_centers_"
   ]
  },
  {
   "cell_type": "code",
   "execution_count": 64,
   "id": "9ab59683-9f32-460e-b21c-66b16ea33b40",
   "metadata": {},
   "outputs": [
    {
     "data": {
      "text/html": [
       "<div>\n",
       "<style scoped>\n",
       "    .dataframe tbody tr th:only-of-type {\n",
       "        vertical-align: middle;\n",
       "    }\n",
       "\n",
       "    .dataframe tbody tr th {\n",
       "        vertical-align: top;\n",
       "    }\n",
       "\n",
       "    .dataframe thead th {\n",
       "        text-align: right;\n",
       "    }\n",
       "</style>\n",
       "<table border=\"1\" class=\"dataframe\">\n",
       "  <thead>\n",
       "    <tr style=\"text-align: right;\">\n",
       "      <th></th>\n",
       "      <th>StockCode</th>\n",
       "    </tr>\n",
       "    <tr>\n",
       "      <th>Description</th>\n",
       "      <th></th>\n",
       "    </tr>\n",
       "  </thead>\n",
       "  <tbody>\n",
       "    <tr>\n",
       "      <th>JUMBO BAG RED RETROSPOT</th>\n",
       "      <td>1128</td>\n",
       "    </tr>\n",
       "    <tr>\n",
       "      <th>REGENCY CAKESTAND 3 TIER</th>\n",
       "      <td>1077</td>\n",
       "    </tr>\n",
       "    <tr>\n",
       "      <th>WHITE HANGING HEART T-LIGHT HOLDER</th>\n",
       "      <td>1062</td>\n",
       "    </tr>\n",
       "    <tr>\n",
       "      <th>LUNCH BAG RED RETROSPOT</th>\n",
       "      <td>923</td>\n",
       "    </tr>\n",
       "    <tr>\n",
       "      <th>PARTY BUNTING</th>\n",
       "      <td>859</td>\n",
       "    </tr>\n",
       "  </tbody>\n",
       "</table>\n",
       "</div>"
      ],
      "text/plain": [
       "                                    StockCode\n",
       "Description                                  \n",
       "JUMBO BAG RED RETROSPOT                  1128\n",
       "REGENCY CAKESTAND 3 TIER                 1077\n",
       "WHITE HANGING HEART T-LIGHT HOLDER       1062\n",
       "LUNCH BAG RED RETROSPOT                   923\n",
       "PARTY BUNTING                             859"
      ]
     },
     "execution_count": 64,
     "metadata": {},
     "output_type": "execute_result"
    }
   ],
   "source": [
    "# Lastly, we can also find out what the best-selling items are for each customer segment. Take a look at the following code: \n",
    "\n",
    "high_value_cluster = four_cluster_df.loc[four_cluster_df['Cluster'] == 2]\n",
    "pd.DataFrame(df.loc[df['CustomerID'].isin(high_value_cluster.index)].groupby('Description').count()['StockCode'].sort_values(ascending=False).head())\n"
   ]
  },
  {
   "cell_type": "markdown",
   "id": "daca2961-4815-4d01-b4cc-63ca8629e592",
   "metadata": {},
   "source": [
    "As we have seen before, the third cluster was the group of high-value customers, and we are going to take a look at the top five best-selling items\n",
    "for this group."
   ]
  },
  {
   "cell_type": "code",
   "execution_count": 65,
   "id": "2f7a9193-2627-457d-be48-d2625a72d068",
   "metadata": {},
   "outputs": [
    {
     "data": {
      "text/html": [
       "<div>\n",
       "<style scoped>\n",
       "    .dataframe tbody tr th:only-of-type {\n",
       "        vertical-align: middle;\n",
       "    }\n",
       "\n",
       "    .dataframe tbody tr th {\n",
       "        vertical-align: top;\n",
       "    }\n",
       "\n",
       "    .dataframe thead th {\n",
       "        text-align: right;\n",
       "    }\n",
       "</style>\n",
       "<table border=\"1\" class=\"dataframe\">\n",
       "  <thead>\n",
       "    <tr style=\"text-align: right;\">\n",
       "      <th></th>\n",
       "      <th>TotalSales</th>\n",
       "      <th>OrderCount</th>\n",
       "      <th>AvgOrderValue</th>\n",
       "      <th>Cluster</th>\n",
       "    </tr>\n",
       "    <tr>\n",
       "      <th>CustomerID</th>\n",
       "      <th></th>\n",
       "      <th></th>\n",
       "      <th></th>\n",
       "      <th></th>\n",
       "    </tr>\n",
       "  </thead>\n",
       "  <tbody>\n",
       "    <tr>\n",
       "      <th>12347.0</th>\n",
       "      <td>1.457445</td>\n",
       "      <td>1.064173</td>\n",
       "      <td>1.401033</td>\n",
       "      <td>2</td>\n",
       "    </tr>\n",
       "    <tr>\n",
       "      <th>12348.0</th>\n",
       "      <td>0.967466</td>\n",
       "      <td>0.573388</td>\n",
       "      <td>0.929590</td>\n",
       "      <td>2</td>\n",
       "    </tr>\n",
       "    <tr>\n",
       "      <th>12352.0</th>\n",
       "      <td>1.193114</td>\n",
       "      <td>1.309162</td>\n",
       "      <td>0.169639</td>\n",
       "      <td>2</td>\n",
       "    </tr>\n",
       "    <tr>\n",
       "      <th>12356.0</th>\n",
       "      <td>1.268868</td>\n",
       "      <td>0.158357</td>\n",
       "      <td>1.557375</td>\n",
       "      <td>2</td>\n",
       "    </tr>\n",
       "    <tr>\n",
       "      <th>12359.0</th>\n",
       "      <td>1.585581</td>\n",
       "      <td>0.574194</td>\n",
       "      <td>1.672617</td>\n",
       "      <td>2</td>\n",
       "    </tr>\n",
       "    <tr>\n",
       "      <th>...</th>\n",
       "      <td>...</td>\n",
       "      <td>...</td>\n",
       "      <td>...</td>\n",
       "      <td>...</td>\n",
       "    </tr>\n",
       "    <tr>\n",
       "      <th>18259.0</th>\n",
       "      <td>1.154432</td>\n",
       "      <td>0.570970</td>\n",
       "      <td>1.482428</td>\n",
       "      <td>2</td>\n",
       "    </tr>\n",
       "    <tr>\n",
       "      <th>18260.0</th>\n",
       "      <td>1.227768</td>\n",
       "      <td>1.201979</td>\n",
       "      <td>0.898966</td>\n",
       "      <td>2</td>\n",
       "    </tr>\n",
       "    <tr>\n",
       "      <th>18263.0</th>\n",
       "      <td>0.613682</td>\n",
       "      <td>0.571776</td>\n",
       "      <td>0.736177</td>\n",
       "      <td>2</td>\n",
       "    </tr>\n",
       "    <tr>\n",
       "      <th>18272.0</th>\n",
       "      <td>1.243079</td>\n",
       "      <td>1.063367</td>\n",
       "      <td>1.195532</td>\n",
       "      <td>2</td>\n",
       "    </tr>\n",
       "    <tr>\n",
       "      <th>18287.0</th>\n",
       "      <td>0.986002</td>\n",
       "      <td>0.572582</td>\n",
       "      <td>1.311580</td>\n",
       "      <td>2</td>\n",
       "    </tr>\n",
       "  </tbody>\n",
       "</table>\n",
       "<p>1127 rows × 4 columns</p>\n",
       "</div>"
      ],
      "text/plain": [
       "            TotalSales  OrderCount  AvgOrderValue  Cluster\n",
       "CustomerID                                                \n",
       "12347.0       1.457445    1.064173       1.401033        2\n",
       "12348.0       0.967466    0.573388       0.929590        2\n",
       "12352.0       1.193114    1.309162       0.169639        2\n",
       "12356.0       1.268868    0.158357       1.557375        2\n",
       "12359.0       1.585581    0.574194       1.672617        2\n",
       "...                ...         ...            ...      ...\n",
       "18259.0       1.154432    0.570970       1.482428        2\n",
       "18260.0       1.227768    1.201979       0.898966        2\n",
       "18263.0       0.613682    0.571776       0.736177        2\n",
       "18272.0       1.243079    1.063367       1.195532        2\n",
       "18287.0       0.986002    0.572582       1.311580        2\n",
       "\n",
       "[1127 rows x 4 columns]"
      ]
     },
     "execution_count": 65,
     "metadata": {},
     "output_type": "execute_result"
    }
   ],
   "source": [
    "high_value_cluster"
   ]
  },
  {
   "cell_type": "code",
   "execution_count": 67,
   "id": "5f4018a9-8f75-4a2c-8e94-5a4aa7e1b88f",
   "metadata": {},
   "outputs": [],
   "source": [
    "low_value_high_volume = four_cluster_df.loc[four_cluster_df['Cluster'] == 0]\n"
   ]
  },
  {
   "cell_type": "code",
   "execution_count": 68,
   "id": "4e83e2af-7578-4062-bcc6-6cc6c66f2917",
   "metadata": {},
   "outputs": [
    {
     "data": {
      "text/html": [
       "<div>\n",
       "<style scoped>\n",
       "    .dataframe tbody tr th:only-of-type {\n",
       "        vertical-align: middle;\n",
       "    }\n",
       "\n",
       "    .dataframe tbody tr th {\n",
       "        vertical-align: top;\n",
       "    }\n",
       "\n",
       "    .dataframe thead th {\n",
       "        text-align: right;\n",
       "    }\n",
       "</style>\n",
       "<table border=\"1\" class=\"dataframe\">\n",
       "  <thead>\n",
       "    <tr style=\"text-align: right;\">\n",
       "      <th></th>\n",
       "      <th>TotalSales</th>\n",
       "      <th>OrderCount</th>\n",
       "      <th>AvgOrderValue</th>\n",
       "      <th>Cluster</th>\n",
       "    </tr>\n",
       "    <tr>\n",
       "      <th>CustomerID</th>\n",
       "      <th></th>\n",
       "      <th></th>\n",
       "      <th></th>\n",
       "      <th></th>\n",
       "    </tr>\n",
       "  </thead>\n",
       "  <tbody>\n",
       "    <tr>\n",
       "      <th>12364.0</th>\n",
       "      <td>0.425911</td>\n",
       "      <td>0.159968</td>\n",
       "      <td>0.330816</td>\n",
       "      <td>0</td>\n",
       "    </tr>\n",
       "    <tr>\n",
       "      <th>12399.0</th>\n",
       "      <td>0.533094</td>\n",
       "      <td>0.578223</td>\n",
       "      <td>-0.104362</td>\n",
       "      <td>0</td>\n",
       "    </tr>\n",
       "    <tr>\n",
       "      <th>12413.0</th>\n",
       "      <td>0.160774</td>\n",
       "      <td>0.163192</td>\n",
       "      <td>-0.243781</td>\n",
       "      <td>0</td>\n",
       "    </tr>\n",
       "    <tr>\n",
       "      <th>12414.0</th>\n",
       "      <td>-0.180921</td>\n",
       "      <td>0.163998</td>\n",
       "      <td>-0.796618</td>\n",
       "      <td>0</td>\n",
       "    </tr>\n",
       "    <tr>\n",
       "      <th>12421.0</th>\n",
       "      <td>0.224439</td>\n",
       "      <td>0.579029</td>\n",
       "      <td>-0.662035</td>\n",
       "      <td>0</td>\n",
       "    </tr>\n",
       "    <tr>\n",
       "      <th>...</th>\n",
       "      <td>...</td>\n",
       "      <td>...</td>\n",
       "      <td>...</td>\n",
       "      <td>...</td>\n",
       "    </tr>\n",
       "    <tr>\n",
       "      <th>18241.0</th>\n",
       "      <td>1.071426</td>\n",
       "      <td>1.633128</td>\n",
       "      <td>-1.359127</td>\n",
       "      <td>0</td>\n",
       "    </tr>\n",
       "    <tr>\n",
       "      <th>18245.0</th>\n",
       "      <td>0.900578</td>\n",
       "      <td>1.201173</td>\n",
       "      <td>-0.096303</td>\n",
       "      <td>0</td>\n",
       "    </tr>\n",
       "    <tr>\n",
       "      <th>18246.0</th>\n",
       "      <td>-0.125315</td>\n",
       "      <td>0.152715</td>\n",
       "      <td>0.017327</td>\n",
       "      <td>0</td>\n",
       "    </tr>\n",
       "    <tr>\n",
       "      <th>18252.0</th>\n",
       "      <td>-0.250228</td>\n",
       "      <td>0.154327</td>\n",
       "      <td>-0.182533</td>\n",
       "      <td>0</td>\n",
       "    </tr>\n",
       "    <tr>\n",
       "      <th>18283.0</th>\n",
       "      <td>1.006149</td>\n",
       "      <td>1.610563</td>\n",
       "      <td>-1.329309</td>\n",
       "      <td>0</td>\n",
       "    </tr>\n",
       "  </tbody>\n",
       "</table>\n",
       "<p>934 rows × 4 columns</p>\n",
       "</div>"
      ],
      "text/plain": [
       "            TotalSales  OrderCount  AvgOrderValue  Cluster\n",
       "CustomerID                                                \n",
       "12364.0       0.425911    0.159968       0.330816        0\n",
       "12399.0       0.533094    0.578223      -0.104362        0\n",
       "12413.0       0.160774    0.163192      -0.243781        0\n",
       "12414.0      -0.180921    0.163998      -0.796618        0\n",
       "12421.0       0.224439    0.579029      -0.662035        0\n",
       "...                ...         ...            ...      ...\n",
       "18241.0       1.071426    1.633128      -1.359127        0\n",
       "18245.0       0.900578    1.201173      -0.096303        0\n",
       "18246.0      -0.125315    0.152715       0.017327        0\n",
       "18252.0      -0.250228    0.154327      -0.182533        0\n",
       "18283.0       1.006149    1.610563      -1.329309        0\n",
       "\n",
       "[934 rows x 4 columns]"
      ]
     },
     "execution_count": 68,
     "metadata": {},
     "output_type": "execute_result"
    }
   ],
   "source": [
    "low_value_high_volume"
   ]
  },
  {
   "cell_type": "code",
   "execution_count": null,
   "id": "370eb862-152f-437b-a0d6-a70eac6b836c",
   "metadata": {},
   "outputs": [],
   "source": []
  },
  {
   "cell_type": "code",
   "execution_count": null,
   "id": "a52b7ace-c61d-423c-827f-79749f269492",
   "metadata": {},
   "outputs": [],
   "source": []
  },
  {
   "cell_type": "code",
   "execution_count": null,
   "id": "c58fcabc-a176-4482-910b-01e2b92cb6ab",
   "metadata": {},
   "outputs": [],
   "source": []
  },
  {
   "cell_type": "code",
   "execution_count": null,
   "id": "dddd3c82-229f-4ed6-a36a-42e510b6eac7",
   "metadata": {},
   "outputs": [],
   "source": []
  },
  {
   "cell_type": "code",
   "execution_count": null,
   "id": "caa440c7-5670-484e-a7db-ddcc224a2413",
   "metadata": {},
   "outputs": [],
   "source": []
  },
  {
   "cell_type": "markdown",
   "id": "57d4ddc3-9039-4137-8091-c3829e446965",
   "metadata": {},
   "source": [
    "# Predicting customer churn withPython"
   ]
  },
  {
   "cell_type": "code",
   "execution_count": null,
   "id": "7875b2b9-4e47-46b1-ae0b-eaab2544c740",
   "metadata": {},
   "outputs": [],
   "source": [
    "# importing the necessary library and loading the dataset \n",
    "\n",
    "import pandas as pd\n",
    "df = pd.read_csv(r\"C:\\Users\\Zachary_B\\Desktop\\dataset\\WA_Fn-UseC_-Telco-Customer-Churn.csv\")"
   ]
  },
  {
   "cell_type": "code",
   "execution_count": null,
   "id": "5294ade4-b836-4c8a-a837-7f8181213cf3",
   "metadata": {},
   "outputs": [],
   "source": [
    "df.head()"
   ]
  },
  {
   "cell_type": "markdown",
   "id": "c0bb2bcf-cda2-4188-9bd9-136926ed63c5",
   "metadata": {},
   "source": [
    "## Data analysis and preparation\n",
    "### 1 Target variable encoding: "
   ]
  },
  {
   "cell_type": "code",
   "execution_count": null,
   "id": "dc1d61e8-52b9-45ec-826e-5a3c85449556",
   "metadata": {},
   "outputs": [],
   "source": [
    "# We are going to encode these values as 1 for Yes and 0 for No. The code to encode the target variable looks like the following:\n",
    "df['Churn'] = df['Churn'].apply(lambda x: 1 if x == 'Yes' else 0)"
   ]
  },
  {
   "cell_type": "code",
   "execution_count": null,
   "id": "bc052bc1-b7b6-418f-9de8-489eeb51b829",
   "metadata": {},
   "outputs": [],
   "source": [
    "# To get the overall churn rate, you can simply run the following code:\n",
    "df['Churn'].mean()"
   ]
  },
  {
   "cell_type": "code",
   "execution_count": null,
   "id": "6d4ed440-a562-4cf9-8acc-4688123b80bb",
   "metadata": {},
   "outputs": [],
   "source": [
    "df['Churn'].mean()*100"
   ]
  },
  {
   "cell_type": "markdown",
   "id": "63713363-b59c-4415-8784-c72fc373ccf8",
   "metadata": {},
   "source": [
    "### 2. Handling missing values  "
   ]
  },
  {
   "cell_type": "code",
   "execution_count": null,
   "id": "7a155dcc-62f0-4729-a3e4-082135c958ec",
   "metadata": {},
   "outputs": [],
   "source": [
    "import numpy as np"
   ]
  },
  {
   "cell_type": "code",
   "execution_count": null,
   "id": "335266eb-36bd-428f-a986-dad35c6eb274",
   "metadata": {},
   "outputs": [],
   "source": [
    "# Since there are only 11 records with missing TotalCharges values, we are going to simply ignore and drop those records with \n",
    "# missing values. Take a look at the following code:\n",
    "df['TotalCharges'] = df['TotalCharges'].replace(' ',np.nan).astype(float)\n",
    "df = df.dropna()"
   ]
  },
  {
   "cell_type": "markdown",
   "id": "d03a003b-f53a-4328-9fca-349fec27ac89",
   "metadata": {},
   "source": [
    "### 3. Transforming continuous variables: "
   ]
  },
  {
   "cell_type": "code",
   "execution_count": null,
   "id": "614ca9d6-2c9d-4a2a-a0ed-139f23961a34",
   "metadata": {},
   "outputs": [],
   "source": [
    "df[['tenure', 'MonthlyCharges', 'TotalCharges']].describe()"
   ]
  },
  {
   "cell_type": "code",
   "execution_count": null,
   "id": "4658df7d-5e4c-4529-bd32-d836b9d0ab52",
   "metadata": {},
   "outputs": [],
   "source": [
    "# ANN models typically perform better with scaled or normalized features. Take a look at the following code for normalizing these\n",
    "# three features:\n",
    "df['MonthlyCharges'] = np.log(df['MonthlyCharges'])\n",
    "df['MonthlyCharges'] = (df['MonthlyCharges'] -\n",
    "df['MonthlyCharges'].mean())/df['MonthlyCharges'].std()\n",
    "df['TotalCharges'] = np.log(df['TotalCharges'])\n",
    "df['TotalCharges'] = (df['TotalCharges'] -\n",
    "df['TotalCharges'].mean())/df['TotalCharges'].std()\n",
    "df['tenure'] = (df['tenure'] - df['tenure'].mean())/df['tenure'].std()"
   ]
  },
  {
   "cell_type": "code",
   "execution_count": null,
   "id": "ef7f0095-1413-472c-b099-874f42a25d51",
   "metadata": {},
   "outputs": [],
   "source": [
    "df[['tenure', 'MonthlyCharges', 'TotalCharges']].describe()"
   ]
  },
  {
   "cell_type": "markdown",
   "id": "0eb0909b-3391-45c2-86d4-4640b2cee50b",
   "metadata": {},
   "source": [
    "As you see from this output, all the variables now have a mean of 0 and a stand deviation of 1. We are going to use these normalized variables for future model building."
   ]
  },
  {
   "cell_type": "markdown",
   "id": "93bd940a-facf-47c9-86e6-f5f2565c1d80",
   "metadata": {},
   "source": [
    "### 4. One-hot encoding categorical variables: "
   ]
  },
  {
   "cell_type": "code",
   "execution_count": null,
   "id": "1eac3e64-4d60-4cc3-b8ce-b24c7dd1fbea",
   "metadata": {},
   "outputs": [],
   "source": [
    "# As you can see from the data, there are many categorical variables. Let's first take a look at the number of unique\n",
    "# values each column has. Take a look at the following code:\n",
    "for col in list(df.columns):\n",
    "      print(col, df[col].nunique())"
   ]
  },
  {
   "cell_type": "markdown",
   "id": "baaec668-9798-498e-ac6e-31cf2f9e2a88",
   "metadata": {},
   "source": [
    "As this output suggests, there are 7032 unique customer IDs, 2 unique genders, 3 unique values for MultipleLines, and 6530 unique values for TotalCharges. We have handled the tenure, MonthlyCharges, and TotalCharges variables, in the previous step, so we are going to focus on those variables with 2 to 4 unique values.\n"
   ]
  },
  {
   "cell_type": "code",
   "execution_count": null,
   "id": "13ad87c9-086b-4c0c-9d81-bbb53f492d78",
   "metadata": {},
   "outputs": [],
   "source": [
    "# Let's take a look at the distributions of some of these categorical variables. First, to view the distribution of the data between males and females,\n",
    "# you can use the following code for visualization:\n",
    "\n",
    "df.groupby('gender').count()['customerID'].plot(kind='bar', color='skyblue', grid=True, figsize=(8,6), title='Gender')\n",
    "plt.show()\n",
    "\n",
    "# You can use the same code to view the distribution of the data across different values of InternetService and PaymentMethod.\n",
    "# Take a look at the following plots:\n",
    "\n",
    "df.groupby('InternetService').count()['customerID'].plot(kind='bar', color='skyblue', grid=True, figsize=(8,6), title='InternetService')\n",
    "plt.show()\n",
    "\n",
    "df.groupby('PaymentMethod').count()['customerID'].plot(kind='bar', color='skyblue', grid=True, figsize=(8,6), title='PaymentMethod')\n",
    "plt.show()"
   ]
  },
  {
   "cell_type": "markdown",
   "id": "9f6d5f36-e11e-4ecc-85d6-0cb0523fe6e4",
   "metadata": {},
   "source": [
    "The first plot shows the distribution of the data across three different categories of the InternetService variable, and the second plot shows the distribution of the data across four different categories of the PaymentMethod variable. As you can see from these plots, we can easily visualize and understand what the distributions ofcategorical variables look like using bar plots. "
   ]
  },
  {
   "cell_type": "code",
   "execution_count": null,
   "id": "0de6af8b-d02a-423f-a0bc-bb5353dcb10c",
   "metadata": {},
   "outputs": [],
   "source": [
    "# Now, we are going to apply one-hot encoding for these categorical variables. Take a look at the following code:\n",
    "\n",
    "dummy_cols = []\n",
    "sample_set = df[['tenure', 'MonthlyCharges', 'TotalCharges', 'Churn']].copy(deep=True)\n",
    "\n",
    "for col in list(df.columns):\n",
    "    if col not in ['tenure', 'MonthlyCharges', 'TotalCharges', 'Churn'] and df[col].nunique() < 5:\n",
    "        dummy_vars = pd.get_dummies(df[col]) \n",
    "        dummy_vars.columns = [col+str(x) for x in dummy_vars.columns]\n",
    "        sample_set = pd.concat([sample_set, dummy_vars],axis=1)\n"
   ]
  },
  {
   "cell_type": "code",
   "execution_count": null,
   "id": "ca639f66-c172-472d-8352-79132885bff4",
   "metadata": {},
   "outputs": [],
   "source": [
    "sample_set.head(10)"
   ]
  },
  {
   "cell_type": "markdown",
   "id": "c6fa0b0d-d105-44f9-af69-187d7c034201",
   "metadata": {},
   "source": [
    "As you can see from this code, we are using the get_dummies function in the pandas package to create dummy variables for each categorical variable. Then, we concatenate these newly created dummy variables back to the sample_set variable, which will be used for training models in the following section."
   ]
  },
  {
   "cell_type": "markdown",
   "id": "820d3df0-ae2d-4fd9-a964-09af85508d1a",
   "metadata": {},
   "source": [
    "## ANN with Keras"
   ]
  },
  {
   "cell_type": "code",
   "execution_count": null,
   "id": "15aec5c3-6653-4d7e-904d-81258acdc2ca",
   "metadata": {},
   "outputs": [],
   "source": [
    "import tensorflow as tf"
   ]
  },
  {
   "cell_type": "code",
   "execution_count": null,
   "id": "895d94d1-88a2-4c40-8061-afdcd5cb8634",
   "metadata": {},
   "outputs": [],
   "source": [
    "target_var = 'Churn'\n",
    "features = [x for x in list(sample_set.columns) if x != target_var]"
   ]
  },
  {
   "cell_type": "code",
   "execution_count": null,
   "id": "b252eaa8-ab3c-428b-8df6-0f9dabe844fa",
   "metadata": {},
   "outputs": [],
   "source": [
    "from keras.models import Sequential\n",
    "from keras.layers import Dense"
   ]
  },
  {
   "cell_type": "code",
   "execution_count": null,
   "id": "38ba02cc-db58-41a4-a012-9c4f39873575",
   "metadata": {},
   "outputs": [],
   "source": [
    "# In this demo, we are going to build a neural network model with one hidden layer. Take a look at the following code first:\n",
    "from keras.models import Sequential\n",
    "from keras.layers import Dense\n",
    "\n",
    "model = Sequential()\n",
    "model.add(Dense(16, input_dim=len(features), activation='relu'))\n",
    "model.add(Dense(8, activation='relu'))\n",
    "model.add(Dense(1, activation='sigmoid'))"
   ]
  },
  {
   "cell_type": "code",
   "execution_count": null,
   "id": "192b48ee-05b2-4ab6-b7ea-1c49665d28ff",
   "metadata": {},
   "outputs": [],
   "source": [
    "# The final step to build a neural network model with the keras package is to compile this model. Take a look at the following code:\n",
    "model.compile(loss='binary_crossentropy', optimizer='adam', metrics=['accuracy'])"
   ]
  },
  {
   "cell_type": "code",
   "execution_count": null,
   "id": "602e4e1e-4fea-407b-9a77-ff519b677db8",
   "metadata": {},
   "outputs": [],
   "source": [
    "# Before we start training this neural network model, we will need to split our sample set into train and test sets. Take a look at the following code:\n",
    "\n",
    "from sklearn.model_selection import train_test_split\n",
    "\n",
    "target_var = 'Churn'\n",
    "features = [x for x in list(sample_set.columns) if x != target_var]\n",
    "X_train, X_test, y_train, y_test = train_test_split(sample_set[features],sample_set[target_var],test_size=0.3)\n"
   ]
  },
  {
   "cell_type": "code",
   "execution_count": null,
   "id": "4aaff360-f1e6-4c0f-aec7-da696138a205",
   "metadata": {},
   "outputs": [],
   "source": [
    "# Now we can train our neural network modelusing the following code:\n",
    "\n",
    "model.fit(X_train, y_train, epochs=50, batch_size=100)"
   ]
  },
  {
   "cell_type": "markdown",
   "id": "2e50ae93-b7d1-4d52-9e7b-181a63066d5e",
   "metadata": {},
   "source": [
    "Here, we are using 100 samples as batch_size, from which the model is going to learn to predict each time, and 50 as the number of epochs, which is the number of complete passes through the entire training set.\n",
    "\n",
    "As you can see from this output, loss typically decreases and the accuracy (acc) improves in each epoch. However, the rate of model performance improvement decreases over time. As you can see from this output, there are big improvements in the loss and accuracy measures in the first few epochs\n",
    "and the amount of performance gain decreases over time. You can monitor this process and decide to stop when the amount of performance gain is minimal."
   ]
  },
  {
   "cell_type": "markdown",
   "id": "fe14eabb-1ad7-4fe9-8262-832ec2f52e57",
   "metadata": {},
   "source": [
    "## Model evaluations"
   ]
  },
  {
   "cell_type": "code",
   "execution_count": null,
   "id": "d8957d57-337a-456e-9a97-84744f597423",
   "metadata": {},
   "outputs": [],
   "source": [
    "# We are going to look at the overall accuracy, precision, and recall, as well as the receiver operating characteristic (ROC) curve and\n",
    "# area under the curve (AUC). First, take a look at the following code for computing accuracy, precision, and recall:\n",
    "\n",
    "from sklearn.metrics import accuracy_score, precision_score, recall_score"
   ]
  },
  {
   "cell_type": "code",
   "execution_count": null,
   "id": "0ad6b5f4-2762-41ca-b3cd-8afbd884bff8",
   "metadata": {},
   "outputs": [],
   "source": [
    "in_sample_preds = [round(x[0]) for x in model.predict(X_train)]\n",
    "out_sample_preds = [round(x[0]) for x in model.predict(X_test)]\n",
    "# Accuracy\n",
    "\n",
    "print('In-Sample Accuracy: %0.4f' % accuracy_score(y_train, in_sample_preds))\n",
    "print('Out-of-Sample Accuracy: %0.4f' % accuracy_score(y_test, out_sample_preds))\n",
    "\n",
    "# Precision\n",
    "print('In-Sample Precision: %0.4f' % precision_score(y_train, in_sample_preds))\n",
    "print('Out-of-Sample Precision: %0.4f' % precision_score(y_test, out_sample_preds))\n",
    "\n",
    "# Recall\n",
    "print('In-Sample Recall: %0.4f' % recall_score(y_train, in_sample_preds))\n",
    "print('Out-of-Sample Recall: %0.4f' % recall_score(y_test, out_sample_preds))"
   ]
  },
  {
   "cell_type": "markdown",
   "id": "e3b00762-cd20-47f2-946a-856c343409a6",
   "metadata": {},
   "source": [
    " The accuracy of predicting whether a customer will churn or not in the test set is about 0.79, suggesting the model is correct roughly about 80% of the time. The out-of-sample precision suggests that the model is correct about 61% of the time that it predicts that thecustomer is going to churn, and the out-of-sample recall suggests that the model captures roughly 55% of the churn cases. \n"
   ]
  },
  {
   "cell_type": "code",
   "execution_count": null,
   "id": "626feb73-fafe-44b5-963f-e9aa8b51fec0",
   "metadata": {},
   "outputs": [],
   "source": [
    "# Next, we can compute the AUC numbers, using the following code:\n",
    "from sklearn.metrics import roc_curve, auc\n",
    "\n",
    "in_sample_preds = [x[0] for x in model.predict(X_train)]\n",
    "out_sample_preds = [x[0] for x in model.predict(X_test)]"
   ]
  },
  {
   "cell_type": "code",
   "execution_count": null,
   "id": "bb7580f7-9b19-41ea-9d3f-22e982bd9d7d",
   "metadata": {},
   "outputs": [],
   "source": [
    "in_sample_fpr, in_sample_tpr, in_sample_thresholds = roc_curve(y_train,\n",
    "in_sample_preds)\n",
    "out_sample_fpr, out_sample_tpr, out_sample_thresholds = roc_curve(y_test,\n",
    "out_sample_preds)\n",
    "in_sample_roc_auc = auc(in_sample_fpr, in_sample_tpr)\n",
    "out_sample_roc_auc = auc(out_sample_fpr, out_sample_tpr)\n",
    "print('In-Sample AUC: %0.4f' % in_sample_roc_auc)\n",
    "print('Out-Sample AUC: %0.4f' % out_sample_roc_auc)"
   ]
  },
  {
   "cell_type": "code",
   "execution_count": null,
   "id": "d8097be7-6e5c-409e-a63a-d03a0561e20e",
   "metadata": {},
   "outputs": [],
   "source": [
    "# To visualize this data in the ROC curve, you can use the following code:\n",
    "plt.figure(figsize=(10,7))\n",
    "plt.plot(\n",
    "out_sample_fpr, out_sample_tpr, color='darkorange', label='Out-Sample ROC curve(area = %0.4f)' % in_sample_roc_auc)\n",
    "\n",
    "plt.plot(\n",
    "in_sample_fpr, in_sample_tpr, color='navy', label='In-Sample ROC curve (area = %0.4f)' % out_sample_roc_auc)\n",
    "\n",
    "plt.plot([0, 1], [0, 1], color='gray', lw=1, linestyle='--')\n",
    "plt.grid()\n",
    "plt.xlim([0.0, 1.0])\n",
    "plt.ylim([0.0, 1.05])\n",
    "plt.xlabel('False Positive Rate')\n",
    "plt.ylabel('True Positive Rate')\n",
    "plt.title('ROC Curve')\n",
    "plt.legend(loc=\"lower right\")"
   ]
  },
  {
   "cell_type": "markdown",
   "id": "d2f1c0dd-c348-41d4-bd44-2bf9eee6c99c",
   "metadata": {},
   "source": [
    "Looking at the accuracy, precision, and recall measures, the AUC and the ROC curve also suggest that the model captures\n",
    "and predicts those customers at churn risk pretty well. As you can see from these evaluation outputs, it is better to use the output of this model for\n",
    "identifying the customers who are likely to churn than simply guessing who they will be. By focusing on these customers with high churn probabilities\n",
    "from this model in your marketing strategies, you can try to retain those customers at churn risks in a more cost-effective way."
   ]
  },
  {
   "cell_type": "code",
   "execution_count": null,
   "id": "b3d9a95a-02a5-45f3-b986-0680a86adb5a",
   "metadata": {},
   "outputs": [],
   "source": []
  }
 ],
 "metadata": {
  "kernelspec": {
   "display_name": "Python 3",
   "language": "python",
   "name": "python3"
  },
  "language_info": {
   "codemirror_mode": {
    "name": "ipython",
    "version": 3
   },
   "file_extension": ".py",
   "mimetype": "text/x-python",
   "name": "python",
   "nbconvert_exporter": "python",
   "pygments_lexer": "ipython3",
   "version": "3.8.8"
  }
 },
 "nbformat": 4,
 "nbformat_minor": 5
}
