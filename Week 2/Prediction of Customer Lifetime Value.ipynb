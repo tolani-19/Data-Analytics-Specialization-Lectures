{
 "cells": [
  {
   "cell_type": "markdown",
   "id": "7463d51a-88e4-48fb-bbd4-0b7f1b4aef4b",
   "metadata": {},
   "source": [
    "## Predicting the 3 month CLV with Python"
   ]
  },
  {
   "cell_type": "code",
   "execution_count": 1,
   "id": "c7e7122a-9f93-4d98-ba62-7ebf75d415f5",
   "metadata": {},
   "outputs": [],
   "source": [
    "#import the necessary library, load the dataset\n",
    "import pandas as pd\n",
    "df = pd.read_excel(r\"C:\\Users\\Zachary_B\\Desktop\\dataset\\Online Retail.xlsx\")"
   ]
  },
  {
   "cell_type": "code",
   "execution_count": 2,
   "id": "dc8e52b6-b49b-49db-bc1f-efe2244ede89",
   "metadata": {},
   "outputs": [
    {
     "data": {
      "text/plain": [
       "(541909, 8)"
      ]
     },
     "execution_count": 2,
     "metadata": {},
     "output_type": "execute_result"
    }
   ],
   "source": [
    "df.shape"
   ]
  },
  {
   "cell_type": "code",
   "execution_count": 3,
   "id": "a2ac7d6b-521f-44ec-bc84-086b94d76008",
   "metadata": {},
   "outputs": [
    {
     "data": {
      "text/html": [
       "<div>\n",
       "<style scoped>\n",
       "    .dataframe tbody tr th:only-of-type {\n",
       "        vertical-align: middle;\n",
       "    }\n",
       "\n",
       "    .dataframe tbody tr th {\n",
       "        vertical-align: top;\n",
       "    }\n",
       "\n",
       "    .dataframe thead th {\n",
       "        text-align: right;\n",
       "    }\n",
       "</style>\n",
       "<table border=\"1\" class=\"dataframe\">\n",
       "  <thead>\n",
       "    <tr style=\"text-align: right;\">\n",
       "      <th></th>\n",
       "      <th>InvoiceNo</th>\n",
       "      <th>StockCode</th>\n",
       "      <th>Description</th>\n",
       "      <th>Quantity</th>\n",
       "      <th>InvoiceDate</th>\n",
       "      <th>UnitPrice</th>\n",
       "      <th>CustomerID</th>\n",
       "      <th>Country</th>\n",
       "    </tr>\n",
       "  </thead>\n",
       "  <tbody>\n",
       "    <tr>\n",
       "      <th>0</th>\n",
       "      <td>536365</td>\n",
       "      <td>85123A</td>\n",
       "      <td>WHITE HANGING HEART T-LIGHT HOLDER</td>\n",
       "      <td>6</td>\n",
       "      <td>2010-12-01 08:26:00</td>\n",
       "      <td>2.55</td>\n",
       "      <td>17850.0</td>\n",
       "      <td>United Kingdom</td>\n",
       "    </tr>\n",
       "    <tr>\n",
       "      <th>1</th>\n",
       "      <td>536365</td>\n",
       "      <td>71053</td>\n",
       "      <td>WHITE METAL LANTERN</td>\n",
       "      <td>6</td>\n",
       "      <td>2010-12-01 08:26:00</td>\n",
       "      <td>3.39</td>\n",
       "      <td>17850.0</td>\n",
       "      <td>United Kingdom</td>\n",
       "    </tr>\n",
       "    <tr>\n",
       "      <th>2</th>\n",
       "      <td>536365</td>\n",
       "      <td>84406B</td>\n",
       "      <td>CREAM CUPID HEARTS COAT HANGER</td>\n",
       "      <td>8</td>\n",
       "      <td>2010-12-01 08:26:00</td>\n",
       "      <td>2.75</td>\n",
       "      <td>17850.0</td>\n",
       "      <td>United Kingdom</td>\n",
       "    </tr>\n",
       "    <tr>\n",
       "      <th>3</th>\n",
       "      <td>536365</td>\n",
       "      <td>84029G</td>\n",
       "      <td>KNITTED UNION FLAG HOT WATER BOTTLE</td>\n",
       "      <td>6</td>\n",
       "      <td>2010-12-01 08:26:00</td>\n",
       "      <td>3.39</td>\n",
       "      <td>17850.0</td>\n",
       "      <td>United Kingdom</td>\n",
       "    </tr>\n",
       "    <tr>\n",
       "      <th>4</th>\n",
       "      <td>536365</td>\n",
       "      <td>84029E</td>\n",
       "      <td>RED WOOLLY HOTTIE WHITE HEART.</td>\n",
       "      <td>6</td>\n",
       "      <td>2010-12-01 08:26:00</td>\n",
       "      <td>3.39</td>\n",
       "      <td>17850.0</td>\n",
       "      <td>United Kingdom</td>\n",
       "    </tr>\n",
       "  </tbody>\n",
       "</table>\n",
       "</div>"
      ],
      "text/plain": [
       "  InvoiceNo StockCode                          Description  Quantity  \\\n",
       "0    536365    85123A   WHITE HANGING HEART T-LIGHT HOLDER         6   \n",
       "1    536365     71053                  WHITE METAL LANTERN         6   \n",
       "2    536365    84406B       CREAM CUPID HEARTS COAT HANGER         8   \n",
       "3    536365    84029G  KNITTED UNION FLAG HOT WATER BOTTLE         6   \n",
       "4    536365    84029E       RED WOOLLY HOTTIE WHITE HEART.         6   \n",
       "\n",
       "          InvoiceDate  UnitPrice  CustomerID         Country  \n",
       "0 2010-12-01 08:26:00       2.55     17850.0  United Kingdom  \n",
       "1 2010-12-01 08:26:00       3.39     17850.0  United Kingdom  \n",
       "2 2010-12-01 08:26:00       2.75     17850.0  United Kingdom  \n",
       "3 2010-12-01 08:26:00       3.39     17850.0  United Kingdom  \n",
       "4 2010-12-01 08:26:00       3.39     17850.0  United Kingdom  "
      ]
     },
     "execution_count": 3,
     "metadata": {},
     "output_type": "execute_result"
    }
   ],
   "source": [
    "df.head(5)"
   ]
  },
  {
   "cell_type": "markdown",
   "id": "d870781e-fdec-4d8c-bcc0-ddc85ad04450",
   "metadata": {},
   "source": [
    "As you might have noticed, we have used this dataset a few times in the previous chapters. With the knowledge we gained about this dataset from the previous chapters, we are going to first prepare our data by cleaning it up."
   ]
  },
  {
   "cell_type": "markdown",
   "id": "141886da-d7f4-4fa8-86ac-dc5a95c3812f",
   "metadata": {},
   "source": [
    "## Data cleanup"
   ]
  },
  {
   "cell_type": "code",
   "execution_count": 4,
   "id": "35b5b4be-c007-4a91-803f-b56c8528162d",
   "metadata": {},
   "outputs": [
    {
     "data": {
      "text/plain": [
       "(10624, 8)"
      ]
     },
     "execution_count": 4,
     "metadata": {},
     "output_type": "execute_result"
    }
   ],
   "source": [
    "# lets check all our negative orders\n",
    "df.loc[df['Quantity'] <= 0].shape"
   ]
  },
  {
   "cell_type": "code",
   "execution_count": 5,
   "id": "1303ad93-60a9-4caa-b2e9-dd1027713c4a",
   "metadata": {},
   "outputs": [
    {
     "data": {
      "text/plain": [
       "(541909, 8)"
      ]
     },
     "execution_count": 5,
     "metadata": {},
     "output_type": "execute_result"
    }
   ],
   "source": [
    "df.shape"
   ]
  },
  {
   "cell_type": "code",
   "execution_count": 6,
   "id": "6bf097be-f99b-4acf-9c92-8c8455630697",
   "metadata": {},
   "outputs": [],
   "source": [
    "#There are transactions with a negative Quantity value, which represent canceled orders.\n",
    "# We are going to ignore those canceled orders for this exercise.\n",
    "df = df.loc[df['Quantity'] > 0]"
   ]
  },
  {
   "cell_type": "code",
   "execution_count": 7,
   "id": "28af7d0a-2957-4779-8d10-31789db49544",
   "metadata": {},
   "outputs": [
    {
     "data": {
      "text/plain": [
       "(531285, 8)"
      ]
     },
     "execution_count": 7,
     "metadata": {},
     "output_type": "execute_result"
    }
   ],
   "source": [
    "df.shape"
   ]
  },
  {
   "cell_type": "code",
   "execution_count": 8,
   "id": "bf4ea7cb-6238-49bf-8880-0014e630fe3f",
   "metadata": {},
   "outputs": [],
   "source": [
    "# Dropping NaN records:We need to drop records with no CustomerID.\n",
    "df = df[pd.notnull(df['CustomerID'])]"
   ]
  },
  {
   "cell_type": "code",
   "execution_count": 9,
   "id": "fda84867-2e14-40d7-8797-77ed800a70d1",
   "metadata": {},
   "outputs": [
    {
     "data": {
      "text/plain": [
       "(397924, 8)"
      ]
     },
     "execution_count": 9,
     "metadata": {},
     "output_type": "execute_result"
    }
   ],
   "source": [
    "df.shape"
   ]
  },
  {
   "cell_type": "code",
   "execution_count": 10,
   "id": "6c9e2834-91ea-4e0d-ad62-9292f6bfd220",
   "metadata": {},
   "outputs": [],
   "source": [
    "#Another cleanup we need to do is to handle incomplete data. If you recall from previous chapters, the transaction data for\n",
    "#the last month is incomplete we are going to ignore the transactions in the last month.\n",
    "df = df.loc[df['InvoiceDate'] < '2011-12-01']"
   ]
  },
  {
   "cell_type": "code",
   "execution_count": 11,
   "id": "ec80e69b-ef5e-47cc-9784-56f6b93bb888",
   "metadata": {},
   "outputs": [
    {
     "data": {
      "text/plain": [
       "(380620, 8)"
      ]
     },
     "execution_count": 11,
     "metadata": {},
     "output_type": "execute_result"
    }
   ],
   "source": [
    "df.shape"
   ]
  },
  {
   "cell_type": "code",
   "execution_count": 12,
   "id": "38c21a36-2fc0-404c-9a3e-ce0044e51d42",
   "metadata": {},
   "outputs": [],
   "source": [
    "#Lastly, we need to create a column for the total sales value for each transaction. Take a look at the following code:\n",
    "df['Sales'] = df['Quantity'] * df['UnitPrice']"
   ]
  },
  {
   "cell_type": "code",
   "execution_count": 13,
   "id": "5a6bfe20-4a5b-4eec-930a-489c5006e53e",
   "metadata": {},
   "outputs": [
    {
     "data": {
      "text/html": [
       "<div>\n",
       "<style scoped>\n",
       "    .dataframe tbody tr th:only-of-type {\n",
       "        vertical-align: middle;\n",
       "    }\n",
       "\n",
       "    .dataframe tbody tr th {\n",
       "        vertical-align: top;\n",
       "    }\n",
       "\n",
       "    .dataframe thead th {\n",
       "        text-align: right;\n",
       "    }\n",
       "</style>\n",
       "<table border=\"1\" class=\"dataframe\">\n",
       "  <thead>\n",
       "    <tr style=\"text-align: right;\">\n",
       "      <th></th>\n",
       "      <th>InvoiceNo</th>\n",
       "      <th>StockCode</th>\n",
       "      <th>Description</th>\n",
       "      <th>Quantity</th>\n",
       "      <th>InvoiceDate</th>\n",
       "      <th>UnitPrice</th>\n",
       "      <th>CustomerID</th>\n",
       "      <th>Country</th>\n",
       "      <th>Sales</th>\n",
       "    </tr>\n",
       "  </thead>\n",
       "  <tbody>\n",
       "    <tr>\n",
       "      <th>0</th>\n",
       "      <td>536365</td>\n",
       "      <td>85123A</td>\n",
       "      <td>WHITE HANGING HEART T-LIGHT HOLDER</td>\n",
       "      <td>6</td>\n",
       "      <td>2010-12-01 08:26:00</td>\n",
       "      <td>2.55</td>\n",
       "      <td>17850.0</td>\n",
       "      <td>United Kingdom</td>\n",
       "      <td>15.30</td>\n",
       "    </tr>\n",
       "    <tr>\n",
       "      <th>1</th>\n",
       "      <td>536365</td>\n",
       "      <td>71053</td>\n",
       "      <td>WHITE METAL LANTERN</td>\n",
       "      <td>6</td>\n",
       "      <td>2010-12-01 08:26:00</td>\n",
       "      <td>3.39</td>\n",
       "      <td>17850.0</td>\n",
       "      <td>United Kingdom</td>\n",
       "      <td>20.34</td>\n",
       "    </tr>\n",
       "    <tr>\n",
       "      <th>2</th>\n",
       "      <td>536365</td>\n",
       "      <td>84406B</td>\n",
       "      <td>CREAM CUPID HEARTS COAT HANGER</td>\n",
       "      <td>8</td>\n",
       "      <td>2010-12-01 08:26:00</td>\n",
       "      <td>2.75</td>\n",
       "      <td>17850.0</td>\n",
       "      <td>United Kingdom</td>\n",
       "      <td>22.00</td>\n",
       "    </tr>\n",
       "    <tr>\n",
       "      <th>3</th>\n",
       "      <td>536365</td>\n",
       "      <td>84029G</td>\n",
       "      <td>KNITTED UNION FLAG HOT WATER BOTTLE</td>\n",
       "      <td>6</td>\n",
       "      <td>2010-12-01 08:26:00</td>\n",
       "      <td>3.39</td>\n",
       "      <td>17850.0</td>\n",
       "      <td>United Kingdom</td>\n",
       "      <td>20.34</td>\n",
       "    </tr>\n",
       "    <tr>\n",
       "      <th>4</th>\n",
       "      <td>536365</td>\n",
       "      <td>84029E</td>\n",
       "      <td>RED WOOLLY HOTTIE WHITE HEART.</td>\n",
       "      <td>6</td>\n",
       "      <td>2010-12-01 08:26:00</td>\n",
       "      <td>3.39</td>\n",
       "      <td>17850.0</td>\n",
       "      <td>United Kingdom</td>\n",
       "      <td>20.34</td>\n",
       "    </tr>\n",
       "  </tbody>\n",
       "</table>\n",
       "</div>"
      ],
      "text/plain": [
       "  InvoiceNo StockCode                          Description  Quantity  \\\n",
       "0    536365    85123A   WHITE HANGING HEART T-LIGHT HOLDER         6   \n",
       "1    536365     71053                  WHITE METAL LANTERN         6   \n",
       "2    536365    84406B       CREAM CUPID HEARTS COAT HANGER         8   \n",
       "3    536365    84029G  KNITTED UNION FLAG HOT WATER BOTTLE         6   \n",
       "4    536365    84029E       RED WOOLLY HOTTIE WHITE HEART.         6   \n",
       "\n",
       "          InvoiceDate  UnitPrice  CustomerID         Country  Sales  \n",
       "0 2010-12-01 08:26:00       2.55     17850.0  United Kingdom  15.30  \n",
       "1 2010-12-01 08:26:00       3.39     17850.0  United Kingdom  20.34  \n",
       "2 2010-12-01 08:26:00       2.75     17850.0  United Kingdom  22.00  \n",
       "3 2010-12-01 08:26:00       3.39     17850.0  United Kingdom  20.34  \n",
       "4 2010-12-01 08:26:00       3.39     17850.0  United Kingdom  20.34  "
      ]
     },
     "execution_count": 13,
     "metadata": {},
     "output_type": "execute_result"
    }
   ],
   "source": [
    "df.head(5)"
   ]
  },
  {
   "cell_type": "code",
   "execution_count": 14,
   "id": "3d73e0df-070e-4124-8ea0-11bb07306bb3",
   "metadata": {},
   "outputs": [],
   "source": [
    "#We are summing up all of the Sales values for each customer and order, and taking the last transaction time for the given order as InvoiceDate.\n",
    "#This way we now have a DataFrame,orders_df, as we need to know about each order that each customer placed.\n",
    "orders_df = df.groupby(['CustomerID', 'InvoiceNo']).agg({'Sales': sum,'InvoiceDate': max})"
   ]
  },
  {
   "cell_type": "code",
   "execution_count": 15,
   "id": "e939608f-0759-4f76-bd98-25f97c7328ab",
   "metadata": {},
   "outputs": [
    {
     "data": {
      "text/html": [
       "<div>\n",
       "<style scoped>\n",
       "    .dataframe tbody tr th:only-of-type {\n",
       "        vertical-align: middle;\n",
       "    }\n",
       "\n",
       "    .dataframe tbody tr th {\n",
       "        vertical-align: top;\n",
       "    }\n",
       "\n",
       "    .dataframe thead th {\n",
       "        text-align: right;\n",
       "    }\n",
       "</style>\n",
       "<table border=\"1\" class=\"dataframe\">\n",
       "  <thead>\n",
       "    <tr style=\"text-align: right;\">\n",
       "      <th></th>\n",
       "      <th></th>\n",
       "      <th>Sales</th>\n",
       "      <th>InvoiceDate</th>\n",
       "    </tr>\n",
       "    <tr>\n",
       "      <th>CustomerID</th>\n",
       "      <th>InvoiceNo</th>\n",
       "      <th></th>\n",
       "      <th></th>\n",
       "    </tr>\n",
       "  </thead>\n",
       "  <tbody>\n",
       "    <tr>\n",
       "      <th>12346.0</th>\n",
       "      <th>541431</th>\n",
       "      <td>77183.60</td>\n",
       "      <td>2011-01-18 10:01:00</td>\n",
       "    </tr>\n",
       "    <tr>\n",
       "      <th rowspan=\"4\" valign=\"top\">12347.0</th>\n",
       "      <th>537626</th>\n",
       "      <td>711.79</td>\n",
       "      <td>2010-12-07 14:57:00</td>\n",
       "    </tr>\n",
       "    <tr>\n",
       "      <th>542237</th>\n",
       "      <td>475.39</td>\n",
       "      <td>2011-01-26 14:30:00</td>\n",
       "    </tr>\n",
       "    <tr>\n",
       "      <th>549222</th>\n",
       "      <td>636.25</td>\n",
       "      <td>2011-04-07 10:43:00</td>\n",
       "    </tr>\n",
       "    <tr>\n",
       "      <th>556201</th>\n",
       "      <td>382.52</td>\n",
       "      <td>2011-06-09 13:01:00</td>\n",
       "    </tr>\n",
       "    <tr>\n",
       "      <th>...</th>\n",
       "      <th>...</th>\n",
       "      <td>...</td>\n",
       "      <td>...</td>\n",
       "    </tr>\n",
       "    <tr>\n",
       "      <th rowspan=\"2\" valign=\"top\">18283.0</th>\n",
       "      <th>578262</th>\n",
       "      <td>313.65</td>\n",
       "      <td>2011-11-23 13:27:00</td>\n",
       "    </tr>\n",
       "    <tr>\n",
       "      <th>579673</th>\n",
       "      <td>223.61</td>\n",
       "      <td>2011-11-30 12:59:00</td>\n",
       "    </tr>\n",
       "    <tr>\n",
       "      <th rowspan=\"3\" valign=\"top\">18287.0</th>\n",
       "      <th>554065</th>\n",
       "      <td>765.28</td>\n",
       "      <td>2011-05-22 10:39:00</td>\n",
       "    </tr>\n",
       "    <tr>\n",
       "      <th>570715</th>\n",
       "      <td>1001.32</td>\n",
       "      <td>2011-10-12 10:23:00</td>\n",
       "    </tr>\n",
       "    <tr>\n",
       "      <th>573167</th>\n",
       "      <td>70.68</td>\n",
       "      <td>2011-10-28 09:29:00</td>\n",
       "    </tr>\n",
       "  </tbody>\n",
       "</table>\n",
       "<p>17758 rows × 2 columns</p>\n",
       "</div>"
      ],
      "text/plain": [
       "                         Sales         InvoiceDate\n",
       "CustomerID InvoiceNo                              \n",
       "12346.0    541431     77183.60 2011-01-18 10:01:00\n",
       "12347.0    537626       711.79 2010-12-07 14:57:00\n",
       "           542237       475.39 2011-01-26 14:30:00\n",
       "           549222       636.25 2011-04-07 10:43:00\n",
       "           556201       382.52 2011-06-09 13:01:00\n",
       "...                        ...                 ...\n",
       "18283.0    578262       313.65 2011-11-23 13:27:00\n",
       "           579673       223.61 2011-11-30 12:59:00\n",
       "18287.0    554065       765.28 2011-05-22 10:39:00\n",
       "           570715      1001.32 2011-10-12 10:23:00\n",
       "           573167        70.68 2011-10-28 09:29:00\n",
       "\n",
       "[17758 rows x 2 columns]"
      ]
     },
     "execution_count": 15,
     "metadata": {},
     "output_type": "execute_result"
    }
   ],
   "source": [
    "orders_df"
   ]
  },
  {
   "cell_type": "markdown",
   "id": "2c68f9b3-212e-469b-b0ae-d935df07d287",
   "metadata": {},
   "source": [
    "## Data analysis"
   ]
  },
  {
   "cell_type": "markdown",
   "id": "bae8da76-2506-4fb1-83c3-165dba12e854",
   "metadata": {
    "tags": []
   },
   "source": [
    "In order to calculate the CLV, we need to know the frequency, recency, and total amount of purchases by each customer.\n",
    "We are going to compute basic information about each customer's average and lifetime purchase amount, aswell as each \n",
    "customer's duration and frequency of purchases. Take a look at the following code"
   ]
  },
  {
   "cell_type": "code",
   "execution_count": 16,
   "id": "5d1a3e5a-ee0b-42f2-81fe-5131d97d149b",
   "metadata": {},
   "outputs": [],
   "source": [
    "#We are using four customer aggregation functions: groupby_mean, groupby_count,purchase_duration, and avg_frequency.\n",
    "#The first function, groupby_mean, simply computes the average for each group \n",
    "#The second function, groupby_count,simply counts the number of records in each group.\n",
    "#The purchase_duration function counts the number of days between the first and last invoice dates in each group.\n",
    "#The avg_frequency function calculates the average number of days between orders by dividing purchase_duration by the number of orders.\n",
    "def groupby_mean(x):\n",
    "    return x.mean()\n",
    "def groupby_count(x):\n",
    "    return x.count()\n",
    "def purchase_duration(x):\n",
    "    return (x.max() - x.min()).days\n",
    "def avg_frequency(x):\n",
    "    return (x.max() - x.min()).days/x.count()\n",
    "groupby_mean.__name__ = 'avg'\n",
    "groupby_count.__name__ = 'count'\n",
    "purchase_duration.__name__ = 'purchase_duration'\n",
    "avg_frequency.__name__ = 'purchase_frequency'\n",
    "\n",
    "summary_df = orders_df.reset_index().groupby('CustomerID').agg({'Sales': [min, max, sum, groupby_mean, groupby_count],\n",
    "                                                                'InvoiceDate': [min, max, purchase_duration, avg_frequency]})"
   ]
  },
  {
   "cell_type": "code",
   "execution_count": 17,
   "id": "ecaa07d0-b70c-410f-ace6-99f7d0860da8",
   "metadata": {},
   "outputs": [
    {
     "data": {
      "text/html": [
       "<div>\n",
       "<style scoped>\n",
       "    .dataframe tbody tr th:only-of-type {\n",
       "        vertical-align: middle;\n",
       "    }\n",
       "\n",
       "    .dataframe tbody tr th {\n",
       "        vertical-align: top;\n",
       "    }\n",
       "\n",
       "    .dataframe thead tr th {\n",
       "        text-align: left;\n",
       "    }\n",
       "\n",
       "    .dataframe thead tr:last-of-type th {\n",
       "        text-align: right;\n",
       "    }\n",
       "</style>\n",
       "<table border=\"1\" class=\"dataframe\">\n",
       "  <thead>\n",
       "    <tr>\n",
       "      <th></th>\n",
       "      <th colspan=\"5\" halign=\"left\">Sales</th>\n",
       "      <th colspan=\"4\" halign=\"left\">InvoiceDate</th>\n",
       "    </tr>\n",
       "    <tr>\n",
       "      <th></th>\n",
       "      <th>min</th>\n",
       "      <th>max</th>\n",
       "      <th>sum</th>\n",
       "      <th>avg</th>\n",
       "      <th>count</th>\n",
       "      <th>min</th>\n",
       "      <th>max</th>\n",
       "      <th>purchase_duration</th>\n",
       "      <th>purchase_frequency</th>\n",
       "    </tr>\n",
       "    <tr>\n",
       "      <th>CustomerID</th>\n",
       "      <th></th>\n",
       "      <th></th>\n",
       "      <th></th>\n",
       "      <th></th>\n",
       "      <th></th>\n",
       "      <th></th>\n",
       "      <th></th>\n",
       "      <th></th>\n",
       "      <th></th>\n",
       "    </tr>\n",
       "  </thead>\n",
       "  <tbody>\n",
       "    <tr>\n",
       "      <th>12346.0</th>\n",
       "      <td>77183.60</td>\n",
       "      <td>77183.60</td>\n",
       "      <td>77183.60</td>\n",
       "      <td>77183.600000</td>\n",
       "      <td>1.0</td>\n",
       "      <td>2011-01-18 10:01:00</td>\n",
       "      <td>2011-01-18 10:01:00</td>\n",
       "      <td>0</td>\n",
       "      <td>0.000000</td>\n",
       "    </tr>\n",
       "    <tr>\n",
       "      <th>12347.0</th>\n",
       "      <td>382.52</td>\n",
       "      <td>1294.32</td>\n",
       "      <td>4085.18</td>\n",
       "      <td>680.863333</td>\n",
       "      <td>6.0</td>\n",
       "      <td>2010-12-07 14:57:00</td>\n",
       "      <td>2011-10-31 12:25:00</td>\n",
       "      <td>327</td>\n",
       "      <td>54.500000</td>\n",
       "    </tr>\n",
       "    <tr>\n",
       "      <th>12348.0</th>\n",
       "      <td>227.44</td>\n",
       "      <td>892.80</td>\n",
       "      <td>1797.24</td>\n",
       "      <td>449.310000</td>\n",
       "      <td>4.0</td>\n",
       "      <td>2010-12-16 19:09:00</td>\n",
       "      <td>2011-09-25 13:13:00</td>\n",
       "      <td>282</td>\n",
       "      <td>70.500000</td>\n",
       "    </tr>\n",
       "    <tr>\n",
       "      <th>12349.0</th>\n",
       "      <td>1757.55</td>\n",
       "      <td>1757.55</td>\n",
       "      <td>1757.55</td>\n",
       "      <td>1757.550000</td>\n",
       "      <td>1.0</td>\n",
       "      <td>2011-11-21 09:51:00</td>\n",
       "      <td>2011-11-21 09:51:00</td>\n",
       "      <td>0</td>\n",
       "      <td>0.000000</td>\n",
       "    </tr>\n",
       "    <tr>\n",
       "      <th>12350.0</th>\n",
       "      <td>334.40</td>\n",
       "      <td>334.40</td>\n",
       "      <td>334.40</td>\n",
       "      <td>334.400000</td>\n",
       "      <td>1.0</td>\n",
       "      <td>2011-02-02 16:01:00</td>\n",
       "      <td>2011-02-02 16:01:00</td>\n",
       "      <td>0</td>\n",
       "      <td>0.000000</td>\n",
       "    </tr>\n",
       "    <tr>\n",
       "      <th>...</th>\n",
       "      <td>...</td>\n",
       "      <td>...</td>\n",
       "      <td>...</td>\n",
       "      <td>...</td>\n",
       "      <td>...</td>\n",
       "      <td>...</td>\n",
       "      <td>...</td>\n",
       "      <td>...</td>\n",
       "      <td>...</td>\n",
       "    </tr>\n",
       "    <tr>\n",
       "      <th>18280.0</th>\n",
       "      <td>180.60</td>\n",
       "      <td>180.60</td>\n",
       "      <td>180.60</td>\n",
       "      <td>180.600000</td>\n",
       "      <td>1.0</td>\n",
       "      <td>2011-03-07 09:52:00</td>\n",
       "      <td>2011-03-07 09:52:00</td>\n",
       "      <td>0</td>\n",
       "      <td>0.000000</td>\n",
       "    </tr>\n",
       "    <tr>\n",
       "      <th>18281.0</th>\n",
       "      <td>80.82</td>\n",
       "      <td>80.82</td>\n",
       "      <td>80.82</td>\n",
       "      <td>80.820000</td>\n",
       "      <td>1.0</td>\n",
       "      <td>2011-06-12 10:53:00</td>\n",
       "      <td>2011-06-12 10:53:00</td>\n",
       "      <td>0</td>\n",
       "      <td>0.000000</td>\n",
       "    </tr>\n",
       "    <tr>\n",
       "      <th>18282.0</th>\n",
       "      <td>100.21</td>\n",
       "      <td>100.21</td>\n",
       "      <td>100.21</td>\n",
       "      <td>100.210000</td>\n",
       "      <td>1.0</td>\n",
       "      <td>2011-08-05 13:35:00</td>\n",
       "      <td>2011-08-05 13:35:00</td>\n",
       "      <td>0</td>\n",
       "      <td>0.000000</td>\n",
       "    </tr>\n",
       "    <tr>\n",
       "      <th>18283.0</th>\n",
       "      <td>1.95</td>\n",
       "      <td>313.65</td>\n",
       "      <td>1886.88</td>\n",
       "      <td>125.792000</td>\n",
       "      <td>15.0</td>\n",
       "      <td>2011-01-06 14:14:00</td>\n",
       "      <td>2011-11-30 12:59:00</td>\n",
       "      <td>327</td>\n",
       "      <td>21.800000</td>\n",
       "    </tr>\n",
       "    <tr>\n",
       "      <th>18287.0</th>\n",
       "      <td>70.68</td>\n",
       "      <td>1001.32</td>\n",
       "      <td>1837.28</td>\n",
       "      <td>612.426667</td>\n",
       "      <td>3.0</td>\n",
       "      <td>2011-05-22 10:39:00</td>\n",
       "      <td>2011-10-28 09:29:00</td>\n",
       "      <td>158</td>\n",
       "      <td>52.666667</td>\n",
       "    </tr>\n",
       "  </tbody>\n",
       "</table>\n",
       "<p>4298 rows × 9 columns</p>\n",
       "</div>"
      ],
      "text/plain": [
       "               Sales                                          \\\n",
       "                 min       max       sum           avg count   \n",
       "CustomerID                                                     \n",
       "12346.0     77183.60  77183.60  77183.60  77183.600000   1.0   \n",
       "12347.0       382.52   1294.32   4085.18    680.863333   6.0   \n",
       "12348.0       227.44    892.80   1797.24    449.310000   4.0   \n",
       "12349.0      1757.55   1757.55   1757.55   1757.550000   1.0   \n",
       "12350.0       334.40    334.40    334.40    334.400000   1.0   \n",
       "...              ...       ...       ...           ...   ...   \n",
       "18280.0       180.60    180.60    180.60    180.600000   1.0   \n",
       "18281.0        80.82     80.82     80.82     80.820000   1.0   \n",
       "18282.0       100.21    100.21    100.21    100.210000   1.0   \n",
       "18283.0         1.95    313.65   1886.88    125.792000  15.0   \n",
       "18287.0        70.68   1001.32   1837.28    612.426667   3.0   \n",
       "\n",
       "                   InvoiceDate                                        \\\n",
       "                           min                 max purchase_duration   \n",
       "CustomerID                                                             \n",
       "12346.0    2011-01-18 10:01:00 2011-01-18 10:01:00                 0   \n",
       "12347.0    2010-12-07 14:57:00 2011-10-31 12:25:00               327   \n",
       "12348.0    2010-12-16 19:09:00 2011-09-25 13:13:00               282   \n",
       "12349.0    2011-11-21 09:51:00 2011-11-21 09:51:00                 0   \n",
       "12350.0    2011-02-02 16:01:00 2011-02-02 16:01:00                 0   \n",
       "...                        ...                 ...               ...   \n",
       "18280.0    2011-03-07 09:52:00 2011-03-07 09:52:00                 0   \n",
       "18281.0    2011-06-12 10:53:00 2011-06-12 10:53:00                 0   \n",
       "18282.0    2011-08-05 13:35:00 2011-08-05 13:35:00                 0   \n",
       "18283.0    2011-01-06 14:14:00 2011-11-30 12:59:00               327   \n",
       "18287.0    2011-05-22 10:39:00 2011-10-28 09:29:00               158   \n",
       "\n",
       "                               \n",
       "           purchase_frequency  \n",
       "CustomerID                     \n",
       "12346.0              0.000000  \n",
       "12347.0             54.500000  \n",
       "12348.0             70.500000  \n",
       "12349.0              0.000000  \n",
       "12350.0              0.000000  \n",
       "...                       ...  \n",
       "18280.0              0.000000  \n",
       "18281.0              0.000000  \n",
       "18282.0              0.000000  \n",
       "18283.0             21.800000  \n",
       "18287.0             52.666667  \n",
       "\n",
       "[4298 rows x 9 columns]"
      ]
     },
     "execution_count": 17,
     "metadata": {},
     "output_type": "execute_result"
    }
   ],
   "source": [
    "summary_df"
   ]
  },
  {
   "cell_type": "code",
   "execution_count": 18,
   "id": "17f39795-9538-4a8e-992b-80f3ab9f2407",
   "metadata": {},
   "outputs": [],
   "source": [
    "import matplotlib.pyplot as plt"
   ]
  },
  {
   "cell_type": "code",
   "execution_count": 19,
   "id": "12b438c9-29d6-4662-bebd-b5e212338672",
   "metadata": {},
   "outputs": [],
   "source": [
    "#We clean up the column names of the DataFrame, summary_df, in the first line.\n",
    "\n",
    "summary_df.columns = ['_'.join(col).lower() for col in summary_df.columns]"
   ]
  },
  {
   "cell_type": "code",
   "execution_count": 20,
   "id": "de5c747c-8077-46f1-b734-94b9394965e3",
   "metadata": {},
   "outputs": [
    {
     "data": {
      "text/html": [
       "<div>\n",
       "<style scoped>\n",
       "    .dataframe tbody tr th:only-of-type {\n",
       "        vertical-align: middle;\n",
       "    }\n",
       "\n",
       "    .dataframe tbody tr th {\n",
       "        vertical-align: top;\n",
       "    }\n",
       "\n",
       "    .dataframe thead th {\n",
       "        text-align: right;\n",
       "    }\n",
       "</style>\n",
       "<table border=\"1\" class=\"dataframe\">\n",
       "  <thead>\n",
       "    <tr style=\"text-align: right;\">\n",
       "      <th></th>\n",
       "      <th>sales_min</th>\n",
       "      <th>sales_max</th>\n",
       "      <th>sales_sum</th>\n",
       "      <th>sales_avg</th>\n",
       "      <th>sales_count</th>\n",
       "      <th>invoicedate_min</th>\n",
       "      <th>invoicedate_max</th>\n",
       "      <th>invoicedate_purchase_duration</th>\n",
       "      <th>invoicedate_purchase_frequency</th>\n",
       "    </tr>\n",
       "    <tr>\n",
       "      <th>CustomerID</th>\n",
       "      <th></th>\n",
       "      <th></th>\n",
       "      <th></th>\n",
       "      <th></th>\n",
       "      <th></th>\n",
       "      <th></th>\n",
       "      <th></th>\n",
       "      <th></th>\n",
       "      <th></th>\n",
       "    </tr>\n",
       "  </thead>\n",
       "  <tbody>\n",
       "    <tr>\n",
       "      <th>12346.0</th>\n",
       "      <td>77183.60</td>\n",
       "      <td>77183.60</td>\n",
       "      <td>77183.60</td>\n",
       "      <td>77183.600000</td>\n",
       "      <td>1.0</td>\n",
       "      <td>2011-01-18 10:01:00</td>\n",
       "      <td>2011-01-18 10:01:00</td>\n",
       "      <td>0</td>\n",
       "      <td>0.000000</td>\n",
       "    </tr>\n",
       "    <tr>\n",
       "      <th>12347.0</th>\n",
       "      <td>382.52</td>\n",
       "      <td>1294.32</td>\n",
       "      <td>4085.18</td>\n",
       "      <td>680.863333</td>\n",
       "      <td>6.0</td>\n",
       "      <td>2010-12-07 14:57:00</td>\n",
       "      <td>2011-10-31 12:25:00</td>\n",
       "      <td>327</td>\n",
       "      <td>54.500000</td>\n",
       "    </tr>\n",
       "    <tr>\n",
       "      <th>12348.0</th>\n",
       "      <td>227.44</td>\n",
       "      <td>892.80</td>\n",
       "      <td>1797.24</td>\n",
       "      <td>449.310000</td>\n",
       "      <td>4.0</td>\n",
       "      <td>2010-12-16 19:09:00</td>\n",
       "      <td>2011-09-25 13:13:00</td>\n",
       "      <td>282</td>\n",
       "      <td>70.500000</td>\n",
       "    </tr>\n",
       "    <tr>\n",
       "      <th>12349.0</th>\n",
       "      <td>1757.55</td>\n",
       "      <td>1757.55</td>\n",
       "      <td>1757.55</td>\n",
       "      <td>1757.550000</td>\n",
       "      <td>1.0</td>\n",
       "      <td>2011-11-21 09:51:00</td>\n",
       "      <td>2011-11-21 09:51:00</td>\n",
       "      <td>0</td>\n",
       "      <td>0.000000</td>\n",
       "    </tr>\n",
       "    <tr>\n",
       "      <th>12350.0</th>\n",
       "      <td>334.40</td>\n",
       "      <td>334.40</td>\n",
       "      <td>334.40</td>\n",
       "      <td>334.400000</td>\n",
       "      <td>1.0</td>\n",
       "      <td>2011-02-02 16:01:00</td>\n",
       "      <td>2011-02-02 16:01:00</td>\n",
       "      <td>0</td>\n",
       "      <td>0.000000</td>\n",
       "    </tr>\n",
       "    <tr>\n",
       "      <th>...</th>\n",
       "      <td>...</td>\n",
       "      <td>...</td>\n",
       "      <td>...</td>\n",
       "      <td>...</td>\n",
       "      <td>...</td>\n",
       "      <td>...</td>\n",
       "      <td>...</td>\n",
       "      <td>...</td>\n",
       "      <td>...</td>\n",
       "    </tr>\n",
       "    <tr>\n",
       "      <th>18280.0</th>\n",
       "      <td>180.60</td>\n",
       "      <td>180.60</td>\n",
       "      <td>180.60</td>\n",
       "      <td>180.600000</td>\n",
       "      <td>1.0</td>\n",
       "      <td>2011-03-07 09:52:00</td>\n",
       "      <td>2011-03-07 09:52:00</td>\n",
       "      <td>0</td>\n",
       "      <td>0.000000</td>\n",
       "    </tr>\n",
       "    <tr>\n",
       "      <th>18281.0</th>\n",
       "      <td>80.82</td>\n",
       "      <td>80.82</td>\n",
       "      <td>80.82</td>\n",
       "      <td>80.820000</td>\n",
       "      <td>1.0</td>\n",
       "      <td>2011-06-12 10:53:00</td>\n",
       "      <td>2011-06-12 10:53:00</td>\n",
       "      <td>0</td>\n",
       "      <td>0.000000</td>\n",
       "    </tr>\n",
       "    <tr>\n",
       "      <th>18282.0</th>\n",
       "      <td>100.21</td>\n",
       "      <td>100.21</td>\n",
       "      <td>100.21</td>\n",
       "      <td>100.210000</td>\n",
       "      <td>1.0</td>\n",
       "      <td>2011-08-05 13:35:00</td>\n",
       "      <td>2011-08-05 13:35:00</td>\n",
       "      <td>0</td>\n",
       "      <td>0.000000</td>\n",
       "    </tr>\n",
       "    <tr>\n",
       "      <th>18283.0</th>\n",
       "      <td>1.95</td>\n",
       "      <td>313.65</td>\n",
       "      <td>1886.88</td>\n",
       "      <td>125.792000</td>\n",
       "      <td>15.0</td>\n",
       "      <td>2011-01-06 14:14:00</td>\n",
       "      <td>2011-11-30 12:59:00</td>\n",
       "      <td>327</td>\n",
       "      <td>21.800000</td>\n",
       "    </tr>\n",
       "    <tr>\n",
       "      <th>18287.0</th>\n",
       "      <td>70.68</td>\n",
       "      <td>1001.32</td>\n",
       "      <td>1837.28</td>\n",
       "      <td>612.426667</td>\n",
       "      <td>3.0</td>\n",
       "      <td>2011-05-22 10:39:00</td>\n",
       "      <td>2011-10-28 09:29:00</td>\n",
       "      <td>158</td>\n",
       "      <td>52.666667</td>\n",
       "    </tr>\n",
       "  </tbody>\n",
       "</table>\n",
       "<p>4298 rows × 9 columns</p>\n",
       "</div>"
      ],
      "text/plain": [
       "            sales_min  sales_max  sales_sum     sales_avg  sales_count  \\\n",
       "CustomerID                                                               \n",
       "12346.0      77183.60   77183.60   77183.60  77183.600000          1.0   \n",
       "12347.0        382.52    1294.32    4085.18    680.863333          6.0   \n",
       "12348.0        227.44     892.80    1797.24    449.310000          4.0   \n",
       "12349.0       1757.55    1757.55    1757.55   1757.550000          1.0   \n",
       "12350.0        334.40     334.40     334.40    334.400000          1.0   \n",
       "...               ...        ...        ...           ...          ...   \n",
       "18280.0        180.60     180.60     180.60    180.600000          1.0   \n",
       "18281.0         80.82      80.82      80.82     80.820000          1.0   \n",
       "18282.0        100.21     100.21     100.21    100.210000          1.0   \n",
       "18283.0          1.95     313.65    1886.88    125.792000         15.0   \n",
       "18287.0         70.68    1001.32    1837.28    612.426667          3.0   \n",
       "\n",
       "               invoicedate_min     invoicedate_max  \\\n",
       "CustomerID                                           \n",
       "12346.0    2011-01-18 10:01:00 2011-01-18 10:01:00   \n",
       "12347.0    2010-12-07 14:57:00 2011-10-31 12:25:00   \n",
       "12348.0    2010-12-16 19:09:00 2011-09-25 13:13:00   \n",
       "12349.0    2011-11-21 09:51:00 2011-11-21 09:51:00   \n",
       "12350.0    2011-02-02 16:01:00 2011-02-02 16:01:00   \n",
       "...                        ...                 ...   \n",
       "18280.0    2011-03-07 09:52:00 2011-03-07 09:52:00   \n",
       "18281.0    2011-06-12 10:53:00 2011-06-12 10:53:00   \n",
       "18282.0    2011-08-05 13:35:00 2011-08-05 13:35:00   \n",
       "18283.0    2011-01-06 14:14:00 2011-11-30 12:59:00   \n",
       "18287.0    2011-05-22 10:39:00 2011-10-28 09:29:00   \n",
       "\n",
       "            invoicedate_purchase_duration  invoicedate_purchase_frequency  \n",
       "CustomerID                                                                 \n",
       "12346.0                                 0                        0.000000  \n",
       "12347.0                               327                       54.500000  \n",
       "12348.0                               282                       70.500000  \n",
       "12349.0                                 0                        0.000000  \n",
       "12350.0                                 0                        0.000000  \n",
       "...                                   ...                             ...  \n",
       "18280.0                                 0                        0.000000  \n",
       "18281.0                                 0                        0.000000  \n",
       "18282.0                                 0                        0.000000  \n",
       "18283.0                               327                       21.800000  \n",
       "18287.0                               158                       52.666667  \n",
       "\n",
       "[4298 rows x 9 columns]"
      ]
     },
     "execution_count": 20,
     "metadata": {},
     "output_type": "execute_result"
    }
   ],
   "source": [
    "summary_df"
   ]
  },
  {
   "cell_type": "code",
   "execution_count": 21,
   "id": "e3e3a72f-8433-40bd-ad62-11e8d0abfc7a",
   "metadata": {},
   "outputs": [],
   "source": [
    "#Then, we are only taking the customers who have made at least two or more purchases, which represents repeat customers. \n",
    "\n",
    "summary_df = summary_df.loc[summary_df['invoicedate_purchase_duration'] > 0]"
   ]
  },
  {
   "cell_type": "code",
   "execution_count": 22,
   "id": "34d5a7af-1922-4e12-a9c4-9375b5d9a384",
   "metadata": {},
   "outputs": [
    {
     "data": {
      "text/plain": [
       "(2692, 9)"
      ]
     },
     "execution_count": 22,
     "metadata": {},
     "output_type": "execute_result"
    }
   ],
   "source": [
    "summary_df.shape"
   ]
  },
  {
   "cell_type": "code",
   "execution_count": 23,
   "id": "80b9e391-7fd8-4be6-807d-a3d07fd16262",
   "metadata": {},
   "outputs": [
    {
     "data": {
      "text/plain": [
       "sales_count\n",
       "2.0     745\n",
       "3.0     512\n",
       "4.0     379\n",
       "5.0     228\n",
       "6.0     171\n",
       "7.0     132\n",
       "8.0      97\n",
       "9.0      60\n",
       "10.0     45\n",
       "11.0     54\n",
       "12.0     47\n",
       "13.0     29\n",
       "14.0     19\n",
       "15.0     24\n",
       "16.0     13\n",
       "17.0     15\n",
       "18.0     11\n",
       "19.0     15\n",
       "20.0     10\n",
       "Name: sales_avg, dtype: int64"
      ]
     },
     "execution_count": 23,
     "metadata": {},
     "output_type": "execute_result"
    }
   ],
   "source": [
    "summary_df.groupby(by='sales_count')['sales_avg'].count().head(19)"
   ]
  },
  {
   "cell_type": "code",
   "execution_count": 25,
   "id": "e00fe0e9-8c50-445e-a7d5-2ba286c09920",
   "metadata": {},
   "outputs": [
    {
     "data": {
      "image/png": "[encoded data removed]",
      "text/plain": [
       "<Figure size 864x504 with 1 Axes>"
      ]
     },
     "metadata": {
      "needs_background": "light"
     },
     "output_type": "display_data"
    }
   ],
   "source": [
    "#Lastly, we group by the sales_count column and count how many customers belong to each category.\n",
    "\n",
    "def addlabels(x,y):\n",
    "    for i in range(len(x)):\n",
    "        plt.text(i,y[i],y[i])\n",
    "if __name__ == '__main__':\n",
    "    # creating data on which bar chart will be plot\n",
    "    x = [\"2.0\", \"3.0\", \"4.0\", \"5.0\", \"6.0\", \"7.0\", \"8.0\", \"9.0\", \"10.0\", \"11.0\", \"12.0\",\n",
    "         \"13.0\", \"14.0\", \"15.0\", \"16.0\", \"17.0\", \"18.0\", \"19.0\", \"20.0\"]\n",
    "    y = [745, 512, 379, 228, 171, 132, 97, 60, 45, 54, 47, 29, 19,\n",
    "         24, 13, 15, 11, 15, 10 ]\n",
    "addlabels(x, y)\n",
    "\n",
    "ax = summary_df.groupby('sales_count').count()['sales_avg'][:20].plot(\n",
    "kind='bar',\n",
    "color='skyblue',\n",
    "figsize=(12,7),\n",
    "grid=True\n",
    ")\n",
    "ax.set_ylabel('count')\n",
    "plt.show()"
   ]
  },
  {
   "cell_type": "code",
   "execution_count": null,
   "id": "e1c2b96b-14fa-4c53-bb07-ebce0502ea3c",
   "metadata": {},
   "outputs": [],
   "source": [
    "# Let's take a look at the average number of days between purchases for these repeat customers. Take a look at the following code:\n",
    "\n",
    "ax = summary_df['invoicedate_purchase_frequency'].hist(\n",
    "bins=20,\n",
    "color='skyblue',\n",
    "rwidth=0.7,\n",
    "figsize=(12,7)\n",
    ")\n",
    "ax.set_xlabel('avg. number of days between purchases')\n",
    "ax.set_ylabel('count')\n",
    "plt.show()"
   ]
  },
  {
   "cell_type": "markdown",
   "id": "376e159d-4f96-4c35-afac-f7ac7cd39abb",
   "metadata": {},
   "source": [
    "## Predicting the 3 month CLV"
   ]
  },
  {
   "cell_type": "markdown",
   "id": "a06a0c5b-020d-4601-86a3-956495f5db00",
   "metadata": {},
   "source": [
    "We are going to first slice the data into chunks of 3 months and take the last 3 months data as the target for predictions and the rest as the features.\n",
    "We will first prepare our data for model building and then train a linear regression model for the 3 month customer value predictions."
   ]
  },
  {
   "cell_type": "markdown",
   "id": "e2060f28-8e92-4442-b66c-7d02a07a38dd",
   "metadata": {},
   "source": [
    "### Data preparation"
   ]
  },
  {
   "cell_type": "code",
   "execution_count": null,
   "id": "6f2d12b8-5a2e-41fd-abe8-5f6b1bbe8ebc",
   "metadata": {},
   "outputs": [],
   "source": [
    "#Since we want to predict the 3 month customer value, we are breaking down the data into chunks of 3 months for each customer.\n",
    "clv_freq = '3M'\n",
    "data_df = orders_df.reset_index().groupby([\n",
    "'CustomerID',\n",
    "pd.Grouper(key='InvoiceDate', freq=clv_freq)\n",
    "]).agg({\n",
    "'Sales': [sum, groupby_mean, groupby_count],\n",
    "})\n",
    "data_df.columns = ['_'.join(col).lower() for col in data_df.columns]\n",
    "data_df = data_df.reset_index()"
   ]
  },
  {
   "cell_type": "code",
   "execution_count": null,
   "id": "da515eee-f3df-4562-a548-5b053e50aa8a",
   "metadata": {},
   "outputs": [],
   "source": [
    "data_df.head(10)"
   ]
  },
  {
   "cell_type": "code",
   "execution_count": null,
   "id": "9c57ae15-c58f-4526-a7d7-df626dae6d23",
   "metadata": {},
   "outputs": [],
   "source": [
    "#let's encode the InvoiceDate column values so that they are easier to read than the current date format.\n",
    "date_month_map = {\n",
    "str(x)[:10]: 'M_%s' % (i+1) for i, x in enumerate(\n",
    "sorted(data_df.reset_index()['InvoiceDate'].unique(), reverse=True)\n",
    ")\n",
    "}\n",
    "data_df['M'] = data_df['InvoiceDate'].apply(lambda x: date_month_map[str(x)[:10]])"
   ]
  },
  {
   "cell_type": "code",
   "execution_count": null,
   "id": "0b3b59ff-d930-4398-a67b-adb3220e8b5b",
   "metadata": {},
   "outputs": [],
   "source": [
    "data_df.head(10)"
   ]
  },
  {
   "cell_type": "code",
   "execution_count": null,
   "id": "7896df51-4ae5-4d2e-a9f7-22d4736b6051",
   "metadata": {},
   "outputs": [],
   "source": [
    "# we need to transform this data into tabular data, where the rows represent the individual customers and the columns represent each feature.\n",
    "features_df = pd.pivot_table(\n",
    "data_df.loc[data_df['M'] != 'M_1'],\n",
    "values=['sales_sum', 'sales_avg', 'sales_count'],\n",
    "columns='M',\n",
    "index='CustomerID'\n",
    ")\n",
    "features_df.columns = ['_'.join(col) for col in features_df.columns]"
   ]
  },
  {
   "cell_type": "code",
   "execution_count": null,
   "id": "8a1534de-5ee1-4ddd-b4f9-5f89e2866d89",
   "metadata": {},
   "outputs": [],
   "source": [
    "features_df.head(10)"
   ]
  },
  {
   "cell_type": "code",
   "execution_count": null,
   "id": "b0c2cd2d-9d6b-4474-96ce-b28783c8eecd",
   "metadata": {},
   "outputs": [],
   "source": [
    "#Encode the NaN values with 0.0 \n",
    "features_df = features_df.fillna(0)"
   ]
  },
  {
   "cell_type": "code",
   "execution_count": null,
   "id": "d75bd6f2-cff3-47d9-87e8-05bcda28c999",
   "metadata": {},
   "outputs": [],
   "source": [
    "# Now that we have built the features DataFrame, let's build the target variables. Take a look at the following code:\n",
    "response_df = data_df.loc[\n",
    "data_df['M'] == 'M_1',\n",
    "['CustomerID', 'sales_sum']\n",
    "]\n",
    "response_df.columns = ['CustomerID', 'CLV_'+clv_freq]"
   ]
  },
  {
   "cell_type": "code",
   "execution_count": null,
   "id": "22072086-c23c-4648-b32b-285c19778117",
   "metadata": {},
   "outputs": [],
   "source": [
    "response_df.head(10)"
   ]
  },
  {
   "cell_type": "code",
   "execution_count": null,
   "id": "418b6423-e252-4315-ad9d-10a03611a4bf",
   "metadata": {},
   "outputs": [],
   "source": [
    "#There is only one thing left to build, which is a sample set for building machine learning models, combining features and response data together.\n",
    "sample_set_df = features_df.merge(\n",
    "response_df,\n",
    "left_index=True,\n",
    "right_on='CustomerID',\n",
    "how='left'\n",
    ")\n",
    "sample_set_df = sample_set_df.fillna(0)"
   ]
  },
  {
   "cell_type": "code",
   "execution_count": null,
   "id": "25d5758c-305c-41a0-8e2a-7ea9a3cb8f3e",
   "metadata": {},
   "outputs": [],
   "source": [
    "sample_set_df"
   ]
  },
  {
   "cell_type": "markdown",
   "id": "230586a1-7be1-4c1c-a62b-f3f11b48fc8b",
   "metadata": {},
   "source": [
    "# Linear regression"
   ]
  },
  {
   "cell_type": "code",
   "execution_count": null,
   "id": "86bade76-2e2c-4bf2-978d-9c62b15c0df6",
   "metadata": {},
   "outputs": [],
   "source": [
    "#we are going to split the sample set into train and test sets\n",
    "from sklearn.model_selection import train_test_split\n",
    "target_var = 'CLV_'+clv_freq\n",
    "all_features = [x for x in sample_set_df.columns if x not in ['CustomerID',\n",
    "target_var]]\n",
    "x_train, x_test, y_train, y_test = train_test_split(\n",
    "sample_set_df[all_features],\n",
    "sample_set_df[target_var],\n",
    "test_size=0.3\n",
    ")\n"
   ]
  },
  {
   "cell_type": "code",
   "execution_count": null,
   "id": "907b7cf7-efc0-4635-86af-7a631864c894",
   "metadata": {},
   "outputs": [],
   "source": [
    "#Train a linear regression model with our dataset\n",
    "from sklearn.linear_model import LinearRegression\n",
    "reg_fit = LinearRegression()\n",
    "reg_fit.fit(x_train, y_train)"
   ]
  },
  {
   "cell_type": "code",
   "execution_count": null,
   "id": "264c1262-c43c-4dc8-a4e2-15c22a64ee1b",
   "metadata": {},
   "outputs": [],
   "source": [
    "#First, you can get the intercept of the linear regression equation, using the intercept_ attribute of the LinearRegression object\n",
    "reg_fit.intercept_"
   ]
  },
  {
   "cell_type": "code",
   "execution_count": null,
   "id": "a5769728-a317-43a5-8162-8252782af856",
   "metadata": {},
   "outputs": [],
   "source": [
    "#Find the fitted linear regression model's coefficients, using the coef_ attribute\n",
    "reg_fit.coef_"
   ]
  },
  {
   "cell_type": "code",
   "execution_count": null,
   "id": "3332eaa6-851c-4c5b-be66-a72d0a74f179",
   "metadata": {},
   "outputs": [],
   "source": [
    "# Find the coefficients of each feature of the fitted regression model \n",
    "coef = pd.DataFrame(list(zip(all_features, reg_fit.coef_)))\n",
    "coef.columns = ['feature', 'coef']\n",
    "\n",
    "coef"
   ]
  },
  {
   "cell_type": "markdown",
   "id": "9af03c69-6bdb-46c0-bf36-5c6821bee588",
   "metadata": {},
   "source": [
    "# Evaluating regression model performance"
   ]
  },
  {
   "cell_type": "code",
   "execution_count": null,
   "id": "21516d12-031e-4005-be47-5d28d9a64443",
   "metadata": {},
   "outputs": [],
   "source": [
    "#Get the prediction output from our model \n",
    "train_preds = reg_fit.predict(x_train)\n",
    "test_preds = reg_fit.predict(x_test)"
   ]
  },
  {
   "cell_type": "code",
   "execution_count": null,
   "id": "32c86fcd-dca3-4392-b336-eb67a48ad680",
   "metadata": {},
   "outputs": [],
   "source": [
    "test_preds"
   ]
  },
  {
   "cell_type": "code",
   "execution_count": null,
   "id": "67f24eec-35e2-49c2-b18a-76ed4dc9b01f",
   "metadata": {},
   "outputs": [],
   "source": [
    "#Import the R2 and the MAE - import them into your environment. \n",
    "from sklearn.metrics import r2_score, median_absolute_error"
   ]
  },
  {
   "cell_type": "code",
   "execution_count": null,
   "id": "67712d88-e333-45b2-928f-1d272ae5688c",
   "metadata": {},
   "outputs": [],
   "source": [
    "#Compute the R2 and MAE numbers\n",
    "r2_score(y_true=y_train, y_pred=train_preds)\n",
    "median_absolute_error(y_true=y_train, y_pred=train_preds)"
   ]
  },
  {
   "cell_type": "markdown",
   "id": "2deaedc7-aa97-4406-a397-ba5a92abf25b",
   "metadata": {},
   "source": [
    "R-Squared"
   ]
  },
  {
   "cell_type": "code",
   "execution_count": null,
   "id": "0dfc9d3f-b13c-4825-b7c8-9e71348365a4",
   "metadata": {},
   "outputs": [],
   "source": [
    "# Print the insample and outsample of the r2\n",
    "print('In-Sample R-Squared: %0.4f' %r2_score(y_true=y_train,y_pred=train_preds))\n",
    "print('Out-Sample R-Squared: %0.4f' %r2_score(y_true=y_test,y_pred=test_preds))"
   ]
  },
  {
   "cell_type": "markdown",
   "id": "99ffe3ec-54b5-4ae1-ac3b-5c0261c8cf6f",
   "metadata": {},
   "source": [
    "Median Absolute Error"
   ]
  },
  {
   "cell_type": "code",
   "execution_count": null,
   "id": "462a81f4-57f3-4f8e-b579-f93b14b65edf",
   "metadata": {},
   "outputs": [],
   "source": [
    "print('In-Sample MSE: %0.4f' %median_absolute_error(y_true=y_train,y_pred=train_preds))\n",
    "print('Out-Sample MSE: %0.4f' %median_absolute_error(y_true=y_test,y_pred=test_preds))"
   ]
  },
  {
   "cell_type": "code",
   "execution_count": null,
   "id": "58827c0c-377e-4d97-9e4d-943d65f608b2",
   "metadata": {},
   "outputs": [],
   "source": [
    "#Lastly, let's take a look at the scatter plot of predicted versus actual\n",
    "plt.scatter(y_test, test_preds)\n",
    "plt.plot([0, max(y_test)], [0, max(test_preds)], color='gray', lw=1, linestyle='--')\n",
    "plt.xlabel('actual')\n",
    "plt.ylabel('predicted')\n",
    "plt.title('Out-of-Sample Actual vs. Predicted')\n",
    "plt.grid()\n",
    "plt.show()"
   ]
  },
  {
   "cell_type": "code",
   "execution_count": null,
   "id": "c3674309-4bfb-4804-bf67-b845f0e148fe",
   "metadata": {},
   "outputs": [],
   "source": []
  },
  {
   "cell_type": "code",
   "execution_count": null,
   "id": "593063b1-a64a-4d02-af3b-8913670c8f30",
   "metadata": {},
   "outputs": [],
   "source": []
  }
 ],
 "metadata": {
  "kernelspec": {
   "display_name": "Python 3",
   "language": "python",
   "name": "python3"
  },
  "language_info": {
   "codemirror_mode": {
    "name": "ipython",
    "version": 3
   },
   "file_extension": ".py",
   "mimetype": "text/x-python",
   "name": "python",
   "nbconvert_exporter": "python",
   "pygments_lexer": "ipython3",
   "version": "3.8.8"
  }
 },
 "nbformat": 4,
 "nbformat_minor": 5
}
